{
  "nbformat": 4,
  "nbformat_minor": 0,
  "metadata": {
    "colab": {
      "name": "Session3_English.ipynb",
      "provenance": [],
      "collapsed_sections": [],
      "toc_visible": true,
      "authorship_tag": "ABX9TyM2hLvkiYcAWEbJrmbPo9CK",
      "include_colab_link": true
    },
    "kernelspec": {
      "name": "python3",
      "display_name": "Python 3"
    },
    "language_info": {
      "name": "python"
    }
  },
  "cells": [
    {
      "cell_type": "markdown",
      "metadata": {
        "id": "view-in-github",
        "colab_type": "text"
      },
      "source": [
        "<a href=\"https://colab.research.google.com/github/wavallejol/ColabChem/blob/main/Session3_English.ipynb\" target=\"_parent\"><img src=\"https://colab.research.google.com/assets/colab-badge.svg\" alt=\"Open In Colab\"/></a>"
      ]
    },
    {
      "cell_type": "markdown",
      "metadata": {
        "id": "_KFNBX1kPBvV"
      },
      "source": [
        "# **Session 3. Ideal Gas**\n",
        "# **Objectives**\n",
        " \n",
        " \n",
        "1.   To study the ideal gas behavior using Google Colabs\n",
        "2.   To solve ideal gas problems using Google Colabs\n",
        "3.    To use the PhET platform to verify Boyle's law and Charles's law.\n",
        "---"
      ]
    },
    {
      "cell_type": "markdown",
      "metadata": {
        "id": "4f2sRuCkQsof"
      },
      "source": [
        " \n",
        "# ***Activity 1***\n",
        " \n",
        "*Exercise 1:* We will plot the pressure as a function of the inverse of the volume for one mole of a gas📈, at three different temperatures (298 K, 798 K, 1298 k), using the ideal gas equation:\n",
        "$\\small P=nRT(\\frac{1}{V})$\n",
        "We willl plot all curves in the same chart.\n",
        " \n",
        "First, we will import the libraries (i) `math`, (ii) `numpy`, (iii)  <a href=\"https://en.wikipedia.org/wiki/Matplotlib\">matplolib.pyplot</a>. \n",
        "The `matplotlib.pyplot` library is using for plotting charts from array data using phyton language. Click on the run icon ▶️ in the next code cell."
      ]
    },
    {
      "cell_type": "code",
      "metadata": {
        "id": "OydoO284Q3yM"
      },
      "source": [
        "import math\n",
        "import numpy as np\n",
        "import matplotlib.pyplot as plt"
      ],
      "execution_count": null,
      "outputs": []
    },
    {
      "cell_type": "markdown",
      "metadata": {
        "id": "VA_5jTZMQ_Jw"
      },
      "source": [
        "Now, we will define: (i) the array for using the function `np.arage()`, (ii) The ideal gas equation at each temperature.  (iii) We define parameters for plotting using function `plt.plot()`. Furthermore, we include information for details of the chart.  Click on the run icon ▶️  in the next code cell."
      ]
    },
    {
      "cell_type": "code",
      "metadata": {
        "colab": {
          "base_uri": "https://localhost:8080/",
          "height": 265
        },
        "id": "58LrNxBgWHDi",
        "outputId": "63d9782f-50a2-4bb6-8125-897a07e824bb"
      },
      "source": [
        "v= np.arange(0.1, 4, 0.1)       #data for Volume (L)\n",
        "p=(0.5*0.08206*298)/v           #Ideal gas law\n",
        "plt.plot(1/v, p)                #plotting 1/v Vs P\n",
        "plt.show ()                     "
      ],
      "execution_count": null,
      "outputs": [
        {
          "output_type": "display_data",
          "data": {
            "image/png": "[encoded data removed]",
            "text/plain": [
              "<Figure size 432x288 with 1 Axes>"
            ]
          },
          "metadata": {
            "needs_background": "light"
          }
        }
      ]
    },
    {
      "cell_type": "markdown",
      "metadata": {
        "id": "UyeLU_N5WW2_"
      },
      "source": [
        "Now, we add plot parameters. Press the ▶️  ️icon in the next code cell."
      ]
    },
    {
      "cell_type": "code",
      "metadata": {
        "colab": {
          "base_uri": "https://localhost:8080/",
          "height": 284
        },
        "id": "1gx46keXU3_L",
        "outputId": "03f998d6-3831-47de-a55b-403519074f84"
      },
      "source": [
        "v= np.arange(0.1, 4, 0.1)                    # we define array for volume (L)\n",
        "p=(0.5*0.08206*298)/v                        # Gas Law equation\n",
        "plt.plot(1/v, p, label=\"298K\")     \n",
        "plt.legend()                       \n",
        "plt.ylabel(\"Pressure (atm)\")        \n",
        "plt.xlabel(r\"${1/V (\\mathrm{L^{-1}})}$\")   # With mathrm we can use Latex notation in plots\n",
        "plt.show ()"
      ],
      "execution_count": null,
      "outputs": [
        {
          "output_type": "display_data",
          "data": {
            "image/png": "[encoded data removed]",
            "text/plain": [
              "<Figure size 432x288 with 1 Axes>"
            ]
          },
          "metadata": {
            "needs_background": "light"
          }
        }
      ]
    },
    {
      "cell_type": "markdown",
      "metadata": {
        "id": "C7801xWnRrey"
      },
      "source": [
        "*Excersice 1:* In the next code cell, write the routine for plotting $\\small P vs(\\frac{1}{V})$ for all three curves in the same chart."
      ]
    },
    {
      "cell_type": "code",
      "metadata": {
        "id": "g4T6ts6hRs8F"
      },
      "source": [
        ""
      ],
      "execution_count": null,
      "outputs": []
    },
    {
      "cell_type": "markdown",
      "metadata": {
        "id": "hbAwFbBVS3WR"
      },
      "source": [
        "#**Activity 2**\n",
        "*Exercise 2:* Table 1 lists the volume values as a function of the temperature to one mole of an ideal gas at  constant pressure (1 atm). Determine the temperature (degree celcious) at which the volume of the gas is zero ($\\small 0$). \n",
        " \n",
        "<div align = \"center\"> Table 1. Volume $\\small H_{2(g)}$ as a temperature function </div>\n",
        " \n",
        "Temperatura ($^{o}C$)| Volumen ($L$)\n",
        "-------------------|------------------\n",
        "-45 | 18.7371 \n",
        "-25 | 20.3799\n",
        "-10 | 21.6120 \n",
        "  0 | 22.4334\n",
        " 10 | 23.2548\n",
        " 25 | 24.4869\n",
        " 45 | 26.1297\n",
        " 60 | 27.3618\n",
        " 80 | 29.0046\n",
        " \n",
        "(i) In the next code cell, import the libraries that we will use: `math`, `numpy` and `scipy.stats`. (ii) Create the two arrays for the data. (iii) Finally, applying the function `linregress()`, you will obtain the fitting equation."
      ]
    },
    {
      "cell_type": "code",
      "metadata": {
        "id": "nyl1I0QhTDDs"
      },
      "source": [
        ""
      ],
      "execution_count": null,
      "outputs": []
    },
    {
      "cell_type": "markdown",
      "metadata": {
        "id": "J2Y88bsdTgc2"
      },
      "source": [
        "Using the fitting equation, you can find the answer to the exercise (after y = 0). Use the next cell code to find the temperature 👊."
      ]
    },
    {
      "cell_type": "code",
      "metadata": {
        "id": "UIBTMCvsT6rf"
      },
      "source": [
        ""
      ],
      "execution_count": null,
      "outputs": []
    },
    {
      "cell_type": "markdown",
      "metadata": {
        "id": "EutFWbReXVVa"
      },
      "source": [
        "---\n",
        " \n",
        "# ***Activity 3***\n",
        "Charles's law is expressed as follows:\n",
        "\n",
        "$\\small V=V_{o}(1+\\alpha T) \\kern 2pc (1)$\n",
        "\n",
        "Where T is the temperature $\\small \\alpha$ is a constant and $\\small V_{o}$ is the volume at $\\small 0 ^{o}C$. \n",
        "Table 1 lists the $\\small \\alpha$ values at diferent pressures for a hypothetical gas. Source (Atkins, 1999)\n",
        "\n",
        "<div align = \"center\"> Tabla 2. The $\\small \\alpha$ values as function of the pressure</div>\n",
        " \n",
        "Pressure ($Torr$)| $\\small \\alpha10^{3} (^{o}C^{-1})$\n",
        "-------------------|------------------\n",
        "749.7 | 3.6717 \n",
        "599.6 | 3.6697\n",
        "333.1 | 3.6665 \n",
        "98.6 | 3.6643\n",
        "\n",
        "Determine the best temperature value on the celsius scale for the value of absolute zero. Using the imformation, plotting  $\\small \\alpha \\kern 0.2pc Vs \\kern 0.2pc P $ and carry out the fitting regression. With the fitting equation, extrapolate the  $\\small \\alpha$ value for $P=0$. To obtain information about the regression, you can review  <a href=\"https://github.com/wavallejol/ColabChem/blob/main/Session2_English.ipynb\">session 2</a>."
      ]
    },
    {
      "cell_type": "code",
      "metadata": {
        "id": "Xd0CSbnJcY_C"
      },
      "source": [
        ""
      ],
      "execution_count": null,
      "outputs": []
    },
    {
      "cell_type": "markdown",
      "metadata": {
        "id": "AGXm_K-BRxEm"
      },
      "source": [
        "---\n",
        "# ***Activity 4***\n",
        "The <a href=\"https://en.wikipedia.org/wiki/Compressibility_factor#:~:text=In%20thermodynamics%2C%20the%20compressibility%20factor,gas%20from%20ideal%20gas%20behaviour.&text=It%20is%20a%20useful%20thermodynamic,for%20the%20real%20gas%20behaviour.\"> compressibility factor</a> ($\\small Z$) of ethane is expressed by $\\small Z=1+BP+CP^2+DP^3$  where P is the pressure (atm) and B, C, D are constants, they are constants depending on the temperature according to information of table 3.\n",
        " \n",
        "<div align = \"center\"> Table 3. Constants B, C, D for the ethane compressibility factor equation</div>\n",
        " \n",
        "Temperature ($K$)| B| C| D\n",
        "-------------------|------------------|------------------|------------------\n",
        "100 | $\\small -5.74x10^{-3}$ | $\\small 6.86x10^{-6}$ | $\\small 1.8x10^{-8}$  \n",
        "1100 | $\\small 1.8x10^{-4}$ | $\\small 2.75x10^{-7}$ | $\\small 1.44x10^{-10}$\n",
        " \n",
        "In the next code cell write a routine for plotting $\\small Z  vs P$ for the two temperatures (according to information table 2), in the pressure range of ($\\small 0 -1000 atm$). \n",
        "Explain the differences between the two curves."
      ]
    },
    {
      "cell_type": "code",
      "metadata": {
        "id": "_YDWYyB0VUQr"
      },
      "source": [
        ""
      ],
      "execution_count": null,
      "outputs": []
    },
    {
      "cell_type": "markdown",
      "metadata": {
        "id": "KjcXFo0DV5mA"
      },
      "source": [
        "\n",
        "In the next code cell write the routine for creating (i) an array for each series of pressure data. Using the function  `np.arange()`. (ii) Equation of  $\\small Z(P)$ for each temperature (iii) parameters for plotting charts using function `plt`."
      ]
    },
    {
      "cell_type": "code",
      "metadata": {
        "id": "hSd9XiCHX3_7"
      },
      "source": [
        ""
      ],
      "execution_count": null,
      "outputs": []
    },
    {
      "cell_type": "markdown",
      "metadata": {
        "id": "fA1sS0ubRzSq"
      },
      "source": [
        "---\n",
        "#***Activiy 5: Solution of activities***\n",
        "\n",
        "We present the solutions for the activities you developed in the previous sections.\n",
        "\n",
        "*Solution exercise 1:* "
      ]
    },
    {
      "cell_type": "code",
      "metadata": {
        "colab": {
          "base_uri": "https://localhost:8080/",
          "height": 284
        },
        "id": "figIHikcR_7V",
        "outputId": "0c045b9b-c954-41ab-a77d-9f5bdb4ad8c8"
      },
      "source": [
        "import math\n",
        "import numpy as np\n",
        "import matplotlib.pyplot as plt\n",
        "\n",
        "v= np.arange(0.1, 4, 0.1)\n",
        "p1=(0.5*0.08206*298)/v\n",
        "p2=(0.5*0.08206*798)/v\n",
        "p3=(0.5*0.08206*1298)/v\n",
        "plt.plot(1/v, p1, label=\"298K\")      \n",
        "plt.plot(1/v, p2, label=\"798K\") \n",
        "plt.plot(1/v, p3, label=\"2198K\") \n",
        "plt.legend()                        \n",
        "plt.ylabel(\"Pressure (atm)\")         \n",
        "plt.xlabel(r\"${1/V (\\mathrm{L^{-1}})}$\")            \n",
        "plt.show ()"
      ],
      "execution_count": null,
      "outputs": [
        {
          "output_type": "display_data",
          "data": {
            "image/png": "[encoded data removed]",
            "text/plain": [
              "<Figure size 432x288 with 1 Axes>"
            ]
          },
          "metadata": {
            "needs_background": "light"
          }
        }
      ]
    },
    {
      "cell_type": "markdown",
      "metadata": {
        "id": "7YEpsNUAZJhw"
      },
      "source": [
        "*Solution exercise 2:* From the regression equation, you make Y = 0 and then, you find the temperature.\n"
      ]
    },
    {
      "cell_type": "code",
      "metadata": {
        "id": "AhcC8pVvZSJE",
        "colab": {
          "base_uri": "https://localhost:8080/"
        },
        "outputId": "55c42c69-3397-48ca-cb36-922f6e18be00"
      },
      "source": [
        "import numpy as np                         \n",
        "from scipy.stats import linregress   \n",
        "\n",
        "T = np.array([-45, -25, -10, 0, 10, 25, 45, 60, 80])\n",
        "V = np.array([18.7371, 20.3799, 21.6120, 22.4334, 23.2548, 24.4869, 26.1297, 27.3618,29.0046])\n",
        "linregress(T, V)\n",
        "\n",
        "slope, intercept, rvalue, pvalue, stderr = linregress(T, V) \n",
        "sr=round(slope, 5)                       \n",
        "inr=round(intercept, 5)\n",
        "Rr=round(rvalue, 4)\n",
        "print( \"V =\", sr,\"(T) +\",inr, \", R =\", Rr)"
      ],
      "execution_count": 1,
      "outputs": [
        {
          "output_type": "stream",
          "name": "stdout",
          "text": [
            "V = 0.08214 (T) + 22.4334 , R = 1.0\n"
          ]
        }
      ]
    },
    {
      "cell_type": "code",
      "metadata": {
        "id": "EqucmgleZWjW",
        "colab": {
          "base_uri": "https://localhost:8080/"
        },
        "outputId": "002dcc86-7d50-4813-df3f-0fd9ec1d170b"
      },
      "source": [
        "TVo=round(-22.43344/0.08214,2)\n",
        "print(\"T(absolute zero) =\",TVo,\" Celsius\")"
      ],
      "execution_count": null,
      "outputs": [
        {
          "output_type": "stream",
          "name": "stdout",
          "text": [
            "T(absolute zero) = -273.11  Celsius\n"
          ]
        }
      ]
    },
    {
      "cell_type": "markdown",
      "metadata": {
        "id": "PLTYP4uVbNtq"
      },
      "source": [
        "*Solution exercise 3:* We will assume that the volume of the gas will be zero at the temperature of absolute zero:\n",
        "\n",
        "$\\small 0=V_{o}(1+\\alpha T_{(zero)}) \\kern 2pc (2)$\n",
        "\n",
        "Where $T_{(cero)}$ is the temperature at absolute zero (degree Celsius). The $T_{(zero)}$ value is obtained from equation 2: \n",
        "\n",
        "$\\small T_{(zero)}=-1/\\alpha \\kern 2pc (3)$\n",
        "\n",
        "Now, we must find the value of $\\small \\alpha$. The behavior of gases can approximate to the ideal gas at low pressures (in the limit $\\small P \\rightarrow0)$ and in this limit, we will find the best value of $\\small \\alpha$. If you need it, you can review  <a href=\"https://github.com/wavallejol/ColabChem/blob/main/Session2_English.ipynb\">session 2</a>."
      ]
    },
    {
      "cell_type": "code",
      "metadata": {
        "id": "eKjQoBUKbmJ4",
        "colab": {
          "base_uri": "https://localhost:8080/"
        },
        "outputId": "5418748e-e19c-4d03-9bbc-58728ee64dcc"
      },
      "source": [
        "P = np.array([749.7, 599.6, 333.1, 98.6])\n",
        "alfa = np.array([3.6717e-3, 3.6697e-3, 3.6665e-3, 3.6643e-3])\n",
        "linregress(P, alfa)\n",
        "\n",
        "slope, intercept, rvalue, pvalue, stderr = linregress(P, alfa) \n",
        "sr=round(slope, 10)                       \n",
        "inr=round(intercept, 6)\n",
        "Rr=round(rvalue, 4)\n",
        "print( \"alfa(P) =\", sr,\"(P) +\",inr, \", R =\", Rr)\n",
        "print(\"alfa(0) = \", inr)\n",
        "T_alfa=round(1/inr,2)\n",
        "print(\"T(absolute zero)=\",T_alfa,\" Celsius\")"
      ],
      "execution_count": null,
      "outputs": [
        {
          "output_type": "stream",
          "name": "stdout",
          "text": [
            "alfa(P) = 1.14e-08 (P) + 0.003663 , R = 0.9976\n",
            "alfa(0) =  0.003663\n",
            "T(absolute zero)= 273.0  Celsius\n"
          ]
        }
      ]
    },
    {
      "cell_type": "markdown",
      "metadata": {
        "id": "u1ez2eRjbwuk"
      },
      "source": [
        "*Exercise 4:* (i) We import the libraries that we will use: `math`,` numpy` and `matplotlib.pyplot`. (ii) We create the data matrix for the pressure values ​​with the function `np.arage ()`, (iii) We define the two equations of $ \\small Z (P) $ at each temperature, and (iii) the parameters of plots using `plt` function."
      ]
    },
    {
      "cell_type": "code",
      "metadata": {
        "id": "SmoHKs3CcaNL",
        "colab": {
          "base_uri": "https://localhost:8080/",
          "height": 279
        },
        "outputId": "c70a9785-8c94-497e-8ef1-1516ca71816c"
      },
      "source": [
        "P= np.arange(0, 1100, 1)\n",
        "B=-5.74e-3\n",
        "B1=1.89e-4\n",
        "C=6.86e-6\n",
        "C1=2.75e-7\n",
        "D=1.8e-8\n",
        "D1=1.44e-10\n",
        "Z=1+B*P+C*P**2+D*P**3\n",
        "Z2=1+B1*P+C1*P**2+D1*P**3\n",
        "plt.xlabel(\"Pressure (atm)\")\n",
        "plt.ylim(0,28)\n",
        "plt.xlim(0,1100)\n",
        "plt.ylabel(\"Z\")\n",
        "plt.plot(P,Z,\"r\", label=\"100K\")\n",
        "plt.plot(P,Z2, \"m\",label=\"1100K\")\n",
        "plt.legend()\n",
        "plt.show ()"
      ],
      "execution_count": null,
      "outputs": [
        {
          "output_type": "display_data",
          "data": {
            "image/png": "[encoded data removed]",
            "text/plain": [
              "<Figure size 432x288 with 1 Axes>"
            ]
          },
          "metadata": {
            "needs_background": "light"
          }
        }
      ]
    },
    {
      "cell_type": "markdown",
      "metadata": {
        "id": "QFOWzyCOBeDJ"
      },
      "source": [
        "---\n",
        "# ***Activity 6: Virtual Lab***\n",
        "Interactive simulation for math and science on free access is available in the University of Colorado PHET platform. We use this platform to carrying out the activities of the Virtual Laboratories. You can get more information in the<a href=\"https://phet.colorado.edu/\"> PhET homepage</a>. In this section, we presented a step-by-step guide to use the PhET platform and develop virtual activities.\n",
        "\n",
        "###**6.1. Knowing PhET platform**\n",
        "\n",
        "To develop this activity:\n",
        "\n",
        "1.   Open the following link in a new window: <a href=\"https://phet.colorado.edu/sims/html/gases-intro/latest/gases-intro_en.html\"> PhET simulation</a> \n",
        "2.   Click on option “Laws”.\n",
        "3.   Click on option “Particles”\n",
        "4.   Add 50 \"Heavy Particles”.\n",
        "5.   Explore and use the other tools of the simulator and modify the temperature, see what happens with the pressure gauge.\n",
        "6.   Modify the Volume of the box. See what happens with the pressure gauge.\n",
        "\n",
        "###**6.2. Boyle's Law** \n",
        "\n",
        "To develop this activity:\n",
        "\n",
        "1.   Open the following link in a new window: <a href=\"https://phet.colorado.edu/sims/html/gases-intro/latest/gases-intro_en.html\"> PhET simulation</a> \n",
        "2.   Click on option “Laws”.\n",
        "3.   Click on option “Particles”\n",
        "4.   Add 50 \"Heavy Particles”.\n",
        "5.   Click on the “width” indicator. Then, the width indicator will activate and, you will see the length (in nm) for one side of the box.\n",
        "6.   Move the handle on the left side of the screen until the pointer of the length for one side of the box reads 15 nm. Note down this value.\n",
        "7.   Click on the \"Hold constant\" option for the Temperature variable. Note down the pressure value.\n",
        "9. Move the handle from left to right until the gauge reads 14 nm. Note down the pressure value.\n",
        "10. Move the handle from left to right until the gauge reads 13 nm. Note down the new pressure value.\n",
        "11. Repeat the procedure until you reach 11 measurements. In the last measurement, the gauge will read 5 nm.\n",
        "12. Using your data, plotting the value of measured length (x-axis) vs pressure (y-axis).\n",
        "13. Using your data, plotting inverse value of measured length (x-axis) vs. pressure (y-axis)\n",
        "14. Analyze the results. Do your data verify Boyle's law?\n",
        "\n",
        "* The following code cell shows the routine to obtain the curves of (P Vs L) and (P Vs 1 / L) with your data.\n",
        "\n",
        "\n",
        "\n"
      ]
    },
    {
      "cell_type": "code",
      "metadata": {
        "id": "EDq1c-upeLjX",
        "colab": {
          "base_uri": "https://localhost:8080/",
          "height": 286
        },
        "outputId": "46bd0f12-add7-420a-b089-ab358541b679"
      },
      "source": [
        "import math\n",
        "import numpy as np\n",
        "import matplotlib.pyplot as plt\n",
        "\n",
        "P = np.array([3.9,4.2,4.5,4.9,5.3,5.9,6.5,7.3,8.3,9.7,11.7])\n",
        "L = np.array([15,14,13,12,11,10,9,8,7,6,5])\n",
        "\n",
        "plt.subplot(1,2,1)\n",
        "plt.plot(1/L,P, \"r\", label=\"P Vs 1/L\")\n",
        "plt.ylabel('Pressure (atm)')\n",
        "plt.xlabel(r\"${1/L (\\mathrm{nm^{-1}})}$\") \n",
        "plt.legend()\n",
        "\n",
        "plt.subplot(1,2,2)\n",
        "plt.plot(L,P, \"m\", label=\"P Vs L\")\n",
        "plt.xlabel('L')\n",
        "plt.legend()\n",
        "plt.show()"
      ],
      "execution_count": null,
      "outputs": [
        {
          "output_type": "display_data",
          "data": {
            "image/png": "[encoded data removed]",
            "text/plain": [
              "<Figure size 432x288 with 2 Axes>"
            ]
          },
          "metadata": {
            "needs_background": "light"
          }
        }
      ]
    },
    {
      "cell_type": "markdown",
      "metadata": {
        "id": "OZCJumZCeIQu"
      },
      "source": [
        "16. Using 50 \"light particles\", repeat the entire above procedure.\n",
        "\n",
        "Do you find differences in the results obtained between the two types of particles?"
      ]
    },
    {
      "cell_type": "markdown",
      "metadata": {
        "id": "3P610aa4dexn"
      },
      "source": [
        "###**6.3. Charles's Law** \n",
        "\n",
        "To develop this activity:\n",
        "\n",
        "1.   Open the following link in a new window: <a href=\"https://phet.colorado.edu/sims/html/gases-intro/latest/gases-intro_en.html\"> PhET simulation</a> \n",
        "2.   Click on option “Laws”.\n",
        "3.   Click on option “Particles”\n",
        "4.   Add 50 \"Heavy Particles”.\n",
        "5.   Click on the “width” indicator. Then, the width indicator will activate and, you will see the length (in nm) for one side of the box.\n",
        "6.   Move the handle on the right side of the screen until the pointer of the length for one side of the box reads 5 nm. Note down this value.\n",
        "7. Click on the \"Hold constant\" option for the \"Pressure V\" variable. Note down the pressure value.\n",
        "8. Use the heating lever for increasing the box temperature around (30 K - 40 K). Note down the new Temperature value.\n",
        "9. Note down the new length value for the width of the box.\n",
        "10. Repeat the procedure until the box width indicator reaches 15 nm. Try to get at least 8 data.\n",
        "11. Using your data, plotting the product Pressure * measured length (y-axis) vs Temperature (in degrees Celcius, x-axis).\n",
        "12. Using data from step 11, perform a linear regression.\n",
        "13. Determine the temperature at which value the product (Pressure * measured length) is equal to zero.\n",
        "\n",
        "\n",
        "* The following code cell shows the routine to obtain the (L Vs T) curve and the linear regression.\n"
      ]
    },
    {
      "cell_type": "code",
      "metadata": {
        "id": "FP_m-qnAhe56",
        "colab": {
          "base_uri": "https://localhost:8080/",
          "height": 312
        },
        "outputId": "fa482c8f-a103-4727-f58f-3d8c967d1b15"
      },
      "source": [
        "import math\n",
        "import numpy as np\n",
        "import matplotlib.pyplot as plt\n",
        "from scipy.stats import linregress  \n",
        "\n",
        "P = 11.7                                                                      # Pressure (atm)\n",
        "T = np.array([300, 345, 403, 484, 557, 621, 677, 721, 815, 853, 885])         # Temperature (Kelvin)\n",
        "L = np.array([5.0, 5.8, 6.7, 8.1, 9.3, 10.3, 11.3, 12.0, 13.6, 14.2, 14.7])   # Width  (nm)\n",
        "\n",
        "plt.plot(T-273.15,L*P,'b*')                 \n",
        "plt.title(\"P*L vs T\")   \n",
        "plt.xlabel('Temperature (Celsius)')     \n",
        "plt.ylabel('P*L')         \n",
        "plt.show()  \n",
        "\n",
        "linregress(T-273.15, L)\n",
        "slope, intercept, rvalue, pvalue, stderr = linregress(T-273.15, L) \n",
        "sr=round(slope, 5)                      \n",
        "inr=round(intercept, 4)\n",
        "Rr=round(rvalue, 4)\n",
        "print( \"P*L =\", sr,\"(T) +\",inr, \", R =\", Rr)"
      ],
      "execution_count": null,
      "outputs": [
        {
          "output_type": "display_data",
          "data": {
            "image/png": "[encoded data removed]",
            "text/plain": [
              "<Figure size 432x288 with 1 Axes>"
            ]
          },
          "metadata": {
            "needs_background": "light"
          }
        },
        {
          "output_type": "stream",
          "name": "stdout",
          "text": [
            "P*L = 0.01659 (T) + 4.5751 , R = 1.0\n"
          ]
        }
      ]
    },
    {
      "cell_type": "markdown",
      "metadata": {
        "id": "rXYpm3e6h1H4"
      },
      "source": [
        "We can obtain the temperature value for which the product (Pressure * measured length) is equal to zero."
      ]
    },
    {
      "cell_type": "code",
      "metadata": {
        "id": "32VUMzHOh1zi",
        "colab": {
          "base_uri": "https://localhost:8080/"
        },
        "outputId": "0a6f6e49-ffb4-4981-f1bd-0376d0e3ecbf"
      },
      "source": [
        "T_cero=round(-inr/sr,2)\n",
        "print(\"T(absolute zero)=\", T_cero, \"Celisus\")"
      ],
      "execution_count": null,
      "outputs": [
        {
          "output_type": "stream",
          "name": "stdout",
          "text": [
            "T(absolute zero)= -275.77 Celisus\n"
          ]
        }
      ]
    },
    {
      "cell_type": "markdown",
      "metadata": {
        "id": "_s-Zp1Jahdxt"
      },
      "source": [
        "14. Using 50 \"light particles\", repeat the entire above procedure.\n",
        "\n",
        "Do you find differences in the results obtained between the two types of particles?"
      ]
    },
    {
      "cell_type": "markdown",
      "metadata": {
        "id": "nWn2COSXUCaI"
      },
      "source": [
        "---\n",
        "\n",
        "#***Recommended Links***\n",
        " \n",
        "*  NumPy Manual : <a href=\"https://numpy.org/doc/stable/index.html\">NumPy v1.21</a>\n",
        "* `numpy` Tutorial : <a href=\"https://cs231n.github.io/python-numpy-tutorial/\">numpy</a>\n",
        "*  `math` Tutorial: <a href=\"https://realpython.com/python-math-module/\">math</a>\n",
        "*  Mathematics in phyton tutorial : (i) <a href=\"https://github.com/drvinceknight/Python-Mathematics-Handbook\">Mathematics in phyton</a> (ii) <a href=\"https://personal.math.ubc.ca/~pwalls/math-python/jupyter/notebook/\">Mathematical Phyton</a>\n",
        " \n",
        "---\n",
        "\n",
        "#***References***\n",
        "\n",
        "*  P. Atkins. Química Fisica. Ed.6. Omega S.A. (1999) p.42.\n",
        "*  Petrucci, Ralph H., William S. Harwood, F. G. Herring, and Jeffry D. Madura. General Chemistry: Principles and Modern Applications. 9th ed. Upper Saddle River: Pearson Education, Inc., 2007.\n",
        "*  Laugier, Alexander; Garai, Jozef. \"Derivation of the Ideal Gas Law.\" $\\small J. Chem. Educ. 2007, 84:11, 1832 -1833.$ <a href=\"https://pubs.acs.org/doi/abs/10.1021/ed084p1832\"> doi:10.1021/ed084p1832</a> \n",
        "*  University of Colorado. PhET: Interactive Simulations for Sciences and Math. <a href=\"https://phet.colorado.edu/\"> Homepage</a> Date access. August 2021."
      ]
    }
  ]
}