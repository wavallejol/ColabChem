{
  "nbformat": 4,
  "nbformat_minor": 0,
  "metadata": {
    "colab": {
      "name": "Session3_English.ipynb",
      "provenance": [],
      "collapsed_sections": [],
      "toc_visible": true,
      "authorship_tag": "ABX9TyO8+YJBJUo6uo2FBNssyKSZ",
      "include_colab_link": true
    },
    "kernelspec": {
      "name": "python3",
      "display_name": "Python 3"
    },
    "language_info": {
      "name": "python"
    }
  },
  "cells": [
    {
      "cell_type": "markdown",
      "metadata": {
        "id": "view-in-github",
        "colab_type": "text"
      },
      "source": [
        "<a href=\"https://colab.research.google.com/github/wavallejol/ColabChem/blob/main/Session3_English.ipynb\" target=\"_parent\"><img src=\"https://colab.research.google.com/assets/colab-badge.svg\" alt=\"Open In Colab\"/></a>"
      ]
    },
    {
      "cell_type": "markdown",
      "metadata": {
        "id": "_KFNBX1kPBvV"
      },
      "source": [
        "<div align = \"center\"> ⬆️ Click on the Colabs link to start the activity ⬆️ </a></div>\n",
        "\n",
        "# **Session 3. Ideal Gas**\n",
        "# **Objectives**\n",
        " \n",
        " \n",
        "1.   To study the ideal gas behavior using Google Colabs\n",
        "2.   To solve ideal gas problems using Google Colabs\n",
        "3.    To use the PhET platform to verify Boyle's law and Charles's law.\n",
        "---"
      ]
    },
    {
      "cell_type": "markdown",
      "metadata": {
        "id": "4f2sRuCkQsof"
      },
      "source": [
        " \n",
        "# ***Activity 1***\n",
        " \n",
        "We will plot the pressure as a function of the inverse of the volume for one mole of a gas📈, at three different temperatures (298 K, 798 K, 1298 k), using the ideal gas equation:\n",
        "$\\small P=nRT(\\frac{1}{V})$\n",
        "We willl plot all curves in the same chart.\n",
        " \n",
        "First, we will import the libraries (i) `math`, (ii) `numpy`, (iii)  <a href=\"https://en.wikipedia.org/wiki/Matplotlib\">matplolib.pyplot</a>. \n",
        "The `matplotlib.pyplot` library is using for plotting charts from array data using phyton language. Click on the icon ▶️  in the next code cell."
      ]
    },
    {
      "cell_type": "code",
      "metadata": {
        "id": "OydoO284Q3yM"
      },
      "source": [
        "import math\n",
        "import numpy as np\n",
        "import matplotlib.pyplot as plt"
      ],
      "execution_count": null,
      "outputs": []
    },
    {
      "cell_type": "markdown",
      "metadata": {
        "id": "VA_5jTZMQ_Jw"
      },
      "source": [
        "Now, we will define: (i) the array for using the function `np.arage()`, (ii) The ideal gas equation at each temperature.  (iii) We define parameters for plotting using function `plt.plot()`. Furthermore, we include information for details of the chart.  Click on the icon ▶️  in the next code cell."
      ]
    },
    {
      "cell_type": "code",
      "metadata": {
        "colab": {
          "base_uri": "https://localhost:8080/",
          "height": 279
        },
        "id": "d5iKFu9PRmIV",
        "outputId": "f26c20b0-2658-45c0-b6e3-af7ba079bd8e"
      },
      "source": [
        "v= np.arange(0.1, 4, 0.1)         # we define array for volume\n",
        "p=(0.5*0.08206*298)/v             # Gas Law equation\n",
        "plt.plot(1/v, p, label=\"298K\")    \n",
        "plt.legend()                       \n",
        "plt.ylabel(\"Presión (atm)\")       \n",
        "plt.xlabel(\"1/V (1/L)\")       \n",
        "plt.show ()"
      ],
      "execution_count": null,
      "outputs": [
        {
          "output_type": "display_data",
          "data": {
            "image/png": "[encoded data removed]",
            "text/plain": [
              "<Figure size 432x288 with 1 Axes>"
            ]
          },
          "metadata": {
            "needs_background": "light"
          }
        }
      ]
    },
    {
      "cell_type": "markdown",
      "metadata": {
        "id": "C7801xWnRrey"
      },
      "source": [
        "In the next code cell, write the routine for plotting $\\small P vs(\\frac{1}{V})$ for all three curves in the same chart."
      ]
    },
    {
      "cell_type": "code",
      "metadata": {
        "id": "g4T6ts6hRs8F"
      },
      "source": [
        ""
      ],
      "execution_count": null,
      "outputs": []
    },
    {
      "cell_type": "markdown",
      "metadata": {
        "id": "hbAwFbBVS3WR"
      },
      "source": [
        "#**Activity 2**\n",
        "Table 1 lists the volume values as a function of the temperature to one mole of $\\small H_{2(g)}$ h2 at  constant pressure (1 atm). Determine the temperature (degree celcious) at which the volume of the gas is zero ($\\small 0$). \n",
        " \n",
        "<div align = \"center\"> Table 1. Volume $\\small H_{2(g)}$ as a temperature function </div>\n",
        " \n",
        "Temperature ($^{o}C$)| Volume ($L$)\n",
        "-------------------|------------------\n",
        "-40 | 19.1482 \n",
        "-20 | 20.7908\n",
        " 0  | 22.4334 \n",
        " 20 | 24.0760\n",
        " 40 | 25.7186\n",
        " 60 | 27.3612\n",
        " 80 | 29.0048\n",
        " \n",
        "First, in the next code cell, import the libraries that we will use: `math`, `numpy` ,  `matplotlib.pyplot` and `scipy.stats`"
      ]
    },
    {
      "cell_type": "code",
      "metadata": {
        "id": "nyl1I0QhTDDs"
      },
      "source": [
        ""
      ],
      "execution_count": null,
      "outputs": []
    },
    {
      "cell_type": "markdown",
      "metadata": {
        "id": "Csf-qfWTTEoN"
      },
      "source": [
        "Now create the two arrays for the data and write the routine for plotting the chart."
      ]
    },
    {
      "cell_type": "code",
      "metadata": {
        "id": "xZQ3cfy7TN5O"
      },
      "source": [
        ""
      ],
      "execution_count": null,
      "outputs": []
    },
    {
      "cell_type": "markdown",
      "metadata": {
        "id": "M1WHKnRVTR69"
      },
      "source": [
        "Now write the routine for linear regression using the function `linregress()`."
      ]
    },
    {
      "cell_type": "code",
      "metadata": {
        "id": "YANHG5P-TTN1"
      },
      "source": [
        ""
      ],
      "execution_count": null,
      "outputs": []
    },
    {
      "cell_type": "markdown",
      "metadata": {
        "id": "J2Y88bsdTgc2"
      },
      "source": [
        "Using the fitting equation, you can find the answer to the exercise (after y = 0). use the next cell code to find the temperature 👊."
      ]
    },
    {
      "cell_type": "code",
      "metadata": {
        "id": "UIBTMCvsT6rf"
      },
      "source": [
        ""
      ],
      "execution_count": null,
      "outputs": []
    },
    {
      "cell_type": "markdown",
      "metadata": {
        "id": "EutFWbReXVVa"
      },
      "source": [
        "---\n",
        " \n",
        "# ***Activity 3***\n",
        "Charles's law is expressed as follows:\n",
        "\n",
        "$\\small V=V_{o}(1+\\alpha T) \\kern 2pc (1)$\n",
        "\n",
        "Where T is the temperature $\\small \\alpha$ is a constant and $\\small V_{o}$ is the volume at $\\small 0 ^{o}C$. \n",
        "Table 1 lists the $\\small \\alpha$ values at diferent pressures for a hypothetical gas. Source (Atkins, 1999)\n",
        "\n",
        "<div align = \"center\"> Tabla 2. The $\\small \\alpha$ values as function of the pressure</div>\n",
        " \n",
        "Pressure ($Torr$)| $\\small \\alpha10^{3} (^{o}C^{-1})$\n",
        "-------------------|------------------\n",
        "749.7 | 3.6717 \n",
        "599.6 | 3.6697\n",
        "333.1 | 3.6665 \n",
        "98.6 | 3.6643\n",
        "\n",
        "Determine the best temperature value on the celsius scale for the value of absolute zero.\n",
        "We will assume that the volume of the gas will be zero at the temperature of absolute zero:\n",
        "\n",
        "$\\small 0=V_{o}(1+\\alpha T_{(zero)}) \\kern 2pc (2)$\n",
        "\n",
        "Where $T_{(cero)}$ is the temperature at absolute zero (degree Celsius). The $T_{(zero)}$ value is obtained from equation 2: \n",
        "\n",
        "$\\small T_{(zero)}=-1/\\alpha \\kern 2pc (3)$\n",
        "\n",
        "Now, we must find the value of $\\small \\alpha$. The behavior of gases can approximate to the ideal gas at low pressures (in the limit $\\small P \\rightarrow0)$ and in this limit, we will find the best value of $\\small \\alpha$.\n",
        "\n",
        "Now it's your turn 👊 . Using the imforamtion, plotting  $\\small \\alpha \\kern 0.2pc Vs \\kern 0.2pc P $ and carry out the fitting regression. With the fitting equation, extrapolate the  $\\small \\alpha$ value for $P=0$. To obtain information about the regression, you can review  <a href=\"https://github.com/wavallejol/ColabChem/blob/main/Session2_English.ipynb\">session 2</a>."
      ]
    },
    {
      "cell_type": "code",
      "metadata": {
        "id": "Xd0CSbnJcY_C"
      },
      "source": [
        ""
      ],
      "execution_count": null,
      "outputs": []
    },
    {
      "cell_type": "markdown",
      "metadata": {
        "id": "AGXm_K-BRxEm"
      },
      "source": [
        "---\n",
        "# ***Activity 4***\n",
        "The <a href=\"https://en.wikipedia.org/wiki/Compressibility_factor#:~:text=In%20thermodynamics%2C%20the%20compressibility%20factor,gas%20from%20ideal%20gas%20behaviour.&text=It%20is%20a%20useful%20thermodynamic,for%20the%20real%20gas%20behaviour.\"> compressibility factor</a> ($\\small Z$) of ethane is expressed by $\\small Z=1+BP+CP^2+DP^3$  where P is the pressure (atm) and B, C, D are constants, they are constants depending on the temperature according to information of table 3.\n",
        " \n",
        "<div align = \"center\"> Table 3. Constants B, C, D for the ethane compressibility factor equation</div>\n",
        " \n",
        "Temperature ($K$)| B| C| D\n",
        "-------------------|------------------|------------------|------------------\n",
        "100 | $\\small -5.74x10^{-3}$ | $\\small 6.86x10^{-6}$ | $\\small 1.8x10^{-8}$  \n",
        "1100 | $\\small 1.8x10^{-4}$ | $\\small 2.75x10^{-7}$ | $\\small 1.44x10^{-10}$\n",
        " \n",
        "In the next code cell write a routine for plotting $\\small Z  vs P$ for the two temperatures (according to information table 2), in the pressure range of ($\\small 0 -1000 atm$). \n",
        "Explain the differences between the two curves.\n",
        " \n",
        "First, import the libraries: `math`, `numpy` and `matplotlib.pyplot`"
      ]
    },
    {
      "cell_type": "code",
      "metadata": {
        "id": "_YDWYyB0VUQr"
      },
      "source": [
        ""
      ],
      "execution_count": null,
      "outputs": []
    },
    {
      "cell_type": "markdown",
      "metadata": {
        "id": "KjcXFo0DV5mA"
      },
      "source": [
        "\n",
        "In the next code cell write the routine for creating (i) an array for each series of pressure data. Using the function  `np.arange()`. (ii) Equation of  $\\small Z(P)$ for each temperature (iii) parameters for plotting charts using function `plt`."
      ]
    },
    {
      "cell_type": "code",
      "metadata": {
        "id": "hSd9XiCHX3_7"
      },
      "source": [
        ""
      ],
      "execution_count": null,
      "outputs": []
    },
    {
      "cell_type": "markdown",
      "metadata": {
        "id": "QFOWzyCOBeDJ"
      },
      "source": [
        "---\n",
        "# ***Activity 5: Virtual Lab***\n",
        "Interactive simulation for math and science on free access is available in the University of Colorado PHET platform. We use this platform to carrying out the activities of the Virtual Laboratories. You can get more information in the<a href=\"https://phet.colorado.edu/\"> PhET homepage</a>. In this section, we presented a step-by-step guide to use the PhET platform and develop virtual activities.\n",
        "\n",
        "###**5.1. Knowing PhET platform**\n",
        "\n",
        "To develop this activity:\n",
        "\n",
        "1.   Open the following link in a new window: <a href=\"https://phet.colorado.edu/sims/html/gases-intro/latest/gases-intro_en.html\"> PhET simulation</a> \n",
        "2.   Click on option “Laws”.\n",
        "3.   Click on option “Particles”\n",
        "4.   Add 50 \"Heavy Particles”.\n",
        "5.   Explore and use the other tools of the simulator and modify the temperature, see what happens with the pressure gauge.\n",
        "6.   Modify the Volume of the box. See what happens with the pressure gauge.\n",
        "\n",
        "###**5.2. Boyle's Law** \n",
        "\n",
        "To develop this activity:\n",
        "\n",
        "1.   Open the following link in a new window: <a href=\"https://phet.colorado.edu/sims/html/gases-intro/latest/gases-intro_en.html\"> PhET simulation</a> \n",
        "2.   Click on option “Laws”.\n",
        "3.   Click on option “Particles”\n",
        "4.   Add 50 \"Heavy Particles”.\n",
        "5.   Click on the “width” indicator. Then, the width indicator will activate and, you will see the length (in nm) for one side of the box.\n",
        "6.   Move the handle on the left side of the screen until the pointer of the length for one side of the box reads 15 nm. Note down this value.\n",
        "7.   Click on the \"Hold constant\" option for the Temperature variable. Note down the pressure value.\n",
        "9. Move the handle from left to right until the gauge reads 14 nm. Note down the pressure value.\n",
        "10. Move the handle from left to right until the gauge reads 13 nm. Note down the new pressure value.\n",
        "11. Repeat the procedure until you reach 11 measurements. In the last measurement, the gauge will read 5 nm.\n",
        "12. Using your data, plotting the value of measured length (x-axis) vs pressure (y-axis).\n",
        "13. Using your data, plotting inverse value of measured length (x-axis) vs. pressure (y-axis)\n",
        "14. Analyze the results. Do your data verify Boyle's law?\n",
        "15. Using 50 \"light particles\", repeat the entire above procedure.\n",
        "\n",
        "Do you find differences in the results obtained between the two types of particles?\n",
        "\n",
        "###**5.3. Charles's Law** \n",
        "\n",
        "o develop this activity:\n",
        "\n",
        "1.   Open the following link in a new window: <a href=\"https://phet.colorado.edu/sims/html/gases-intro/latest/gases-intro_en.html\"> PhET simulation</a> \n",
        "2.   Click on option “Laws”.\n",
        "3.   Click on option “Particles”\n",
        "4.   Add 50 \"Heavy Particles”.\n",
        "5.   Click on the “width” indicator. Then, the width indicator will activate and, you will see the length (in nm) for one side of the box.\n",
        "6.   Move the handle on the right side of the screen until the pointer of the length for one side of the box reads 5 nm. Note down this value.\n",
        "7. Click on the \"Hold constant\" option for the pressure variable. Note down the pressure value.\n",
        "8. Use the heating lever for increasing the box temperature around (30 K - 40 K).\n",
        "9. Note down the new length value for the width of the box.\n",
        "10. Repeat the procedure until the box width indicator reaches 15 nm. Try to get at least 8 data.\n",
        "11. Using your data, plotting the value of Temperature (x-axis) vs measured length (y-axis).\n",
        "12. Analyze the results. Do your data verify Boyle's law?\n",
        "13. Using 50 \"light particles\", repeat the entire above procedure.\n",
        "\n",
        "Do you find differences in the results obtained between the two types of particles?\n",
        "14. Using your data, plotting the product Pressure * measured length (y-axis) vs Temperature (in degrees Celcius, x-axis).\n",
        "15. Using data from step 14, perform a linear regression.\n",
        "16. Using the fitting equation, extrapolate the temperature value which the product (Pressure * measured length) is equal to zero.\n",
        "\n",
        "\n",
        "\n"
      ]
    },
    {
      "cell_type": "markdown",
      "metadata": {
        "id": "nWn2COSXUCaI"
      },
      "source": [
        "---\n",
        "\n",
        "#***Recommended Links***\n",
        " \n",
        "*  NumPy Manual : <a href=\"https://numpy.org/doc/stable/index.html\">NumPy v1.21</a>\n",
        "* `numpy` Tutorial : <a href=\"https://cs231n.github.io/python-numpy-tutorial/\">numpy</a>\n",
        "*  `math` Tutorial: <a href=\"https://realpython.com/python-math-module/\">math</a>\n",
        "*  Mathematics in phyton tutorial : (i) <a href=\"https://github.com/drvinceknight/Python-Mathematics-Handbook\">Mathematics in phyton</a> (ii) <a href=\"https://personal.math.ubc.ca/~pwalls/math-python/jupyter/notebook/\">Mathematical Phyton</a>\n",
        " \n",
        "---\n",
        "\n",
        "#***References***\n",
        "\n",
        "*  P. Atkins. Química Fisica. Ed.6. Omega S.A. (1999) p.42.\n",
        "*  Petrucci, Ralph H., William S. Harwood, F. G. Herring, and Jeffry D. Madura. General Chemistry: Principles and Modern Applications. 9th ed. Upper Saddle River: Pearson Education, Inc., 2007.\n",
        "*  Laugier, Alexander; Garai, Jozef. \"Derivation of the Ideal Gas Law.\" $\\small J. Chem. Educ. 2007, 84:11, 1832 -1833.$ <a href=\"https://pubs.acs.org/doi/abs/10.1021/ed084p1832\"> doi:10.1021/ed084p1832</a> \n",
        "*  University of Colorado. PhET: Interactive Simulations for Sciences and Math. <a href=\"https://phet.colorado.edu/\"> Homepage</a> Date access. August 2021."
      ]
    }
  ]
}