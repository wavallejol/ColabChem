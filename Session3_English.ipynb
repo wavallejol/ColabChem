{
  "nbformat": 4,
  "nbformat_minor": 0,
  "metadata": {
    "colab": {
      "name": "Session3_English.ipynb",
      "provenance": [],
      "collapsed_sections": [],
      "toc_visible": true,
      "authorship_tag": "ABX9TyNPeHHDWUO2gm8MuEfz5TO3",
      "include_colab_link": true
    },
    "kernelspec": {
      "name": "python3",
      "display_name": "Python 3"
    },
    "language_info": {
      "name": "python"
    }
  },
  "cells": [
    {
      "cell_type": "markdown",
      "metadata": {
        "id": "view-in-github",
        "colab_type": "text"
      },
      "source": [
        "<a href=\"https://colab.research.google.com/github/wavallejol/ColabChem/blob/main/Session3_English.ipynb\" target=\"_parent\"><img src=\"https://colab.research.google.com/assets/colab-badge.svg\" alt=\"Open In Colab\"/></a>"
      ]
    },
    {
      "cell_type": "markdown",
      "metadata": {
        "id": "_KFNBX1kPBvV"
      },
      "source": [
        "# **Session 3. Ideal Gas**\n",
        "# **Objectives**\n",
        " \n",
        " \n",
        "1.   To study the ideal gas behavior using Google Colabs\n",
        "2.   To solve ideal gas problems using Google Colabs\n",
        "3.    To use the PhET platform to verify Boyle's law and Charles's law.\n",
        "---"
      ]
    },
    {
      "cell_type": "markdown",
      "metadata": {
        "id": "4f2sRuCkQsof"
      },
      "source": [
        " \n",
        "# ***Activity 1***\n",
        " \n",
        "*Exercise 1:* We will plot the pressure as a function of the inverse of the volume for one mole of a gas📈, at three different temperatures (298 K, 798 K, 1298 k), using the ideal gas equation:\n",
        "$\\small P=nRT(\\frac{1}{V})$\n",
        "We willl plot all curves in the same chart.\n",
        " \n",
        "First, we will import the libraries: (i) `numpy` and (ii)  <a href=\"https://en.wikipedia.org/wiki/Matplotlib\">matplolib.pyplot</a>. \n",
        "The `matplotlib.pyplot` library is using for plotting charts from array data using phyton language. Click on the run icon ▶️ in the next code cell."
      ]
    },
    {
      "cell_type": "code",
      "metadata": {
        "id": "OydoO284Q3yM"
      },
      "source": [
        "import numpy as np\n",
        "import matplotlib.pyplot as plt"
      ],
      "execution_count": null,
      "outputs": []
    },
    {
      "cell_type": "markdown",
      "metadata": {
        "id": "VA_5jTZMQ_Jw"
      },
      "source": [
        "Now, we will define: (i) the array for using the function `np.arage()`, (ii) The ideal gas equation at each temperature.  (iii) We define parameters for plotting using function `plt.plot()`. Furthermore, we include information for details of the chart.  Click on the run icon ▶️  in the next code cell."
      ]
    },
    {
      "cell_type": "code",
      "metadata": {
        "colab": {
          "base_uri": "https://localhost:8080/",
          "height": 265
        },
        "id": "58LrNxBgWHDi",
        "outputId": "17d7fa72-fff0-49ff-a538-57f28fe58952"
      },
      "source": [
        "v= np.arange(0.1, 4, 0.1)       #data for Volume (L)\n",
        "p=(0.5*0.08206*298)/v           #Ideal gas law\n",
        "plt.plot(1/v, p)                #plotting 1/v Vs P\n",
        "plt.show ()                     "
      ],
      "execution_count": null,
      "outputs": [
        {
          "output_type": "display_data",
          "data": {
            "image/png": "[encoded data removed]",
            "text/plain": [
              "<Figure size 432x288 with 1 Axes>"
            ]
          },
          "metadata": {
            "needs_background": "light"
          }
        }
      ]
    },
    {
      "cell_type": "markdown",
      "metadata": {
        "id": "UyeLU_N5WW2_"
      },
      "source": [
        "Now, we add plot parameters. Press the ▶️  ️icon in the next code cell."
      ]
    },
    {
      "cell_type": "code",
      "metadata": {
        "colab": {
          "base_uri": "https://localhost:8080/",
          "height": 284
        },
        "id": "1gx46keXU3_L",
        "outputId": "665281d9-2ce3-4f34-d078-7f2ca95e840e"
      },
      "source": [
        "v= np.arange(0.1, 4, 0.1)                    # we define array for volume (L)\n",
        "p=(0.5*0.08206*298)/v                        # Gas Law equation\n",
        "plt.plot(1/v, p, label=\"298K\")     \n",
        "plt.legend()                       \n",
        "plt.ylabel(\"Pressure (atm)\")        \n",
        "plt.xlabel(r\"${1/V (\\mathrm{L^{-1}})}$\")   # With mathrm we can use Latex notation in plots\n",
        "plt.show ()"
      ],
      "execution_count": null,
      "outputs": [
        {
          "output_type": "display_data",
          "data": {
            "image/png": "[encoded data removed]",
            "text/plain": [
              "<Figure size 432x288 with 1 Axes>"
            ]
          },
          "metadata": {
            "needs_background": "light"
          }
        }
      ]
    },
    {
      "cell_type": "markdown",
      "metadata": {
        "id": "C7801xWnRrey"
      },
      "source": [
        "*Excersice 1:* In the next code cell, write the routine for plotting $\\small P vs(\\frac{1}{V})$ for all three curves in the same chart."
      ]
    },
    {
      "cell_type": "code",
      "metadata": {
        "id": "g4T6ts6hRs8F"
      },
      "source": [
        ""
      ],
      "execution_count": null,
      "outputs": []
    },
    {
      "cell_type": "markdown",
      "metadata": {
        "id": "hbAwFbBVS3WR"
      },
      "source": [
        "#**Activity 2**\n",
        "*Exercise 2:* Table 1 lists the volume values as a function of the temperature to one mole of an ideal gas at  constant pressure (1 atm). Determine the temperature (degree celcious) at which the volume of the gas is zero ($\\small 0$). \n",
        " \n",
        "<div align = \"center\"> Table 1. Volume of an ideal gas as a temperature function at 1 atm.</div>\n",
        " \n",
        "Temperatura ($^{o}C$)| Volumen ($L$)\n",
        "-------------------|------------------\n",
        "-45 | 18.7371 \n",
        "-25 | 20.3799\n",
        "-10 | 21.6120 \n",
        "  0 | 22.4334\n",
        " 10 | 23.2548\n",
        " 25 | 24.4869\n",
        " 45 | 26.1297\n",
        " 60 | 27.3618\n",
        " 80 | 29.0046\n",
        " \n",
        "(i) In the next code cell, import the libraries that we will use: `math`, `numpy` and `scipy.stats`. (ii) Create the two arrays for the data. (iii) Finally, applying the function `linregress()`, you will obtain the fitting equation."
      ]
    },
    {
      "cell_type": "code",
      "metadata": {
        "id": "nyl1I0QhTDDs"
      },
      "source": [
        ""
      ],
      "execution_count": null,
      "outputs": []
    },
    {
      "cell_type": "markdown",
      "metadata": {
        "id": "J2Y88bsdTgc2"
      },
      "source": [
        "Using the fitting equation, you can find the answer to the exercise (after y = 0). Use the next cell code to find the temperature 👊."
      ]
    },
    {
      "cell_type": "code",
      "metadata": {
        "id": "UIBTMCvsT6rf"
      },
      "source": [
        ""
      ],
      "execution_count": null,
      "outputs": []
    },
    {
      "cell_type": "markdown",
      "metadata": {
        "id": "EutFWbReXVVa"
      },
      "source": [
        "---\n",
        " \n",
        "# ***Activity 3***\n",
        "Charles's law is expressed as follows:\n",
        "\n",
        "$\\small V=V_{o}(1+\\alpha T) \\kern 2pc (1)$\n",
        "\n",
        "Where T is the temperature $\\small \\alpha$ is a constant and $\\small V_{o}$ is the volume at $\\small 0 ^{o}C$. \n",
        "Table 1 lists the $\\small \\alpha$ values at diferent pressures for a hypothetical gas. Source (Atkins, 1999)\n",
        "\n",
        "<div align = \"center\"> Tabla 2. The $\\small \\alpha$ values as function of the pressure</div>\n",
        " \n",
        "Pressure ($Torr$)| $\\small \\alpha10^{3} (^{o}C^{-1})$\n",
        "-------------------|------------------\n",
        "749.7 | 3.6717 \n",
        "599.6 | 3.6697\n",
        "333.1 | 3.6665 \n",
        "98.6 | 3.6643\n",
        "\n",
        "Determine the best temperature value on the celsius scale for the value of absolute zero. Using the imformation, plotting  $\\small \\alpha \\kern 0.2pc Vs \\kern 0.2pc P $ and carry out the fitting regression. With the fitting equation, extrapolate the  $\\small \\alpha$ value for $P=0$. To obtain information about the regression, you can review  <a href=\"https://github.com/wavallejol/ColabChem/blob/main/Session2_English.ipynb\">session 2</a>."
      ]
    },
    {
      "cell_type": "code",
      "metadata": {
        "id": "Xd0CSbnJcY_C"
      },
      "source": [
        ""
      ],
      "execution_count": null,
      "outputs": []
    },
    {
      "cell_type": "markdown",
      "metadata": {
        "id": "AGXm_K-BRxEm"
      },
      "source": [
        "---\n",
        "# ***Activity 4***\n",
        "The <a href=\"https://en.wikipedia.org/wiki/Compressibility_factor#:~:text=In%20thermodynamics%2C%20the%20compressibility%20factor,gas%20from%20ideal%20gas%20behaviour.&text=It%20is%20a%20useful%20thermodynamic,for%20the%20real%20gas%20behaviour.\"> compressibility factor</a> ($\\small Z$) of ethane is expressed by $\\small Z=1+BP+CP^2+DP^3$  where P is the pressure (atm) and B, C, D are constants, they are constants depending on the temperature according to information of table 3.\n",
        " \n",
        "<div align = \"center\"> Table 3. Constants B, C, D for the ethane compressibility factor equation</div>\n",
        " \n",
        "Temperature ($K$)| B| C| D\n",
        "-------------------|------------------|------------------|------------------\n",
        "100 | $\\small -5.74x10^{-3}$ | $\\small 6.86x10^{-6}$ | $\\small 1.8x10^{-8}$  \n",
        "1100 | $\\small 1.8x10^{-4}$ | $\\small 2.75x10^{-7}$ | $\\small 1.44x10^{-10}$\n",
        " \n",
        "In the next code cell write a routine for plotting $\\small Z  vs P$ for the two temperatures (according to information table 2), in the pressure range of ($\\small 0 -1000 atm$). \n",
        "Explain the differences between the two curves."
      ]
    },
    {
      "cell_type": "code",
      "metadata": {
        "id": "_YDWYyB0VUQr"
      },
      "source": [
        ""
      ],
      "execution_count": null,
      "outputs": []
    },
    {
      "cell_type": "markdown",
      "metadata": {
        "id": "KjcXFo0DV5mA"
      },
      "source": [
        "\n",
        "In the next code cell write the routine for creating (i) an array for each series of pressure data. Using the function  `np.arange()`. (ii) Equation of  $\\small Z(P)$ for each temperature (iii) parameters for plotting charts using function `plt`."
      ]
    },
    {
      "cell_type": "code",
      "metadata": {
        "id": "hSd9XiCHX3_7"
      },
      "source": [
        ""
      ],
      "execution_count": null,
      "outputs": []
    },
    {
      "cell_type": "markdown",
      "metadata": {
        "id": "fA1sS0ubRzSq"
      },
      "source": [
        "---\n",
        "#***Activiy 5: Solution of activities***\n",
        "\n",
        "We present the solutions for the activities you developed in the previous sections.\n",
        "\n",
        "*Solution exercise 1:* "
      ]
    },
    {
      "cell_type": "code",
      "metadata": {
        "colab": {
          "base_uri": "https://localhost:8080/",
          "height": 284
        },
        "id": "figIHikcR_7V",
        "outputId": "40fa4f22-b36c-4a29-c952-76b87d2c282b"
      },
      "source": [
        "import numpy as np\n",
        "import matplotlib.pyplot as plt\n",
        "\n",
        "v= np.arange(0.1, 4, 0.1)\n",
        "p1=(0.5*0.08206*298)/v\n",
        "p2=(0.5*0.08206*798)/v\n",
        "p3=(0.5*0.08206*1298)/v\n",
        "plt.plot(1/v, p1, label=\"298K\")      \n",
        "plt.plot(1/v, p2, label=\"798K\") \n",
        "plt.plot(1/v, p3, label=\"1298K\") \n",
        "plt.legend()                        \n",
        "plt.ylabel(\"Pressure (atm)\")         \n",
        "plt.xlabel(r\"${1/V (\\mathrm{L^{-1}})}$\")            \n",
        "plt.show ()"
      ],
      "execution_count": null,
      "outputs": [
        {
          "output_type": "display_data",
          "data": {
            "image/png": "[encoded data removed]",
            "text/plain": [
              "<Figure size 432x288 with 1 Axes>"
            ]
          },
          "metadata": {
            "needs_background": "light"
          }
        }
      ]
    },
    {
      "cell_type": "markdown",
      "metadata": {
        "id": "10Ud_NCZv7lG"
      },
      "source": [
        "*Solution exercise 1:* Option 2.\n",
        "\n",
        "<div align=\"Justify\"> To generate an interactive chart, we can use the `plotly` library.  Check the options that you will find on the upper right side of the chart after executing the following code cell. </div>"
      ]
    },
    {
      "cell_type": "code",
      "metadata": {
        "id": "aRJ24EPPv9KE",
        "colab": {
          "base_uri": "https://localhost:8080/",
          "height": 517
        },
        "outputId": "da0575ad-4250-4bb3-a40c-c9241250e1e8"
      },
      "source": [
        "import numpy as np\n",
        "import plotly.graph_objects as go                     \n",
        "v= np.arange(0.1, 4, 0.05)                            #we define parameters and equations\n",
        "V1=1/v\n",
        "p1=(0.5*0.08206*298)/v\n",
        "p2=(0.5*0.08206*798)/v\n",
        "p3=(0.5*0.08206*1298)/v\n",
        "\n",
        "fig = go.Figure()                                   #we create the figure\n",
        "fig.add_trace(go.Scatter(x=V1, y=p1,\n",
        "                    mode='lines',\n",
        "                    name='298 K'))                  #we add the first curve \n",
        "fig.add_trace(go.Scatter(x=V1, y=p2,\n",
        "                    mode='lines',\n",
        "                    name='798 K'))                  #we add the second curve \n",
        "fig.add_trace(go.Scatter(x=V1, y=p3,\n",
        "                    mode='lines',\n",
        "                    name='1298 K'))                 #we add the third curve \n",
        "fig.update_layout(\n",
        "    title=\"P vs 1/V\",\n",
        "    xaxis_title=r\"$ {V (\\mathrm{L^{-1}})} $\",\n",
        "    yaxis_title=r\"$ {P (\\mathrm{atm})} $\",\n",
        "    width=700, height=500\n",
        ")                                                   #we define the chart parameters\n",
        "fig.show()"
      ],
      "execution_count": null,
      "outputs": [
        {
          "output_type": "display_data",
          "data": {
            "text/html": [
              "<html>\n",
              "<head><meta charset=\"utf-8\" /></head>\n",
              "<body>\n",
              "    <div>\n",
              "            <script src=\"https://cdnjs.cloudflare.com/ajax/libs/mathjax/2.7.5/MathJax.js?config=TeX-AMS-MML_SVG\"></script><script type=\"text/javascript\">if (window.MathJax) {MathJax.Hub.Config({SVG: {font: \"STIX-Web\"}});}</script>\n",
              "                <script type=\"text/javascript\">window.PlotlyConfig = {MathJaxConfig: 'local'};</script>\n",
              "        <script src=\"https://cdn.plot.ly/plotly-latest.min.js\"></script>    \n",
              "            <div id=\"4d679953-3a9a-491c-97f0-0e3c4ad886ef\" class=\"plotly-graph-div\" style=\"height:500px; width:700px;\"></div>\n",
              "            <script type=\"text/javascript\">\n",
              "                \n",
              "                    window.PLOTLYENV=window.PLOTLYENV || {};\n",
              "                    \n",
              "                if (document.getElementById(\"4d679953-3a9a-491c-97f0-0e3c4ad886ef\")) {\n",
              "                    Plotly.newPlot(\n",
              "                        '4d679953-3a9a-491c-97f0-0e3c4ad886ef',\n",
              "                        [{\"mode\": \"lines\", \"name\": \"298 K\", \"type\": \"scatter\", \"x\": [10.0, 6.666666666666666, 4.999999999999999, 3.999999999999999, 3.333333333333333, 2.8571428571428563, 2.499999999999999, 2.222222222222222, 1.9999999999999996, 1.8181818181818177, 1.666666666666666, 1.538461538461538, 1.4285714285714282, 1.333333333333333, 1.2499999999999998, 1.176470588235294, 1.1111111111111107, 1.0526315789473681, 0.9999999999999996, 0.9523809523809521, 0.9090909090909086, 0.8695652173913041, 0.833333333333333, 0.7999999999999997, 0.7692307692307689, 0.7407407407407405, 0.714285714285714, 0.6896551724137928, 0.6666666666666665, 0.6451612903225804, 0.6249999999999998, 0.6060606060606059, 0.5882352941176469, 0.5714285714285712, 0.5555555555555554, 0.5405405405405403, 0.526315789473684, 0.5128205128205127, 0.4999999999999999, 0.4878048780487803, 0.47619047619047594, 0.46511627906976727, 0.4545454545454544, 0.44444444444444425, 0.43478260869565205, 0.42553191489361686, 0.4166666666666665, 0.4081632653061223, 0.39999999999999986, 0.3921568627450979, 0.38461538461538447, 0.3773584905660376, 0.37037037037037024, 0.36363636363636354, 0.357142857142857, 0.350877192982456, 0.34482758620689646, 0.3389830508474575, 0.33333333333333326, 0.32786885245901626, 0.3225806451612902, 0.31746031746031733, 0.3124999999999999, 0.30769230769230754, 0.3030303030303029, 0.2985074626865671, 0.29411764705882343, 0.289855072463768, 0.2857142857142856, 0.2816901408450703, 0.2777777777777777, 0.27397260273972596, 0.2702702702702702, 0.26666666666666655, 0.26315789473684204, 0.25974025974025966, 0.25641025641025633, 0.2531645569620252], \"y\": [122.26939999999999, 81.51293333333331, 61.13469999999998, 48.90775999999998, 40.756466666666654, 34.93411428571427, 30.567349999999987, 27.17097777777777, 24.45387999999999, 22.23079999999999, 20.378233333333323, 18.81067692307692, 17.467057142857136, 16.30258666666666, 15.283674999999995, 14.384635294117643, 13.585488888888884, 12.870463157894731, 12.226939999999994, 11.644704761904759, 11.115399999999994, 10.632121739130431, 10.189116666666662, 9.781551999999996, 9.405338461538458, 9.056992592592588, 8.733528571428566, 8.432372413793098, 8.15129333333333, 7.888348387096771, 7.641837499999997, 7.410266666666663, 7.19231764705882, 6.986822857142854, 6.792744444444441, 6.609156756756754, 6.4352315789473655, 6.270225641025639, 6.113469999999998, 5.964360975609754, 5.822352380952378, 5.686948837209299, 5.557699999999998, 5.434195555555553, 5.316060869565216, 5.202953191489359, 5.094558333333331, 4.990587755102038, 4.890775999999998, 4.794878431372547, 4.702669230769229, 4.6139396226415075, 4.528496296296294, 4.446159999999998, 4.366764285714283, 4.29015438596491, 4.21618620689655, 4.144725423728811, 4.075646666666665, 4.008832786885244, 3.9441741935483856, 3.8815682539682523, 3.8209187499999984, 3.762135384615383, 3.7051333333333316, 3.6498328358208942, 3.59615882352941, 3.5440405797101437, 3.493411428571427, 3.444208450704224, 3.3963722222222206, 3.349846575342464, 3.304578378378377, 3.2605173333333317, 3.2176157894736828, 3.17582857142857, 3.1351128205128194, 3.0954278481012643]}, {\"mode\": \"lines\", \"name\": \"798 K\", \"type\": \"scatter\", \"x\": [10.0, 6.666666666666666, 4.999999999999999, 3.999999999999999, 3.333333333333333, 2.8571428571428563, 2.499999999999999, 2.222222222222222, 1.9999999999999996, 1.8181818181818177, 1.666666666666666, 1.538461538461538, 1.4285714285714282, 1.333333333333333, 1.2499999999999998, 1.176470588235294, 1.1111111111111107, 1.0526315789473681, 0.9999999999999996, 0.9523809523809521, 0.9090909090909086, 0.8695652173913041, 0.833333333333333, 0.7999999999999997, 0.7692307692307689, 0.7407407407407405, 0.714285714285714, 0.6896551724137928, 0.6666666666666665, 0.6451612903225804, 0.6249999999999998, 0.6060606060606059, 0.5882352941176469, 0.5714285714285712, 0.5555555555555554, 0.5405405405405403, 0.526315789473684, 0.5128205128205127, 0.4999999999999999, 0.4878048780487803, 0.47619047619047594, 0.46511627906976727, 0.4545454545454544, 0.44444444444444425, 0.43478260869565205, 0.42553191489361686, 0.4166666666666665, 0.4081632653061223, 0.39999999999999986, 0.3921568627450979, 0.38461538461538447, 0.3773584905660376, 0.37037037037037024, 0.36363636363636354, 0.357142857142857, 0.350877192982456, 0.34482758620689646, 0.3389830508474575, 0.33333333333333326, 0.32786885245901626, 0.3225806451612902, 0.31746031746031733, 0.3124999999999999, 0.30769230769230754, 0.3030303030303029, 0.2985074626865671, 0.29411764705882343, 0.289855072463768, 0.2857142857142856, 0.2816901408450703, 0.2777777777777777, 0.27397260273972596, 0.2702702702702702, 0.26666666666666655, 0.26315789473684204, 0.25974025974025966, 0.25641025641025633, 0.2531645569620252], \"y\": [327.4194, 218.27959999999996, 163.70969999999997, 130.96775999999997, 109.13979999999998, 93.54839999999997, 81.85484999999997, 72.75986666666665, 65.48387999999998, 59.530799999999985, 54.56989999999998, 50.37221538461537, 46.774199999999986, 43.65591999999999, 40.92742499999999, 38.51992941176469, 36.37993333333332, 34.46519999999999, 32.741939999999985, 31.182799999999993, 29.765399999999985, 28.471252173913033, 27.28494999999999, 26.19355199999999, 25.186107692307683, 24.25328888888888, 23.38709999999999, 22.58064827586206, 21.827959999999994, 21.12383225806451, 20.463712499999993, 19.84359999999999, 19.259964705882346, 18.70967999999999, 18.18996666666666, 17.69834594594594, 17.23259999999999, 16.790738461538457, 16.370969999999996, 15.971678048780483, 15.591399999999993, 15.228809302325576, 14.882699999999996, 14.551973333333327, 14.235626086956517, 13.93274042553191, 13.642474999999996, 13.364057142857137, 13.096775999999995, 12.839976470588232, 12.593053846153841, 12.355449056603769, 12.12664444444444, 11.906159999999996, 11.693549999999995, 11.488399999999995, 11.290324137931032, 11.098962711864402, 10.913979999999997, 10.735062295081963, 10.561916129032255, 10.394266666666663, 10.231856249999996, 10.074443076923073, 9.921799999999996, 9.773713432835818, 9.629982352941173, 9.490417391304344, 9.354839999999996, 9.223081690140843, 9.09498333333333, 8.970394520547941, 8.84917297297297, 8.731183999999997, 8.616299999999997, 8.504399999999997, 8.395369230769228, 8.289098734177212]}, {\"mode\": \"lines\", \"name\": \"1298 K\", \"type\": \"scatter\", \"x\": [10.0, 6.666666666666666, 4.999999999999999, 3.999999999999999, 3.333333333333333, 2.8571428571428563, 2.499999999999999, 2.222222222222222, 1.9999999999999996, 1.8181818181818177, 1.666666666666666, 1.538461538461538, 1.4285714285714282, 1.333333333333333, 1.2499999999999998, 1.176470588235294, 1.1111111111111107, 1.0526315789473681, 0.9999999999999996, 0.9523809523809521, 0.9090909090909086, 0.8695652173913041, 0.833333333333333, 0.7999999999999997, 0.7692307692307689, 0.7407407407407405, 0.714285714285714, 0.6896551724137928, 0.6666666666666665, 0.6451612903225804, 0.6249999999999998, 0.6060606060606059, 0.5882352941176469, 0.5714285714285712, 0.5555555555555554, 0.5405405405405403, 0.526315789473684, 0.5128205128205127, 0.4999999999999999, 0.4878048780487803, 0.47619047619047594, 0.46511627906976727, 0.4545454545454544, 0.44444444444444425, 0.43478260869565205, 0.42553191489361686, 0.4166666666666665, 0.4081632653061223, 0.39999999999999986, 0.3921568627450979, 0.38461538461538447, 0.3773584905660376, 0.37037037037037024, 0.36363636363636354, 0.357142857142857, 0.350877192982456, 0.34482758620689646, 0.3389830508474575, 0.33333333333333326, 0.32786885245901626, 0.3225806451612902, 0.31746031746031733, 0.3124999999999999, 0.30769230769230754, 0.3030303030303029, 0.2985074626865671, 0.29411764705882343, 0.289855072463768, 0.2857142857142856, 0.2816901408450703, 0.2777777777777777, 0.27397260273972596, 0.2702702702702702, 0.26666666666666655, 0.26315789473684204, 0.25974025974025966, 0.25641025641025633, 0.2531645569620252], \"y\": [532.5693999999999, 355.04626666666655, 266.28469999999993, 213.02775999999992, 177.52313333333328, 152.16268571428566, 133.14234999999994, 118.34875555555553, 106.51387999999996, 96.83079999999995, 88.76156666666662, 81.93375384615382, 76.08134285714283, 71.0092533333333, 66.57117499999998, 62.65522352941174, 59.17437777777776, 56.05993684210524, 53.25693999999997, 50.72089523809522, 48.41539999999997, 46.31038260869563, 44.38078333333331, 42.60555199999998, 40.9668769230769, 39.449585185185164, 38.04067142857141, 36.72892413793102, 35.50462666666665, 34.359316129032244, 33.285587499999984, 32.27693333333332, 31.327611764705868, 30.43253714285713, 29.587188888888875, 28.78753513513512, 28.029968421052615, 27.31125128205127, 26.62846999999999, 25.978995121951208, 25.360447619047605, 24.77066976744185, 24.20769999999999, 23.669751111111097, 23.155191304347817, 22.662527659574454, 22.190391666666656, 21.737526530612232, 21.30277599999999, 20.885074509803914, 20.48343846153845, 20.096958490566028, 19.724792592592582, 19.36615999999999, 19.020335714285704, 18.68664561403508, 18.36446206896551, 18.05319999999999, 17.752313333333326, 17.46129180327868, 17.179658064516122, 16.90696507936507, 16.642793749999992, 16.386750769230762, 16.13846666666666, 15.89759402985074, 15.663805882352934, 15.436794202898543, 15.216268571428564, 15.001954929577458, 14.793594444444437, 14.590942465753418, 14.39376756756756, 14.20185066666666, 14.01498421052631, 13.832971428571422, 13.655625641025635, 13.482769620253158]}],\n",
              "                        {\"height\": 500, \"template\": {\"data\": {\"bar\": [{\"error_x\": {\"color\": \"#2a3f5f\"}, \"error_y\": {\"color\": \"#2a3f5f\"}, \"marker\": {\"line\": {\"color\": \"#E5ECF6\", \"width\": 0.5}}, \"type\": \"bar\"}], \"barpolar\": [{\"marker\": {\"line\": {\"color\": \"#E5ECF6\", \"width\": 0.5}}, \"type\": \"barpolar\"}], \"carpet\": [{\"aaxis\": {\"endlinecolor\": \"#2a3f5f\", \"gridcolor\": \"white\", \"linecolor\": \"white\", \"minorgridcolor\": \"white\", \"startlinecolor\": \"#2a3f5f\"}, \"baxis\": {\"endlinecolor\": \"#2a3f5f\", \"gridcolor\": \"white\", \"linecolor\": \"white\", \"minorgridcolor\": \"white\", \"startlinecolor\": \"#2a3f5f\"}, \"type\": \"carpet\"}], \"choropleth\": [{\"colorbar\": {\"outlinewidth\": 0, \"ticks\": \"\"}, \"type\": \"choropleth\"}], \"contour\": [{\"colorbar\": {\"outlinewidth\": 0, \"ticks\": \"\"}, \"colorscale\": [[0.0, \"#0d0887\"], [0.1111111111111111, \"#46039f\"], [0.2222222222222222, \"#7201a8\"], [0.3333333333333333, \"#9c179e\"], [0.4444444444444444, \"#bd3786\"], [0.5555555555555556, \"#d8576b\"], [0.6666666666666666, \"#ed7953\"], [0.7777777777777778, \"#fb9f3a\"], [0.8888888888888888, \"#fdca26\"], [1.0, \"#f0f921\"]], \"type\": \"contour\"}], \"contourcarpet\": [{\"colorbar\": {\"outlinewidth\": 0, \"ticks\": \"\"}, \"type\": \"contourcarpet\"}], \"heatmap\": [{\"colorbar\": {\"outlinewidth\": 0, \"ticks\": \"\"}, \"colorscale\": [[0.0, \"#0d0887\"], [0.1111111111111111, \"#46039f\"], [0.2222222222222222, \"#7201a8\"], [0.3333333333333333, \"#9c179e\"], [0.4444444444444444, \"#bd3786\"], [0.5555555555555556, \"#d8576b\"], [0.6666666666666666, \"#ed7953\"], [0.7777777777777778, \"#fb9f3a\"], [0.8888888888888888, \"#fdca26\"], [1.0, \"#f0f921\"]], \"type\": \"heatmap\"}], \"heatmapgl\": [{\"colorbar\": {\"outlinewidth\": 0, \"ticks\": \"\"}, \"colorscale\": [[0.0, \"#0d0887\"], [0.1111111111111111, \"#46039f\"], [0.2222222222222222, \"#7201a8\"], [0.3333333333333333, \"#9c179e\"], [0.4444444444444444, \"#bd3786\"], [0.5555555555555556, \"#d8576b\"], [0.6666666666666666, \"#ed7953\"], [0.7777777777777778, \"#fb9f3a\"], [0.8888888888888888, \"#fdca26\"], [1.0, \"#f0f921\"]], \"type\": \"heatmapgl\"}], \"histogram\": [{\"marker\": {\"colorbar\": {\"outlinewidth\": 0, \"ticks\": \"\"}}, \"type\": \"histogram\"}], \"histogram2d\": [{\"colorbar\": {\"outlinewidth\": 0, \"ticks\": \"\"}, \"colorscale\": [[0.0, \"#0d0887\"], [0.1111111111111111, \"#46039f\"], [0.2222222222222222, \"#7201a8\"], [0.3333333333333333, \"#9c179e\"], [0.4444444444444444, \"#bd3786\"], [0.5555555555555556, \"#d8576b\"], [0.6666666666666666, \"#ed7953\"], [0.7777777777777778, \"#fb9f3a\"], [0.8888888888888888, \"#fdca26\"], [1.0, \"#f0f921\"]], \"type\": \"histogram2d\"}], \"histogram2dcontour\": [{\"colorbar\": {\"outlinewidth\": 0, \"ticks\": \"\"}, \"colorscale\": [[0.0, \"#0d0887\"], [0.1111111111111111, \"#46039f\"], [0.2222222222222222, \"#7201a8\"], [0.3333333333333333, \"#9c179e\"], [0.4444444444444444, \"#bd3786\"], [0.5555555555555556, \"#d8576b\"], [0.6666666666666666, \"#ed7953\"], [0.7777777777777778, \"#fb9f3a\"], [0.8888888888888888, \"#fdca26\"], [1.0, \"#f0f921\"]], \"type\": \"histogram2dcontour\"}], \"mesh3d\": [{\"colorbar\": {\"outlinewidth\": 0, \"ticks\": \"\"}, \"type\": \"mesh3d\"}], \"parcoords\": [{\"line\": {\"colorbar\": {\"outlinewidth\": 0, \"ticks\": \"\"}}, \"type\": \"parcoords\"}], \"pie\": [{\"automargin\": true, \"type\": \"pie\"}], \"scatter\": [{\"marker\": {\"colorbar\": {\"outlinewidth\": 0, \"ticks\": \"\"}}, \"type\": \"scatter\"}], \"scatter3d\": [{\"line\": {\"colorbar\": {\"outlinewidth\": 0, \"ticks\": \"\"}}, \"marker\": {\"colorbar\": {\"outlinewidth\": 0, \"ticks\": \"\"}}, \"type\": \"scatter3d\"}], \"scattercarpet\": [{\"marker\": {\"colorbar\": {\"outlinewidth\": 0, \"ticks\": \"\"}}, \"type\": \"scattercarpet\"}], \"scattergeo\": [{\"marker\": {\"colorbar\": {\"outlinewidth\": 0, \"ticks\": \"\"}}, \"type\": \"scattergeo\"}], \"scattergl\": [{\"marker\": {\"colorbar\": {\"outlinewidth\": 0, \"ticks\": \"\"}}, \"type\": \"scattergl\"}], \"scattermapbox\": [{\"marker\": {\"colorbar\": {\"outlinewidth\": 0, \"ticks\": \"\"}}, \"type\": \"scattermapbox\"}], \"scatterpolar\": [{\"marker\": {\"colorbar\": {\"outlinewidth\": 0, \"ticks\": \"\"}}, \"type\": \"scatterpolar\"}], \"scatterpolargl\": [{\"marker\": {\"colorbar\": {\"outlinewidth\": 0, \"ticks\": \"\"}}, \"type\": \"scatterpolargl\"}], \"scatterternary\": [{\"marker\": {\"colorbar\": {\"outlinewidth\": 0, \"ticks\": \"\"}}, \"type\": \"scatterternary\"}], \"surface\": [{\"colorbar\": {\"outlinewidth\": 0, \"ticks\": \"\"}, \"colorscale\": [[0.0, \"#0d0887\"], [0.1111111111111111, \"#46039f\"], [0.2222222222222222, \"#7201a8\"], [0.3333333333333333, \"#9c179e\"], [0.4444444444444444, \"#bd3786\"], [0.5555555555555556, \"#d8576b\"], [0.6666666666666666, \"#ed7953\"], [0.7777777777777778, \"#fb9f3a\"], [0.8888888888888888, \"#fdca26\"], [1.0, \"#f0f921\"]], \"type\": \"surface\"}], \"table\": [{\"cells\": {\"fill\": {\"color\": \"#EBF0F8\"}, \"line\": {\"color\": \"white\"}}, \"header\": {\"fill\": {\"color\": \"#C8D4E3\"}, \"line\": {\"color\": \"white\"}}, \"type\": \"table\"}]}, \"layout\": {\"annotationdefaults\": {\"arrowcolor\": \"#2a3f5f\", \"arrowhead\": 0, \"arrowwidth\": 1}, \"coloraxis\": {\"colorbar\": {\"outlinewidth\": 0, \"ticks\": \"\"}}, \"colorscale\": {\"diverging\": [[0, \"#8e0152\"], [0.1, \"#c51b7d\"], [0.2, \"#de77ae\"], [0.3, \"#f1b6da\"], [0.4, \"#fde0ef\"], [0.5, \"#f7f7f7\"], [0.6, \"#e6f5d0\"], [0.7, \"#b8e186\"], [0.8, \"#7fbc41\"], [0.9, \"#4d9221\"], [1, \"#276419\"]], \"sequential\": [[0.0, \"#0d0887\"], [0.1111111111111111, \"#46039f\"], [0.2222222222222222, \"#7201a8\"], [0.3333333333333333, \"#9c179e\"], [0.4444444444444444, \"#bd3786\"], [0.5555555555555556, \"#d8576b\"], [0.6666666666666666, \"#ed7953\"], [0.7777777777777778, \"#fb9f3a\"], [0.8888888888888888, \"#fdca26\"], [1.0, \"#f0f921\"]], \"sequentialminus\": [[0.0, \"#0d0887\"], [0.1111111111111111, \"#46039f\"], [0.2222222222222222, \"#7201a8\"], [0.3333333333333333, \"#9c179e\"], [0.4444444444444444, \"#bd3786\"], [0.5555555555555556, \"#d8576b\"], [0.6666666666666666, \"#ed7953\"], [0.7777777777777778, \"#fb9f3a\"], [0.8888888888888888, \"#fdca26\"], [1.0, \"#f0f921\"]]}, \"colorway\": [\"#636efa\", \"#EF553B\", \"#00cc96\", \"#ab63fa\", \"#FFA15A\", \"#19d3f3\", \"#FF6692\", \"#B6E880\", \"#FF97FF\", \"#FECB52\"], \"font\": {\"color\": \"#2a3f5f\"}, \"geo\": {\"bgcolor\": \"white\", \"lakecolor\": \"white\", \"landcolor\": \"#E5ECF6\", \"showlakes\": true, \"showland\": true, \"subunitcolor\": \"white\"}, \"hoverlabel\": {\"align\": \"left\"}, \"hovermode\": \"closest\", \"mapbox\": {\"style\": \"light\"}, \"paper_bgcolor\": \"white\", \"plot_bgcolor\": \"#E5ECF6\", \"polar\": {\"angularaxis\": {\"gridcolor\": \"white\", \"linecolor\": \"white\", \"ticks\": \"\"}, \"bgcolor\": \"#E5ECF6\", \"radialaxis\": {\"gridcolor\": \"white\", \"linecolor\": \"white\", \"ticks\": \"\"}}, \"scene\": {\"xaxis\": {\"backgroundcolor\": \"#E5ECF6\", \"gridcolor\": \"white\", \"gridwidth\": 2, \"linecolor\": \"white\", \"showbackground\": true, \"ticks\": \"\", \"zerolinecolor\": \"white\"}, \"yaxis\": {\"backgroundcolor\": \"#E5ECF6\", \"gridcolor\": \"white\", \"gridwidth\": 2, \"linecolor\": \"white\", \"showbackground\": true, \"ticks\": \"\", \"zerolinecolor\": \"white\"}, \"zaxis\": {\"backgroundcolor\": \"#E5ECF6\", \"gridcolor\": \"white\", \"gridwidth\": 2, \"linecolor\": \"white\", \"showbackground\": true, \"ticks\": \"\", \"zerolinecolor\": \"white\"}}, \"shapedefaults\": {\"line\": {\"color\": \"#2a3f5f\"}}, \"ternary\": {\"aaxis\": {\"gridcolor\": \"white\", \"linecolor\": \"white\", \"ticks\": \"\"}, \"baxis\": {\"gridcolor\": \"white\", \"linecolor\": \"white\", \"ticks\": \"\"}, \"bgcolor\": \"#E5ECF6\", \"caxis\": {\"gridcolor\": \"white\", \"linecolor\": \"white\", \"ticks\": \"\"}}, \"title\": {\"x\": 0.05}, \"xaxis\": {\"automargin\": true, \"gridcolor\": \"white\", \"linecolor\": \"white\", \"ticks\": \"\", \"title\": {\"standoff\": 15}, \"zerolinecolor\": \"white\", \"zerolinewidth\": 2}, \"yaxis\": {\"automargin\": true, \"gridcolor\": \"white\", \"linecolor\": \"white\", \"ticks\": \"\", \"title\": {\"standoff\": 15}, \"zerolinecolor\": \"white\", \"zerolinewidth\": 2}}}, \"title\": {\"text\": \"P vs 1/V\"}, \"width\": 700, \"xaxis\": {\"title\": {\"text\": \"$ {V (\\\\mathrm{L^{-1}})} $\"}}, \"yaxis\": {\"title\": {\"text\": \"$ {P (\\\\mathrm{atm})} $\"}}},\n",
              "                        {\"responsive\": true}\n",
              "                    ).then(function(){\n",
              "                            \n",
              "var gd = document.getElementById('4d679953-3a9a-491c-97f0-0e3c4ad886ef');\n",
              "var x = new MutationObserver(function (mutations, observer) {{\n",
              "        var display = window.getComputedStyle(gd).display;\n",
              "        if (!display || display === 'none') {{\n",
              "            console.log([gd, 'removed!']);\n",
              "            Plotly.purge(gd);\n",
              "            observer.disconnect();\n",
              "        }}\n",
              "}});\n",
              "\n",
              "// Listen for the removal of the full notebook cells\n",
              "var notebookContainer = gd.closest('#notebook-container');\n",
              "if (notebookContainer) {{\n",
              "    x.observe(notebookContainer, {childList: true});\n",
              "}}\n",
              "\n",
              "// Listen for the clearing of the current output cell\n",
              "var outputEl = gd.closest('.output');\n",
              "if (outputEl) {{\n",
              "    x.observe(outputEl, {childList: true});\n",
              "}}\n",
              "\n",
              "                        })\n",
              "                };\n",
              "                \n",
              "            </script>\n",
              "        </div>\n",
              "</body>\n",
              "</html>"
            ]
          },
          "metadata": {}
        }
      ]
    },
    {
      "cell_type": "markdown",
      "metadata": {
        "id": "7YEpsNUAZJhw"
      },
      "source": [
        "*Solution exercise 2:* From the regression equation, you make Y = 0 and then, you find the temperature.\n"
      ]
    },
    {
      "cell_type": "code",
      "metadata": {
        "id": "AhcC8pVvZSJE",
        "colab": {
          "base_uri": "https://localhost:8080/"
        },
        "outputId": "55c42c69-3397-48ca-cb36-922f6e18be00"
      },
      "source": [
        "import numpy as np                         \n",
        "from scipy.stats import linregress   \n",
        "\n",
        "T = np.array([-45, -25, -10, 0, 10, 25, 45, 60, 80])\n",
        "V = np.array([18.7371, 20.3799, 21.6120, 22.4334, 23.2548, 24.4869, 26.1297, 27.3618,29.0046])\n",
        "linregress(T, V)\n",
        "\n",
        "slope, intercept, rvalue, pvalue, stderr = linregress(T, V) \n",
        "sr=round(slope, 5)                       \n",
        "inr=round(intercept, 5)\n",
        "Rr=round(rvalue, 4)\n",
        "print( \"V =\", sr,\"(T) +\",inr, \", R =\", Rr)"
      ],
      "execution_count": null,
      "outputs": [
        {
          "output_type": "stream",
          "name": "stdout",
          "text": [
            "V = 0.08214 (T) + 22.4334 , R = 1.0\n"
          ]
        }
      ]
    },
    {
      "cell_type": "code",
      "metadata": {
        "id": "EqucmgleZWjW",
        "colab": {
          "base_uri": "https://localhost:8080/"
        },
        "outputId": "9e0c9ad7-4519-4998-a6c1-a6e094c818af"
      },
      "source": [
        "TVo=round(-22.4334/0.08214, 2)\n",
        "print(\"T(absolute zero) =\",TVo,\" Celsius\")"
      ],
      "execution_count": null,
      "outputs": [
        {
          "output_type": "stream",
          "name": "stdout",
          "text": [
            "T(absolute zero) = -273.11  Celsius\n"
          ]
        }
      ]
    },
    {
      "cell_type": "markdown",
      "metadata": {
        "id": "PLTYP4uVbNtq"
      },
      "source": [
        "*Solution exercise 3:* We will assume that the volume of the gas will be zero at the temperature of absolute zero:\n",
        "\n",
        "$\\small 0=V_{o}(1+\\alpha T_{(zero)}) \\kern 2pc (2)$\n",
        "\n",
        "Where $T_{(cero)}$ is the temperature at absolute zero (degree Celsius). The $T_{(zero)}$ value is obtained from equation 2: \n",
        "\n",
        "$\\small T_{(zero)}=-1/\\alpha \\kern 2pc (3)$\n",
        "\n",
        "Now, we must find the value of $\\small \\alpha$. The behavior of gases can approximate to the ideal gas at low pressures (in the limit $\\small P \\rightarrow0)$ and in this limit, we will find the best value of $\\small \\alpha$. If you need it, you can review  <a href=\"https://github.com/wavallejol/ColabChem/blob/main/Session2_English.ipynb\">session 2</a>."
      ]
    },
    {
      "cell_type": "code",
      "metadata": {
        "id": "eKjQoBUKbmJ4",
        "colab": {
          "base_uri": "https://localhost:8080/"
        },
        "outputId": "88ebd078-9295-48ee-f4ac-5896ebe4a3b6"
      },
      "source": [
        "import numpy as np                         \n",
        "from scipy.stats import linregress  \n",
        "\n",
        "P = np.array([749.7, 599.6, 333.1, 98.6])\n",
        "alfa = np.array([3.6717e-3, 3.6697e-3, 3.6665e-3, 3.6643e-3])\n",
        "linregress(P, alfa)\n",
        "\n",
        "slope, intercept, rvalue, pvalue, stderr = linregress(P, alfa) \n",
        "sr=round(slope, 10)                       \n",
        "inr=round(intercept, 6)\n",
        "Rr=round(rvalue, 4)\n",
        "print( \"alfa(P) =\", sr,\"(P) +\",inr, \", R =\", Rr)\n",
        "print(\"alfa(0) = \", inr)\n",
        "T_alfa=round(-1/inr,2)\n",
        "print(\"T(absolute zero)=\",T_alfa,\" Celsius\")"
      ],
      "execution_count": 1,
      "outputs": [
        {
          "output_type": "stream",
          "name": "stdout",
          "text": [
            "alfa(P) = 1.14e-08 (P) + 0.003663 , R = 0.9976\n",
            "alfa(0) =  0.003663\n",
            "T(absolute zero)= -273.0  Celsius\n"
          ]
        }
      ]
    },
    {
      "cell_type": "markdown",
      "metadata": {
        "id": "u1ez2eRjbwuk"
      },
      "source": [
        "*Solution exercise 4:* (i) We import the libraries that we will use: `math`,` numpy` and `matplotlib.pyplot`. (ii) We create the data matrix for the pressure values ​​with the function `np.arage ()`, (iii) We define the two equations of $ \\small Z (P) $ at each temperature, and (iii) the parameters of plots using `plt` function."
      ]
    },
    {
      "cell_type": "code",
      "metadata": {
        "id": "SmoHKs3CcaNL",
        "colab": {
          "base_uri": "https://localhost:8080/",
          "height": 279
        },
        "outputId": "3cee4230-8ece-494d-8714-81b59e32ca30"
      },
      "source": [
        "import numpy as np\n",
        "import matplotlib.pyplot as plt\n",
        "P= np.arange(0, 1100, 1)\n",
        "B=-5.74e-3\n",
        "B1=1.89e-4\n",
        "C=6.86e-6\n",
        "C1=2.75e-7\n",
        "D=1.8e-8\n",
        "D1=1.44e-10\n",
        "Z=1+B*P+C*P**2+D*P**3\n",
        "Z2=1+B1*P+C1*P**2+D1*P**3\n",
        "plt.xlabel(\"Pressure (atm)\")\n",
        "plt.ylim(0,28)\n",
        "plt.xlim(0,1100)\n",
        "plt.ylabel(\"Z\")\n",
        "plt.plot(P,Z,\"r\", label=\"100K\")\n",
        "plt.plot(P,Z2, \"m\",label=\"1100K\")\n",
        "plt.legend()\n",
        "plt.show ()"
      ],
      "execution_count": null,
      "outputs": [
        {
          "output_type": "display_data",
          "data": {
            "image/png": "[encoded data removed]",
            "text/plain": [
              "<Figure size 432x288 with 1 Axes>"
            ]
          },
          "metadata": {
            "needs_background": "light"
          }
        }
      ]
    },
    {
      "cell_type": "markdown",
      "metadata": {
        "id": "epENViPMwqab"
      },
      "source": [
        "*Solution exercise 4:* Option 2.\n",
        "\n",
        "We utilize the `plotly` library."
      ]
    },
    {
      "cell_type": "code",
      "metadata": {
        "id": "2XMNehFExAbV",
        "colab": {
          "base_uri": "https://localhost:8080/",
          "height": 517
        },
        "outputId": "e90b1e28-69c5-4c03-8372-26e30a069059"
      },
      "source": [
        "import numpy as np\n",
        "import plotly.graph_objects as go                     \n",
        "P= np.arange(0, 1100, 1)                             #we define parameters and equations\n",
        "B=-5.74e-3\n",
        "B1=1.89e-4\n",
        "C=6.86e-6\n",
        "C1=2.75e-7\n",
        "D=1.8e-8\n",
        "D1=1.44e-10\n",
        "Z=1+B*P+C*P**2+D*P**3\n",
        "Z2=1+B1*P+C1*P**2+D1*P**3\n",
        "\n",
        "fig = go.Figure()                                   #we create the figure\n",
        "fig.add_trace(go.Scatter(x=P, y=Z,\n",
        "                    mode='lines',\n",
        "                    name='100 K'))                  #we add the first curve \n",
        "fig.add_trace(go.Scatter(x=P, y=Z2,\n",
        "                    mode='lines',\n",
        "                    name='1100 K'))                 #we add the second curve \n",
        "fig.update_layout(\n",
        "    title=\"Z vs P\",\n",
        "    xaxis_title=r\"$ {P (atm)} $\",\n",
        "    yaxis_title=r\"$ {Z } $\",\n",
        "    width=700, height=500\n",
        ")                                                   #we define the chart parameters\n",
        "fig.show()"
      ],
      "execution_count": null,
      "outputs": [
        {
          "output_type": "display_data",
          "data": {
            "text/html": [
              "<html>\n",
              "<head><meta charset=\"utf-8\" /></head>\n",
              "<body>\n",
              "    <div>\n",
              "            <script src=\"https://cdnjs.cloudflare.com/ajax/libs/mathjax/2.7.5/MathJax.js?config=TeX-AMS-MML_SVG\"></script><script type=\"text/javascript\">if (window.MathJax) {MathJax.Hub.Config({SVG: {font: \"STIX-Web\"}});}</script>\n",
              "                <script type=\"text/javascript\">window.PlotlyConfig = {MathJaxConfig: 'local'};</script>\n",
              "        <script src=\"https://cdn.plot.ly/plotly-latest.min.js\"></script>    \n",
              "            <div id=\"538bb305-2674-4325-87e7-a0bff536d2ed\" class=\"plotly-graph-div\" style=\"height:500px; width:700px;\"></div>\n",
              "            <script type=\"text/javascript\">\n",
              "                \n",
              "                    window.PLOTLYENV=window.PLOTLYENV || {};\n",
              "                    \n",
              "                if (document.getElementById(\"538bb305-2674-4325-87e7-a0bff536d2ed\")) {\n",
              "                    Plotly.newPlot(\n",
              "                        '538bb305-2674-4325-87e7-a0bff536d2ed',\n",
              "                        [{\"mode\": \"lines\", \"name\": \"100 K\", \"type\": \"scatter\", \"x\": [0, 1, 2, 3, 4, 5, 6, 7, 8, 9, 10, 11, 12, 13, 14, 15, 16, 17, 18, 19, 20, 21, 22, 23, 24, 25, 26, 27, 28, 29, 30, 31, 32, 33, 34, 35, 36, 37, 38, 39, 40, 41, 42, 43, 44, 45, 46, 47, 48, 49, 50, 51, 52, 53, 54, 55, 56, 57, 58, 59, 60, 61, 62, 63, 64, 65, 66, 67, 68, 69, 70, 71, 72, 73, 74, 75, 76, 77, 78, 79, 80, 81, 82, 83, 84, 85, 86, 87, 88, 89, 90, 91, 92, 93, 94, 95, 96, 97, 98, 99, 100, 101, 102, 103, 104, 105, 106, 107, 108, 109, 110, 111, 112, 113, 114, 115, 116, 117, 118, 119, 120, 121, 122, 123, 124, 125, 126, 127, 128, 129, 130, 131, 132, 133, 134, 135, 136, 137, 138, 139, 140, 141, 142, 143, 144, 145, 146, 147, 148, 149, 150, 151, 152, 153, 154, 155, 156, 157, 158, 159, 160, 161, 162, 163, 164, 165, 166, 167, 168, 169, 170, 171, 172, 173, 174, 175, 176, 177, 178, 179, 180, 181, 182, 183, 184, 185, 186, 187, 188, 189, 190, 191, 192, 193, 194, 195, 196, 197, 198, 199, 200, 201, 202, 203, 204, 205, 206, 207, 208, 209, 210, 211, 212, 213, 214, 215, 216, 217, 218, 219, 220, 221, 222, 223, 224, 225, 226, 227, 228, 229, 230, 231, 232, 233, 234, 235, 236, 237, 238, 239, 240, 241, 242, 243, 244, 245, 246, 247, 248, 249, 250, 251, 252, 253, 254, 255, 256, 257, 258, 259, 260, 261, 262, 263, 264, 265, 266, 267, 268, 269, 270, 271, 272, 273, 274, 275, 276, 277, 278, 279, 280, 281, 282, 283, 284, 285, 286, 287, 288, 289, 290, 291, 292, 293, 294, 295, 296, 297, 298, 299, 300, 301, 302, 303, 304, 305, 306, 307, 308, 309, 310, 311, 312, 313, 314, 315, 316, 317, 318, 319, 320, 321, 322, 323, 324, 325, 326, 327, 328, 329, 330, 331, 332, 333, 334, 335, 336, 337, 338, 339, 340, 341, 342, 343, 344, 345, 346, 347, 348, 349, 350, 351, 352, 353, 354, 355, 356, 357, 358, 359, 360, 361, 362, 363, 364, 365, 366, 367, 368, 369, 370, 371, 372, 373, 374, 375, 376, 377, 378, 379, 380, 381, 382, 383, 384, 385, 386, 387, 388, 389, 390, 391, 392, 393, 394, 395, 396, 397, 398, 399, 400, 401, 402, 403, 404, 405, 406, 407, 408, 409, 410, 411, 412, 413, 414, 415, 416, 417, 418, 419, 420, 421, 422, 423, 424, 425, 426, 427, 428, 429, 430, 431, 432, 433, 434, 435, 436, 437, 438, 439, 440, 441, 442, 443, 444, 445, 446, 447, 448, 449, 450, 451, 452, 453, 454, 455, 456, 457, 458, 459, 460, 461, 462, 463, 464, 465, 466, 467, 468, 469, 470, 471, 472, 473, 474, 475, 476, 477, 478, 479, 480, 481, 482, 483, 484, 485, 486, 487, 488, 489, 490, 491, 492, 493, 494, 495, 496, 497, 498, 499, 500, 501, 502, 503, 504, 505, 506, 507, 508, 509, 510, 511, 512, 513, 514, 515, 516, 517, 518, 519, 520, 521, 522, 523, 524, 525, 526, 527, 528, 529, 530, 531, 532, 533, 534, 535, 536, 537, 538, 539, 540, 541, 542, 543, 544, 545, 546, 547, 548, 549, 550, 551, 552, 553, 554, 555, 556, 557, 558, 559, 560, 561, 562, 563, 564, 565, 566, 567, 568, 569, 570, 571, 572, 573, 574, 575, 576, 577, 578, 579, 580, 581, 582, 583, 584, 585, 586, 587, 588, 589, 590, 591, 592, 593, 594, 595, 596, 597, 598, 599, 600, 601, 602, 603, 604, 605, 606, 607, 608, 609, 610, 611, 612, 613, 614, 615, 616, 617, 618, 619, 620, 621, 622, 623, 624, 625, 626, 627, 628, 629, 630, 631, 632, 633, 634, 635, 636, 637, 638, 639, 640, 641, 642, 643, 644, 645, 646, 647, 648, 649, 650, 651, 652, 653, 654, 655, 656, 657, 658, 659, 660, 661, 662, 663, 664, 665, 666, 667, 668, 669, 670, 671, 672, 673, 674, 675, 676, 677, 678, 679, 680, 681, 682, 683, 684, 685, 686, 687, 688, 689, 690, 691, 692, 693, 694, 695, 696, 697, 698, 699, 700, 701, 702, 703, 704, 705, 706, 707, 708, 709, 710, 711, 712, 713, 714, 715, 716, 717, 718, 719, 720, 721, 722, 723, 724, 725, 726, 727, 728, 729, 730, 731, 732, 733, 734, 735, 736, 737, 738, 739, 740, 741, 742, 743, 744, 745, 746, 747, 748, 749, 750, 751, 752, 753, 754, 755, 756, 757, 758, 759, 760, 761, 762, 763, 764, 765, 766, 767, 768, 769, 770, 771, 772, 773, 774, 775, 776, 777, 778, 779, 780, 781, 782, 783, 784, 785, 786, 787, 788, 789, 790, 791, 792, 793, 794, 795, 796, 797, 798, 799, 800, 801, 802, 803, 804, 805, 806, 807, 808, 809, 810, 811, 812, 813, 814, 815, 816, 817, 818, 819, 820, 821, 822, 823, 824, 825, 826, 827, 828, 829, 830, 831, 832, 833, 834, 835, 836, 837, 838, 839, 840, 841, 842, 843, 844, 845, 846, 847, 848, 849, 850, 851, 852, 853, 854, 855, 856, 857, 858, 859, 860, 861, 862, 863, 864, 865, 866, 867, 868, 869, 870, 871, 872, 873, 874, 875, 876, 877, 878, 879, 880, 881, 882, 883, 884, 885, 886, 887, 888, 889, 890, 891, 892, 893, 894, 895, 896, 897, 898, 899, 900, 901, 902, 903, 904, 905, 906, 907, 908, 909, 910, 911, 912, 913, 914, 915, 916, 917, 918, 919, 920, 921, 922, 923, 924, 925, 926, 927, 928, 929, 930, 931, 932, 933, 934, 935, 936, 937, 938, 939, 940, 941, 942, 943, 944, 945, 946, 947, 948, 949, 950, 951, 952, 953, 954, 955, 956, 957, 958, 959, 960, 961, 962, 963, 964, 965, 966, 967, 968, 969, 970, 971, 972, 973, 974, 975, 976, 977, 978, 979, 980, 981, 982, 983, 984, 985, 986, 987, 988, 989, 990, 991, 992, 993, 994, 995, 996, 997, 998, 999, 1000, 1001, 1002, 1003, 1004, 1005, 1006, 1007, 1008, 1009, 1010, 1011, 1012, 1013, 1014, 1015, 1016, 1017, 1018, 1019, 1020, 1021, 1022, 1023, 1024, 1025, 1026, 1027, 1028, 1029, 1030, 1031, 1032, 1033, 1034, 1035, 1036, 1037, 1038, 1039, 1040, 1041, 1042, 1043, 1044, 1045, 1046, 1047, 1048, 1049, 1050, 1051, 1052, 1053, 1054, 1055, 1056, 1057, 1058, 1059, 1060, 1061, 1062, 1063, 1064, 1065, 1066, 1067, 1068, 1069, 1070, 1071, 1072, 1073, 1074, 1075, 1076, 1077, 1078, 1079, 1080, 1081, 1082, 1083, 1084, 1085, 1086, 1087, 1088, 1089, 1090, 1091, 1092, 1093, 1094, 1095, 1096, 1097, 1098, 1099], \"y\": [1.0, 0.9942668780000001, 0.988547584, 0.982842226, 0.9771509119999999, 0.97147375, 0.9658108479999999, 0.9601623140000001, 0.954528256, 0.948908782, 0.9433039999999999, 0.937714018, 0.9321389439999999, 0.9265788859999999, 0.921033952, 0.91550425, 0.909989888, 0.904490974, 0.8990076160000001, 0.893539922, 0.888088, 0.8826519580000001, 0.8772319040000001, 0.871827946, 0.866440192, 0.86106875, 0.855713728, 0.8503752339999999, 0.845053376, 0.839748262, 0.83446, 0.8291886980000001, 0.8239344639999999, 0.818697406, 0.813477632, 0.8082752499999999, 0.803090368, 0.7979230939999999, 0.7927735360000001, 0.7876418020000001, 0.782528, 0.777432238, 0.7723546240000001, 0.7672952659999999, 0.762254272, 0.75723175, 0.7522278079999999, 0.7472425540000001, 0.742276096, 0.7373285419999999, 0.7323999999999999, 0.727490578, 0.7226003839999999, 0.7177295260000001, 0.7128781120000001, 0.70804625, 0.7032340480000001, 0.6984416139999999, 0.693669056, 0.688916482, 0.684184, 0.6794717180000001, 0.674779744, 0.670108186, 0.665457152, 0.66082675, 0.6562170879999999, 0.651628274, 0.647060416, 0.642513622, 0.637988, 0.633483658, 0.6290007039999999, 0.624539246, 0.620099392, 0.6156812499999998, 0.611284928, 0.606910534, 0.602558176, 0.598227962, 0.59392, 0.5896343980000001, 0.5853712640000001, 0.5811307059999999, 0.576912832, 0.57271775, 0.568545568, 0.564396394, 0.560270336, 0.556167502, 0.5520879999999999, 0.548031938, 0.543999424, 0.539990566, 0.5360054719999999, 0.53204425, 0.528107008, 0.524193854, 0.520304896, 0.516440242, 0.5126, 0.5087842779999999, 0.504993184, 0.5012268259999999, 0.49748531199999996, 0.49376875, 0.4900772480000001, 0.4864109139999999, 0.482769856, 0.479154182, 0.47556399999999993, 0.47199941799999995, 0.468460544, 0.4649474859999999, 0.46146035199999996, 0.45799924999999997, 0.454564288, 0.4511555739999999, 0.447773216, 0.444417322, 0.4410879999999999, 0.4377853579999999, 0.434509504, 0.4312605459999999, 0.42803859199999994, 0.42484374999999996, 0.42167612800000004, 0.41853583399999994, 0.41542297599999994, 0.41233766200000005, 0.40927999999999987, 0.406250098, 0.403248064, 0.400274006, 0.397328032, 0.39441024999999996, 0.39152076799999996, 0.3886596939999999, 0.38582713599999996, 0.383023202, 0.3802479999999999, 0.377501638, 0.374784224, 0.372095866, 0.3694366719999999, 0.36680674999999996, 0.36420620800000003, 0.3616351539999999, 0.3590936959999999, 0.35658194200000004, 0.35409999999999986, 0.35164797799999997, 0.34922598399999993, 0.346834126, 0.34447251199999995, 0.34214124999999995, 0.339840448, 0.3375702139999999, 0.33533065599999995, 0.3331218819999999, 0.3309439999999999, 0.32879711799999994, 0.32668134399999993, 0.324596786, 0.32254355199999996, 0.32052174999999994, 0.318531488, 0.3165728739999999, 0.3146460159999999, 0.31275102199999993, 0.310888, 0.30905705799999994, 0.307258304, 0.305491846, 0.3037577919999999, 0.30205625, 0.300387328, 0.29875113399999986, 0.29714777600000003, 0.29557736199999995, 0.2940399999999999, 0.292535798, 0.291064864, 0.28962730599999986, 0.288223232, 0.28685274999999993, 0.2855159679999999, 0.284212994, 0.2829439359999999, 0.2817089019999999, 0.280508, 0.2793413379999999, 0.278209024, 0.27711116599999996, 0.2760478719999999, 0.27501925000000005, 0.27402540799999997, 0.27306645399999985, 0.27214249600000007, 0.2712536419999999, 0.27039999999999986, 0.269581678, 0.2687987839999999, 0.26805142599999987, 0.26733971200000006, 0.26666375, 0.2660236479999999, 0.26541951399999997, 0.26485145599999993, 0.26431958199999983, 0.26382399999999995, 0.2633648179999999, 0.26294214400000004, 0.26255608599999997, 0.2622067519999999, 0.26189425000000005, 0.261618688, 0.2613801739999999, 0.26117881600000004, 0.2610147219999999, 0.2608879999999999, 0.26079875799999996, 0.26074710399999995, 0.26073314599999986, 0.260756992, 0.26081874999999993, 0.2609185279999998, 0.261056434, 0.26123257599999994, 0.261447062, 0.26169999999999993, 0.2619914979999999, 0.262321664, 0.26269060599999994, 0.26309843199999994, 0.26354525, 0.2640311679999999, 0.26455629399999986, 0.26512073599999997, 0.2657246019999999, 0.2663679999999999, 0.267051038, 0.2677738239999999, 0.26853646599999986, 0.26933907199999996, 0.2701817499999999, 0.2710646079999998, 0.27198775399999997, 0.2729512959999999, 0.27395534200000005, 0.27499999999999997, 0.2760853779999999, 0.27721158400000007, 0.2783787259999999, 0.2795869119999999, 0.28083625, 0.28212684799999993, 0.28345881399999984, 0.284832256, 0.28624728199999994, 0.28770399999999985, 0.28920251799999996, 0.2907429439999999, 0.29232538599999985, 0.29394995199999996, 0.29561674999999993, 0.29732588800000004, 0.29907747399999995, 0.3008716159999999, 0.30270842200000003, 0.30458799999999997, 0.3065104579999999, 0.308475904, 0.3104844459999999, 0.3125361919999998, 0.31463125000000003, 0.3167697279999999, 0.3189517339999998, 0.321177376, 0.3234467619999999, 0.3257599999999999, 0.32811719799999994, 0.33051846399999996, 0.3329639059999998, 0.33545363199999995, 0.3379877499999999, 0.34056636799999995, 0.34318959399999993, 0.34585753599999985, 0.348570302, 0.351328, 0.3541307379999999, 0.356978624, 0.3598717659999999, 0.3628102719999998, 0.36579424999999993, 0.36882380799999986, 0.37189905399999984, 0.37502009599999997, 0.37818704199999986, 0.38139999999999985, 0.38465907799999993, 0.3879643839999999, 0.39131602600000004, 0.39471411199999995, 0.3981587499999998, 0.40165004800000004, 0.405188114, 0.4087730559999999, 0.412404982, 0.4160839999999999, 0.41981021799999985, 0.423583744, 0.4274046859999999, 0.4312731519999998, 0.43518924999999997, 0.43915308799999997, 0.4431647739999999, 0.44722441599999996, 0.45133212199999984, 0.4554879999999999, 0.45969215799999996, 0.4639447039999999, 0.468245746, 0.4725953919999999, 0.4769937499999999, 0.48144092800000005, 0.4859370339999999, 0.4904821759999999, 0.495076462, 0.49971999999999983, 0.5044128979999998, 0.509155264, 0.5139472059999999, 0.5187888319999998, 0.52368025, 0.5286215679999998, 0.5336128939999998, 0.5386543359999999, 0.5437460019999999, 0.548888, 0.554080438, 0.5593234239999999, 0.564617066, 0.5699614719999999, 0.5753567499999999, 0.580803008, 0.5863003539999999, 0.5918488959999999, 0.597448742, 0.6031000000000001, 0.6088027779999998, 0.614557184, 0.6203633260000001, 0.6262213119999998, 0.6321312499999999, 0.638093248, 0.6441074139999997, 0.650173856, 0.6562926820000001, 0.6624639999999998, 0.6686879179999999, 0.674964544, 0.6812939859999998, 0.6876763519999999, 0.69411175, 0.7006002879999997, 0.7071420739999998, 0.7137372160000001, 0.7203858219999998, 0.7270879999999998, 0.7338438580000001, 0.7406535039999997, 0.7475170459999998, 0.754434592, 0.7614062499999997, 0.7684321279999998, 0.775512334, 0.7826469759999997, 0.7898361619999998, 0.7970799999999999, 0.8043785979999997, 0.8117320639999996, 0.8191405059999999, 0.8266040320000001, 0.8341227499999999, 0.841696768, 0.8493261940000001, 0.8570111359999999, 0.864751702, 0.8725480000000001, 0.8804001379999997, 0.888308224, 0.896272366, 0.9042926719999997, 0.9123692499999998, 0.920502208, 0.9286916539999999, 0.9369376959999998, 0.945240442, 0.9535999999999998, 0.962016478, 0.9704899839999999, 0.9790206259999996, 0.9876085119999998, 0.9962537499999999, 1.0049564479999997, 1.0137167139999999, 1.0225346560000002, 1.0314103819999998, 1.040344, 1.049335618, 1.0583853439999997, 1.0674932859999997, 1.076659552, 1.0858842499999997, 1.0951674879999997, 1.104509374, 1.1139100159999997, 1.1233695219999997, 1.132888, 1.1424655580000003, 1.1521023039999998, 1.1617983459999999, 1.171553792, 1.1813687499999999, 1.1912433279999999, 1.2011776340000002, 1.2111717759999998, 1.2212258619999998, 1.23134, 1.2415142979999996, 1.251748864, 1.2620438059999999, 1.2723992319999997, 1.28281525, 1.2932919680000001, 1.3038294939999997, 1.3144279359999997, 1.325087402, 1.3358079999999999, 1.3465898379999999, 1.3574330239999999, 1.3683376659999997, 1.379303872, 1.39033175, 1.4014214079999996, 1.4125729539999998, 1.423786496, 1.4350621419999996, 1.4464, 1.4578001779999998, 1.4692627839999997, 1.4807879259999999, 1.492375712, 1.5040262499999997, 1.5157396479999998, 1.527516014, 1.539355456, 1.551258082, 1.5632239999999997, 1.5752533180000001, 1.5873461439999998, 1.5995025859999998, 1.611722752, 1.6240067499999997, 1.636354688, 1.6487666740000002, 1.661242816, 1.6737832219999997, 1.686388, 1.6990572579999996, 1.7117911039999998, 1.724589646, 1.7374529919999997, 1.7503812499999998, 1.763374528, 1.7764329339999996, 1.7895565759999998, 1.802745562, 1.8159999999999998, 1.8293199980000001, 1.8427056640000001, 1.8561571059999997, 1.8696744319999996, 1.88325775, 1.8969071679999998, 1.910622794, 1.9244047359999998, 1.9382531019999998, 1.9521679999999997, 1.966149538, 1.9801978239999996, 1.9943129659999999, 2.0084950719999997, 2.0227442499999997, 2.037060608, 2.0514442539999997, 2.065895296, 2.0804138419999996, 2.0949999999999998, 2.109653878, 2.124375584, 2.139165226, 2.1540229120000003, 2.1689487499999993, 2.1839428479999996, 2.199005314, 2.2141362559999997, 2.2293357819999997, 2.244604, 2.2599410179999997, 2.275346944, 2.2908218860000003, 2.3063659519999993, 2.32197925, 2.337661888, 2.3534139739999995, 2.369235616, 2.3851269219999995, 2.4010879999999997, 2.4171189579999997, 2.4332199039999995, 2.449390946, 2.4656321919999997, 2.4819437499999997, 2.4983257279999997, 2.5147782339999996, 2.531301376, 2.547895262, 2.56456, 2.581295698, 2.598102464, 2.6149804059999995, 2.631929632, 2.6489502500000004, 2.666042368, 2.683206094, 2.700441536, 2.717748802, 2.735128, 2.752579238, 2.7701026239999997, 2.787698266, 2.805366272, 2.8231067499999996, 2.8409198079999998, 2.858805554, 2.8767640959999996, 2.8947955419999998, 2.9129, 2.9310775779999996, 2.9493283839999997, 2.9676525259999997, 2.9860501119999996, 3.00452125, 3.023066048, 3.041684614, 3.0603770559999997, 3.079143482, 3.097984, 3.116898718, 3.1358877439999997, 3.1549511859999995, 3.174089152, 3.19330175, 3.2125890879999996, 3.2319512739999996, 3.2513884159999997, 3.2709006219999996, 3.290488, 3.310150658, 3.3298887039999996, 3.3497022459999997, 3.369591392, 3.38955625, 3.4095969279999996, 3.429713534, 3.449906176, 3.4701749619999998, 3.49052, 3.510941398, 3.531439264, 3.552013706, 3.572664832, 3.59339275, 3.614197568, 3.635079394, 3.6560383359999995, 3.677074502, 3.6981879999999996, 3.7193789379999993, 3.7406474239999996, 3.7619935659999997, 3.7834174719999996, 3.8049192499999998, 3.826499008, 3.8481568539999995, 3.8698928959999996, 3.891707242, 3.9135999999999997, 3.935571278, 3.9576211839999997, 3.9797498259999995, 4.001957312, 4.02424375, 4.046609248, 4.0690539139999995, 4.091577856, 4.114181182, 4.136863999999999, 4.159626418, 4.182468544000001, 4.205390485999999, 4.228392352, 4.251474249999999, 4.274636288, 4.297878574, 4.321201216, 4.3446043219999995, 4.368088, 4.391652358, 4.415297504, 4.439023546, 4.4628305919999995, 4.48671875, 4.510688128, 4.534738834, 4.558870976, 4.583084661999999, 4.60738, 4.631757098, 4.6562160640000005, 4.680757006, 4.705380032, 4.73008525, 4.754872768, 4.779742693999999, 4.804695135999999, 4.829730202, 4.8548480000000005, 4.880048638, 4.905332224, 4.930698866, 4.956148671999999, 4.98168175, 5.007298208, 5.0329981539999995, 5.058781696, 5.084648941999999, 5.1106, 5.136634978, 5.162753984, 5.188957126, 5.215244512, 5.24161625, 5.268072448, 5.294613214, 5.321238656, 5.347948882, 5.374744, 5.401624117999999, 5.428589343999999, 5.455639786, 5.482775552, 5.509996749999999, 5.537303487999999, 5.564695874, 5.5921740159999995, 5.619738022, 5.647387999999999, 5.675124058, 5.702946303999999, 5.730854846, 5.7588497919999995, 5.786931249999999, 5.815099328, 5.843354134, 5.871695775999999, 5.900124362, 5.92864, 5.957242797999999, 5.9859328640000005, 6.0147103060000005, 6.043575232, 6.07252775, 6.1015679679999995, 6.130695993999999, 6.159911936, 6.189215902, 6.218608, 6.248088338, 6.277657024, 6.307314165999999, 6.337059871999999, 6.36689425, 6.396817408, 6.426829454, 6.456930496, 6.487120642, 6.5174, 6.547768678, 6.578226784, 6.608774426, 6.639411712, 6.67013875, 6.700955648, 6.7318625139999995, 6.762859455999999, 6.793946582, 6.825124, 6.856391817999999, 6.887750144, 6.919199086, 6.9507387519999995, 6.98236925, 7.014090688, 7.045903173999999, 7.077806816000001, 7.109801722, 7.141888, 7.174065758, 7.206335104, 7.238696146, 7.2711489920000005, 7.303693749999999, 7.3363305279999995, 7.3690594339999995, 7.401880576, 7.434794062, 7.4678, 7.500898498, 7.534089664, 7.567373605999999, 7.600750432, 7.634220249999999, 7.667783168, 7.701439294, 7.735188736, 7.769031602, 7.802968, 7.836998037999999, 7.871121824, 7.905339465999999, 7.939651071999999, 7.97405675, 8.008556608, 8.043150754, 8.077839296, 8.112622342, 8.147499999999999, 8.182472378, 8.217539583999999, 8.252701726, 8.287958912, 8.32331125, 8.358758847999999, 8.394301813999999, 8.429940256, 8.465674281999998, 8.501503999999999, 8.537429518, 8.573450944, 8.609568386, 8.645781951999998, 8.682091749999998, 8.718497887999998, 8.755000474, 8.791599616, 8.828295422, 8.865088, 8.901977458000001, 8.938963904000001, 8.976047445999999, 9.013228192, 9.050506249999998, 9.087881728, 9.125354733999998, 9.162925376, 9.200593761999999, 9.23836, 9.276224198000001, 9.314186463999999, 9.352246906, 9.390405632, 9.42866275, 9.467018368, 9.505472593999999, 9.544025536, 9.582677302, 9.621427999999998, 9.660277737999998, 9.699226624, 9.738274766, 9.777422271999999, 9.81666925, 9.856015807999999, 9.895462054, 9.935008096, 9.974654042, 10.014399999999998, 10.054246078, 10.094192384, 10.134239026, 10.174386111999999, 10.214633749999999, 10.254982047999999, 10.295431114, 10.335981055999998, 10.376631982, 10.417383999999998, 10.458237218, 10.499191743999999, 10.540247685999999, 10.581405151999999, 10.62266425, 10.664025088, 10.705487774, 10.747052415999999, 10.788719122, 10.830487999999999, 10.872359157999998, 10.914332704, 10.956408746, 10.998587392, 11.04086875, 11.083252927999999, 11.125740034, 11.168330176, 11.211023462, 11.25382, 11.296719898, 11.339723264, 11.382830206, 11.426040832, 11.46935525, 11.512773568, 11.556295894, 11.599922335999999, 11.643653001999999, 11.687487999999998, 11.731427438, 11.775471424000001, 11.819620065999999, 11.863873471999998, 11.908231749999999, 11.952695008, 11.997263353999998, 12.041936896, 12.086715741999999, 12.131599999999999, 12.176589778, 12.221685183999998, 12.266886325999998, 12.312193312000002, 12.35760625, 12.403125247999998, 12.448750414000001, 12.494481856, 12.540319682, 12.586264, 12.632314917999999, 12.678472543999998, 12.724736986, 12.771108352, 12.81758675, 12.864172287999999, 12.910865074, 12.957665215999999, 13.004572822, 13.051588, 13.098710857999999, 13.145941504, 13.193280045999998, 13.240726591999998, 13.28828125, 13.335944127999998, 13.383715333999998, 13.431594976, 13.479583161999999, 13.52768, 13.575885598, 13.624200064, 13.672623505999997, 13.721156032, 13.76979775, 13.818548768, 13.867409194, 13.916379136, 13.965458702, 14.014648000000001, 14.063947138, 14.113356223999999, 14.162875365999998, 14.212504672, 14.262244249999998, 14.312094208, 14.362054653999998, 14.412125695999999, 14.462307442, 14.512599999999999, 14.563003477999999, 14.613517983999998, 14.664143626, 14.714880511999999, 14.765728750000001, 14.816688448, 14.867759713999998, 14.918942656, 14.970237381999999, 15.021643999999998, 15.073162618, 15.124793344, 15.176536286, 15.228391552, 15.28035925, 15.332439487999999, 15.384632373999999, 15.436938016, 15.489356522, 15.541887999999998, 15.594532558000001, 15.647290304, 15.700161346, 15.753145792, 15.80624375, 15.859455328, 15.912780633999999, 15.966219775999999, 16.019772862, 16.073439999999998, 16.127221298, 16.181116864, 16.235126806, 16.289251232, 16.34349025, 16.397843968, 16.452312494, 16.506895936, 16.561594401999997, 16.616408, 16.671336838, 16.726381024, 16.781540666, 16.836815872, 16.89220675, 16.947713408, 17.003335954, 17.059074496, 17.114929142, 17.1709, 17.226987178, 17.283190784, 17.339510926, 17.395947711999998, 17.45250125, 17.509171648, 17.565959013999997, 17.622863455999997, 17.679885082, 17.737023999999998, 17.794280318, 17.851654144, 17.909145585999998, 17.966754752, 18.02448175, 18.082326688, 18.140289674, 18.198370815999997, 18.256570222, 18.314888, 18.373324257999997, 18.431879104, 18.490552645999998, 18.549344992, 18.60825625, 18.667286527999998, 18.726435933999998, 18.785704576, 18.845092562, 18.9046, 18.964226998, 19.023973664, 19.083840106, 19.143826431999997, 19.20393275, 19.264159168, 19.324505794, 19.384972735999998, 19.445560101999998, 19.506268, 19.567096538, 19.628045823999997, 19.689115966, 19.750307072, 19.81161925, 19.873052608000002, 19.934607254, 19.996283296, 20.058080842, 20.12, 20.182040878, 20.244203584, 20.306488226, 20.368894912000002, 20.43142375, 20.494074847999997, 20.556848314, 20.619744256, 20.682762781999998, 20.745903999999996, 20.809168018, 20.872554943999997, 20.936064886, 20.999697952, 21.06345425, 21.127333888000003, 21.191336974, 21.255463616, 21.319713922, 21.384088, 21.448585958, 21.513207903999998, 21.577953946, 21.642824192, 21.70781875, 21.772937728000002, 21.838181234, 21.903549375999997, 21.969042262000002, 22.034660000000002, 22.100402698, 22.166270464, 22.232263405999998, 22.298381632, 22.36462525, 22.430994368, 22.497489094, 22.564109535999997, 22.630855802, 22.697727999999998, 22.764726238, 22.831850623999998, 22.899101266, 22.966478271999996, 23.03398175, 23.101611808, 23.169368554, 23.237252096, 23.305262541999998, 23.373399999999997, 23.441664577999997, 23.510056384, 23.578575525999998, 23.647222111999998, 23.71599625, 23.784898048, 23.853927614, 23.923085055999998, 23.992370482, 24.061784, 24.131325718, 24.200995744, 24.270794186, 24.340721152, 24.410776749999997, 24.480961087999997, 24.551274274, 24.621716415999998, 24.692287622000002, 24.762988, 24.833817658, 24.904776704, 24.975865245999998, 25.047083392, 25.11843125, 25.189908928, 25.261516534, 25.333254176, 25.405121962, 25.47712, 25.549248398, 25.621507264, 25.693896705999997, 25.766416831999997, 25.839067749999998, 25.911849568, 25.984762393999997, 26.057806336, 26.130981501999997, 26.204288, 26.277725938, 26.351295424, 26.424996565999997, 26.498829471999997, 26.57279425, 26.646891007999997, 26.721119854, 26.795480895999997, 26.869974241999998]}, {\"mode\": \"lines\", \"name\": \"1100 K\", \"type\": \"scatter\", \"x\": [0, 1, 2, 3, 4, 5, 6, 7, 8, 9, 10, 11, 12, 13, 14, 15, 16, 17, 18, 19, 20, 21, 22, 23, 24, 25, 26, 27, 28, 29, 30, 31, 32, 33, 34, 35, 36, 37, 38, 39, 40, 41, 42, 43, 44, 45, 46, 47, 48, 49, 50, 51, 52, 53, 54, 55, 56, 57, 58, 59, 60, 61, 62, 63, 64, 65, 66, 67, 68, 69, 70, 71, 72, 73, 74, 75, 76, 77, 78, 79, 80, 81, 82, 83, 84, 85, 86, 87, 88, 89, 90, 91, 92, 93, 94, 95, 96, 97, 98, 99, 100, 101, 102, 103, 104, 105, 106, 107, 108, 109, 110, 111, 112, 113, 114, 115, 116, 117, 118, 119, 120, 121, 122, 123, 124, 125, 126, 127, 128, 129, 130, 131, 132, 133, 134, 135, 136, 137, 138, 139, 140, 141, 142, 143, 144, 145, 146, 147, 148, 149, 150, 151, 152, 153, 154, 155, 156, 157, 158, 159, 160, 161, 162, 163, 164, 165, 166, 167, 168, 169, 170, 171, 172, 173, 174, 175, 176, 177, 178, 179, 180, 181, 182, 183, 184, 185, 186, 187, 188, 189, 190, 191, 192, 193, 194, 195, 196, 197, 198, 199, 200, 201, 202, 203, 204, 205, 206, 207, 208, 209, 210, 211, 212, 213, 214, 215, 216, 217, 218, 219, 220, 221, 222, 223, 224, 225, 226, 227, 228, 229, 230, 231, 232, 233, 234, 235, 236, 237, 238, 239, 240, 241, 242, 243, 244, 245, 246, 247, 248, 249, 250, 251, 252, 253, 254, 255, 256, 257, 258, 259, 260, 261, 262, 263, 264, 265, 266, 267, 268, 269, 270, 271, 272, 273, 274, 275, 276, 277, 278, 279, 280, 281, 282, 283, 284, 285, 286, 287, 288, 289, 290, 291, 292, 293, 294, 295, 296, 297, 298, 299, 300, 301, 302, 303, 304, 305, 306, 307, 308, 309, 310, 311, 312, 313, 314, 315, 316, 317, 318, 319, 320, 321, 322, 323, 324, 325, 326, 327, 328, 329, 330, 331, 332, 333, 334, 335, 336, 337, 338, 339, 340, 341, 342, 343, 344, 345, 346, 347, 348, 349, 350, 351, 352, 353, 354, 355, 356, 357, 358, 359, 360, 361, 362, 363, 364, 365, 366, 367, 368, 369, 370, 371, 372, 373, 374, 375, 376, 377, 378, 379, 380, 381, 382, 383, 384, 385, 386, 387, 388, 389, 390, 391, 392, 393, 394, 395, 396, 397, 398, 399, 400, 401, 402, 403, 404, 405, 406, 407, 408, 409, 410, 411, 412, 413, 414, 415, 416, 417, 418, 419, 420, 421, 422, 423, 424, 425, 426, 427, 428, 429, 430, 431, 432, 433, 434, 435, 436, 437, 438, 439, 440, 441, 442, 443, 444, 445, 446, 447, 448, 449, 450, 451, 452, 453, 454, 455, 456, 457, 458, 459, 460, 461, 462, 463, 464, 465, 466, 467, 468, 469, 470, 471, 472, 473, 474, 475, 476, 477, 478, 479, 480, 481, 482, 483, 484, 485, 486, 487, 488, 489, 490, 491, 492, 493, 494, 495, 496, 497, 498, 499, 500, 501, 502, 503, 504, 505, 506, 507, 508, 509, 510, 511, 512, 513, 514, 515, 516, 517, 518, 519, 520, 521, 522, 523, 524, 525, 526, 527, 528, 529, 530, 531, 532, 533, 534, 535, 536, 537, 538, 539, 540, 541, 542, 543, 544, 545, 546, 547, 548, 549, 550, 551, 552, 553, 554, 555, 556, 557, 558, 559, 560, 561, 562, 563, 564, 565, 566, 567, 568, 569, 570, 571, 572, 573, 574, 575, 576, 577, 578, 579, 580, 581, 582, 583, 584, 585, 586, 587, 588, 589, 590, 591, 592, 593, 594, 595, 596, 597, 598, 599, 600, 601, 602, 603, 604, 605, 606, 607, 608, 609, 610, 611, 612, 613, 614, 615, 616, 617, 618, 619, 620, 621, 622, 623, 624, 625, 626, 627, 628, 629, 630, 631, 632, 633, 634, 635, 636, 637, 638, 639, 640, 641, 642, 643, 644, 645, 646, 647, 648, 649, 650, 651, 652, 653, 654, 655, 656, 657, 658, 659, 660, 661, 662, 663, 664, 665, 666, 667, 668, 669, 670, 671, 672, 673, 674, 675, 676, 677, 678, 679, 680, 681, 682, 683, 684, 685, 686, 687, 688, 689, 690, 691, 692, 693, 694, 695, 696, 697, 698, 699, 700, 701, 702, 703, 704, 705, 706, 707, 708, 709, 710, 711, 712, 713, 714, 715, 716, 717, 718, 719, 720, 721, 722, 723, 724, 725, 726, 727, 728, 729, 730, 731, 732, 733, 734, 735, 736, 737, 738, 739, 740, 741, 742, 743, 744, 745, 746, 747, 748, 749, 750, 751, 752, 753, 754, 755, 756, 757, 758, 759, 760, 761, 762, 763, 764, 765, 766, 767, 768, 769, 770, 771, 772, 773, 774, 775, 776, 777, 778, 779, 780, 781, 782, 783, 784, 785, 786, 787, 788, 789, 790, 791, 792, 793, 794, 795, 796, 797, 798, 799, 800, 801, 802, 803, 804, 805, 806, 807, 808, 809, 810, 811, 812, 813, 814, 815, 816, 817, 818, 819, 820, 821, 822, 823, 824, 825, 826, 827, 828, 829, 830, 831, 832, 833, 834, 835, 836, 837, 838, 839, 840, 841, 842, 843, 844, 845, 846, 847, 848, 849, 850, 851, 852, 853, 854, 855, 856, 857, 858, 859, 860, 861, 862, 863, 864, 865, 866, 867, 868, 869, 870, 871, 872, 873, 874, 875, 876, 877, 878, 879, 880, 881, 882, 883, 884, 885, 886, 887, 888, 889, 890, 891, 892, 893, 894, 895, 896, 897, 898, 899, 900, 901, 902, 903, 904, 905, 906, 907, 908, 909, 910, 911, 912, 913, 914, 915, 916, 917, 918, 919, 920, 921, 922, 923, 924, 925, 926, 927, 928, 929, 930, 931, 932, 933, 934, 935, 936, 937, 938, 939, 940, 941, 942, 943, 944, 945, 946, 947, 948, 949, 950, 951, 952, 953, 954, 955, 956, 957, 958, 959, 960, 961, 962, 963, 964, 965, 966, 967, 968, 969, 970, 971, 972, 973, 974, 975, 976, 977, 978, 979, 980, 981, 982, 983, 984, 985, 986, 987, 988, 989, 990, 991, 992, 993, 994, 995, 996, 997, 998, 999, 1000, 1001, 1002, 1003, 1004, 1005, 1006, 1007, 1008, 1009, 1010, 1011, 1012, 1013, 1014, 1015, 1016, 1017, 1018, 1019, 1020, 1021, 1022, 1023, 1024, 1025, 1026, 1027, 1028, 1029, 1030, 1031, 1032, 1033, 1034, 1035, 1036, 1037, 1038, 1039, 1040, 1041, 1042, 1043, 1044, 1045, 1046, 1047, 1048, 1049, 1050, 1051, 1052, 1053, 1054, 1055, 1056, 1057, 1058, 1059, 1060, 1061, 1062, 1063, 1064, 1065, 1066, 1067, 1068, 1069, 1070, 1071, 1072, 1073, 1074, 1075, 1076, 1077, 1078, 1079, 1080, 1081, 1082, 1083, 1084, 1085, 1086, 1087, 1088, 1089, 1090, 1091, 1092, 1093, 1094, 1095, 1096, 1097, 1098, 1099], \"y\": [1.0, 1.000189275144, 1.000379101152, 1.000569478888, 1.0007604092159998, 1.0009518929999999, 1.001143931104, 1.001336524392, 1.001529673728, 1.001723379976, 1.001917644, 1.002112466664, 1.0023078488319999, 1.002503791368, 1.0027002951359998, 1.002897361, 1.003094989824, 1.003293182472, 1.003491939808, 1.003691262696, 1.003891152, 1.004091608584, 1.0042926333120001, 1.0044942270480002, 1.004696390656, 1.0048991250000001, 1.005102430944, 1.005306309352, 1.005510761088, 1.005715787016, 1.005921388, 1.006127564904, 1.0063343185920002, 1.006541649928, 1.0067495597760001, 1.0069580489999999, 1.007167118464, 1.007376769032, 1.007587001568, 1.007797816936, 1.008009216, 1.008221199624, 1.008433768672, 1.008646924008, 1.008860666496, 1.009074997, 1.009289916384, 1.009505425512, 1.009721525248, 1.009938216456, 1.0101555, 1.010373376744, 1.010591847552, 1.0108109132879999, 1.0110305748159998, 1.011250833, 1.0114716887039998, 1.011693142792, 1.0119151961279997, 1.0121378495759998, 1.012361104, 1.012584960264, 1.0128094192319999, 1.013034481768, 1.013260148736, 1.013486421, 1.0137132994240001, 1.0139407848720001, 1.014168878208, 1.0143975802960001, 1.0146268920000001, 1.014856814184, 1.015087347712, 1.0153184934480002, 1.015550252256, 1.0157826250000002, 1.016015612544, 1.016249215752, 1.0164834354880001, 1.016718272616, 1.016953728, 1.017189802504, 1.0174264969920002, 1.017663812328, 1.017901749376, 1.018140309, 1.018379492064, 1.018619299432, 1.018859731968, 1.019100790536, 1.019342476, 1.019584789224, 1.019827731072, 1.020071302408, 1.0203155040960001, 1.0205603369999998, 1.020805801984, 1.0210518999119997, 1.021298631648, 1.021545998056, 1.0217939999999999, 1.022042638344, 1.022291913952, 1.022541827688, 1.022792380416, 1.023043573, 1.023295406304, 1.023547881192, 1.023800998528, 1.024054759176, 1.024309164, 1.024564213864, 1.024819909632, 1.0250762521680001, 1.025333242336, 1.025590881, 1.0258491690240001, 1.0261081072720002, 1.026367696608, 1.026627937896, 1.026888832, 1.027150379784, 1.027412582112, 1.027675439848, 1.027938953856, 1.028203125, 1.028467954144, 1.028733442152, 1.028999589888, 1.029266398216, 1.029533868, 1.029802000104, 1.0300707953919999, 1.0303402547279998, 1.030610378976, 1.0308811690000002, 1.0311526256639998, 1.031424749832, 1.031697542368, 1.031971004136, 1.032245136, 1.0325199388239998, 1.0327954134719999, 1.033071560808, 1.033348381696, 1.033625877, 1.0339040475839998, 1.0341828943119997, 1.0344624180480002, 1.0347426196560001, 1.0350235, 1.0353050599440001, 1.035587300352, 1.035870222088, 1.0361538260160001, 1.036438113, 1.036723083904, 1.037008739592, 1.037295080928, 1.037582108776, 1.037869824, 1.038158227464, 1.0384473200320001, 1.0387371025680001, 1.039027575936, 1.039318741, 1.039610598624, 1.039903149672, 1.040196395008, 1.040490335496, 1.040784972, 1.041080305384, 1.041376336512, 1.041673066248, 1.041970495456, 1.042268625, 1.042567455744, 1.0428669885519999, 1.043167224288, 1.043468163816, 1.043769808, 1.044072157704, 1.044375213792, 1.0446789771279998, 1.044983448576, 1.045288629, 1.045594519264, 1.0459011202319999, 1.046208432768, 1.0465164577360002, 1.0468251960000001, 1.047134648424, 1.047444815872, 1.0477556992080002, 1.048067299296, 1.0483796170000002, 1.0486926531840002, 1.0490064087120001, 1.049320884448, 1.049636081256, 1.049952, 1.0502686415440001, 1.050586006752, 1.0509040964879999, 1.0512229116160001, 1.051542453, 1.051862721504, 1.0521837179920002, 1.052505443328, 1.052827898376, 1.053151084, 1.0534750010640002, 1.053799650432, 1.0541250329679999, 1.0544511495359998, 1.0547780009999999, 1.055105588224, 1.055433912072, 1.055762973408, 1.056092773096, 1.056423312, 1.056754590984, 1.0570866109119998, 1.0574193726480001, 1.0577528770559999, 1.058087125, 1.0584221173439998, 1.058757854952, 1.059094338688, 1.0594315694159997, 1.0597695479999998, 1.0601082753039999, 1.0604477521920002, 1.060787979528, 1.061128958176, 1.061470689, 1.061813172864, 1.062156410632, 1.062500403168, 1.062845151336, 1.0631906560000002, 1.063536918024, 1.0638839382720002, 1.064231717608, 1.064580256896, 1.064929557, 1.0652796187840001, 1.065630443112, 1.0659820308480001, 1.066334382856, 1.0666875, 1.067041383144, 1.0673960331519998, 1.067751450888, 1.068107637216, 1.068464593, 1.068822319104, 1.0691808163919998, 1.069540085728, 1.0699001279759999, 1.0702609440000002, 1.070622534664, 1.070984900832, 1.0713480433679998, 1.071711963136, 1.072076661, 1.0724421378239999, 1.072808394472, 1.0731754318079998, 1.0735432506959999, 1.073911852, 1.074281236584, 1.0746514053119998, 1.0750223590480001, 1.0753940986560002, 1.0757666250000002, 1.076139938944, 1.076514041352, 1.076888933088, 1.077264615016, 1.077641088, 1.078018352904, 1.078396410592, 1.078775261928, 1.079154907776, 1.079535349, 1.079916586464, 1.080298621032, 1.080681453568, 1.081065084936, 1.081449516, 1.081834747624, 1.082220780672, 1.082607616008, 1.082995254496, 1.083383697, 1.083772944384, 1.084162997512, 1.084553857248, 1.084945524456, 1.085338, 1.085731284744, 1.0861253795519998, 1.086520285288, 1.086916002816, 1.087312533, 1.087709876704, 1.088108034792, 1.088507008128, 1.088906797576, 1.089307404, 1.089708828264, 1.090111071232, 1.090514133768, 1.090918016736, 1.0913227209999998, 1.0917282474240002, 1.092134596872, 1.092541770208, 1.0929497682959999, 1.093358592, 1.093768242184, 1.094178719712, 1.094590025448, 1.095002160256, 1.095415125, 1.095828920544, 1.096243547752, 1.096659007488, 1.0970753006160001, 1.097492428, 1.097910390504, 1.0983291889920002, 1.0987488243280001, 1.0991692973759999, 1.099590609, 1.100012760064, 1.100435751432, 1.100859583968, 1.1012842585359999, 1.1017097759999999, 1.102136137224, 1.102563343072, 1.102991394408, 1.1034202920960001, 1.103850037, 1.104280629984, 1.104712071912, 1.1051443636479998, 1.1055775060559998, 1.1060115, 1.106446346344, 1.106882045952, 1.107318599688, 1.1077560084159999, 1.1081942729999998, 1.1086333943039999, 1.1090733731920002, 1.1095142105279998, 1.1099559071760001, 1.1103984640000002, 1.110841881864, 1.111286161632, 1.111731304168, 1.112177310336, 1.112624181, 1.1130719170240002, 1.1135205192720001, 1.1139699886080001, 1.114420325896, 1.114871532, 1.115323607784, 1.1157765541120002, 1.116230371848, 1.116685061856, 1.117140625, 1.117597062144, 1.1180543741520002, 1.118512561888, 1.118971626216, 1.119431568, 1.119892388104, 1.120354087392, 1.120816666728, 1.121280126976, 1.121744469, 1.122209693664, 1.122675801832, 1.1231427943680001, 1.123610672136, 1.124079436, 1.124549086824, 1.1250196254719997, 1.125491052808, 1.125963369696, 1.1264365769999998, 1.126910675584, 1.1273856663119999, 1.127861550048, 1.128338327656, 1.128816, 1.129294567944, 1.129774032352, 1.130254394088, 1.130735654016, 1.1312178130000001, 1.131700871904, 1.132184831592, 1.1326696929280002, 1.133155456776, 1.133642124, 1.134129695464, 1.134618172032, 1.1351075545679998, 1.135597843936, 1.136089041, 1.1365811466240001, 1.1370741616720001, 1.137568087008, 1.138062923496, 1.138558672, 1.1390553333840001, 1.139552908512, 1.1400513982479998, 1.1405508034560001, 1.141051125, 1.141552363744, 1.142054520552, 1.142557596288, 1.143061591816, 1.143566508, 1.144072345704, 1.144579105792, 1.1450867891279999, 1.145595396576, 1.1461049289999998, 1.146615387264, 1.147126772232, 1.1476390847679998, 1.1481523257359998, 1.148666496, 1.149181596424, 1.149697627872, 1.1502145912080002, 1.150732487296, 1.1512513170000003, 1.151771081184, 1.1522917807120001, 1.152813416448, 1.153335989256, 1.1538595000000003, 1.154383949544, 1.154909338752, 1.155435668488, 1.155962939616, 1.1564911530000002, 1.1570203095040001, 1.1575504099920002, 1.158081455328, 1.158613446376, 1.159146384, 1.159680269064, 1.160215102432, 1.160750884968, 1.161287617536, 1.161825301, 1.1623639362240001, 1.162903524072, 1.163444065408, 1.163985561096, 1.164528012, 1.165071418984, 1.165615782912, 1.166161104648, 1.166707385056, 1.167254625, 1.167802825344, 1.168351986952, 1.168902110688, 1.1694531974159998, 1.170005248, 1.170558263304, 1.171112244192, 1.171667191528, 1.172223106176, 1.1727799890000001, 1.173337840864, 1.173896662632, 1.1744564551680001, 1.1750172193360002, 1.175578956, 1.176141666024, 1.176705350272, 1.177270009608, 1.177835644896, 1.178402257, 1.178969846784, 1.179538415112, 1.180107962848, 1.180678490856, 1.1812500000000001, 1.181822491144, 1.1823959651520002, 1.182970422888, 1.183545865216, 1.184122293, 1.184699707104, 1.185278108392, 1.1858574977279999, 1.186437875976, 1.187019244, 1.187601602664, 1.1881849528319999, 1.188769295368, 1.189354631136, 1.1899409609999998, 1.190528285824, 1.191116606472, 1.191705923808, 1.192296238696, 1.192887552, 1.193479864584, 1.194073177312, 1.194667491048, 1.1952628066559998, 1.1958591250000001, 1.196456446944, 1.1970547733520003, 1.197654105088, 1.198254443016, 1.198855788, 1.199458140904, 1.200061502592, 1.200665873928, 1.2012712557760001, 1.201877649, 1.202485054464, 1.2030934730320002, 1.203702905568, 1.2043133529360002, 1.2049248160000001, 1.205537295624, 1.2061507926719999, 1.206765308008, 1.2073808424960002, 1.207997397, 1.2086149723839998, 1.209233569512, 1.209853189248, 1.210473832456, 1.2110954999999999, 1.211718192744, 1.212341911552, 1.212966657288, 1.213592430816, 1.214219233, 1.214847064704, 1.215475926792, 1.216105820128, 1.2167367455759999, 1.217368704, 1.218001696264, 1.218635723232, 1.219270785768, 1.219906884736, 1.2205440209999998, 1.221182195424, 1.2218214088719999, 1.222461662208, 1.223102956296, 1.223745292, 1.224388670184, 1.225033091712, 1.225678557448, 1.226325068256, 1.2269726250000001, 1.227621228544, 1.228270879752, 1.228921579488, 1.229573328616, 1.2302261280000002, 1.2308799785039999, 1.231534880992, 1.232190836328, 1.2328478453760001, 1.233505909, 1.2341650280640002, 1.234825203432, 1.235486435968, 1.236148726536, 1.2368120759999999, 1.237476485224, 1.238141955072, 1.238808486408, 1.2394760800959999, 1.240144737, 1.240814457984, 1.2414852439119999, 1.242157095648, 1.2428300140559998, 1.243504, 1.244179054344, 1.244855177952, 1.245532371688, 1.246210636416, 1.246889973, 1.247570382304, 1.248251865192, 1.248934422528, 1.249618055176, 1.2503027639999997, 1.250988549864, 1.251675413632, 1.252363356168, 1.2530523783360001, 1.2537424810000002, 1.254433665024, 1.255125931272, 1.2558192806080002, 1.256513713896, 1.2572092320000001, 1.257905835784, 1.258603526112, 1.259302303848, 1.260002169856, 1.260703125, 1.261405170144, 1.262108306152, 1.262812533888, 1.263517854216, 1.264224268, 1.264931776104, 1.265640379392, 1.266350078728, 1.267060874976, 1.267772769, 1.268485761664, 1.269199853832, 1.269915046368, 1.270631340136, 1.271348736, 1.272067234824, 1.272786837472, 1.273507544808, 1.274229357696, 1.274952277, 1.275676303584, 1.276401438312, 1.277127682048, 1.277855035656, 1.2785835000000003, 1.279313075944, 1.2800437643520002, 1.280775566088, 1.281508482016, 1.282242513, 1.2829776599040001, 1.283713923592, 1.2844513049280002, 1.2851898047760002, 1.285929424, 1.286670163464, 1.2874120240320002, 1.288155006568, 1.288899111936, 1.289644341, 1.290390694624, 1.291138173672, 1.291886779008, 1.2926365114960001, 1.293387372, 1.294139361384, 1.2948924805120001, 1.295646730248, 1.296402111456, 1.297158625, 1.2979162717439998, 1.2986750525519999, 1.299434968288, 1.3001960198159999, 1.300958208, 1.3017215337039998, 1.302485997792, 1.303251601128, 1.3040183445759999, 1.3047862289999999, 1.305555255264, 1.306325424232, 1.3070967367679998, 1.3078691937359999, 1.308642796, 1.3094175444240002, 1.3101934398719999, 1.3109704832080002, 1.311748675296, 1.312528017, 1.313308509184, 1.3140901527120001, 1.314872948448, 1.315656897256, 1.3164420000000001, 1.3172282575440002, 1.318015670752, 1.318804240488, 1.319593967616, 1.3203848530000002, 1.321176897504, 1.321970101992, 1.322764467328, 1.3235599943760001, 1.3243566839999998, 1.3251545370639999, 1.325953554432, 1.326753736968, 1.327555085536, 1.328357601, 1.329161284224, 1.329966136072, 1.330772157408, 1.331579349096, 1.332387712, 1.3331972469839999, 1.3340079549119999, 1.334819836648, 1.335632893056, 1.336447125, 1.3372625333439998, 1.338079118952, 1.338896882688, 1.339715825416, 1.3405359479999999, 1.341357251304, 1.3421797361919998, 1.3430034035279999, 1.343828254176, 1.344654289, 1.345481508864, 1.346309914632, 1.3471395071680001, 1.3479702873360002, 1.3488022560000001, 1.3496354140240001, 1.350469762272, 1.351305301608, 1.352142032896, 1.352979957, 1.3538190747840002, 1.354659387112, 1.355500894848, 1.3563435988560002, 1.3571875000000002, 1.3580325991439999, 1.358878897152, 1.3597263948879998, 1.360575093216, 1.361424993, 1.362276095104, 1.3631284003920001, 1.363981909728, 1.364836623976, 1.365692544, 1.366549670664, 1.367408004832, 1.368267547368, 1.369128299136, 1.3699902609999999, 1.370853433824, 1.371717818472, 1.372583415808, 1.3734502266959998, 1.374318252, 1.375187492584, 1.376057949312, 1.376929623048, 1.377802514656, 1.3786766250000002, 1.3795519549439998, 1.3804285053520002, 1.381306277088, 1.382185271016, 1.3830654880000002, 1.383946928904, 1.3848295945920002, 1.385713485928, 1.386598603776, 1.387484949, 1.388372522464, 1.389261325032, 1.390151357568, 1.391042620936, 1.3919351160000002, 1.3928288436240002, 1.393723804672, 1.394620000008, 1.395517430496, 1.396416097, 1.3973160003840002, 1.398217141512, 1.3991195212479999, 1.400023140456, 1.400928, 1.401834100744, 1.4027414435519998, 1.4036500292879999, 1.404559858816, 1.4054709330000001, 1.4063832527039999, 1.4072968187919999, 1.4082116321279998, 1.409127693576, 1.4100450039999999, 1.410963564264, 1.411883375232, 1.412804437768, 1.413726752736, 1.4146503209999999, 1.415575143424, 1.416501220872, 1.417428554208, 1.418357144296, 1.419286992, 1.4202180981839998, 1.4211504637120003, 1.4220840894480002, 1.423018976256, 1.423955125, 1.4248925365440002, 1.425831211752, 1.4267711514880002, 1.4277123566160002, 1.428654828, 1.429598566504, 1.4305435729920002, 1.431489848328, 1.432437393376, 1.433386209, 1.434336296064, 1.435287655432, 1.436240287968, 1.4371941945359998, 1.438149376, 1.439105833224, 1.4400635670720001, 1.441022578408, 1.4419828680959998, 1.442944437, 1.4439072859839999, 1.444871415912, 1.445836827648, 1.4468035220559998, 1.4477715, 1.448740762344, 1.449711309952, 1.4506831436879999, 1.451656264416, 1.4526306729999998, 1.453606370304, 1.454583357192, 1.455561634528, 1.456541203176, 1.457522064, 1.4585042178640002, 1.459487665632, 1.4604724081680003, 1.461458446336, 1.4624457810000002, 1.4634344130240002, 1.464424343272, 1.465415572608, 1.466408101896, 1.467401932, 1.4683970637840003, 1.469393498112, 1.470391235848, 1.471390277856, 1.472390625, 1.473392278144, 1.474395238152, 1.475399505888, 1.476405082216, 1.477411968, 1.478420164104, 1.479429671392, 1.4804404907280002, 1.481452622976, 1.482466069, 1.483480829664, 1.4844969058320001, 1.4855142983679999, 1.486533008136, 1.487553036, 1.488574382824, 1.4895970494720001, 1.490621036808, 1.491646345696, 1.4926729769999998, 1.493700931584, 1.494730210312, 1.4957608140479999, 1.4967927436559998, 1.4978259999999999, 1.498860583944, 1.499896496352, 1.500933738088, 1.501972310016, 1.5030122129999999, 1.504053447904, 1.5050960155920001, 1.506139916928, 1.507185152776, 1.5082317240000003, 1.509279631464, 1.5103288760320002, 1.511379458568, 1.512431379936, 1.513484641, 1.514539242624, 1.515595185672, 1.516652471008, 1.5177110994960001, 1.518771072, 1.519832389384, 1.5208950525120002, 1.5219590622480001, 1.523024419456, 1.524091125, 1.5251591797439998, 1.526228584552, 1.527299340288, 1.528371447816, 1.5294449079999999, 1.530519721704, 1.531595889792, 1.532673413128, 1.533752292576, 1.534832529, 1.535914123264, 1.536997076232, 1.538081388768, 1.539167061736, 1.540254096, 1.541342492424, 1.542432251872, 1.543523375208, 1.544615863296, 1.5457097170000003, 1.5468049371839998, 1.5479015247120003, 1.548999480448, 1.5500988052560003, 1.5511995, 1.5523015655440002, 1.553405002752, 1.5545098124880001, 1.555615995616, 1.556723553, 1.5578324855040002, 1.5589427939920002, 1.560054479328, 1.5611675423759999, 1.5622819840000002, 1.563397805064, 1.5645150064320001, 1.565633588968, 1.566753553536, 1.5678749010000002, 1.568997632224, 1.570121748072, 1.5712472494079999, 1.572374137096, 1.5735024119999999, 1.574632074984, 1.575763126912, 1.576895568648, 1.578029401056, 1.5791646249999998, 1.5803012413439999, 1.581439250952, 1.582578654688, 1.5837194534159997, 1.584861648, 1.5860052393039998, 1.5871502281919998, 1.588296615528, 1.589444402176, 1.590593589, 1.5917441768640002, 1.592896166632, 1.5940495591680002, 1.595204355336, 1.5963605560000003, 1.597518162024, 1.598677174272, 1.599837593608, 1.6009994208960001, 1.602162657, 1.603327302784, 1.604493359112, 1.6056608268480002, 1.606829706856, 1.6079999999999999, 1.6091717071440002, 1.610344829152, 1.611519366888, 1.612695321216, 1.6138726929999998, 1.615051483104, 1.6162316923920002, 1.617413321728, 1.618596371976, 1.619780844, 1.620966738664, 1.622154056832, 1.6233427993679999, 1.6245329671359998, 1.6257245610000002, 1.626917581824, 1.628112030472, 1.629307907808, 1.630505214696, 1.631703952, 1.632904120584, 1.6341057213119998, 1.6353087550479999, 1.6365132226559997, 1.6377191249999998, 1.638926462944, 1.6401352373520002, 1.641345449088, 1.642557099016, 1.643770188, 1.6449847169040002, 1.6462006865920003, 1.6474180979280002, 1.6486369517760002, 1.649857249, 1.651078990464, 1.6523021770319999, 1.6535268095680002, 1.6547528889360001, 1.6559804160000002, 1.657209391624, 1.658439816672, 1.6596716920080001, 1.6609050184960001, 1.662139797, 1.663376028384, 1.664613713512, 1.665852853248, 1.6670934484560003, 1.6683355, 1.669579008744, 1.670823975552, 1.672070401288, 1.6733182868160001, 1.674567633, 1.675818440704, 1.677070710792, 1.678324444128, 1.679579641576, 1.680836304, 1.682094432264, 1.683354027232, 1.684615089768, 1.685877620736, 1.6871416209999999, 1.6884070914240001, 1.6896740328720001, 1.6909424462079998, 1.6922123322959999, 1.693483692, 1.694756526184, 1.6960308357120002, 1.697306621448, 1.6985838842560002, 1.6998626250000002, 1.701142844544, 1.702424543752, 1.703707723488, 1.7049923846160002, 1.706278528, 1.7075661545040002, 1.7088552649920001, 1.710145860328, 1.7114379413760001, 1.7127315090000002, 1.714026564064, 1.7153231074320001, 1.716621139968, 1.7179206625360002, 1.719221676, 1.720524181224, 1.721828179072, 1.723133670408, 1.7244406560960002, 1.725749137, 1.727059113984, 1.728370587912, 1.7296835596479998, 1.730998030056]}],\n",
              "                        {\"height\": 500, \"template\": {\"data\": {\"bar\": [{\"error_x\": {\"color\": \"#2a3f5f\"}, \"error_y\": {\"color\": \"#2a3f5f\"}, \"marker\": {\"line\": {\"color\": \"#E5ECF6\", \"width\": 0.5}}, \"type\": \"bar\"}], \"barpolar\": [{\"marker\": {\"line\": {\"color\": \"#E5ECF6\", \"width\": 0.5}}, \"type\": \"barpolar\"}], \"carpet\": [{\"aaxis\": {\"endlinecolor\": \"#2a3f5f\", \"gridcolor\": \"white\", \"linecolor\": \"white\", \"minorgridcolor\": \"white\", \"startlinecolor\": \"#2a3f5f\"}, \"baxis\": {\"endlinecolor\": \"#2a3f5f\", \"gridcolor\": \"white\", \"linecolor\": \"white\", \"minorgridcolor\": \"white\", \"startlinecolor\": \"#2a3f5f\"}, \"type\": \"carpet\"}], \"choropleth\": [{\"colorbar\": {\"outlinewidth\": 0, \"ticks\": \"\"}, \"type\": \"choropleth\"}], \"contour\": [{\"colorbar\": {\"outlinewidth\": 0, \"ticks\": \"\"}, \"colorscale\": [[0.0, \"#0d0887\"], [0.1111111111111111, \"#46039f\"], [0.2222222222222222, \"#7201a8\"], [0.3333333333333333, \"#9c179e\"], [0.4444444444444444, \"#bd3786\"], [0.5555555555555556, \"#d8576b\"], [0.6666666666666666, \"#ed7953\"], [0.7777777777777778, \"#fb9f3a\"], [0.8888888888888888, \"#fdca26\"], [1.0, \"#f0f921\"]], \"type\": \"contour\"}], \"contourcarpet\": [{\"colorbar\": {\"outlinewidth\": 0, \"ticks\": \"\"}, \"type\": \"contourcarpet\"}], \"heatmap\": [{\"colorbar\": {\"outlinewidth\": 0, \"ticks\": \"\"}, \"colorscale\": [[0.0, \"#0d0887\"], [0.1111111111111111, \"#46039f\"], [0.2222222222222222, \"#7201a8\"], [0.3333333333333333, \"#9c179e\"], [0.4444444444444444, \"#bd3786\"], [0.5555555555555556, \"#d8576b\"], [0.6666666666666666, \"#ed7953\"], [0.7777777777777778, \"#fb9f3a\"], [0.8888888888888888, \"#fdca26\"], [1.0, \"#f0f921\"]], \"type\": \"heatmap\"}], \"heatmapgl\": [{\"colorbar\": {\"outlinewidth\": 0, \"ticks\": \"\"}, \"colorscale\": [[0.0, \"#0d0887\"], [0.1111111111111111, \"#46039f\"], [0.2222222222222222, \"#7201a8\"], [0.3333333333333333, \"#9c179e\"], [0.4444444444444444, \"#bd3786\"], [0.5555555555555556, \"#d8576b\"], [0.6666666666666666, \"#ed7953\"], [0.7777777777777778, \"#fb9f3a\"], [0.8888888888888888, \"#fdca26\"], [1.0, \"#f0f921\"]], \"type\": \"heatmapgl\"}], \"histogram\": [{\"marker\": {\"colorbar\": {\"outlinewidth\": 0, \"ticks\": \"\"}}, \"type\": \"histogram\"}], \"histogram2d\": [{\"colorbar\": {\"outlinewidth\": 0, \"ticks\": \"\"}, \"colorscale\": [[0.0, \"#0d0887\"], [0.1111111111111111, \"#46039f\"], [0.2222222222222222, \"#7201a8\"], [0.3333333333333333, \"#9c179e\"], [0.4444444444444444, \"#bd3786\"], [0.5555555555555556, \"#d8576b\"], [0.6666666666666666, \"#ed7953\"], [0.7777777777777778, \"#fb9f3a\"], [0.8888888888888888, \"#fdca26\"], [1.0, \"#f0f921\"]], \"type\": \"histogram2d\"}], \"histogram2dcontour\": [{\"colorbar\": {\"outlinewidth\": 0, \"ticks\": \"\"}, \"colorscale\": [[0.0, \"#0d0887\"], [0.1111111111111111, \"#46039f\"], [0.2222222222222222, \"#7201a8\"], [0.3333333333333333, \"#9c179e\"], [0.4444444444444444, \"#bd3786\"], [0.5555555555555556, \"#d8576b\"], [0.6666666666666666, \"#ed7953\"], [0.7777777777777778, \"#fb9f3a\"], [0.8888888888888888, \"#fdca26\"], [1.0, \"#f0f921\"]], \"type\": \"histogram2dcontour\"}], \"mesh3d\": [{\"colorbar\": {\"outlinewidth\": 0, \"ticks\": \"\"}, \"type\": \"mesh3d\"}], \"parcoords\": [{\"line\": {\"colorbar\": {\"outlinewidth\": 0, \"ticks\": \"\"}}, \"type\": \"parcoords\"}], \"pie\": [{\"automargin\": true, \"type\": \"pie\"}], \"scatter\": [{\"marker\": {\"colorbar\": {\"outlinewidth\": 0, \"ticks\": \"\"}}, \"type\": \"scatter\"}], \"scatter3d\": [{\"line\": {\"colorbar\": {\"outlinewidth\": 0, \"ticks\": \"\"}}, \"marker\": {\"colorbar\": {\"outlinewidth\": 0, \"ticks\": \"\"}}, \"type\": \"scatter3d\"}], \"scattercarpet\": [{\"marker\": {\"colorbar\": {\"outlinewidth\": 0, \"ticks\": \"\"}}, \"type\": \"scattercarpet\"}], \"scattergeo\": [{\"marker\": {\"colorbar\": {\"outlinewidth\": 0, \"ticks\": \"\"}}, \"type\": \"scattergeo\"}], \"scattergl\": [{\"marker\": {\"colorbar\": {\"outlinewidth\": 0, \"ticks\": \"\"}}, \"type\": \"scattergl\"}], \"scattermapbox\": [{\"marker\": {\"colorbar\": {\"outlinewidth\": 0, \"ticks\": \"\"}}, \"type\": \"scattermapbox\"}], \"scatterpolar\": [{\"marker\": {\"colorbar\": {\"outlinewidth\": 0, \"ticks\": \"\"}}, \"type\": \"scatterpolar\"}], \"scatterpolargl\": [{\"marker\": {\"colorbar\": {\"outlinewidth\": 0, \"ticks\": \"\"}}, \"type\": \"scatterpolargl\"}], \"scatterternary\": [{\"marker\": {\"colorbar\": {\"outlinewidth\": 0, \"ticks\": \"\"}}, \"type\": \"scatterternary\"}], \"surface\": [{\"colorbar\": {\"outlinewidth\": 0, \"ticks\": \"\"}, \"colorscale\": [[0.0, \"#0d0887\"], [0.1111111111111111, \"#46039f\"], [0.2222222222222222, \"#7201a8\"], [0.3333333333333333, \"#9c179e\"], [0.4444444444444444, \"#bd3786\"], [0.5555555555555556, \"#d8576b\"], [0.6666666666666666, \"#ed7953\"], [0.7777777777777778, \"#fb9f3a\"], [0.8888888888888888, \"#fdca26\"], [1.0, \"#f0f921\"]], \"type\": \"surface\"}], \"table\": [{\"cells\": {\"fill\": {\"color\": \"#EBF0F8\"}, \"line\": {\"color\": \"white\"}}, \"header\": {\"fill\": {\"color\": \"#C8D4E3\"}, \"line\": {\"color\": \"white\"}}, \"type\": \"table\"}]}, \"layout\": {\"annotationdefaults\": {\"arrowcolor\": \"#2a3f5f\", \"arrowhead\": 0, \"arrowwidth\": 1}, \"coloraxis\": {\"colorbar\": {\"outlinewidth\": 0, \"ticks\": \"\"}}, \"colorscale\": {\"diverging\": [[0, \"#8e0152\"], [0.1, \"#c51b7d\"], [0.2, \"#de77ae\"], [0.3, \"#f1b6da\"], [0.4, \"#fde0ef\"], [0.5, \"#f7f7f7\"], [0.6, \"#e6f5d0\"], [0.7, \"#b8e186\"], [0.8, \"#7fbc41\"], [0.9, \"#4d9221\"], [1, \"#276419\"]], \"sequential\": [[0.0, \"#0d0887\"], [0.1111111111111111, \"#46039f\"], [0.2222222222222222, \"#7201a8\"], [0.3333333333333333, \"#9c179e\"], [0.4444444444444444, \"#bd3786\"], [0.5555555555555556, \"#d8576b\"], [0.6666666666666666, \"#ed7953\"], [0.7777777777777778, \"#fb9f3a\"], [0.8888888888888888, \"#fdca26\"], [1.0, \"#f0f921\"]], \"sequentialminus\": [[0.0, \"#0d0887\"], [0.1111111111111111, \"#46039f\"], [0.2222222222222222, \"#7201a8\"], [0.3333333333333333, \"#9c179e\"], [0.4444444444444444, \"#bd3786\"], [0.5555555555555556, \"#d8576b\"], [0.6666666666666666, \"#ed7953\"], [0.7777777777777778, \"#fb9f3a\"], [0.8888888888888888, \"#fdca26\"], [1.0, \"#f0f921\"]]}, \"colorway\": [\"#636efa\", \"#EF553B\", \"#00cc96\", \"#ab63fa\", \"#FFA15A\", \"#19d3f3\", \"#FF6692\", \"#B6E880\", \"#FF97FF\", \"#FECB52\"], \"font\": {\"color\": \"#2a3f5f\"}, \"geo\": {\"bgcolor\": \"white\", \"lakecolor\": \"white\", \"landcolor\": \"#E5ECF6\", \"showlakes\": true, \"showland\": true, \"subunitcolor\": \"white\"}, \"hoverlabel\": {\"align\": \"left\"}, \"hovermode\": \"closest\", \"mapbox\": {\"style\": \"light\"}, \"paper_bgcolor\": \"white\", \"plot_bgcolor\": \"#E5ECF6\", \"polar\": {\"angularaxis\": {\"gridcolor\": \"white\", \"linecolor\": \"white\", \"ticks\": \"\"}, \"bgcolor\": \"#E5ECF6\", \"radialaxis\": {\"gridcolor\": \"white\", \"linecolor\": \"white\", \"ticks\": \"\"}}, \"scene\": {\"xaxis\": {\"backgroundcolor\": \"#E5ECF6\", \"gridcolor\": \"white\", \"gridwidth\": 2, \"linecolor\": \"white\", \"showbackground\": true, \"ticks\": \"\", \"zerolinecolor\": \"white\"}, \"yaxis\": {\"backgroundcolor\": \"#E5ECF6\", \"gridcolor\": \"white\", \"gridwidth\": 2, \"linecolor\": \"white\", \"showbackground\": true, \"ticks\": \"\", \"zerolinecolor\": \"white\"}, \"zaxis\": {\"backgroundcolor\": \"#E5ECF6\", \"gridcolor\": \"white\", \"gridwidth\": 2, \"linecolor\": \"white\", \"showbackground\": true, \"ticks\": \"\", \"zerolinecolor\": \"white\"}}, \"shapedefaults\": {\"line\": {\"color\": \"#2a3f5f\"}}, \"ternary\": {\"aaxis\": {\"gridcolor\": \"white\", \"linecolor\": \"white\", \"ticks\": \"\"}, \"baxis\": {\"gridcolor\": \"white\", \"linecolor\": \"white\", \"ticks\": \"\"}, \"bgcolor\": \"#E5ECF6\", \"caxis\": {\"gridcolor\": \"white\", \"linecolor\": \"white\", \"ticks\": \"\"}}, \"title\": {\"x\": 0.05}, \"xaxis\": {\"automargin\": true, \"gridcolor\": \"white\", \"linecolor\": \"white\", \"ticks\": \"\", \"title\": {\"standoff\": 15}, \"zerolinecolor\": \"white\", \"zerolinewidth\": 2}, \"yaxis\": {\"automargin\": true, \"gridcolor\": \"white\", \"linecolor\": \"white\", \"ticks\": \"\", \"title\": {\"standoff\": 15}, \"zerolinecolor\": \"white\", \"zerolinewidth\": 2}}}, \"title\": {\"text\": \"Z vs P\"}, \"width\": 700, \"xaxis\": {\"title\": {\"text\": \"$ {P (atm)} $\"}}, \"yaxis\": {\"title\": {\"text\": \"$ {Z } $\"}}},\n",
              "                        {\"responsive\": true}\n",
              "                    ).then(function(){\n",
              "                            \n",
              "var gd = document.getElementById('538bb305-2674-4325-87e7-a0bff536d2ed');\n",
              "var x = new MutationObserver(function (mutations, observer) {{\n",
              "        var display = window.getComputedStyle(gd).display;\n",
              "        if (!display || display === 'none') {{\n",
              "            console.log([gd, 'removed!']);\n",
              "            Plotly.purge(gd);\n",
              "            observer.disconnect();\n",
              "        }}\n",
              "}});\n",
              "\n",
              "// Listen for the removal of the full notebook cells\n",
              "var notebookContainer = gd.closest('#notebook-container');\n",
              "if (notebookContainer) {{\n",
              "    x.observe(notebookContainer, {childList: true});\n",
              "}}\n",
              "\n",
              "// Listen for the clearing of the current output cell\n",
              "var outputEl = gd.closest('.output');\n",
              "if (outputEl) {{\n",
              "    x.observe(outputEl, {childList: true});\n",
              "}}\n",
              "\n",
              "                        })\n",
              "                };\n",
              "                \n",
              "            </script>\n",
              "        </div>\n",
              "</body>\n",
              "</html>"
            ]
          },
          "metadata": {}
        }
      ]
    },
    {
      "cell_type": "markdown",
      "metadata": {
        "id": "QFOWzyCOBeDJ"
      },
      "source": [
        "---\n",
        "# ***Activity 6: Virtual Lab***\n",
        "Interactive simulation for math and science on free access is available in the University of Colorado PHET platform. We use this platform to carrying out the activities of the Virtual Laboratories. You can get more information in the<a href=\"https://phet.colorado.edu/\"> PhET homepage</a>. In this section, we presented a step-by-step guide to use the PhET platform and develop virtual activities.\n",
        "\n",
        "###**6.1. Knowing PhET platform**\n",
        "\n",
        "To develop this activity:\n",
        "\n",
        "1.   Open the following link in a new window: <a href=\"https://phet.colorado.edu/sims/html/gases-intro/latest/gases-intro_en.html\"> PhET simulation</a> \n",
        "2.   Click on option “Laws”.\n",
        "3.   Click on option “Particles”\n",
        "4.   Add 50 \"Heavy Particles”.\n",
        "5.   Explore and use the other tools of the simulator and modify the temperature, see what happens with the pressure gauge.\n",
        "6.   Modify the Volume of the box. See what happens with the pressure gauge.\n",
        "\n",
        "###**6.2. Boyle's Law** \n",
        "\n",
        "To develop this activity:\n",
        "\n",
        "1.   Open the following link in a new window: <a href=\"https://phet.colorado.edu/sims/html/gases-intro/latest/gases-intro_en.html\"> PhET simulation</a> \n",
        "2.   Click on option “Laws”.\n",
        "3.   Click on option “Particles”\n",
        "4.   Add 50 \"Heavy Particles”.\n",
        "5.   Click on the “width” indicator. Then, the width indicator will activate and, you will see the length (in nm) for one side of the box.\n",
        "6.   Move the handle on the left side of the screen until the pointer of the length for one side of the box reads 15 nm. Note down this value.\n",
        "7.   Click on the \"Hold constant\" option for the Temperature variable. Note down the pressure value.\n",
        "9. Move the handle from left to right until the gauge reads 14 nm. Note down the pressure value.\n",
        "10. Move the handle from left to right until the gauge reads 13 nm. Note down the new pressure value.\n",
        "11. Repeat the procedure until you reach 11 measurements. In the last measurement, the gauge will read 5 nm.\n",
        "12. Using your data, plotting the value of measured length (x-axis) vs pressure (y-axis).\n",
        "13. Using your data, plotting inverse value of measured length (x-axis) vs. pressure (y-axis)\n",
        "14. Analyze the results. Do your data verify Boyle's law?\n",
        "\n",
        "* The following code cell shows the routine to obtain the curves of (P Vs L) and (P Vs 1 / L) with your data.\n",
        "\n",
        "\n",
        "\n"
      ]
    },
    {
      "cell_type": "code",
      "metadata": {
        "id": "EDq1c-upeLjX",
        "colab": {
          "base_uri": "https://localhost:8080/",
          "height": 286
        },
        "outputId": "c59ad096-ea60-4a91-ea4d-4cdd89b9e6c4"
      },
      "source": [
        "import numpy as np\n",
        "import matplotlib.pyplot as plt\n",
        "\n",
        "P = np.array([3.9,4.2,4.5,4.9,5.3,5.9,6.5,7.3,8.3,9.7,11.7])\n",
        "L = np.array([15,14,13,12,11,10,9,8,7,6,5])\n",
        "\n",
        "plt.subplot(1,2,1)\n",
        "plt.plot(1/L,P, \"r\", label=\"P Vs 1/L\")\n",
        "plt.ylabel('Pressure (atm)')\n",
        "plt.xlabel(r\"${1/L (\\mathrm{nm^{-1}})}$\") \n",
        "plt.legend()\n",
        "\n",
        "plt.subplot(1,2,2)\n",
        "plt.plot(L,P, \"m\", label=\"P Vs L\")\n",
        "plt.xlabel('L')\n",
        "plt.legend()\n",
        "plt.show()"
      ],
      "execution_count": null,
      "outputs": [
        {
          "output_type": "display_data",
          "data": {
            "image/png": "[encoded data removed]",
            "text/plain": [
              "<Figure size 432x288 with 2 Axes>"
            ]
          },
          "metadata": {
            "needs_background": "light"
          }
        }
      ]
    },
    {
      "cell_type": "markdown",
      "metadata": {
        "id": "OZCJumZCeIQu"
      },
      "source": [
        "16. Using 50 \"light particles\", repeat the entire above procedure.\n",
        "\n",
        "Do you find differences in the results obtained between the two types of particles?"
      ]
    },
    {
      "cell_type": "markdown",
      "metadata": {
        "id": "3P610aa4dexn"
      },
      "source": [
        "###**6.3. Charles's Law** \n",
        "\n",
        "To develop this activity:\n",
        "\n",
        "1.   Open the following link in a new window: <a href=\"https://phet.colorado.edu/sims/html/gases-intro/latest/gases-intro_en.html\"> PhET simulation</a> \n",
        "2.   Click on option “Laws”.\n",
        "3.   Click on option “Particles”\n",
        "4.   Add 50 \"Heavy Particles”.\n",
        "5.   Click on the “width” indicator. Then, the width indicator will activate and, you will see the length (in nm) for one side of the box.\n",
        "6.   Move the handle on the right side of the screen until the pointer of the length for one side of the box reads 5 nm. Note down this value.\n",
        "7. Click on the \"Hold constant\" option for the \"Pressure V\" variable. Note down the pressure value.\n",
        "8. Use the heating lever for increasing the box temperature around (30 K - 40 K). Note down the new Temperature value.\n",
        "9. Note down the new length value for the width of the box.\n",
        "10. Repeat the procedure until the box width indicator reaches 15 nm. Try to get at least 8 data.\n",
        "11. Using your data, plotting the product Pressure * measured length (y-axis) vs Temperature (in degrees Celcius, x-axis).\n",
        "12. Using data from step 11, perform a linear regression.\n",
        "13. Determine the temperature at which value the product (Pressure * measured length) is equal to zero.\n",
        "\n",
        "\n",
        "* The following code cell shows the routine to obtain the (L Vs T) curve and the linear regression.\n"
      ]
    },
    {
      "cell_type": "code",
      "metadata": {
        "id": "FP_m-qnAhe56",
        "colab": {
          "base_uri": "https://localhost:8080/",
          "height": 312
        },
        "outputId": "fa482c8f-a103-4727-f58f-3d8c967d1b15"
      },
      "source": [
        "import math\n",
        "import numpy as np\n",
        "import matplotlib.pyplot as plt\n",
        "from scipy.stats import linregress  \n",
        "\n",
        "P = 11.7                                                                      # Pressure (atm)\n",
        "T = np.array([300, 345, 403, 484, 557, 621, 677, 721, 815, 853, 885])         # Temperature (Kelvin)\n",
        "L = np.array([5.0, 5.8, 6.7, 8.1, 9.3, 10.3, 11.3, 12.0, 13.6, 14.2, 14.7])   # Width  (nm)\n",
        "\n",
        "plt.plot(T-273.15,L*P,'b*')                 \n",
        "plt.title(\"P*L vs T\")   \n",
        "plt.xlabel('Temperature (Celsius)')     \n",
        "plt.ylabel('P*L')         \n",
        "plt.show()  \n",
        "\n",
        "linregress(T-273.15, L)\n",
        "slope, intercept, rvalue, pvalue, stderr = linregress(T-273.15, L) \n",
        "sr=round(slope, 5)                      \n",
        "inr=round(intercept, 4)\n",
        "Rr=round(rvalue, 4)\n",
        "print( \"P*L =\", sr,\"(T) +\",inr, \", R =\", Rr)"
      ],
      "execution_count": null,
      "outputs": [
        {
          "output_type": "display_data",
          "data": {
            "image/png": "[encoded data removed]",
            "text/plain": [
              "<Figure size 432x288 with 1 Axes>"
            ]
          },
          "metadata": {
            "needs_background": "light"
          }
        },
        {
          "output_type": "stream",
          "name": "stdout",
          "text": [
            "P*L = 0.01659 (T) + 4.5751 , R = 1.0\n"
          ]
        }
      ]
    },
    {
      "cell_type": "markdown",
      "metadata": {
        "id": "rXYpm3e6h1H4"
      },
      "source": [
        "We can obtain the temperature value for which the product (Pressure * measured length) is equal to zero."
      ]
    },
    {
      "cell_type": "code",
      "metadata": {
        "id": "32VUMzHOh1zi",
        "colab": {
          "base_uri": "https://localhost:8080/"
        },
        "outputId": "0a6f6e49-ffb4-4981-f1bd-0376d0e3ecbf"
      },
      "source": [
        "T_cero=round(-inr/sr,2)\n",
        "print(\"T(absolute zero)=\", T_cero, \"Celisus\")"
      ],
      "execution_count": null,
      "outputs": [
        {
          "output_type": "stream",
          "name": "stdout",
          "text": [
            "T(absolute zero)= -275.77 Celisus\n"
          ]
        }
      ]
    },
    {
      "cell_type": "markdown",
      "metadata": {
        "id": "_s-Zp1Jahdxt"
      },
      "source": [
        "14. Using 50 \"light particles\", repeat the entire above procedure.\n",
        "\n",
        "Do you find differences in the results obtained between the two types of particles?"
      ]
    },
    {
      "cell_type": "markdown",
      "metadata": {
        "id": "nWn2COSXUCaI"
      },
      "source": [
        "---\n",
        "\n",
        "#***Recommended Links***\n",
        " \n",
        "*  NumPy Manual : <a href=\"https://numpy.org/doc/stable/index.html\">NumPy v1.21</a>\n",
        "* `numpy` Tutorial : <a href=\"https://cs231n.github.io/python-numpy-tutorial/\">numpy</a>\n",
        "*  `math` Tutorial: <a href=\"https://realpython.com/python-math-module/\">math</a>\n",
        "*  Mathematics in phyton tutorial : (i) <a href=\"https://github.com/drvinceknight/Python-Mathematics-Handbook\">Mathematics in phyton</a> (ii) <a href=\"https://personal.math.ubc.ca/~pwalls/math-python/jupyter/notebook/\">Mathematical Phyton</a>\n",
        " \n",
        "---\n",
        "\n",
        "#***References***\n",
        "\n",
        "*  P. Atkins. Química Fisica. Ed.6. Omega S.A. (1999) p.42.\n",
        "*  Petrucci, Ralph H., William S. Harwood, F. G. Herring, and Jeffry D. Madura. General Chemistry: Principles and Modern Applications. 9th ed. Upper Saddle River: Pearson Education, Inc., 2007.\n",
        "*  Laugier, Alexander; Garai, Jozef. \"Derivation of the Ideal Gas Law.\" $\\small J. Chem. Educ. 2007, 84:11, 1832 -1833.$ <a href=\"https://pubs.acs.org/doi/abs/10.1021/ed084p1832\"> doi:10.1021/ed084p1832</a> \n",
        "*  University of Colorado. PhET: Interactive Simulations for Sciences and Math. <a href=\"https://phet.colorado.edu/\"> Homepage</a> Date access. August 2021."
      ]
    }
  ]
}