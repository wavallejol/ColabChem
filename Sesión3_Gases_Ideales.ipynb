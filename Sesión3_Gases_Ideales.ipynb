{
  "nbformat": 4,
  "nbformat_minor": 0,
  "metadata": {
    "colab": {
      "name": "Sesión3. Gases_Ideales.ipynb",
      "provenance": [],
      "collapsed_sections": [],
      "toc_visible": true,
      "authorship_tag": "ABX9TyNhLnMGeb1mNV8U/T3/3ozb",
      "include_colab_link": true
    },
    "kernelspec": {
      "name": "python3",
      "display_name": "Python 3"
    },
    "language_info": {
      "name": "python"
    }
  },
  "cells": [
    {
      "cell_type": "markdown",
      "metadata": {
        "id": "view-in-github",
        "colab_type": "text"
      },
      "source": [
        "<a href=\"https://colab.research.google.com/github/wavallejol/ColabChem/blob/main/Sesi%C3%B3n3_Gases_Ideales.ipynb\" target=\"_parent\"><img src=\"https://colab.research.google.com/assets/colab-badge.svg\" alt=\"Open In Colab\"/></a>"
      ]
    },
    {
      "cell_type": "markdown",
      "metadata": {
        "id": "_KFNBX1kPBvV"
      },
      "source": [
        "# **Sesión 3. Gases Ideales**\n",
        "***William Vallejo***\n",
        "# **Objetivos**\n",
        " \n",
        " \n",
        "1.   Representar comportamiento de gases ideales utilizando Google Colabs\n",
        "2.   Resolver ejercicios de propiedades de gases ideales utilizando Google Colabs\n",
        "---"
      ]
    },
    {
      "cell_type": "markdown",
      "metadata": {
        "id": "4f2sRuCkQsof"
      },
      "source": [
        " \n",
        "# ***Actividad 1***\n",
        " \n",
        "Se te pide que obtener una gráfica 📈 de la presión en función del inverso del volúmen para un mol de gas, a tres temperaturas diferentes (298 K, 798 K, 1298 k), utilizando la ecuación de los gases ideales:\n",
        "$\\small P=nRT(\\frac{1}{V})$\n",
        ". Se te pide graficar las tres curvas en la misma gráfica.\n",
        " \n",
        "Lo primero que  haremos será importar las bibliotecas que utilizarémos: (i) `math`, (ii) `numpy`, (iii)  <a href=\"https://es.m.wikipedia.org/wiki/Matplotlib\">matplolib.pyplot</a>. \n",
        "La biblioteca `matplotlib.pyplot` permite la generación de gráficas a partir de datos contenidos en listas o matrices en el lenguaje de programación de phyton. Oprime clic en el icono de ▶️ en la siguiente celda de código"
      ]
    },
    {
      "cell_type": "code",
      "metadata": {
        "id": "OydoO284Q3yM"
      },
      "source": [
        "import math\n",
        "import numpy as np\n",
        "import matplotlib.pyplot as plt\n",
        "%matplotlib inline"
      ],
      "execution_count": null,
      "outputs": []
    },
    {
      "cell_type": "markdown",
      "metadata": {
        "id": "VA_5jTZMQ_Jw"
      },
      "source": [
        "Ahora definiremos: (i) la matriz de datos del volúmen con la función `np.arage()`, (ii) la ecuación de la presión a cada temperatura y (iii) algunos parámetros para la presentación de la gráfica utilizando la función `plt.plot()`. Oprime clic en el ícono de ▶️ en la siguiente celda de código"
      ]
    },
    {
      "cell_type": "code",
      "metadata": {
        "colab": {
          "base_uri": "https://localhost:8080/",
          "height": 265
        },
        "id": "G436lg0mRCtM",
        "outputId": "53ad670d-f8e9-483a-9fe7-6c96c9ce08a5"
      },
      "source": [
        "v= np.arange(0.1, 4, 0.1)       #definimos valores para el Vector Volumen\n",
        "p=(0.5*0.08206*298)/v           #Ec. Gases ideales\n",
        "plt.plot(1/v, p)                #Generamos grafica 1/v Vs P\n",
        "plt.show ()                     #presentamos grafica 1/v Vs P"
      ],
      "execution_count": null,
      "outputs": [
        {
          "output_type": "display_data",
          "data": {
            "image/png": "[encoded data removed]",
            "text/plain": [
              "<Figure size 432x288 with 1 Axes>"
            ]
          },
          "metadata": {
            "tags": [],
            "needs_background": "light"
          }
        }
      ]
    },
    {
      "cell_type": "markdown",
      "metadata": {
        "id": "MwD19uwvRjlu"
      },
      "source": [
        "Bien, tenemos la gráfica pero no hemos nombrado los ejes, ahora incluiremos esta información. Oprime clic en el icono de ▶️ en la siguiente celda de código"
      ]
    },
    {
      "cell_type": "code",
      "metadata": {
        "colab": {
          "base_uri": "https://localhost:8080/",
          "height": 279
        },
        "id": "d5iKFu9PRmIV",
        "outputId": "3a99e179-7f7e-4027-d258-c4b492c11036"
      },
      "source": [
        "v= np.arange(0.1, 4, 0.1)\n",
        "p=(0.5*0.08206*298)/v\n",
        "plt.plot(1/v, p, label=\"298K\")      #Establecemos parámetros de la grafica\n",
        "plt.legend()                        #Se mostraran los nombres de los ejes\n",
        "plt.ylabel(\"Presión (atm)\")         #nombre eje (y)\n",
        "plt.xlabel(\"1/V (1/L)\")             #nombre eje (x)\n",
        "plt.show ()"
      ],
      "execution_count": null,
      "outputs": [
        {
          "output_type": "display_data",
          "data": {
            "image/png": "[encoded data removed]",
            "text/plain": [
              "<Figure size 432x288 with 1 Axes>"
            ]
          },
          "metadata": {
            "tags": [],
            "needs_background": "light"
          }
        }
      ]
    },
    {
      "cell_type": "markdown",
      "metadata": {
        "id": "C7801xWnRrey"
      },
      "source": [
        "En la siguiente línea de código escribe la rutina completa para que aparezcan las curvas de $\\small P vs(\\frac{1}{V})$ a las tres temperaturas en la misma gráfica."
      ]
    },
    {
      "cell_type": "code",
      "metadata": {
        "id": "g4T6ts6hRs8F"
      },
      "source": [
        ""
      ],
      "execution_count": null,
      "outputs": []
    },
    {
      "cell_type": "markdown",
      "metadata": {
        "id": "hbAwFbBVS3WR"
      },
      "source": [
        "#**Actividad 2**\n",
        "Se determinó la variación del volumen en función de la temperatura de un mol de $\\small H_{2(g)}$ a presión constante (1 atm). Los datos se listan en la tabla 1. Con la información suministrada determina la temperatura a la cual el volumen del gas es cero ($\\small 0$). \n",
        " \n",
        "Tabla 1. Volumen de $\\small H_{2(g)}$ en función de la temperatura a 1 atm de presión.\n",
        " \n",
        "Temperatura ($^{o}C$)| Volumen ($L$)\n",
        "-------------------|------------------\n",
        "-40 | 19.1482 \n",
        "-20 | 20.7908\n",
        " 0  | 22.4334 \n",
        " 20 | 24.0760\n",
        " 40 | 25.7186\n",
        " 60 | 27.3612\n",
        " 80 | 29.0048\n",
        " \n",
        "Para responder esta pregunta, lo primero que haremos en la siguiente línea de código es importar las librerias que usarémos: `math`, `numpy` ,  `matplotlib.pyplot` y `scipy.stats`"
      ]
    },
    {
      "cell_type": "code",
      "metadata": {
        "id": "nyl1I0QhTDDs"
      },
      "source": [
        ""
      ],
      "execution_count": null,
      "outputs": []
    },
    {
      "cell_type": "markdown",
      "metadata": {
        "id": "Csf-qfWTTEoN"
      },
      "source": [
        "Ahora crea las dos  matrices para la serie de datos  y escribe la rutina para obtener la gráfica."
      ]
    },
    {
      "cell_type": "code",
      "metadata": {
        "id": "xZQ3cfy7TN5O"
      },
      "source": [
        ""
      ],
      "execution_count": null,
      "outputs": []
    },
    {
      "cell_type": "markdown",
      "metadata": {
        "id": "M1WHKnRVTR69"
      },
      "source": [
        "Ahora escribe la rutina para obtener la regresión lineal utilizando la función `linregress()`"
      ]
    },
    {
      "cell_type": "code",
      "metadata": {
        "id": "YANHG5P-TTN1"
      },
      "source": [
        ""
      ],
      "execution_count": null,
      "outputs": []
    },
    {
      "cell_type": "markdown",
      "metadata": {
        "id": "J2Y88bsdTgc2"
      },
      "source": [
        "A patir de la ecuación de la recta que acabas de obtener, después de igualar y=0, podrás encontrar la respuesta del ejercicio. Escribe la rutina para despejar el valor de la temperatura 👊.."
      ]
    },
    {
      "cell_type": "code",
      "metadata": {
        "id": "UIBTMCvsT6rf"
      },
      "source": [
        ""
      ],
      "execution_count": null,
      "outputs": []
    },
    {
      "cell_type": "markdown",
      "metadata": {
        "id": "EutFWbReXVVa"
      },
      "source": [
        "---\n",
        " \n",
        "# ***Actividad 3***\n",
        "La ley de Charles puede ser expresada de la siguiente forma Fuente (Atkins, 1999): \n",
        "\n",
        "$\\small V=V_{o}(1+\\alpha T) \\kern 2pc (1)$\n",
        "\n",
        "Donde T representa la temperatura, $\\small \\alpha$ una constante y $\\small V_{o}$ el volumen del gas a $\\small 0 ^{o}C$. La tabla 1 lista los valores de $\\small \\alpha$ a diferentes presión para un gas determinado.\n",
        "\n",
        "Tabla 2. Valores de constante $\\small \\alpha$ en función de la presión.\n",
        " \n",
        "Presión ($Torr$)| $\\small \\alpha10^{3} (^{o}C^{-1})$\n",
        "-------------------|------------------\n",
        "749.7 | 3.6717 \n",
        "599.6 | 3.6697\n",
        "333.1 | 3.6665 \n",
        "98.6 | 3.6643\n",
        "\n",
        "Con la información suministrada determina el mejor valor de temperatura en la escala celsius para el valor del cero absoluto.\n",
        "\n",
        "Para resolver esta pregunta asumiremos que el volumen del gas será cero en la temperatura del cero absoluto. En consecuencia, la ec. (1) se transforma en:\n",
        "\n",
        "$\\small 0=V_{o}(1+\\alpha T_{(cero.abs)}) \\kern 2pc (2)$\n",
        "\n",
        "Donde $T_{(cero.abs)}$ representa la temperatura del cero absoluto (en celsius). Esta temperatura pude ser obtenida por medio de: \n",
        "\n",
        "$\\small T_{(cero.abs)}=-1/\\alpha \\kern 2pc (3)$\n",
        "\n",
        "Ahora el problema se transforma en encontrar el valor de $\\small \\alpha$.\n",
        "\n",
        "Todos los gases se comportan idealmente a bajas presiones (en el limite $\\small P \\rightarrow0)$ y es en este limite donde encontraremos el mejor valor de $\\small \\alpha$.\n",
        "\n",
        "Ahora es tu turno, con la información presentada, debes obtener la grafica de $\\small \\alpha \\kern 0.2pc Vs \\kern 0.2pc P $ y extrapola el valor de $\\small \\alpha$ cuando $P=0$."
      ]
    },
    {
      "cell_type": "code",
      "metadata": {
        "id": "Xd0CSbnJcY_C"
      },
      "source": [
        ""
      ],
      "execution_count": null,
      "outputs": []
    },
    {
      "cell_type": "markdown",
      "metadata": {
        "id": "AGXm_K-BRxEm"
      },
      "source": [
        "---\n",
        "# ***Actividad 4***\n",
        "El <a href=\"https://es.m.wikipedia.org/wiki/Factor_de_compresibilidad#:~:text=El%20factor%20de%20compresibilidad%20(Z,comportamiento%20de%20un%20gas%20real.\"> factor de compresibilidad</a>.  ($\\small Z$) del etano está representado por la ecuación $\\small Z=1+BP+CP^2+DP^3$  donde P representa la presión en atmosferas y B, C, D son constantes que dependen de la temperatura según la información que se detalla en la tabla 2.\n",
        " \n",
        "Tabla 2. Valores de las constantes B, C, D en función de la temperatura.\n",
        " \n",
        "Temperatura ($K$)| B| C| D\n",
        "-------------------|------------------|------------------|------------------\n",
        "100 | $\\small -5.74x10^{-3}$ | $\\small 6.86x10^{-6}$ | $\\small 1.8x10^{-8}$  \n",
        "1100 | $\\small 1.8x10^{-4}$ | $\\small 2.75x10^{-7}$ | $\\small 1.44x10^{-10}$\n",
        " \n",
        "Con los datos suministrados, en la siguiente linea de código escribe una rutina que te permita obtener la gráfica de $\\small Z  vs P$ para las dos temperaturas mostradas en la tabla 2,  en un rango de presiones de ($\\small 0 -1000 atm$). Explica las diferencias entre las dos curvas obtenidas.\n",
        " \n",
        "Lo primero que haremos será importar las librerias que utilizaremos: `math`, `numpy` y `matplotlib.pyplot`"
      ]
    },
    {
      "cell_type": "code",
      "metadata": {
        "id": "_YDWYyB0VUQr"
      },
      "source": [
        ""
      ],
      "execution_count": null,
      "outputs": []
    },
    {
      "cell_type": "markdown",
      "metadata": {
        "id": "KjcXFo0DV5mA"
      },
      "source": [
        "En la siguiente celda de codigo escribe la rutina para: (i) la matriz de datos para los valores de presión con la función `np.arage()`, (ii) las dos ecuaciones de $\\small Z(P)$ a cada temperatura y (iii) los parámetros para la presentación de la gráfica utilizando la función `plt`"
      ]
    },
    {
      "cell_type": "code",
      "metadata": {
        "id": "hSd9XiCHX3_7"
      },
      "source": [
        ""
      ],
      "execution_count": null,
      "outputs": []
    },
    {
      "cell_type": "markdown",
      "metadata": {
        "id": "nWn2COSXUCaI"
      },
      "source": [
        "---\n",
        "\n",
        "#***Enlaces Recomendados***\n",
        " \n",
        "\n",
        "*  Tutorial de `numpy`: <a href=\"http://facundoq.github.io/courses/images/res/03_numpy.html\">numpy</a>\n",
        "*  Tutorial de `math`: <a href=\"https://docs.python.org/es/3/library/math.html\">math</a>\n",
        "*  Tutorial de `matplotlib`: <a href=\"https://matplotlib.org/stable/tutorials/introductory/pyplot.html\">matplotlib</a>\n",
        "*  Tutorial de matemáticas en phyton: (i) <a href=\"https://interactivechaos.com/es/manual/tutorial-de-python/variables\">Matematicas en Phyton</a> (ii) <a href=\"https://personal.math.ubc.ca/~pwalls/math-python/jupyter/notebook/\">Mathematical Phyton</a>\n",
        "*  Tutorial de Álgebra lineal: <a href=\"https://relopezbriega.github.io/blog/2015/06/14/algebra-lineal-con-python/\"> Álgebra Lineal con Phyton</a> \n",
        " \n",
        "---\n",
        "\n",
        "#***Referencias***\n",
        "\n",
        "P. Atkins. Química Fisica. Ed.6. Omega S.A. (1999) p.42."
      ]
    }
  ]
}