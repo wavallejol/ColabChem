{
  "nbformat": 4,
  "nbformat_minor": 0,
  "metadata": {
    "colab": {
      "name": "Sesión3. Gases_Ideales.ipynb",
      "provenance": [],
      "collapsed_sections": [],
      "toc_visible": true,
      "authorship_tag": "ABX9TyPHcK+9ioHLave2xMKS27Wp",
      "include_colab_link": true
    },
    "kernelspec": {
      "name": "python3",
      "display_name": "Python 3"
    },
    "language_info": {
      "name": "python"
    }
  },
  "cells": [
    {
      "cell_type": "markdown",
      "metadata": {
        "id": "view-in-github",
        "colab_type": "text"
      },
      "source": [
        "<a href=\"https://colab.research.google.com/github/wavallejol/ColabChem/blob/main/Sesi%C3%B3n3_Gases_Ideales.ipynb\" target=\"_parent\"><img src=\"https://colab.research.google.com/assets/colab-badge.svg\" alt=\"Open In Colab\"/></a>"
      ]
    },
    {
      "cell_type": "markdown",
      "metadata": {
        "id": "_KFNBX1kPBvV"
      },
      "source": [
        "# **Sesión 3. Gases Ideales**\n",
        "# **Objetivos**\n",
        " \n",
        " \n",
        "1.   Representar comportamiento de gases ideales utilizando Google Colabs\n",
        "2.   Resolver ejercicios de propiedades de gases ideales utilizando Google Colabs\n",
        "3.   Utilizar la plataforma PhET para verificar la ley de Boyle y la ley de Charles.\n",
        "---"
      ]
    },
    {
      "cell_type": "markdown",
      "metadata": {
        "id": "4f2sRuCkQsof"
      },
      "source": [
        " \n",
        "# ***Actividad 1***\n",
        " \n",
        "<div align=\"justify\">Se te pide que obtener una gráfica 📈 de la presión en función del inverso del volúmen para un mol de gas, a tres temperaturas diferentes (298 K, 798 K, 1298 k), utilizando la ecuación de los gases ideales:\n",
        "$\\small P=nRT(\\frac{1}{V})$\n",
        ". Se te pide graficar las tres curvas en la misma gráfica.\n",
        " \n",
        "Lo primero que  haremos será importar las bibliotecas que utilizarémos: (i) `math`, (ii) `numpy`, (iii)  <a href=\"https://es.m.wikipedia.org/wiki/Matplotlib\">matplolib.pyplot</a>. \n",
        "La biblioteca `matplotlib.pyplot` permite la generación de gráficas a partir de datos contenidos en listas o matrices en el lenguaje de programación de phyton. Oprime clic en el icono de ▶️ en la siguiente celda de código.</div>"
      ]
    },
    {
      "cell_type": "code",
      "metadata": {
        "id": "OydoO284Q3yM"
      },
      "source": [
        "import math\n",
        "import numpy as np\n",
        "import matplotlib.pyplot as plt"
      ],
      "execution_count": 20,
      "outputs": []
    },
    {
      "cell_type": "markdown",
      "metadata": {
        "id": "VA_5jTZMQ_Jw"
      },
      "source": [
        "Ahora definiremos: (i) la matriz de datos del volúmen con la función `np.arage()`, (ii) la ecuación de la presión a cada temperatura y (iii) algunos parámetros para la presentación de la gráfica utilizando la función `plt.plot()`. Oprime clic en el ícono de ▶️ en la siguiente celda de código"
      ]
    },
    {
      "cell_type": "code",
      "metadata": {
        "colab": {
          "base_uri": "https://localhost:8080/",
          "height": 265
        },
        "id": "G436lg0mRCtM",
        "outputId": "e4338a40-eb32-46d4-db54-220836e69895"
      },
      "source": [
        "v= np.arange(0.1, 4, 0.1)       #definimos valores para el Vector Volumen\n",
        "p=(0.5*0.08206*298)/v           #Ec. Gases ideales\n",
        "plt.plot(1/v, p)                #Generamos grafica 1/v Vs P\n",
        "plt.show ()                     #presentamos grafica 1/v Vs P"
      ],
      "execution_count": 21,
      "outputs": [
        {
          "output_type": "display_data",
          "data": {
            "image/png": "[encoded data removed]",
            "text/plain": [
              "<Figure size 432x288 with 1 Axes>"
            ]
          },
          "metadata": {
            "needs_background": "light"
          }
        }
      ]
    },
    {
      "cell_type": "markdown",
      "metadata": {
        "id": "MwD19uwvRjlu"
      },
      "source": [
        "Bien, tenemos la gráfica pero no hemos nombrado los ejes, ahora incluiremos esta información. Oprime clic en el icono de ▶️ en la siguiente celda de código"
      ]
    },
    {
      "cell_type": "code",
      "metadata": {
        "colab": {
          "base_uri": "https://localhost:8080/",
          "height": 284
        },
        "id": "d5iKFu9PRmIV",
        "outputId": "68e6394d-c244-41ce-ac4f-26ae82a40b41"
      },
      "source": [
        "v= np.arange(0.1, 4, 0.1)\n",
        "p=(0.5*0.08206*298)/v\n",
        "plt.plot(1/v, p, label=\"298K\")     \n",
        "plt.legend()                       \n",
        "plt.ylabel(\"Presión (atm)\")        \n",
        "plt.xlabel(r\"${1/V (\\mathrm{nm^{-1}})}$\")   # mathrm permite utilizar notación Latex en graficos\n",
        "plt.show ()"
      ],
      "execution_count": 23,
      "outputs": [
        {
          "output_type": "display_data",
          "data": {
            "image/png": "[encoded data removed]",
            "text/plain": [
              "<Figure size 432x288 with 1 Axes>"
            ]
          },
          "metadata": {
            "needs_background": "light"
          }
        }
      ]
    },
    {
      "cell_type": "markdown",
      "metadata": {
        "id": "C7801xWnRrey"
      },
      "source": [
        "*Ejercicio 1:* En la siguiente línea de código escribe la rutina completa para que aparezcan las curvas de $\\small P vs(\\frac{1}{V})$ a las tres temperaturas en la misma gráfica."
      ]
    },
    {
      "cell_type": "code",
      "metadata": {
        "id": "g4T6ts6hRs8F"
      },
      "source": [
        ""
      ],
      "execution_count": null,
      "outputs": []
    },
    {
      "cell_type": "markdown",
      "metadata": {
        "id": "hbAwFbBVS3WR"
      },
      "source": [
        "#**Actividad 2**\n",
        "*Ejercicio 2:* Se determinó la variación del volumen en función de la temperatura de un mol de $\\small H_{2(g)}$ a presión constante (1 atm). Los datos se listan en la tabla 1. Con la información suministrada determina la temperatura a la cual el volumen del gas es cero ($\\small 0$). \n",
        " \n",
        "<div align = \"center\"> Tabla 1. Volumen de $\\small H_{2(g)}$ en función de la temperatura a 1 atm de presión.</div>\n",
        " \n",
        "Temperatura ($^{o}C$)| Volumen ($L$)\n",
        "-------------------|------------------\n",
        "-40 | 19.1482 \n",
        "-20 | 20.7908\n",
        " 0  | 22.4334 \n",
        " 20 | 24.0760\n",
        " 40 | 25.7186\n",
        " 60 | 27.3612\n",
        " 80 | 29.0048\n",
        " \n",
        "Para responder esta pregunta, (i) primero debes importar las librerias: `math`, `numpy` y `scipy.stats`, (ii) luego debes crear las dos  matrices para la serie de datos. (iii) Finalmente, puedes utilizar  la función `linregress()` para obtener la regresión lineal."
      ]
    },
    {
      "cell_type": "code",
      "metadata": {
        "id": "nyl1I0QhTDDs"
      },
      "source": [
        ""
      ],
      "execution_count": null,
      "outputs": []
    },
    {
      "cell_type": "markdown",
      "metadata": {
        "id": "J2Y88bsdTgc2"
      },
      "source": [
        "A patir de la ecuación de la recta que acabas de obtener, después de igualar y=0, podrás encontrar la respuesta del ejercicio. Escribe la rutina para despejar el valor de la temperatura 👊 ."
      ]
    },
    {
      "cell_type": "code",
      "metadata": {
        "id": "UIBTMCvsT6rf"
      },
      "source": [
        ""
      ],
      "execution_count": null,
      "outputs": []
    },
    {
      "cell_type": "markdown",
      "metadata": {
        "id": "EutFWbReXVVa"
      },
      "source": [
        "---\n",
        " \n",
        "# ***Actividad 3***\n",
        "*Ejercicio 3:* La ley de Charles puede ser expresada de la siguiente forma: \n",
        "\n",
        "$\\small V=V_{o}(1+\\alpha T) \\kern 2pc (1)$\n",
        "\n",
        "Donde T representa la temperatura, $\\small \\alpha$ una constante y $\\small V_{o}$ el volumen del gas a $\\small 0 ^{o}C$. La tabla 1 lista los valores de $\\small \\alpha$ a diferentes presión para un gas determinado. Fuente (Atkins, 1999)\n",
        "\n",
        "<div align = \"center\"> Tabla 2. Valores de constante $\\small \\alpha$ en función de la presión.</div>\n",
        " \n",
        "Presión ($Torr$)| $\\small \\alpha10^{3} (^{o}C^{-1})$\n",
        "-------------------|------------------\n",
        "749.7 | 3.6717 \n",
        "599.6 | 3.6697\n",
        "333.1 | 3.6665 \n",
        "98.6 | 3.6643\n",
        "\n",
        "Con la información suministrada determina el mejor valor de temperatura en la escala celsius para el valor del cero absoluto. Deberás obtener la grafica de $\\small \\alpha \\kern 0.2pc Vs \\kern 0.2pc P $ y realizar la regresión respectiva. Con la formula obtenida, extrapola el valor de $\\small \\alpha$ cuando $P=0$. Puedes revisar la <a href=\"https://github.com/wavallejol/ColabChem/blob/main/Sesi%C3%B3n2_Intro_B.ipynb\">sesión 2</a> para obtener información sobre la regresión.</div>"
      ]
    },
    {
      "cell_type": "code",
      "metadata": {
        "id": "Xd0CSbnJcY_C"
      },
      "source": [
        ""
      ],
      "execution_count": null,
      "outputs": []
    },
    {
      "cell_type": "markdown",
      "metadata": {
        "id": "AGXm_K-BRxEm"
      },
      "source": [
        "---\n",
        "# ***Actividad 4***\n",
        "*Ejercicio 4:* El <a href=\"https://es.m.wikipedia.org/wiki/Factor_de_compresibilidad#:~:text=El%20factor%20de%20compresibilidad%20(Z,comportamiento%20de%20un%20gas%20real.\"> factor de compresibilidad</a>.  ($\\small Z$) del etano está representado por la ecuación $\\small Z=1+BP+CP^2+DP^3$  donde P representa la presión en atmosferas y B, C, D son constantes que dependen de la temperatura según la información que se detalla en la tabla 2.\n",
        " \n",
        "<div align = \"center\"> Tabla 3. Valores de las constantes B, C, D en función de la temperatura.</div>\n",
        " \n",
        "Temperatura ($K$)| B| C| D\n",
        "-------------------|------------------|------------------|------------------\n",
        "100 | $\\small -5.74x10^{-3}$ | $\\small 6.86x10^{-6}$ | $\\small 1.8x10^{-8}$  \n",
        "1100 | $\\small 1.8x10^{-4}$ | $\\small 2.75x10^{-7}$ | $\\small 1.44x10^{-10}$\n",
        " \n",
        "Con los datos suministrados, en la siguiente linea de código escribe una rutina que te permita obtener la gráfica de $\\small Z  vs P$ para las dos temperaturas mostradas en la tabla 2,  en un rango de presiones de ($\\small 0 -1000 atm$). Explica las diferencias entre las dos curvas obtenidas.\n",
        " \n"
      ]
    },
    {
      "cell_type": "code",
      "metadata": {
        "id": "hSd9XiCHX3_7"
      },
      "source": [
        ""
      ],
      "execution_count": null,
      "outputs": []
    },
    {
      "cell_type": "markdown",
      "metadata": {
        "id": "O7HxN_W-y51j"
      },
      "source": [
        "# ***Actividad 5: Solución de las actividades***\n",
        "---\n",
        "En esta sección se presentan las soluciones de las actividades que desarrollaste en las secciones anteriores. \n",
        "\n",
        "*Solución ejercicio 1:*"
      ]
    },
    {
      "cell_type": "code",
      "metadata": {
        "id": "YylVJbKyzE28",
        "colab": {
          "base_uri": "https://localhost:8080/",
          "height": 284
        },
        "outputId": "7e358228-4ed5-411b-e078-f8015f0341b4"
      },
      "source": [
        "import math\n",
        "import numpy as np\n",
        "import matplotlib.pyplot as plt\n",
        "\n",
        "v= np.arange(0.1, 4, 0.1)\n",
        "p1=(0.5*0.08206*298)/v\n",
        "p2=(0.5*0.08206*798)/v\n",
        "p3=(0.5*0.08206*1298)/v\n",
        "plt.plot(1/v, p1, label=\"298K\")      \n",
        "plt.plot(1/v, p2, label=\"798K\") \n",
        "plt.plot(1/v, p3, label=\"2198K\") \n",
        "plt.legend()                        \n",
        "plt.ylabel(\"Presión (atm)\")         \n",
        "plt.xlabel(r\"${1/V (\\mathrm{nm^{-1}})}$\")            \n",
        "plt.show ()"
      ],
      "execution_count": 24,
      "outputs": [
        {
          "output_type": "display_data",
          "data": {
            "image/png": "[encoded data removed]",
            "text/plain": [
              "<Figure size 432x288 with 1 Axes>"
            ]
          },
          "metadata": {
            "needs_background": "light"
          }
        }
      ]
    },
    {
      "cell_type": "markdown",
      "metadata": {
        "id": "dFy2iJjE37Va"
      },
      "source": [
        "*Solución ejercicio 2:* Después de obtener la ecuación lineal, Y se iguala a cero y se despeja la temperatura."
      ]
    },
    {
      "cell_type": "code",
      "metadata": {
        "id": "kmNu5pgE33NE",
        "colab": {
          "base_uri": "https://localhost:8080/"
        },
        "outputId": "b18798de-73fc-4966-f32c-f36bee4c6370"
      },
      "source": [
        "import numpy as np                         \n",
        "from scipy.stats import linregress   \n",
        "\n",
        "T = np.array([-40, -20, 0, 20, 40, 60, 80])\n",
        "V = np.array([19.1482, 20.7908, 22.4334, 24.0760, 25.7186, 27.3612, 29.0048])\n",
        "linregress(T, V)\n",
        "\n",
        "slope, intercept, rvalue, pvalue, stderr = linregress(T, V) \n",
        "sr=round(slope, 5)                       \n",
        "inr=round(intercept, 5)\n",
        "Rr=round(rvalue, 4)\n",
        "print( \"V =\", sr,\"(T) +\",inr, \", R =\", Rr)"
      ],
      "execution_count": null,
      "outputs": [
        {
          "output_type": "stream",
          "name": "stdout",
          "text": [
            "V = 0.08214 (T) + 22.43344 , R = 1.0\n"
          ]
        }
      ]
    },
    {
      "cell_type": "code",
      "metadata": {
        "id": "8mb0zEH_4Qod",
        "colab": {
          "base_uri": "https://localhost:8080/"
        },
        "outputId": "cfa84847-12b0-4522-bd0c-5d27899e9fcd"
      },
      "source": [
        "TVo=round(-22.43344/0.08214,2)\n",
        "print(\"T(cero Absoluto) =\",TVo,\" Celsius\")"
      ],
      "execution_count": null,
      "outputs": [
        {
          "output_type": "stream",
          "name": "stdout",
          "text": [
            "T(cero Absoluto) = -273.11  Celsius\n"
          ]
        }
      ]
    },
    {
      "cell_type": "markdown",
      "metadata": {
        "id": "adBXy1JrNO57"
      },
      "source": [
        "*Ejercicio 3:* Para resolver esta pregunta asumiremos que el volumen del gas será cero en la temperatura del cero absoluto. En consecuencia, la ec. (1) se transforma en:\n",
        "\n",
        "$\\small 0=V_{o}(1+\\alpha T_{(cero)}) \\kern 2pc (2)$\n",
        "\n",
        "Donde $T_{(cero)}$ representa la temperatura del cero absoluto (en celsius). El valor de $T_{(cero)}$ pude ser obtenido a partir de la ecuación 2: \n",
        "\n",
        "$\\small T_{(cero)}=-1/\\alpha \\kern 2pc (3)$\n",
        "\n",
        "Ahora el problema del ejercicio se transforma en encontrar el valor de $\\small \\alpha$.\n",
        "\n",
        "El comportamiento de los gases puede aproximarse al comportamiento ideal a bajas presiones (en el limite $\\small P \\rightarrow0)$ y es en este limite donde encontraremos el mejor valor de $\\small \\alpha$. Con la información presentada, debes obtener la grafica de $\\small \\alpha \\kern 0.2pc Vs \\kern 0.2pc P $ y realizar la regresión respectiva. Con la formula obtenida, extrapola el valor de $\\small \\alpha$ cuando $P=0$. Puedes revisar la <a href=\"https://github.com/wavallejol/ColabChem/blob/main/Sesi%C3%B3n2_Intro_B.ipynb\">sesión 2</a> para obtener información sobre la regresión.</div>"
      ]
    },
    {
      "cell_type": "code",
      "metadata": {
        "colab": {
          "base_uri": "https://localhost:8080/"
        },
        "id": "GAnR2sH6OIMO",
        "outputId": "e7d220d3-4118-4a00-b780-54a32bb2ce30"
      },
      "source": [
        "P = np.array([749.7, 599.6, 333.1, 98.6])\n",
        "alfa = np.array([3.6717e-3, 3.6697e-3, 3.6665e-3, 3.6643e-3])\n",
        "linregress(P, alfa)\n",
        "\n",
        "slope, intercept, rvalue, pvalue, stderr = linregress(P, alfa) \n",
        "sr=round(slope, 10)                       \n",
        "inr=round(intercept, 6)\n",
        "Rr=round(rvalue, 4)\n",
        "print( \"alfa(P) =\", sr,\"(P) +\",inr, \", R =\", Rr)\n",
        "print(\"alfa(0) = \", inr)\n",
        "T_alfa=round(1/inr,2)\n",
        "print(\"T(cero absoluto)=\",T_alfa,\" Celsius\")"
      ],
      "execution_count": null,
      "outputs": [
        {
          "output_type": "stream",
          "name": "stdout",
          "text": [
            "alfa(P) = 1.14e-08 (P) + 0.003663 , R = 0.9976\n",
            "alfa(0) =  0.003663\n",
            "T(cero absoluto)= 273.0  Celsius\n"
          ]
        }
      ]
    },
    {
      "cell_type": "markdown",
      "metadata": {
        "id": "heKn5JriRmZe"
      },
      "source": [
        "*Ejercicio 4:* (i) Lo primero que haremos será importar las librerias que utilizaremos: `math`, `numpy` y `matplotlib.pyplot`. (ii) luego crearemos la matriz de datos para los valores de presión con la función `np.arage()`, (iii) las dos ecuaciones de $\\small Z(P)$ a cada temperatura y (iii) los parámetros para la presentación de la gráfica utilizando la función `plt`."
      ]
    },
    {
      "cell_type": "code",
      "metadata": {
        "colab": {
          "base_uri": "https://localhost:8080/",
          "height": 279
        },
        "id": "BdP2khzbSeAV",
        "outputId": "a09720ec-8809-4094-acdc-99e25ad18378"
      },
      "source": [
        "P= np.arange(0, 1100, 1)\n",
        "B=-5.74e-3\n",
        "B1=1.89e-4\n",
        "C=6.86e-6\n",
        "C1=2.75e-7\n",
        "D=1.8e-8\n",
        "D1=1.44e-10\n",
        "Z=1+B*P+C*P**2+D*P**3\n",
        "Z2=1+B1*P+C1*P**2+D1*P**3\n",
        "plt.xlabel(\"Presión(atm)\")\n",
        "plt.ylim(0,28)\n",
        "plt.xlim(0,1100)\n",
        "plt.ylabel(\"Z\")\n",
        "plt.plot(P,Z,\"r\", label=\"100K\")\n",
        "plt.plot(P,Z2, \"m\",label=\"1100K\")\n",
        "plt.legend()\n",
        "plt.show ()"
      ],
      "execution_count": null,
      "outputs": [
        {
          "output_type": "display_data",
          "data": {
            "image/png": "[encoded data removed]",
            "text/plain": [
              "<Figure size 432x288 with 1 Axes>"
            ]
          },
          "metadata": {
            "needs_background": "light"
          }
        }
      ]
    },
    {
      "cell_type": "markdown",
      "metadata": {
        "id": "QFOWzyCOBeDJ"
      },
      "source": [
        "---\n",
        "# ***Actividad 6: Laboratorio Virtual***\n",
        "<div align=\"justify\">En la plataforma PHET de la Universidad de Colorado se crean simulaciones interactivas gratuitas de matemáticas y ciencias. Se utilizará esta herramienta para realizar las actividades de los Laboratorios Virtuales. Puedes Obtner mas información en la pagina oficial  <a href=\"https://phet.colorado.edu/es/\"> PhET homepage</a>. A continuación te presentamos una guía paso a paso para utilizar la plataforma PhET y desarrollar las actividades virtuales.</div>\n",
        "\n",
        "###**6.1. Conocimiento de la plataforma PhET**\n",
        "\n",
        "Para desarrollar esta actividad:\n",
        "\n",
        "1.   Abre en una nueva ventana el siguiente Link: <a href=\"https://phet.colorado.edu/sims/html/gases-intro/latest/gases-intro_en.html\"> PhET simulation</a> \n",
        "2.   Dar doble clic en la opción “Laws” o “Leyes”.\n",
        "3.   Dar clic a la opción “partículas” o “Particles”\n",
        "4.   Adiciona 50 partículas pesadas “Heavy”.\n",
        "5.   Explora y utiliza las demás herramientas del simulador y modifica la temperatura, observa que ocurre con el indicador de presión. \n",
        "6.   Ahora modifica el Volumen y observa que ocurre con el indicador de presión.\n",
        "\n",
        "###**6.2. Verificación de la ley de Boyle** \n",
        "\n",
        "Para desarrollar esta actividad:\n",
        "\n",
        "1.   Abre en una nueva ventana el siguiente Link: <a href=\"https://phet.colorado.edu/sims/html/gases-intro/latest/gases-intro_en.html\"> PhET simulation</a> \n",
        "2.   Dar doble clic en la opción “Laws” o “Leyes”.\n",
        "3.   Dar clic a la opción “partículas” o “Particles”\n",
        "4.   Adiciona 50 partículas pesadas “Heavy”.\n",
        "5.   Dar clic en el indicador de “ancho”, se activará el indicador de longitud de ancho de la caja que contiene las partículas.\n",
        "6.   Mueve la manija de la izquierda de tal manera que indicador marque 15 nm, anota este valor.\n",
        "7.   Dar clic en la opción “mantener constante” a la variable Temepratura. Anote el valor de la presión del sistema.\n",
        "8.   Anota la presión medida para esta longitud.\n",
        "9. Mueve la manija de la izquierda de tal manera que indicador marque 14 y anote la nueva presión medida.\n",
        "10. Mueve la manija de la izquierda de tal manera que indicador marque 13 y anote la nueva presión medida.\n",
        "11. Repite el procedimiento hasta llegar a 11 mediciones (en la ultima medida el indicador marcará 5).\n",
        "12. Con los datos obtenidos grafique el valor de longitud medida (eje x) vs presión (eje y).\n",
        "13. Con los datos obtenidos grafica (1/valor de longitud medida, en el eje x) vs presión (eje y).\n",
        "14. Analiza los resultados obtenidos. ¿Se verifica visualmente la ley de Boyle?\n",
        "\n",
        "* En la siguiente celda de código se muestra la rutina para obtener las curvas de (P Vs L) y (P Vs 1/L) a partir de los datos generados con la guía de la actividad desarrollada previamente.\n",
        "\n",
        "\n"
      ]
    },
    {
      "cell_type": "code",
      "metadata": {
        "colab": {
          "base_uri": "https://localhost:8080/",
          "height": 286
        },
        "id": "dSplPgsvT0V6",
        "outputId": "c565643b-ea6a-4562-cad1-54c8f75aeab8"
      },
      "source": [
        "import math\n",
        "import numpy as np\n",
        "import matplotlib.pyplot as plt\n",
        "\n",
        "P = np.array([3.9,4.2,4.5,4.9,5.3,5.9,6.5,7.3,8.3,9.7,11.7])\n",
        "L = np.array([15,14,13,12,11,10,9,8,7,6,5])\n",
        "\n",
        "plt.subplot(1,2,1)\n",
        "plt.plot(1/L,P, \"r\", label=\"P Vs 1/L\")\n",
        "plt.ylabel('Presión (atm)')\n",
        "plt.xlabel(r\"${1/L (\\mathrm{nm^{-1}})}$\") \n",
        "plt.legend()\n",
        "\n",
        "plt.subplot(1,2,2)\n",
        "plt.plot(L,P, \"m\", label=\"P Vs L\")\n",
        "plt.xlabel('L')\n",
        "plt.legend()\n",
        "plt.show()"
      ],
      "execution_count": 25,
      "outputs": [
        {
          "output_type": "display_data",
          "data": {
            "image/png": "[encoded data removed]",
            "text/plain": [
              "<Figure size 432x288 with 2 Axes>"
            ]
          },
          "metadata": {
            "needs_background": "light"
          }
        }
      ]
    },
    {
      "cell_type": "markdown",
      "metadata": {
        "id": "wSfmlSd1nVBE"
      },
      "source": [
        "15. Repite todo el procedimiento anterior ahora con partículas ligeras. \n",
        "\n",
        "¿Encuentras alguna diferencia entre los resultados obtenidos entre los dos tipos de partículas?"
      ]
    },
    {
      "cell_type": "markdown",
      "metadata": {
        "id": "lnBV6TLDT26t"
      },
      "source": [
        "\n",
        "###**6.3. Verificación de la ley de Charles** \n",
        "\n",
        "Para desarrollar esta actividad:\n",
        "\n",
        "1.   Abre en una nueva ventana el siguiente Link: <a href=\"https://phet.colorado.edu/sims/html/gas-properties/latest/gas-properties_es.html\"> Propiedades de los gases</a> \n",
        "2.   Elige la opción “Ideal”.\n",
        "3.   Dar clic a la opción “partículas” o “Particles”\n",
        "4.   Adiciona 50 partículas pesadas “Heavy”.\n",
        "5.   Dar clic en el indicador de “ancho”, se activará el indicador de longitud de ancho de la caja que contiene las partículas.\n",
        "5.   Mueve la manija de la derecha de tal manera que indicador marque 5 nm.\n",
        "7. Anota el valor de temperatura medida.\n",
        "8. Dar clic en la opción “mantener constante” a la variable \"Presión V\". Anote el valor de la presión del sistema.\n",
        "9. Utiliza la palanca de calentamiento e incremente la temperatura del sistema (30 - 40 Kelvin).\n",
        "10. Anota el nuevo valor de ancho de la caja medido.\n",
        "11. Repite el procedimiento hasta que el indicador de ancho de la caja llegue a 15 nm, trate de obtener al menos 8 datos.\n",
        "12. Con los datos obtenidos grafique el valor de longitud medida vs Temperatura.\n",
        "14. Con los datos obtenidos, grafica el producto (Presión*longitud medida, eje y) vs Temperatura (en grados Celcius, eje x).\n",
        "15. Realiza una regresión lineal con los datos y obtenga la ecuación de la recta y el valor de R2 (Factor de regresión).\n",
        "16. Con la ecuación de la recta obtenida, determina para que valor de temperatura el producto (Presión*longitud medida) es igual acero. \n",
        "\n",
        "¿A que temperatura corresponde el valor determinado?\n",
        "\n",
        "\n",
        "* En la siguiente celda de código se muestra la rutina para obtener la curva de (L Vs T) y la regresión lineal.\n",
        "\n"
      ]
    },
    {
      "cell_type": "code",
      "metadata": {
        "id": "FZRub5K4nnm-",
        "colab": {
          "base_uri": "https://localhost:8080/",
          "height": 312
        },
        "outputId": "d6d6481d-e534-418c-a67f-50d516fae90e"
      },
      "source": [
        "import math\n",
        "import numpy as np\n",
        "import matplotlib.pyplot as plt\n",
        "from scipy.stats import linregress  \n",
        "\n",
        "P = 11.7                                                                      # Presión (atm)\n",
        "T = np.array([300, 345, 403, 484, 557, 621, 677, 721, 815, 853, 885])         # Temperatura (Kelvin)\n",
        "L = np.array([5.0, 5.8, 6.7, 8.1, 9.3, 10.3, 11.3, 12.0, 13.6, 14.2, 14.7])   # L (nm)\n",
        "\n",
        "plt.plot(T-273.15,L*P,'b*')                 \n",
        "plt.title(\"P*L vs T\")   \n",
        "plt.xlabel('Temperatura (Celsius)')     \n",
        "plt.ylabel('P*L')         \n",
        "plt.show()  \n",
        "\n",
        "linregress(T-273.15, L)\n",
        "slope, intercept, rvalue, pvalue, stderr = linregress(T-273.15, L) \n",
        "sr=round(slope, 5)                      \n",
        "inr=round(intercept, 4)\n",
        "Rr=round(rvalue, 4)\n",
        "print( \"P*L =\", sr,\"(T) +\",inr, \", R =\", Rr)"
      ],
      "execution_count": 26,
      "outputs": [
        {
          "output_type": "display_data",
          "data": {
            "image/png": "[encoded data removed]",
            "text/plain": [
              "<Figure size 432x288 with 1 Axes>"
            ]
          },
          "metadata": {
            "needs_background": "light"
          }
        },
        {
          "output_type": "stream",
          "name": "stdout",
          "text": [
            "P*L = 0.01659 (T) + 4.5751 , R = 1.0\n"
          ]
        }
      ]
    },
    {
      "cell_type": "markdown",
      "metadata": {
        "id": "Yhj7adH4PyR8"
      },
      "source": [
        "Con l aecuación de la recta podemos obtener el valor de temperatura para la cual el producto (Presión*longitud medida) es igual acero. "
      ]
    },
    {
      "cell_type": "code",
      "metadata": {
        "id": "okmhHrVxOQzJ",
        "colab": {
          "base_uri": "https://localhost:8080/"
        },
        "outputId": "087843fa-e15f-4b80-8541-eaf5905e7cbf"
      },
      "source": [
        "T_cero=round(-inr/sr,2)\n",
        "print(\"T_cero_abs=\", T_cero, \"Celisus\")"
      ],
      "execution_count": null,
      "outputs": [
        {
          "output_type": "stream",
          "name": "stdout",
          "text": [
            "T_cero_abs= -275.77 Celisus\n"
          ]
        }
      ]
    },
    {
      "cell_type": "markdown",
      "metadata": {
        "id": "HTJ4YwAPK4Ey"
      },
      "source": [
        "\n",
        "17. Repite todo el procedimiento anterior ahora con partículas ligeras. \n",
        "\n",
        "¿Encuentras alguna diferencia entre los resultados obtenidos entre los dos tipos de partículas?"
      ]
    },
    {
      "cell_type": "markdown",
      "metadata": {
        "id": "nWn2COSXUCaI"
      },
      "source": [
        "---\n",
        "\n",
        "#***Enlaces Recomendados***\n",
        " \n",
        "\n",
        "*  Tutorial de `numpy`: <a href=\"http://facundoq.github.io/courses/images/res/03_numpy.html\">numpy</a>\n",
        "*  Tutorial de `math`: <a href=\"https://docs.python.org/es/3/library/math.html\">math</a>\n",
        "*  Tutorial de `matplotlib`: <a href=\"https://matplotlib.org/stable/tutorials/introductory/pyplot.html\">matplotlib</a>\n",
        "*  Tutorial de matemáticas en phyton: (i) <a href=\"https://interactivechaos.com/es/manual/tutorial-de-python/variables\">Matematicas en Phyton</a> (ii) <a href=\"https://personal.math.ubc.ca/~pwalls/math-python/jupyter/notebook/\">Mathematical Phyton</a>\n",
        "*  Tutorial de Álgebra lineal: <a href=\"https://relopezbriega.github.io/blog/2015/06/14/algebra-lineal-con-python/\"> Álgebra Lineal con Phyton</a> \n",
        " \n",
        "---\n",
        "\n",
        "#***Referencias***\n",
        "\n",
        "*  P. Atkins. Química Fisica. Ed.6. Omega S.A. (1999) p.42.\n",
        "*  Petrucci, Ralph H., William S. Harwood, F. G. Herring, and Jeffry D. Madura. General Chemistry: Principles and Modern Applications. 9th ed. Upper Saddle River: Pearson Education, Inc., 2007.\n",
        "*  Laugier, Alexander; Garai, Jozef. \"Derivation of the Ideal Gas Law.\" $\\small J. Chem. Educ. 2007, 84:11, 1832 -1833.$ <a href=\"https://pubs.acs.org/doi/abs/10.1021/ed084p1832\"> doi:10.1021/ed084p1832</a> \n",
        "*  Universidad de Colorado. PhET:Simulaciones Interactivas. <a href=\"https://phet.colorado.edu/\"> Homepage</a> Fecha de Consulta. Agosto 2021."
      ]
    }
  ]
}