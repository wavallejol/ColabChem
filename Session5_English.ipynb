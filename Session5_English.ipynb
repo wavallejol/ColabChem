{
  "nbformat": 4,
  "nbformat_minor": 0,
  "metadata": {
    "colab": {
      "name": "Session5_English.ipynb",
      "provenance": [],
      "collapsed_sections": [],
      "toc_visible": true,
      "authorship_tag": "ABX9TyOu+VHeSfy6ik/DEXuKg3k6",
      "include_colab_link": true
    },
    "kernelspec": {
      "name": "python3",
      "display_name": "Python 3"
    },
    "language_info": {
      "name": "python"
    }
  },
  "cells": [
    {
      "cell_type": "markdown",
      "metadata": {
        "id": "view-in-github",
        "colab_type": "text"
      },
      "source": [
        "<a href=\"https://colab.research.google.com/github/wavallejol/ColabChem/blob/main/Session5_English.ipynb\" target=\"_parent\"><img src=\"https://colab.research.google.com/assets/colab-badge.svg\" alt=\"Open In Colab\"/></a>"
      ]
    },
    {
      "cell_type": "markdown",
      "metadata": {
        "id": "_KFNBX1kPBvV"
      },
      "source": [
        "# **Session 5. First Law**\n",
        "# **Objectives**\n",
        " \n",
        "1.   To calculate work transferred in thermodynamic processes using Google Colabs.\n",
        "2.   To calculate $\\small \\Delta U$ and $\\small \\Delta H$ using polynomial equations.\n",
        "3.   To use the PhET platform to verify different forms of energy transformation.\n",
        "4.   To use the ChemCollecntive platform to determine the enthalpy change of a thermochemical process.\n",
        "---"
      ]
    },
    {
      "cell_type": "markdown",
      "metadata": {
        "id": "4f2sRuCkQsof"
      },
      "source": [
        " \n",
        "# ***Introduction***\n",
        "---\n",
        " \n",
        "<div align=\"justify\">The <a href=\"https://en.wikipedia.org/wiki/First_law_of_thermodynamics\"> first law of thermodynamics</a> is the adaptation of the energy law conservation to thermodynamic processes. At the macroscopic level, a system can exchange energy with the surroundings transferring energy in the form of heat and work. The work produced in a cyclical transformation corresponds to the sum of all the small amounts of work $\\small (dw)$ transferred at each stage of the cycle. The same occurs for the total heat transferred in the cycle. Mathematically, the cyclic integral of $\\small W_{cycle}$ y el $\\small Q_{cycle}$ is expressed as follows:</div>\n",
        " \n",
        "$\\small W_{cycle}= \\oint_{}^{}\\delta W \\kern 2pc (1)$ \n",
        " \n",
        "$\\small Q_{cycle}=\\oint_{}^{}\\delta Q \\kern 2pc (2)$ \n",
        " \n",
        "The first law of thermodynamics can be expressed as follows:\n",
        " \n",
        "If a macroscopic system undergoes a cyclical transformation and produces work (W) on the surroundings, this work will be equal to the heat (Q) received by the system from the surroundings; mathematically we can express it:\n",
        " \n",
        "$\\small \\oint_{}^{}\\delta W $  $\\small=\\oint_{}^{}\\delta Q \\kern 2pc (3)$ \n",
        " \n",
        "$\\oint_{}^{}\\delta Q-\\oint_{}^{}\\delta W $  $\\small=0 \\kern 2pc (4)$ \n",
        " \n",
        "Due to internal energy is a state function, the cyclic integral of ($ \\small d U $) is equal to zero, we can establish:\n",
        " \n",
        "$\\small \\oint_{}^{}d U=0 \\kern 2pc (5)$ \n",
        " \n",
        "$\\small \\oint_{}^{}d U=$ $\\oint_{}^{}\\delta Q-\\oint_{}^{}\\delta W=0 \\kern 2pc (6)$ \n",
        " \n",
        "Finally:\n",
        " \n",
        "$\\small \\Delta U=Q-W \\kern 2pc (7)$ \n",
        " \n",
        "<div align=\"justify\">The change in internal energy equals the net amount of energy in the form of heat minus the thermodynamic work done by the system. Next, we will solve some exercises of different thermodynamic processes of macroscopic systems.</div>"
      ]
    },
    {
      "cell_type": "markdown",
      "metadata": {
        "id": "acwd2MrajO2m"
      },
      "source": [
        "#***Activity 1: Expansion Work***\n",
        "One mole of an ideal gas at 298 K performs an isothermal expansion from 5 L to 40 L. Plotting the PV diagram of the process and show within the diagram the work done if the expansion process is: (i) reversible, (ii) in a single stage against an external pressure of 65 atm.\n",
        " \n",
        "To solve this exercise:  \n",
        " \n",
        "1.   We will import the libraries: (i) `numpy`, (ii) `math` and (iii) `matplotlib.pyplot`. \n",
        "2.   We will create the array for data `np.arange`.\n",
        "3.   We eill calculate the pressure as function of volume.\n",
        "4.   We will use `plt` function for plotting."
      ]
    },
    {
      "cell_type": "code",
      "metadata": {
        "colab": {
          "base_uri": "https://localhost:8080/",
          "height": 279
        },
        "id": "WGSYcCXJaMJB",
        "outputId": "9aab6fde-7451-46fa-be6b-e4afce92e5ef"
      },
      "source": [
        "import numpy as np \n",
        "import math\n",
        "import matplotlib.pyplot as plt \n",
        " \n",
        "V= np.arange(5,40,0.5)   # we create array \n",
        "P1=8.314*298/V           # ideal gas equation \n",
        " \n",
        "plt.plot(V,P1, \"r\", label=\"298K\")    \n",
        "plt.fill_between(V, P1, 0, where=(P1 > 0), facecolor='c', alpha=0.6) #fill the area under the curve\n",
        "plt.ylabel('P(atm)')\n",
        "plt.xlabel('V(L)')\n",
        "plt.legend()\n",
        "plt.show()"
      ],
      "execution_count": null,
      "outputs": [
        {
          "output_type": "display_data",
          "data": {
            "image/png": "[encoded data removed]",
            "text/plain": [
              "<Figure size 432x288 with 1 Axes>"
            ]
          },
          "metadata": {
            "needs_background": "light"
          }
        }
      ]
    },
    {
      "cell_type": "markdown",
      "metadata": {
        "id": "b5X6lpa8UENO"
      },
      "source": [
        "*Exercise 1:* In the following code cell, write the routine for plotting the isothermal expansion curves of the same gas from the previous point at 298 K, 798 K, and 1298 K. Which of these three processes transfer the greatest amount of work?"
      ]
    },
    {
      "cell_type": "code",
      "metadata": {
        "id": "13QoBi8NUlTE"
      },
      "source": [
        ""
      ],
      "execution_count": null,
      "outputs": []
    },
    {
      "cell_type": "markdown",
      "metadata": {
        "id": "unVaS7zvUzOQ"
      },
      "source": [
        "Single-stage work is determined with the expression:\n",
        " \n",
        "$\\small W=P_{ext}(\\Delta V) \\kern 2pc (8)$ \n",
        " \n",
        "In the following code cell, we plot the expansion work in a single stage.  The Work corresponds to the rectangle generated within the PV diagram (equation 8)."
      ]
    },
    {
      "cell_type": "code",
      "metadata": {
        "colab": {
          "base_uri": "https://localhost:8080/",
          "height": 279
        },
        "id": "xU8AQmt2Wa_U",
        "outputId": "3554c90d-b1bf-46c5-a087-b3639cbc60ca"
      },
      "source": [
        "V= np.arange(5,40,0.5)                               # limits and step of array ofr the volume \n",
        "P1=8.314*298/V                       \n",
        "P2=65\n",
        "plt.plot(V,P1, \"r\", label=\"298K\")    \n",
        "plt.fill_between(V, P2, 0, facecolor='c', alpha=0.6) # We fill the area under the curve for pressure values < 65 atm.\n",
        "plt.ylabel('P(atm)')\n",
        "plt.xlabel('V(L)')\n",
        "plt.legend()\n",
        "plt.show()"
      ],
      "execution_count": null,
      "outputs": [
        {
          "output_type": "display_data",
          "data": {
            "image/png": "[encoded data removed]",
            "text/plain": [
              "<Figure size 432x288 with 1 Axes>"
            ]
          },
          "metadata": {
            "needs_background": "light"
          }
        }
      ]
    },
    {
      "cell_type": "markdown",
      "metadata": {
        "id": "g3qVSM51EoNa"
      },
      "source": [
        "#***Activity 2: Adiabatic Expansion***\n",
        "<div align=\"justify\">A mole of a monatomic ideal gas (at f 1298 K) undergoes an adiabatic expansion from an initial volume of 5.0 L until reaches 40 L at 298 K. You must plot in the same chart, the PV curve of the process at (i) 1298 K, (ii) 298 K and (iii) the adiabatic curve that connects the two curves.\n",
        "\n",
        "In the adiabatic process $\\small PV^{\\gamma}=K$. Furthermore, $\\small \\gamma=1.67$. You can determine the ($K$) value for using the initial gas thermodynamic conditions.</div>"
      ]
    },
    {
      "cell_type": "code",
      "metadata": {
        "colab": {
          "base_uri": "https://localhost:8080/"
        },
        "id": "yH7b11zccHrX",
        "outputId": "8044e7ee-5891-48f7-b436-a9aa5ed8f44f"
      },
      "source": [
        "P_initial=0.08206*1298/5    \n",
        "K=P_initial*5**1.67          \n",
        "print(\"K = \", round(K, 2))"
      ],
      "execution_count": null,
      "outputs": [
        {
          "output_type": "stream",
          "name": "stdout",
          "text": [
            "K =  313.12\n"
          ]
        }
      ]
    },
    {
      "cell_type": "markdown",
      "metadata": {
        "id": "HY5dK4FJLIXK"
      },
      "source": [
        "Now with this information, we plot all the curves on the same chart."
      ]
    },
    {
      "cell_type": "code",
      "metadata": {
        "colab": {
          "base_uri": "https://localhost:8080/",
          "height": 279
        },
        "id": "yhYea2ylHmMy",
        "outputId": "452226de-61f7-42f0-9acf-9492aeb4a743"
      },
      "source": [
        "V= np.arange(5,40,0.5)     \n",
        "P1=0.08206*298/V           # isotherm at 298 K\n",
        "P2=0.08206*1298/V          # isotherm at 1298 K\n",
        "P3=308.12/V**1.67          # Adiabátic curve \n",
        "\n",
        "plt.plot(V,P1, \"r\", label=\"298 K\")    \n",
        "plt.plot(V,P2, \"b\", label=\"1298 K\")\n",
        "plt.plot(V,P3, \"c\", label=\"Adiabatic\")\n",
        "plt.ylabel('P(atm)')\n",
        "plt.xlabel('V(L)')\n",
        "plt.legend()\n",
        "plt.show()"
      ],
      "execution_count": null,
      "outputs": [
        {
          "output_type": "display_data",
          "data": {
            "image/png": "[encoded data removed]",
            "text/plain": [
              "<Figure size 432x288 with 1 Axes>"
            ]
          },
          "metadata": {
            "needs_background": "light"
          }
        }
      ]
    },
    {
      "cell_type": "markdown",
      "metadata": {
        "id": "G8l9Rb1gktaf"
      },
      "source": [
        "# ***Activity 3: Heat capacity at constant pressure***\n",
        " \n",
        "<div align=\"justify\">The enthalpy change ($\\small \\Delta H$) pis representing by the heat transferred at constant pressure and is expressed as a function of temperature according to:</div>\n",
        " \n",
        "$\\small \\Delta H=\\int_{T_{1}}^{T_{2}}C_{p}dT \\kern 2pc (9)$ \n",
        " \n",
        "Where $\\small C_{p}$ rrepresents the heat capacity at constant pressure. If the heat capacity of the system is constant in the temperature interval, the equation 9 reduces to:\n",
        " \n",
        "$\\small \\Delta H=C_{p} \\Delta T=n\\bar{c}_{p}\\Delta T \\kern 2pc (10)$ \n",
        " \n",
        "<div align=\"justify\">Where $n$ are moles of substance and $\\bar{c}_{p}$ \n",
        "is the molar specific heat at constant pressure. Equation 10 is the reduced version of Equation 9 assuming heat capacity does not depend on temperature. However, molar-specific heat is a property that depends on temperature. The polynomial regression of the thermodynamic data is a reliable strategy to estimate this dependence. The two most common forms reported in the literature correspond to the NASA polynomials and the Shomate polynomials: (source: <a href=\"https://www.sciencedirect.com/science/article/abs/pii/S0010465519302516\"> J. Lim, G. Wittreich, D. Vlachos, 2020 </a>)</div>\n",
        " \n",
        "$\\small \\frac{\\bar{c}_{p}}{R}=a_{1}+a_{2}T+a_{3}T^{2}+a_{4}T^{3}+a_{5}T^{4} \\kern 2pc (11)$  \n",
        " \n",
        "$\\small C_{p}=A+Bt+Ct^{2}+Dt^{3}+E/t^{2};$  with $t=T/1000K \\kern 2pc (12)$ \n",
        " \n",
        "<div align=\"justify\">Where (11) is the NASA polynomial and (14) is the Shomate polynomial equation. The coefficients are determined by fitting the experimental data of $\\small C_{p}$. Polynomial equations will only be valid in the temperature range of the data used to determine the value of the coefficients. In the following links, you can find databases of thermodynamic tables of(i) <a href=\"https://janaf.nist.gov/\"> NIST-JANA  </a> , (ii) <a href=\"https://webbook.nist.gov/chemistry/\"> NIST Chemistry WebBook  </a>. Finally on the website <a href=\"https://shepherd.caltech.edu/EDL/PublicResources/sdt/thermo.html\"> EDL </a> you will find more information.</div>"
      ]
    },
    {
      "cell_type": "markdown",
      "metadata": {
        "id": "bweXQ10GZogf"
      },
      "source": [
        "Table 1 lists the coefficient values ​​of equation 13 (NASA) for some substances.\n",
        " \n",
        " \n",
        "<div align = \"center\"> Table 1.Values ​​of the coefficients polynomial equation of heat capacity as a function of temperature for some gases in the range of 300 K - 1500 K. Source: (Castellan, 1983) $\\small \\frac{\\bar{c}_{p}}{R}=a_{1}+a_{2}T+a_{3}T^{2}+a_{4}T^{3}$</div>\n",
        " \n",
        "*substance*| $\\small (a_{1})$| $\\small (a_{2})10^{-3}K^{-1}$| $\\small (a_{3})10^{-7}K^{-2}$| $\\small (a_{4})10^{-9}K^{-3}$\n",
        "-------------------|------------------|------------------|------------------|------------------\n",
        "$\\small H_{2(g)}$ | $\\small 3,4958$ | $\\small -0,1006$ | $\\small 2.419$ | -- \n",
        "$\\small O_{2(g)}$ | $\\small 3,0673$ | $\\small 1,6371$ | $\\small -5,118$ | --\n",
        "$\\small Cl_{2(g)}$ | $\\small 3,8122$ | $\\small 1,2200$ | $\\small -4,856$ | -- \n",
        "$\\small Br_{2(g)}$ | $\\small 4,2385$ | $\\small 0,4901$ | $\\small -1,789$ | -- \n",
        "$\\small NO_{(g)}$ | $\\small 3,5326$ | $\\small 0,186$ | $\\small 12,81$ | $\\small -0,547$ \n",
        "$\\small CH_{4(g)}$ | $\\small 1,701$ | $\\small 9,080$ | $\\small -21,64$ | $\\small -0,547$ \n",
        " \n",
        " \n",
        "Using the information for the $\\small CH_{4(g)}$: (i) plot the ${c}_{p}$ as a function of (T) for range of 300 K - 1500 K. (ii) Determine the value of $\\small \\Delta H$  \n",
        "for heating 1 mol of methane from 300 K to 1500 K. "
      ]
    },
    {
      "cell_type": "code",
      "metadata": {
        "colab": {
          "base_uri": "https://localhost:8080/",
          "height": 279
        },
        "id": "G436lg0mRCtM",
        "outputId": "a03b62f6-4820-46ce-b8b3-f151b1d599c6"
      },
      "source": [
        "a1=1.701                       # parameters of methane from table 1\n",
        "a2=9.080e-3\n",
        "a3=-21.64e-7\n",
        "a4=-0.547e-9\n",
        "T= np.arange(300, 1500, 1)\n",
        "Cp=+a1+a2*T+a3*T**2+a4*T**3\n",
        "plt.plot(T, Cp, label=\"Cp(T)\")\n",
        "plt.legend()\n",
        "plt.ylabel(\"Cp (J/mol.K)\")\n",
        "plt.xlabel(\"Temperature (K)\")\n",
        "plt.show ()"
      ],
      "execution_count": null,
      "outputs": [
        {
          "output_type": "display_data",
          "data": {
            "image/png": "[encoded data removed]",
            "text/plain": [
              "<Figure size 432x288 with 1 Axes>"
            ]
          },
          "metadata": {
            "needs_background": "light"
          }
        }
      ]
    },
    {
      "cell_type": "markdown",
      "metadata": {
        "id": "X4qmuMu_fzrE"
      },
      "source": [
        "\n",
        "for calculating the enthalpy value, it is necessary to solve the integral of equation 12 using polynomial equation to describes $\\small c_{p}(T)$. We will utilize the `sympy` library. This  <a href=\"https://www.sympy.org/es/\"> library </a> is using in phyton for symbolic mathematics. In the next code cell, we will define the polynomial equation and, after execute the routine, we will generate the  polynomial equation as the output using the symbolic notation. \n",
        "\n"
      ]
    },
    {
      "cell_type": "code",
      "metadata": {
        "colab": {
          "base_uri": "https://localhost:8080/",
          "height": 38
        },
        "id": "1OHAu5oDRkIN",
        "outputId": "fbf3fb5e-625c-4355-bd1c-06d308f49f23"
      },
      "source": [
        "from sympy import *  # importa all function of sympy\n",
        "a1=1.701\n",
        "a2=9.080e-3\n",
        "a3=-21.64e-7\n",
        "a4=-0.547e-9\n",
        "T=symbols(\"T\")   # define T as symbolic variable\n",
        "Cp=8.31451*(+a1+a2*T+a3*T**2+a4*T**3)\n",
        "Cp"
      ],
      "execution_count": null,
      "outputs": [
        {
          "output_type": "execute_result",
          "data": {
            "text/latex": "$\\displaystyle - 4.54803697 \\cdot 10^{-9} T^{3} - 1.799259964 \\cdot 10^{-5} T^{2} + 0.0754957508 T + 14.14298151$",
            "text/plain": [
              "-4.54803697e-9*T**3 - 1.799259964e-5*T**2 + 0.0754957508*T + 14.14298151"
            ]
          },
          "metadata": {},
          "execution_count": 9
        }
      ]
    },
    {
      "cell_type": "markdown",
      "metadata": {
        "id": "xi_F8sg3VZo0"
      },
      "source": [
        " \n",
        "Now we proceed to calculate the integral:\n",
        " \n",
        "$\\small \\Delta H_{1500} - \\Delta H_{300} =\\int_{300}^{1500}\\bar{c}_{p}dT=R[a_{1}+a_{2}T+a_{3}T^{2}+a_{4}T^{3}+a_{5}T^{4}] \\kern 2pc (13)$ "
      ]
    },
    {
      "cell_type": "code",
      "metadata": {
        "colab": {
          "base_uri": "https://localhost:8080/"
        },
        "id": "BsB0G_vKVd6Z",
        "outputId": "5ffb5b56-36d1-4209-aeb2-eaf176b26d1c"
      },
      "source": [
        "dH=integrate(Cp, (T, 300, 1500)) # integration parameters\n",
        "print(\"Enthalpy = \", round(dH/1000, 1), \"kJ/mol\")"
      ],
      "execution_count": null,
      "outputs": [
        {
          "output_type": "stream",
          "name": "stdout",
          "text": [
            "Enthalpy =  72.7 kJ/mol\n"
          ]
        }
      ]
    },
    {
      "cell_type": "markdown",
      "metadata": {
        "id": "C7801xWnRrey"
      },
      "source": [
        "*Exercise 2:* Now it's your turn. Determine the value of $\\small \\Delta H$ for heating 1 mol of $\\small Br_{2(g)}$ from 300 K to 1500 K."
      ]
    },
    {
      "cell_type": "code",
      "metadata": {
        "id": "g4T6ts6hRs8F"
      },
      "source": [
        ""
      ],
      "execution_count": null,
      "outputs": []
    },
    {
      "cell_type": "markdown",
      "metadata": {
        "id": "AGXm_K-BRxEm"
      },
      "source": [
        "# ***Activity 4: Aplication Pandas Library*** \n",
        " \n",
        "In this activity, we will use the library `pandas` to import a dataframe with the values ​​of the coefficients of the polynomial equationfor $\\small \\bar c_{p}(T)$ for different chemicals. Dataframes are tables with different types of information and `pandas` allows to manipulate and analyze the data contained in this type of format. the `pandas` Library (Panel Data Analysis) is one of the most used libraries for data analysis (you can review the user manual in this link <a href=\"https://pandas.pydata.org/docs/user_guide/index.html\">Manual</a> ). You can also review a tutorial on data analysis with `pandas` in this link <a href=\"https://github.com/Tanu-N-Prabhu/Python/blob/master/Pandas/Pandas_DataFrame.ipynb\">pandas tutorial</a>. In this exercise, we will use a file (cp_data.csv) to extract the constants from the polynomial equation of $\\small \\bar c_{p}(T)$ for different chemicals substances. \n",
        "\n",
        "First, we will import the file with the values ​​of the coefficients. Then we will create the dataframe to be able to operate them using `pandas` with the library.\n"
      ]
    },
    {
      "cell_type": "code",
      "metadata": {
        "id": "znMsp5nrunP7"
      },
      "source": [
        "import pandas as pd\n",
        "import numpy as np\n",
        "cp=pd.read_csv(\"https://raw.githubusercontent.com/wavallejol/ColabChem/main/cp_data.csv\")\n",
        "dcp=pd.DataFrame(cp)"
      ],
      "execution_count": 6,
      "outputs": []
    },
    {
      "cell_type": "markdown",
      "metadata": {
        "id": "4RgXnQB2L4GB"
      },
      "source": [
        "After creating the dataframe, we can verify what type of information we have: (i) `dcp.shape` shows the dimensions of the dataframe (arrows , columns). (ii) `dcp.size` shows the total number of elements (data). (iii) `dcp.columns` shows the title of the columns of dataframe. (iv) `dcp.columns` show the title of the arrows of dataframe."
      ]
    },
    {
      "cell_type": "code",
      "metadata": {
        "id": "pZpezoaEL9Rd",
        "colab": {
          "base_uri": "https://localhost:8080/"
        },
        "outputId": "8e3f9de8-8b4b-464e-e45b-c5da52d899b9"
      },
      "source": [
        "print(\"data=\", dcp.size)\n",
        "print(\"(No. arrows, No. Columns)=\", dcp.shape)\n",
        "print(\"title columns:\", dcp.columns)\n",
        "print(\"No. arrows:\", dcp.index)"
      ],
      "execution_count": null,
      "outputs": [
        {
          "output_type": "stream",
          "name": "stdout",
          "text": [
            "data= 120\n",
            "(No. arrows, No. Columns)= (24, 5)\n",
            "title columns: Index(['Sustancia', 'a1', 'a2', 'a3', 'a4'], dtype='object')\n",
            "No. arrows: RangeIndex(start=0, stop=24, step=1)\n"
          ]
        }
      ]
    },
    {
      "cell_type": "markdown",
      "metadata": {
        "id": "QS3eH9ZlMM4g"
      },
      "source": [
        "Finally, we can see all the data of dataframe. Execute the routine found in the following code cell. A table (the dataframe) will be shown as output, table contains the values ​​of the coefficients for the polynomial equation of the heat capacity in the interval of 300 K - 1500 K for 23 chemical substances. Source: (Castellan, 1983). The coefficients correspond to the equation:\n",
        "\n",
        "$\\small \\frac{\\bar{c}_{p}(T)}{R}=a_{1}+a_{2}T+a_{3}T^{2}+a_{4}T^{3} \\kern 2pc (14)$ "
      ]
    },
    {
      "cell_type": "code",
      "metadata": {
        "id": "EL2apcUFMP2l"
      },
      "source": [
        "dcp"
      ],
      "execution_count": null,
      "outputs": []
    },
    {
      "cell_type": "markdown",
      "metadata": {
        "id": "a7F1xGUrMWey"
      },
      "source": [
        "The DataFrame shows 23 substances (23 arrows) and, if the row title of the column is taken into account, we have a total of 24 arrows. The DataFrame also shows a total of 5 columns (one for each coefficient for the polynomial equation and one for the names of the chemical substances). These values ​​correspond to the values ​​obtained with the function `dcp.shape`. \n",
        "\n",
        "Now, we will see some useful commands. Run the following code cell to see more examples."
      ]
    },
    {
      "cell_type": "code",
      "metadata": {
        "id": "k3b2sQ5bMbfQ"
      },
      "source": [
        "\"H2\" in dcp.values   # It tells you if the substance H2 is in the data frame"
      ],
      "execution_count": null,
      "outputs": []
    },
    {
      "cell_type": "code",
      "metadata": {
        "id": "FmKmam48MckI"
      },
      "source": [
        "dcp.loc[0,\"a1\"] # It shows you the element located in the first arrow under the column titled (a1)"
      ],
      "execution_count": null,
      "outputs": []
    },
    {
      "cell_type": "code",
      "metadata": {
        "id": "MSaSc0DJMmaX"
      },
      "source": [
        "dcp.iloc[0]   # It shows you the data of the first arrow"
      ],
      "execution_count": null,
      "outputs": []
    },
    {
      "cell_type": "code",
      "metadata": {
        "id": "CtDGzo7oNybn"
      },
      "source": [
        "dcp.iloc[0:3]  # It shows you the data of the first three arrows"
      ],
      "execution_count": null,
      "outputs": []
    },
    {
      "cell_type": "code",
      "metadata": {
        "id": "mv2geCP6N0hf"
      },
      "source": [
        "dcp[\"a1\"]   # It shows you all data in the column titled \"a1\""
      ],
      "execution_count": null,
      "outputs": []
    },
    {
      "cell_type": "code",
      "metadata": {
        "id": "jlAkLejegfJo"
      },
      "source": [
        "dcp.T      # Rearrange the dataframe by swapping rows and columns (transpose)"
      ],
      "execution_count": null,
      "outputs": []
    },
    {
      "cell_type": "markdown",
      "metadata": {
        "id": "VfslGe6jN8nR"
      },
      "source": [
        "One of the most important aspects of the `pandas` library is you can manipulate data stored in the DataFrame. We are going to use the information contained in the DataFrame to obtain the polynomial equation of the $\\bar{c}_{p}(T)$ of the substances contained in the DataFrame. We will use the routine in the next code cell to obtain the equation of$\\bar{c}_{p}(T)$, just indicate the name of the substance you need (You must write it as it appears in the DataFrame). The equation will have the form:\n",
        "\n",
        "$\\small \\bar{c}_{p}(T)=R[a_{1}+a_{2}T+a_{3}T^{2}+a_{4}T^{3}] \\kern 2pc (15)$ \n",
        "\n",
        "Execute the routine in the next code cell and type C6H6. The output of the routine will be the polynomic equation of $\\small C_{6}H_{6}$."
      ]
    },
    {
      "cell_type": "code",
      "metadata": {
        "id": "5RDHzigYOB6o",
        "colab": {
          "base_uri": "https://localhost:8080/"
        },
        "outputId": "796258ed-2878-4f5a-a704-429035eb4c9b"
      },
      "source": [
        "from sympy import *           \n",
        "sustancia=input(\"type the chemical substance: \")   # user type substance\n",
        "if sustancia in dcp.values:                                 # if the substance is in DataFrame\n",
        "    A1=float(dcp[dcp[\"Sustancia\"]==sustancia][\"a1\"])        # extract the aech coefficient\n",
        "    A2=float(dcp[dcp[\"Sustancia\"]==sustancia][\"a2\"])\n",
        "    A3=float(dcp[dcp[\"Sustancia\"]==sustancia][\"a3\"])\n",
        "    A4=float(dcp[dcp[\"Sustancia\"]==sustancia][\"a4\"])\n",
        "    T=symbols(\"T\")                                          # Define T as symbolic variable\n",
        "    Cp=8.314*(+A1+A2*T+A3*T**2+A4*T**3)                     \n",
        "    print(\"Cp=\",Cp)\n",
        "else:\n",
        "    print(\"The substance is not in the list\")   # if the substance is not in DataFrame"
      ],
      "execution_count": 12,
      "outputs": [
        {
          "output_type": "stream",
          "name": "stdout",
          "text": [
            "type the chemical substance: C6H6\n",
            "Cp= -0.0001105762*T**2 + 0.324753154*T - 1.712684\n"
          ]
        }
      ]
    },
    {
      "cell_type": "markdown",
      "metadata": {
        "id": "xzr0zPjXOKjC"
      },
      "source": [
        "*Exercise 3:* Now is your turn.  In the next code cell, write the routine for calculating the value of $\\small \\Delta H$ for heating 1 mol of $\\small Br_{2}$ from 300 K to 1400 K. Compare the result with the result of the exercise 2.\n"
      ]
    },
    {
      "cell_type": "code",
      "metadata": {
        "id": "fFxWpbMfExSU"
      },
      "source": [
        ""
      ],
      "execution_count": null,
      "outputs": []
    },
    {
      "cell_type": "markdown",
      "metadata": {
        "id": "uPCAgTk90Jsz"
      },
      "source": [
        "---\n",
        "#***Activiy 5: Solution of activities***\n",
        "\n",
        "We present the solutions for the activities you developed in the previous sections.\n",
        "\n",
        "*Solution exercise 1:* "
      ]
    },
    {
      "cell_type": "code",
      "metadata": {
        "colab": {
          "base_uri": "https://localhost:8080/",
          "height": 300
        },
        "id": "pfaBdXyJ0iFR",
        "outputId": "d4b97bc9-cc9d-4020-d21e-caa4b9183c41"
      },
      "source": [
        "import numpy as np\n",
        "import matplotlib.pyplot as plt\n",
        "import math\n",
        " \n",
        "def P(T,Vm):               \n",
        "    P=8.314*T/Vm\n",
        "    return P\n",
        "fig = plt.figure(1)\n",
        "\n",
        "for T in np.array([298, 798, 1298]): \n",
        "    Vm=np.arange(4,40,0.1)           \n",
        "    plt.plot(Vm, P(T,Vm), label=str(T)+\"K\")              \n",
        "    plt.title(\"Isothermal expansion of ideal gas\")            \n",
        "    plt.ylabel(r\"$ {P (\\mathrm{atm})} $\")                    \n",
        "    plt.xlabel(r\"$ \\bar{V}(\\mathrm{L.mol^{-1}}) $\")                                        \n",
        "plt.legend()\n",
        "plt.show()"
      ],
      "execution_count": 1,
      "outputs": [
        {
          "output_type": "display_data",
          "data": {
            "image/png": "[encoded data removed]",
            "text/plain": [
              "<Figure size 432x288 with 1 Axes>"
            ]
          },
          "metadata": {
            "needs_background": "light"
          }
        }
      ]
    },
    {
      "cell_type": "markdown",
      "metadata": {
        "id": "s8_l1ZZJ03Wr"
      },
      "source": [
        "*Solution exercise 2:* "
      ]
    },
    {
      "cell_type": "code",
      "metadata": {
        "colab": {
          "base_uri": "https://localhost:8080/"
        },
        "id": "9Na9EFyH07pY",
        "outputId": "793d7ebd-9413-438c-f311-a86fea4daa6a"
      },
      "source": [
        "from sympy import * # importamos las funciones de la biblioteca sympy\n",
        "a1=4.2385\n",
        "a2=0.4901e-3\n",
        "a3=-1.789e-7\n",
        "T=symbols(\"T\")   # Definimos T como una variabke simbólica\n",
        "CpBr=8.31451*(+a1+a2*T+a3*T**2)\n",
        "print(\"cpBr(T)=\", CpBr)"
      ],
      "execution_count": 2,
      "outputs": [
        {
          "output_type": "stream",
          "name": "stdout",
          "text": [
            "cpBr(T)= -1.487465839e-6*T**2 + 0.004074941351*T + 35.241050635\n"
          ]
        }
      ]
    },
    {
      "cell_type": "markdown",
      "metadata": {
        "id": "CLZ9cCFV1BL2"
      },
      "source": [
        "Now we proceed to calculate the integral:\n",
        " \n",
        "$\\small \\Delta H_{1500} - \\Delta H_{300} =\\int_{300}^{1500}\\bar{c}_{p}dT=R[a_{1}+a_{2}T+a_{3}T^{2}] \\kern 2pc (13)$ "
      ]
    },
    {
      "cell_type": "code",
      "metadata": {
        "colab": {
          "base_uri": "https://localhost:8080/"
        },
        "id": "A4eWT4kk1LU4",
        "outputId": "8e8e9654-4af2-4c4f-da8a-76ae7ef7bead"
      },
      "source": [
        "dH=integrate(CpBr, (T, 300, 1400))\n",
        "print(\"Qp = \", round(dH/1000, 1), \"kJ/mol\")"
      ],
      "execution_count": 3,
      "outputs": [
        {
          "output_type": "stream",
          "name": "stdout",
          "text": [
            "Qp =  41.2 kJ/mol\n"
          ]
        }
      ]
    },
    {
      "cell_type": "markdown",
      "metadata": {
        "id": "thW619lA2X1t"
      },
      "source": [
        "*Solution of exercise 3:* Execute the nest code cell and type Br2. The polynomial equation of $ \\small Br_ {2} $ will be the output. "
      ]
    },
    {
      "cell_type": "code",
      "metadata": {
        "colab": {
          "base_uri": "https://localhost:8080/"
        },
        "id": "49Iz5Tlb2zVh",
        "outputId": "8a8f3afb-d7d1-4bb5-e650-277664eaf193"
      },
      "source": [
        "from sympy import *           # importamos la biblioteca de función simbolica\n",
        "sustancia=input(\"Introduce la sustancia que necesitas: \")   # Solicitamos la sustancia\n",
        "if sustancia in dcp.values:                                 # Si la sustancia esta en el DataFrame\n",
        "    A1=float(dcp[dcp[\"Sustancia\"]==sustancia][\"a1\"])        # Extraemos el valor de cada constante \n",
        "    A2=float(dcp[dcp[\"Sustancia\"]==sustancia][\"a2\"])\n",
        "    A3=float(dcp[dcp[\"Sustancia\"]==sustancia][\"a3\"])\n",
        "    A4=float(dcp[dcp[\"Sustancia\"]==sustancia][\"a4\"])\n",
        "    T=symbols(\"T\")                                          # Definimos T como varible simbolica\n",
        "    Cp=8.314*(+A1+A2*T+A3*T**2+A4*T**3)                     # Definimos la ec. polinómica\n",
        "    print(\"Cp=\",Cp)\n",
        "else:\n",
        "    print(\"La sustancia no se encuentra en la lista de opciones\")   # Si la susntacia no esta en el DataFrame"
      ],
      "execution_count": 8,
      "outputs": [
        {
          "output_type": "stream",
          "name": "stdout",
          "text": [
            "Introduce la sustancia que necesitas: Br2\n",
            "Cp= -1.479892e-6*T**2 + 0.0040746914*T + 35.238889\n"
          ]
        }
      ]
    },
    {
      "cell_type": "markdown",
      "metadata": {
        "id": "C4dXK0ed3ETA"
      },
      "source": [
        "Now we proceed to calculate the integral:"
      ]
    },
    {
      "cell_type": "code",
      "metadata": {
        "colab": {
          "base_uri": "https://localhost:8080/"
        },
        "id": "uyHKx1Xg3Gel",
        "outputId": "43fe9b3a-561f-4e16-b124-ba065d211151"
      },
      "source": [
        "dH=integrate(Cp, (T, 300, 1400))\n",
        "print(\"Qp = \", round(dH/1000, 1), \"kJ/mol\")"
      ],
      "execution_count": 9,
      "outputs": [
        {
          "output_type": "stream",
          "name": "stdout",
          "text": [
            "Qp =  41.2 kJ/mol\n"
          ]
        }
      ]
    },
    {
      "cell_type": "markdown",
      "metadata": {
        "id": "pGCpa-773R8Q"
      },
      "source": [
        "The `pandas` library saves a lot of time to generate the polynomial equation."
      ]
    },
    {
      "cell_type": "markdown",
      "metadata": {
        "id": "CMVq_J9COpOa"
      },
      "source": [
        "---\n",
        "# ***Activity 6: Virtual Lab***\n",
        "<div align=\"justify\">Interactive simulation for math and science on free access is available in the University of Colorado PHET platform. We use this platform to carrying out the activities of the Virtual Laboratories. You can get more information in the<a href=\"https://phet.colorado.edu/\"> PhET homepage</a>. In this section, we presented a step-by-step guide to use the PhET platform and develop virtual activities.</div>\n",
        "\n",
        "###**6.1. Energy transformation** \n",
        "\n",
        "To develop this activity:\n",
        "\n",
        "1.   Open the following link in a new window:  <a href=\"https://phet.colorado.edu/sims/html/energy-forms-and-changes/latest/energy-forms-and-changes_en.html\"> PhET: Energy forms and Changes</a> \n",
        "2.   Click on the \"Systems\" option.\n",
        "3. In this simulation, you will find a source of energy and aa<a href=\"https://en.wikipedia.org/wiki/Electric_generator\"> electric generator </a> connected to a tank with water.\n",
        "4. Click on \"Energy Symbols\".\n",
        "5. Click and hold the speed gauge of the cyclist and shift it to the maximum value.\n",
        "6. Watch the simulation.\n",
        "7.Explain all energy changes you watch.  \n",
        "Why is it necessary to feed the cyclist to continue heating water?\n",
        "8. Press the reset button (orange button, located in the lower right). Click on \"Energy Symbols\"\n",
        "9. Click on the faucet image. Now, click on the water tap and shift it to the maximum value.\n",
        "10. Watch the simulation. Explain all energy changes you watch. \n",
        "11. Press the reset button (orange button, located in the lower right). Click on \"Energy Symbols\"\n",
        "12. Click on the sun image. Now, click on the  <a href=\"https://en.wikipedia.org/wiki/Solar_cell\">solar cell</a>.  image.\n",
        "12.  Click on the light bulb image. Watch the simulation. Explain all energy changes you watch. \n",
        "13. Click and hold on  \"Lots clouds\" indicator and shift it to the maximum value.\n",
        "\n",
        "Explain your obervations.\n",
        "\n",
        "###**6.2. Enthalpy of neutralization** \n",
        "\n",
        "ChemColective is a project of Carnegie Mellon University; it offers digital resources for learning chemistry. You will find more information about its content on the official site  <a href=\"http://chemcollective.org/vlabs\"> ChemCollective homepage</a>. In this section, we presented a step-by-step guide to use the ChemColeective platform and develop virtual activities.\n",
        "\n",
        "To develop this activity:\n",
        "\n",
        "1.  Perform these calculations: \n",
        "\n",
        "*  (a) How much volume is required to prepare 100 mL of NaOH solution with a 1.0 M concentration from a 19 M stock solution?\n",
        "\n",
        "*  (b) How much volume is required to prepare 100 mL of HCl solution with a 1.0 M concentration from an 11.6 M stock solution?\n",
        "\n",
        "2.   Open the following link in a new window: <a href=\"http://chemcollective.org/vlabs\"> ChemCollective homepage</a>\n",
        "3.   Choose the Thermochemistry option.\n",
        "4.   Choose the option “Camping Problem II”. Then, click on the \"GO\" icon.\n",
        "5. Click on the option (EN) and then, choose (ES) option. Due to protocol is not available in the English language, we choose (ES) option. Follow the step-by-step guide.\n",
        "6. Click on the first solution “$\\small H_{2}O$ desionizada”. The bottle with $\\small H_{2}O$ will appear on the simulator screen.\n",
        "6. Click on the \"Almacen\" option. The reagent list will appear again.\n",
        "7. Click on the \"Soluciones a granel\" option. \n",
        "8. Click on the \"NaOH 19M\" option.\n",
        "9. Click on the  “Material de Vidrio” option.\n",
        "10. Click on the \"volumetric flask\" and choosing the 100 mL volumetric flask.\n",
        "11. Click and hold the NaOH image and place it over the volumetric flask.\n",
        "12. Add the amount (in mL) of NaOH calculated in step 1(a).\n",
        "13. Right-click on the NaOH image and choose “Borrar”.\n",
        "14. Click and hold on the water image and place it over the volumetric flask.\n",
        "15. Add the water to complete the volume of the flask (100 mL).\n",
        "16. Right-click on the volumetric flask image and, change the flask name to (1.0 M NaOH).\n",
        "17. Click on the \"Almacen\" option. The reagent list will appear again.\n",
        "18. Click on the \"Soluciones a granel\" option.\n",
        "19. Click on the \"HCl 11.6 M\" option. \n",
        "20. Click on the  “Material de Vidrio” option.\n",
        "21. Click on the \"volumetric flask\" and choosing the 100 mL volumetric flask.\n",
        "22. Click and hold the HCl image and place it over the volumetric flask.\n",
        "23. Add the amount (in mL) of HCl calculated in step 1(b).\n",
        "24. Right-click on the HCl image and choose “Borrar”.\n",
        "25. Click and hold on the water image and place it over the volumetric flask containing HCl.\n",
        "26. Add the water to complete the volume of the flask (100 mL).\n",
        "27. Right-click on the volumetric flask image and, change the flask name to (1.0 M HCl).\n",
        "28. Click on the \"Stock room\" option. Click on \"Material de Vidrio\" option.\n",
        "29. Click on the \"Others\" option. CLick on “Frasco Aislado” option.\n",
        "30. Right-click on the Frasco Ailado and change its name; type (Calorimeter).\n",
        "31. Click on the 1.0 M NaOH solution and place it on the calorimeter.\n",
        "32. Add the 100 mL of NaOH solution.\n",
        "33. Note down the temperature of the solution.\n",
        "34. Click and hold on the 1.0 M HCl solution and place it on the calorimeter.\n",
        "35. Add the 100 mL of HCl solution.\n",
        "36. Note down the final temperature of the neutralization process.\n",
        "\n",
        "###**6.3. Enthalpy of neutralization II** \n",
        "\n",
        "1.  Perform these calculations: \n",
        "\n",
        "*  (a) How much volume is required to prepare 100 mL of NaOH solution with a 10.0 M concentration from a 19 M stock solution?\n",
        "\n",
        "*  (b) How much volume is required to prepare 100 mL of HCl solution with a 10.0 M concentration from an 11.6 M stock solution?\n",
        "\n",
        "2. Repeat steps of the previous section (5.2); from step No. 3 to step No. 34)  by using the two new solutions prepared in steps 1 and 2 of this section (5.3).\n",
        "\n",
        "**Answer these questions:**\n",
        "*  What is the temperature change after the chemical reaction?\n",
        "*  Calculate the value of the heat transferred during reaction in the two tests performed (section 5.2 and section 5.3).\n",
        "*  Is there a difference between the amount of heat transfer in the two sections? Justify your results.\n",
        "*  Calculate the value of the enthalpy of neutralization for the two tests.\n",
        "*  Compara el resultado obtenido con la entalpia de neutralización reportada en literatura: $\\small \\Delta H= -57.3kJmol^{-1}$\n",
        "\n",
        "\n",
        "\n",
        "\n"
      ]
    },
    {
      "cell_type": "markdown",
      "metadata": {
        "id": "nWn2COSXUCaI"
      },
      "source": [
        "---\n",
        "#***Recommended Links***\n",
        "\n",
        "*  Python Pandas DataFrame basics: <a href=\"https://github.com/Tanu-N-Prabhu/Python/blob/master/Pandas/Pandas_DataFrame.ipynb\">DataFrame basics</a>\n",
        "\n",
        "*  Pandas introduction: <a href=\"https://nbviewer.jupyter.org/gist/jhemann/4569783\">Pandas Gets started</a>\n",
        "---"
      ]
    },
    {
      "cell_type": "markdown",
      "metadata": {
        "id": "oLAF0l4d_Ysf"
      },
      "source": [
        "\n",
        "#***References***\n",
        "\n",
        "*  J. Lim, G. Wittreich, D. Vlachos. A phyton Multiscale Termochemistry Toolbox (pMuTT) for thermochemical and kinetic parameters stimations. $\\small Comp. Phy. Comm. 2020, 247, 106864.$ <a href=\"https://www.sciencedirect.com/science/article/abs/pii/S0010465519302516\">doi.org/10.1016/j.cpc.2019.106864</a>\n",
        "\n",
        "*  G. W. Castellan. Physical Chemsitry. Ed. 3rd. Addison-Wesley. 1983. p. 190.\n",
        "\n",
        "*  I. N. Levine. Fisicoquímica. Ed. 5. McGRaw Hill. 2002. p. 184.\n",
        "\n",
        "*  University of Colorado. PhET: Interactive Simulations for Sciences and Math. <a href=\"https://phet.colorado.edu/\"> Homepage</a> Date access: August 2021.\n",
        "\n",
        "*  University of Carnegie Mellon. ChemCollective<a href=\"http://chemcollective.org/vlabs\"> Homepage</a>. Date access: August 2021.\n",
        "\n",
        "---"
      ]
    }
  ]
}