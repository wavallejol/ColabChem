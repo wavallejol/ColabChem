{
  "nbformat": 4,
  "nbformat_minor": 0,
  "metadata": {
    "colab": {
      "name": "Sesión6_Ley_de_Hess.ipynb",
      "provenance": [],
      "collapsed_sections": [],
      "authorship_tag": "ABX9TyMMCP2XjQxawKJnXUClvSD1",
      "include_colab_link": true
    },
    "kernelspec": {
      "name": "python3",
      "display_name": "Python 3"
    },
    "language_info": {
      "name": "python"
    }
  },
  "cells": [
    {
      "cell_type": "markdown",
      "metadata": {
        "id": "view-in-github",
        "colab_type": "text"
      },
      "source": [
        "<a href=\"https://colab.research.google.com/github/wavallejol/ColabChem/blob/main/Sesi%C3%B3n6_Ley_de_Hess-Matrices.ipynb\" target=\"_parent\"><img src=\"https://colab.research.google.com/assets/colab-badge.svg\" alt=\"Open In Colab\"/></a>"
      ]
    },
    {
      "cell_type": "markdown",
      "metadata": {
        "id": "_KFNBX1kPBvV"
      },
      "source": [
        "# **Sesión 6. Ley de Hess: Método de matrices**\n",
        "***William Vallejo***\n",
        "# **Objetivo**\n",
        " \n",
        "1.   Determinar el cambio de entalpía de reacción aplicando la ley de Hess.\n",
        "2.   Realizar cálculos termoquímicos utilizando matrices en el entorno Google Colabs.\n",
        "---"
      ]
    },
    {
      "cell_type": "markdown",
      "metadata": {
        "id": "4f2sRuCkQsof"
      },
      "source": [
        " \n",
        "# ***Introducción***\n",
        "---\n",
        " \n",
        "La  <a href=\"https://es.wikipedia.org/wiki/Ley_de_Hess\"> ley de Hess</a> establece que si una reacción química ocurre a través de una serie de etapas, el valor del calor transferido para la reacción completa será igual a la suma del calor transferido en cada etapa individual, cumpliendose la relación:\n",
        " \n",
        "$\\small \\Delta H_{r}^{o}= \\sum \\Delta H_{f}^{o}\\kern 2pc (1)$\n",
        " \n",
        "Dónde $\\small \\Delta H_{r}^{o}$ representa la entalplía de reacción bajo condiciones estándar y  $\\small \\Delta H_{f}^{o}$ representa la <a href=\"https://es.wikipedia.org/wiki/Entalp%C3%ADa_de_formaci%C3%B3n\"> entalpía de formación estandar</a>  de las sustancias químicas que hacen parte de la reacción. Esta propiedad de las reacciones químicas es consecuencia directa de que la entalpía sea una función de estado. De forma general, para una reacción química se establece:\n",
        " \n",
        "$\\small aA+bB\\rightarrow cC+dD\\kern 2pc (2)$\n",
        " \n",
        "La variación de la entalpía estándar de reacción a $\\small 25^{o}C$ se expresa de la siguiente forma:\n",
        " \n",
        "$\\small \\Delta {H_{r}^{o}}=c{H_{f}^{o}(C)}+d{H_{f}^{o}(D)}-a{H_{f}^{o}(A)}-b{H_{f}^{o}(B)}\\kern 2pc (3)$\n",
        " \n",
        "Dónde $\\small \\Delta H_{f}^{o}$ representa el valor de la entalpía estándar a 298 K. La ley de Hess permite determinar el valor de $\\small \\Delta H_{r}^{o}$ desconocido de diferentes tipos de reacción a partir de los valores de $\\small \\Delta H_{f}^{o}$ reportados en las tablas termodinámicas. \n",
        " \n",
        "Una reacción química puede ser representada matemáticamente de la siguiente manera:\n",
        " \n",
        "$\\small 0=\\sum_{i=1}^{N} \\nu_{i}B_{i}\\kern 2pc(4)$\n",
        " \n",
        "Dónde $\\small \\nu_{i}$ representa el coeficiente estequiométrico y $\\small B_{i}$ representa la identidad del compuesto o elemento químico. El valor de $\\small \\nu_{i}$ será positivo para los productos de la reacción y $\\small \\nu_{i}$ será negativo para los reactivos. Una vez han sido balanceadas, las reacciones químicas pueden ser manipuladas como ecuaciones algebráicas. \n",
        " \n",
        "Los problemas de termoquímica convencionales que implican la determinación de valores de entalpía de reacción desconocidos, aplicando la ley de Hess, tienen como base de cálculo las propiedades de las ecuaciones algebráicas. De esta manera las ecuaciones químicas pueden ser sumadas, restadas entres sí, también pueden ser invertidas y multiplicadas para determinar el valor de $\\small \\Delta {H_{r}^{o}}$ para una etapa específica de un proceso que involucre varias reacciones químicas. \n",
        "\n",
        "La metodología de resolución muchas veces implica ensayo y error, sin embargo, dependiendo del número de reacciones químicas la complejidad puede incrementarse significativamente, haciendo tedioso el trabajo; no obstante, M. Khalil  <a href=\"https://pubs.acs.org/doi/10.1021/ed077p185\">(Khalil, 2000)</a> reportó una metodología de resolución de este tipo de problemas utlizando matrices. \n",
        " \n",
        "Antes de continuar con la revisión del material, si tienes dudas respecto al  manejo de matrices y vectores, o el tipo de operaciones que puedes realizar con este tipo de variables, puedes revisar el material de <a href=\"https://github.com/wavallejol/ColabChem/blob/main/Sesi%C3%B3n1_Intro_A.ipynb\"> la sesión 1</a> de este mismo repositorio. \n",
        " \n",
        "Ahora podemos dar inicio a la revisión del material para resolver problemas de termoquímica usando la ley de Hess y matrices"
      ]
    },
    {
      "cell_type": "markdown",
      "metadata": {
        "id": "acwd2MrajO2m"
      },
      "source": [
        "#***Actividad 1: Ley de Hess con matrices***\n",
        "Tomando como referencia la ecuación (1), podemos escribir la ecuación 2 de la siguiente manera:\n",
        " \n",
        "$\\small 0=-aA-bBcC+dD \\kern 2pc (5)$\n",
        " \n",
        "Ahora podemos escribir la ecuación (5) como un vector de la siguiente manera:\n",
        " \n",
        "$\\begin{matrix}A\\\\ B\\\\ C\\\\ D\\\\ \n",
        "\\end{matrix}$ $\n",
        "\\begin{bmatrix}\n",
        "-a\\\\ \n",
        "-b\\\\ \n",
        "+c\\\\ \n",
        "+d\\\\ \n",
        "\\end{bmatrix}$ $\\small \\qquad(6)$\n",
        " \n",
        "Se tendrá una columna por cada reacción química que se tenga en el proceso y una fila por cada sustancia química. A continuación, se presenta un ejemplo para ilustarlo de una mejor manera. Expresemos como matrices las ecuaciones químicas (7 y 8):\n",
        " \n",
        "$\\small S_{(s)}+O_{2(g)}\\rightarrow SO_{2(g)}\\kern 3pc\\Delta H_{r}^{o}=-297\\enspace kJmol^{-1}\\kern 2pc (7)$\n",
        " \n",
        "$\\small 2SO_{2(g)}+O_{2(g)}\\rightarrow 2SO_{3(g)} \\kern 2pc \\Delta H_{r}^{o}=-198\\enspace kJmol^{-1}\\kern 2pc (8)$\n",
        " \n",
        "Primero creamos una lista que representará todas las sustancias químicas que aparecen en las dos reacciones (7 y 8):\n",
        " \n",
        "$\\begin{matrix}\\small S_{(s)}\\\\ \\small O_{2(g)}\\\\ \\small SO_{2(g)}\\\\ \\small SO_{3(g)}\\\\ \n",
        "\\end{matrix}$ \n",
        " \n",
        "Ahora, creamos la matríz de las dos reacciones químicas:\n",
        " \n",
        "$\\small \\kern 3pc ec.\\enspace(7) \\kern 3pc ec.\\enspace(8)$\n",
        " \n",
        "$\\begin{matrix}\\small S_{(s)}\\\\ \\small O_{2(g)}\\\\ \\small SO_{2(g)}\\\\ \\small SO_{3(g)}\\\\ \n",
        "\\end{matrix}$ \n",
        "$\\begin{bmatrix}\n",
        "-1&&&0\\\\ \n",
        "-1&&&-1\\\\ \n",
        "+1&&&-2\\\\ \n",
        "0&&&+2\\\\ \n",
        "\\end{bmatrix}$ $\\small \\qquad (9)$\n",
        " \n",
        "Cada columna dentro de la matríz representa una reacción química, y cada número representa un coeficiente estequiométrico de la reacción. La primera columna de la matríz (costado izquierdo), representa los coeficientes estequiométricos de la reacción (8) y la segunda columna de la matríz (costado derecho) representa los coeficientes estequiométricos de la reacción (9).\n",
        " \n",
        "Ahora, a partir de las ecuaciones 7 y 8, debemos  determinar el valor de $\\small \\Delta H^{o}$ para la reacción de combustión de $\\small S_{2(g)}$ en presencia de $\\small O_{2(g)}$ de acuerdo a la siguiente reacción química: \n",
        " \n",
        "$\\small 2S_{(s)}+3O_{2(g)}\\rightarrow 2SO_{3(g)}\\kern 2pc (10)$\n",
        " \n",
        "Para resolver esta pregunta, aplicaremos el álgebra lineal a sistemas de ecuaciones lineales utilizando matrices. Primero, transcribirémos nuestro sistema de ecuaciones químicas a la forma $\\small Ax=b$ M: <a href=\"https://pubs.acs.org/doi/10.1021/ed077p185\">(Fuente: Khalil, 2000)</a> :\n",
        " \n",
        "$\\begin{bmatrix}\n",
        "\\small \\nu_{11} & \\small \\nu_{12} & \\cdots&\\small \\nu_{1R}\\\\ \n",
        "\\small \\nu_{21}&\\small \\nu_{22}&\\cdots&\\small \\nu_{2R}\\\\  \n",
        "\\vdots&\\vdots&\\vdots&\\vdots\\\\ \n",
        "\\small \\nu_{N1}&\\small \\nu_{N2}&\\cdots&\\small \\nu_{NR}\\\\  \n",
        "\\end{bmatrix}$\n",
        "$\\begin{bmatrix}\n",
        "\\small s_{1}\\\\ \n",
        "\\small s_{2}\\\\  \n",
        "\\vdots\\\\ \n",
        "\\small s_{R}\\\\  \n",
        "\\end{bmatrix}$=\n",
        "$\\begin{bmatrix}\n",
        "\\small \\nu_{net1}\\\\ \n",
        "\\small \\nu_{net2}\\\\  \n",
        "\\vdots\\\\ \n",
        "\\small \\nu_{netN}\\\\  \n",
        "\\end{bmatrix}$\n",
        "$\\small \\kern 2pc  (11)$\n",
        " \n",
        "$\\small \\kern 5pc A \\kern 5pc x \\kern 4pc b$\n",
        " \n",
        "Dónde, A representa la matríz con los coeficientes estequiométricos de las reacciones conocidas (7 y 8). En nuestro ejemplo, la matríz mostrada en la ecuación (9) sería $\\small A$. El vector $\\small (x)$ representa el vector que debe ser determinado, este vector nos indicará el valor por el que deberémos multiplicar cada una de las reacciones químicas conocidas (ec. 7 y 8). El vector $\\small (x)$ tendrá tantos elementos cómo valores de entalpia de reaccion conocido tengamos, en nuestro ejemplo tenemos 2 reacciones con valores de entalpía conocidos, por lo tanto, éste vector tendrá dos elementos. Finalmente, $\\small (b)$ representa el vector resultado (vector con los coeficientes estequiométricos de la reacción para la cúal nos interesa determinar el valor de $\\small \\Delta_{r} H^{o}$).\n",
        "\n",
        "Primero, representamos nuestro sistema de reacciones  de la forma $\\small Ax=b$:\n",
        " \n",
        "$\\begin{bmatrix}\n",
        "-1&&&0\\\\ \n",
        "-1&&&-1\\\\ \n",
        "+1&&&-2\\\\ \n",
        "0&&&+2\\\\ \n",
        "\\end{bmatrix}$\n",
        "$\\begin{bmatrix}\n",
        "\\small s_{1}\\\\ \n",
        "\\small s_{2}\\\\  \n",
        "\\end{bmatrix}$=\n",
        "$\\begin{bmatrix}\n",
        "\\small -2\\\\ \n",
        "\\small -3\\\\  \n",
        "\\small 0\\\\ \n",
        "\\small +2\\\\  \n",
        "\\end{bmatrix}$\n",
        "$\\small \\kern 2pc  (12)$\n",
        " \n",
        "$\\small \\qquad A \\kern 6pc x \\kern 2pc b$\n",
        " \n",
        "Para resolver este sistema de ecuaciones existen diferentes métodos: (i) método de sustitución , (ii) método de igualación, (iii) método de reducción, (iv) método gráfico, (v) método de Gauss y (vi) el método de Cramer. Sin embargo, Phyton tiene algunas funciones que nos permiten resolver este sistema de ecuaciones utilizando la función `np.linalg.lstsq()`.\n",
        " \n",
        "Tomando como referencia la ecuación $\\small Ax=b$ que acabamos de generar, en la siguiente celda de código procedemos a crear la matríz de coeficientes A."
      ]
    },
    {
      "cell_type": "code",
      "metadata": {
        "id": "NLbIUBhRy8lW",
        "colab": {
          "base_uri": "https://localhost:8080/"
        },
        "outputId": "8ce57c72-25c4-4d36-eb01-d404d487e6ba"
      },
      "source": [
        "import numpy as np        #importamos la biblioteca para operar matrices\n",
        "A=np.array([[-1,0], \n",
        "            [-1,-1], \n",
        "            [1,-2], \n",
        "            [0,2]])       #creamos la matriz de coeficientes A\n",
        "A"
      ],
      "execution_count": null,
      "outputs": [
        {
          "output_type": "execute_result",
          "data": {
            "text/plain": [
              "array([[-1,  0],\n",
              "       [-1, -1],\n",
              "       [ 1, -2],\n",
              "       [ 0,  2]])"
            ]
          },
          "metadata": {},
          "execution_count": 2
        }
      ]
    },
    {
      "cell_type": "markdown",
      "metadata": {
        "id": "xiUOX6JMzw2r"
      },
      "source": [
        "Ahora procedemos a crear el vector resultado $\\small (b)$."
      ]
    },
    {
      "cell_type": "code",
      "metadata": {
        "id": "fplzlUDn0VDv",
        "colab": {
          "base_uri": "https://localhost:8080/"
        },
        "outputId": "9a2909ed-298a-4519-ff69-8f4b9997cde6"
      },
      "source": [
        "b=np.array([-2,-3,0,2])    "
      ],
      "execution_count": null,
      "outputs": [
        {
          "output_type": "execute_result",
          "data": {
            "text/plain": [
              "array([-2, -3,  0,  2])"
            ]
          },
          "metadata": {},
          "execution_count": 3
        }
      ]
    },
    {
      "cell_type": "markdown",
      "metadata": {
        "id": "t2LKTbkA1HHl"
      },
      "source": [
        "Procedemos a resolver el sistema de ecuaciones con  la función `np.linalg.lstsq()`."
      ]
    },
    {
      "cell_type": "code",
      "metadata": {
        "id": "eCJlAG4j1NUB",
        "colab": {
          "base_uri": "https://localhost:8080/"
        },
        "outputId": "6b35ccfa-ca83-4b7c-b871-53e8ad45c2ca"
      },
      "source": [
        "x=np.linalg.lstsq(A,b, rcond=1) \n",
        "x[0]"
      ],
      "execution_count": null,
      "outputs": [
        {
          "output_type": "execute_result",
          "data": {
            "text/plain": [
              "array([2., 1.])"
            ]
          },
          "metadata": {},
          "execution_count": 4
        }
      ]
    },
    {
      "cell_type": "markdown",
      "metadata": {
        "id": "g3Pm1mpv1lpx"
      },
      "source": [
        "El resultado de la resolución nos muestra que el vector x es:\n",
        "\n",
        "$\\begin{bmatrix}\n",
        "\\small s_{1}\\\\ \n",
        "\\small s_{2}\\\\  \n",
        "\\end{bmatrix}$=\n",
        "$\\begin{bmatrix}\n",
        "\\small 2\\\\ \n",
        "\\small 1\\\\  \n",
        "\\end{bmatrix}$ $\\kern 5pc (13)$\n",
        "\n",
        "Apartir de este vector y el valor $\\small \\Delta H_{r}^{o}$ de las reacciones 7 y 8 podemos obtener el valor de $\\small \\Delta H_{r}^{o}$ de la reacción (11):\n",
        "\n",
        "$\\small \\Delta H_{r(11)}^{o}=\\begin{bmatrix}\n",
        "\\small s_{1}\\\\ \n",
        "\\small s_{2}\\\\  \n",
        "\\end{bmatrix}$\n",
        "$\\begin{bmatrix}\n",
        "\\small -297&\n",
        "\\small -198\n",
        "\\end{bmatrix}$ $\\kern 2pc (14)$\n",
        "\n",
        "En la siguiente celda de código, procedemos a realizar el cálculo de la entalpía de la reacción:"
      ]
    },
    {
      "cell_type": "code",
      "metadata": {
        "colab": {
          "base_uri": "https://localhost:8080/"
        },
        "id": "xf0pdgIaH8yc",
        "outputId": "5a12989f-13bc-4020-9089-87d0d814376c"
      },
      "source": [
        "H=np.array([-297,-198])\n",
        "ENTALPÍA=print(\"H_reacción\", round(x[0]@H, 1), \"kJ/mol\")"
      ],
      "execution_count": null,
      "outputs": [
        {
          "output_type": "stream",
          "name": "stdout",
          "text": [
            "H_reacción -792.0 kJ/mol\n"
          ]
        }
      ]
    },
    {
      "cell_type": "markdown",
      "metadata": {
        "id": "gnOWAOJ1Rsy5"
      },
      "source": [
        "#***Actividad 2: Ejemplo cálculo de la Entalpía de una reacción***\n",
        "\n",
        "Utilizando el método de resolución por matrices, en la siguiente línea de código escribe la rutina para determinar el valor del cambio de entalpía de la siguiente reacción química:\n",
        "\n",
        " \n",
        "$\\small NH_{3(g)}+2O_{2(g)}\\rightarrow HNO_{3(l)}+H_{2}O_{(l)} \\kern 3pc (15)$\n",
        "\n",
        "A partir de las siguientes reacciones:\n",
        "\n",
        "$\\small 4NH_{3(g)}+5O_{2(g)}\\rightarrow 4NO_{(g)}+6H_{2}O_{(l)} \\kern 2pc \\Delta H_{r}^{o}=-1170\\enspace kJmol^{-1}\\kern 1pc  (16)$\n",
        "\n",
        "$\\small 2NO_{(g)}+O_{2(g)}\\rightarrow 2NO_{2(g)} \\kern 6pc \\Delta H_{r}^{o}=-114\\enspace kJmol^{-1}\\kern 1pc  (17)$\n",
        "\n",
        "\n",
        "$\\small 3NO_{2(g)}+H_{2}O_{(l)}\\rightarrow 2HNO_{3(l)}+NO_{(g)} \\kern 2pc \\Delta H_{r}^{o}=-72\\enspace kJmol^{-1}\\kern 1pc  (18)$\n",
        "\n",
        "Procedemos a seguir los pasos establecidos:\n",
        "\n",
        " 1.   Representamos nuestro sistema de reacciones  de la forma $\\small Ax=b$ y luego Utilizamos la rutina creada para resolver el sistema de ecuaciones:\n",
        "\n",
        "$\\small \\kern 5pc ec.(16) \\kern 1pc ec.(17)  \\kern 1pc ec.(18)$\n",
        "\n",
        "$\\begin{matrix}\\small NH_{3(g)}\\\\ \\small O_{2(g)}\\\\ \\small NO_{(g)}\\\\ \\small H_{2}O_{(g)}\\\\ \\small NO_{2(g)}\\\\ \\small HNO_{3(l)}\\\\ \n",
        "\\end{matrix}$ \n",
        "$\\begin{bmatrix}\n",
        "-4&&&0&&&0\\\\ \n",
        "-5&&&-1&&&0\\\\ \n",
        "+4&&&-2&&&+1\\\\ \n",
        "+6&&&0&&&-1\\\\ \n",
        "0&&&+2&&&-3\\\\ \n",
        "0&&&0&&&+2\\\\ \n",
        "\\end{bmatrix}$\n",
        "$\\begin{bmatrix}\n",
        "\\small s_{1}\\\\ \n",
        "\\small s_{2}\\\\  \n",
        "\\small s_{3}\\\\  \n",
        "\\end{bmatrix}$=\n",
        "$\\begin{bmatrix}\n",
        "\\small -1\\\\ \n",
        "\\small -2\\\\  \n",
        "\\small 0\\\\ \n",
        "\\small +1\\\\ \n",
        "\\small 0\\\\  \n",
        "\\small +1\\\\ \n",
        "\\end{bmatrix}$\n",
        "$\\small \\kern 2pc (19)$\n",
        "\n",
        "$\\small \\kern 8pc A \\kern 8pc x \\kern 3pc b$ "
      ]
    },
    {
      "cell_type": "code",
      "metadata": {
        "id": "13QoBi8NUlTE",
        "colab": {
          "base_uri": "https://localhost:8080/"
        },
        "outputId": "1dc2a30c-1f3d-478e-f306-c771865dd835"
      },
      "source": [
        "A=np.array([[-4,0,0], \n",
        "            [-5,-1,0], \n",
        "            [4,-2,1], \n",
        "            [6,0,-1],\n",
        "            [0,2,-3],\n",
        "            [0,0,2]])                    #creamos matriz de coeficientes (A)\n",
        "b=np.array([-1,-2,0,1,0,1])              #creamos vector resultado (b)\n",
        "x=np.linalg.lstsq(A,b, rcond=1)          #resolvemos sistema de ecuaciones\n",
        "H=np.array([-1170,-114,-72])             #creamos el vector con los valores de entalpía\n",
        "print(\"H=\", round(x[0]@H, 1), \"kJ/mol\")  #calculamos el valor de la entalpía"
      ],
      "execution_count": null,
      "outputs": [
        {
          "output_type": "stream",
          "name": "stdout",
          "text": [
            "H= -414.0 kJ/mol\n"
          ]
        }
      ]
    },
    {
      "cell_type": "markdown",
      "metadata": {
        "id": "b5X6lpa8UENO"
      },
      "source": [
        "#***Actividad 3: Ejercicios cálculo de la Entalpía de una reacción***\n",
        "\n",
        "**Ejercicio 1.**\n",
        "\n",
        "Ahora es tu turno. Utilizando el método de resolución por matrices, en la siguiente línea de código, escribe la rutina para determinar el valor del cambio de entalpía de la siguiente reacción química:\n",
        "\n",
        " \n",
        "$\\small C_{2}H_{2(g)}+2H_{2(g)}\\rightarrow C_{2}H_{6(g)}\\kern 6pc (20)$\n",
        "\n",
        "A partir de las siguientes reacciones:\n",
        "\n",
        "$\\small 2C_{2}H_{2(g)}+5O_{2}{(g)}\\rightarrow 4CO_{2(g)}+2H_{2}O_{(l)}  \\kern 2pc \\Delta H_{r}^{o}=-2600\\enspace kJmol^{-1}\\kern 1pc  (21)$\n",
        "\n",
        "$\\small 2C_{2}H_{6(g)}+7O_{2}{(g)}\\rightarrow 4CO_{2(g)}+6H_{2}O_{(l)} \\kern 2pc \\Delta H_{r}^{o}=-3210\\enspace kJmol^{-1}\\kern 1pc  (22)$\n",
        "\n",
        "$\\small H_{2(g)}+\\frac{1}{2}O_{2(g)}\\rightarrow H_{2}O_{(l)} \\kern 6pc \\Delta H_{r}^{o}=-286\\enspace kJmol^{-1}\\kern 1pc  (23)$\n"
      ]
    },
    {
      "cell_type": "code",
      "metadata": {
        "id": "miY_DgKPwNs_"
      },
      "source": [
        ""
      ],
      "execution_count": null,
      "outputs": []
    },
    {
      "cell_type": "markdown",
      "metadata": {
        "id": "cE3NWHAIwSgu"
      },
      "source": [
        "**Ejercicio 2.**\n",
        "\n",
        "Utilizando el método de resolución por matrices, en la siguiente línea de código, escribe la rutina para determinar el valor del cambio de entalpía de la siguiente reacción química:\n",
        "\n",
        " \n",
        "$\\small 2CO_{2(g)}+H_{2}O_{(g)}\\rightarrow C_{2}H_{2(g)}+\\frac{5}{2}O_{2(g)} \\kern 6pc (24)$\n",
        "\n",
        "A partir de las siguientes reacciones:\n",
        "\n",
        "$\\small C_{2}H_{2(g)}+2H_{2}{(g)}\\rightarrow C_{2}H_{6(g)} \\kern 5pc \\Delta H_{f}^{o}=-94.5\\enspace kJmol^{-1}\\kern 1pc  (25)$\n",
        "\n",
        "$\\small H_{2}O_{(g)}\\rightarrow H_{2(g)}+\\frac{1}{2}O_{2(g)}  \\kern 6pc \\Delta H_{f}^{o}=71.2\\enspace kJmol^{-1}\\kern 2pc  (26)$\n",
        "\n",
        "$\\small C_{2}H_{6(g)}+\\frac{7}{2}O_{2(g)}\\rightarrow 2CO_{2(g)}+3H_{2}O_{(g)} \\kern 2pc \\Delta H_{f}^{o}=-283\\enspace kJmol^{-1}\\kern 1pc  (27)$"
      ]
    },
    {
      "cell_type": "code",
      "metadata": {
        "id": "ce2wG5Ljwiee"
      },
      "source": [
        ""
      ],
      "execution_count": null,
      "outputs": []
    },
    {
      "cell_type": "markdown",
      "metadata": {
        "id": "_6MNDvRBiwx-"
      },
      "source": [
        "---\n",
        "#***Enlaces Recomendados***\n",
        " \n",
        "*  Manual de NumPy: <a href=\"https://numpy.org/doc/stable/index.html\">NumPy v1.21</a>\n",
        "*  Tutorial de `numpy`: <a href=\"http://facundoq.github.io/courses/images/res/03_numpy.html\">numpy</a>\n",
        "*  Tutorial de Álgebra lineal: <a href=\"https://relopezbriega.github.io/blog/2015/06/14/algebra-lineal-con-python/\"> Álgebra Lineal con Phyton</a> \n",
        "\n",
        "\n",
        "#***Referencias***\n",
        " \n",
        "*  M. I. Khalil. Calculating Enthalpy of Reaction by Matrix Method. $\\small J. Chem. Ed. 2000, 77, 2, 185.$ <a href=\"https://pubs.acs.org/doi/10.1021/ed077p185\">doi.org/10.1021/ed077p185</a>\n",
        " \n",
        "---"
      ]
    }
  ]
}