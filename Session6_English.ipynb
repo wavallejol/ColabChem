{
  "nbformat": 4,
  "nbformat_minor": 0,
  "metadata": {
    "colab": {
      "name": "Session6_English.ipynb",
      "provenance": [],
      "collapsed_sections": [],
      "toc_visible": true,
      "authorship_tag": "ABX9TyN1g+Qmahku/mtcSvRAXDse",
      "include_colab_link": true
    },
    "kernelspec": {
      "name": "python3",
      "display_name": "Python 3"
    },
    "language_info": {
      "name": "python"
    }
  },
  "cells": [
    {
      "cell_type": "markdown",
      "metadata": {
        "id": "view-in-github",
        "colab_type": "text"
      },
      "source": [
        "<a href=\"https://colab.research.google.com/github/wavallejol/ColabChem/blob/main/Session6_English.ipynb\" target=\"_parent\"><img src=\"https://colab.research.google.com/assets/colab-badge.svg\" alt=\"Open In Colab\"/></a>"
      ]
    },
    {
      "cell_type": "markdown",
      "metadata": {
        "id": "_KFNBX1kPBvV"
      },
      "source": [
        "# **Session 6. Hess's Law: Matrix Method**\n",
        "# **Objectives**\n",
        " \n",
        "1.   To determine the enthalpy change of a reaction using Hess's law.\n",
        "2.   To perform thermochemical calculations using the matrix method in the Google Colabs environment.\n",
        "3.   To use the ChemCollective platform to verify Hess's law in a neutralization reaction.\n",
        "---"
      ]
    },
    {
      "cell_type": "markdown",
      "metadata": {
        "id": "4f2sRuCkQsof"
      },
      "source": [
        " \n",
        "# ***Introduction***\n",
        "---\n",
        " \n",
        "The <a href=\"https://en.wikipedia.org/wiki/Hess%27s_law\"> Hess's Law</a> estates: if a chemical reaction occurs through a series of stages, the value of the heat transferred for the complete reaction will be equal to the sum of the heat transferred in each stage. Accordign to this state:\n",
        " \n",
        "$\\small \\Delta H_{r}^{o}= \\sum \\Delta H_{f}^{o}\\kern 2pc (1)$\n",
        " \n",
        "Where $\\small \\Delta H_{r}^{o}$ is the enthalpy of reaction under standard conditions.  $\\small \\Delta H_{f}^{o}$ represents the <a href=\"https://en.wikipedia.org/wiki/Standard_enthalpy_of_formation\"> Standard enthalpy of formation</a> of each chemical species of the reaction. This property of chemical reactions is a direct consequence of enthalpy being a state function. In general, for a chemical reaction:\n",
        " \n",
        "$\\small aA+bB\\rightarrow cC+dD\\kern 2pc (2)$\n",
        " \n",
        "The variation of the standard enthalpy of reaction at $\\small 25^{o}C$ se is expressed as follows\n",
        " \n",
        "$\\small \\Delta {H_{r}^{o}}=c{H_{f}^{o}(C)}+d{H_{f}^{o}(D)}-a{H_{f}^{o}(A)}-b{H_{f}^{o}(B)}\\kern 2pc (3)$\n",
        " \n",
        "Where $\\small \\Delta H_{f}^{o}$ is the value of the standard enthalpy at 298 K. Hess's law allows us to determine the value of $\\small \\Delta H_{r}^{o}$ unknown of different types of reaction from the values ​​of $\\small \\Delta H_{f}^{o}$ reported in <a href=\"https://en.wikipedia.org/wiki/Thermodynamic_databases_for_pure_substances\">thermodynamic tables</a>.\n",
        " \n",
        "A chemical reaction can be expressed as follows:\n",
        " \n",
        "$\\small 0=\\sum_{i=1}^{N} \\nu_{i}B_{i}\\kern 2pc(4)$\n",
        " \n",
        "Where $\\small \\nu_{i}$ is the stoichiometric coefficient and $\\small B_{i}$ is the chemical compound or element. The value of $\\small \\nu_{i}$ will be positive for the reaction products and $\\small \\nu_{i}$ is  negative for reagents. Once the chemical reactions have been balanced; they can be manipulated as algebraic equations. The chemical equations can be added, subtracted from each other, they can also be inverted and multiplied for determining the $\\small \\Delta {H_{r}^{o}}$ for a specific stage of a process.Conventional thermochemistry problems involving the determination of unknown reaction enthalpy values, applying Hess's law, are based on the properties of algebraic equations. The resolution methodology often involves trial and error. However, depending on the number of chemical reactions, the complexity of the problem can increase significantly, making the work tedious. As an alternative to this situation, M. Khalil  <a href=\"https://pubs.acs.org/doi/10.1021/ed077p185\">(Khalil, 2000)</a> reported a methodology for solving this type of problem using matrix.\n",
        " \n",
        "If you need to review information about array and matrix content, you can review the  <a href=\"https://github.com/wavallejol/ColabChem/blob/main/Session1_English.ipynb\"> session 1</a>. \n",
        " \n",
        "Let's get started to solve thermochemistry problems using Hess's law and matrix method."
      ]
    },
    {
      "cell_type": "markdown",
      "metadata": {
        "id": "acwd2MrajO2m"
      },
      "source": [
        "#***Activity 1: Hess's Law - Matrix method***\n",
        "\n",
        "We can write equation 2 as follows:\n",
        " \n",
        "$\\small 0=-aA-bBcC+dD \\kern 2pc (5)$\n",
        " \n",
        "Now we can write equation (5) as a rectangular array as follows:\n",
        " \n",
        "$\\begin{matrix}A\\\\ B\\\\ C\\\\ D\\\\ \n",
        "\\end{matrix}$ $\n",
        "\\begin{bmatrix}\n",
        "-a\\\\ \n",
        "-b\\\\ \n",
        "+c\\\\ \n",
        "+d\\\\ \n",
        "\\end{bmatrix}$ $\\small \\qquad(6)$\n",
        " \n",
        "There is a column for each chemical reaction that occurs in the process and a row for each chemical substance. Here is an example to illustrate that in a better way. Let us express the chemical equations (7 and 8) as rectangular arrays:\n",
        " \n",
        "$\\small S_{(s)}+O_{2(g)}\\rightarrow SO_{2(g)}\\kern 3pc\\Delta H_{r}^{o}=-297\\enspace kJmol^{-1}\\kern 2pc (7)$\n",
        " \n",
        "$\\small 2SO_{2(g)}+O_{2(g)}\\rightarrow 2SO_{3(g)} \\kern 2pc \\Delta H_{r}^{o}=-198\\enspace kJmol^{-1}\\kern 2pc (8)$\n",
        " \n",
        "We first create a list t with all the chemical species that appear in both of the reactions (7 and 8):\n",
        " \n",
        "$\\begin{matrix}\\small S_{(s)}\\\\ \\small O_{2(g)}\\\\ \\small SO_{2(g)}\\\\ \\small SO_{3(g)}\\\\ \n",
        "\\end{matrix}$ \n",
        " \n",
        "Now, we create the matrix with the two chemical reactions:\n",
        " \n",
        "$\\small \\kern 2pc ec.\\enspace(7) \\kern 1.5pc ec.\\enspace(8)$\n",
        " \n",
        "$\\begin{matrix}\\small S_{(s)}\\\\ \\small O_{2(g)}\\\\ \\small SO_{2(g)}\\\\ \\small SO_{3(g)}\\\\ \n",
        "\\end{matrix}$ \n",
        "$\\begin{bmatrix}\n",
        "-1&&&0\\\\ \n",
        "-1&&&-1\\\\ \n",
        "+1&&&-2\\\\ \n",
        "0&&&+2\\\\ \n",
        "\\end{bmatrix}$ $\\small \\qquad (9)$\n",
        " \n",
        "Each column within the matrix represents a chemical reaction, and each number represents a stoichiometric coefficient of the specific reaction. The first column of the matrix (left side) represents the stoichiometric coefficients of the reaction (7) and the second column of the matrix (right side) represents the stoichiometric coefficients of the reaction (8).\n",
        " \n",
        "Now, from equations 7 and 8, we must determine the value of $\\small \\Delta H^{o}$ for the combustion reaction of $\\small S_{2(g)}$ with $\\small O_{2(g)}$ according to the following chemical reaction: \n",
        " \n",
        "$\\small 2S_{(s)}+3O_{2(g)}\\rightarrow 2SO_{3(g)}\\kern 2pc (10)$\n",
        " \n",
        "To solve this question, we will apply linear algebra to systems of linear equations using a matrix. First, we will transcribe our system of chemical equations to the form $\\small Ax=b$. (Source: <a href=\"https://pubs.acs.org/doi/10.1021/ed077p185\">Fuente: Khalil, 2000</a>):\n",
        " \n",
        "$\\begin{bmatrix}\n",
        "\\small \\nu_{11} & \\small \\nu_{12} & \\cdots&\\small \\nu_{1R}\\\\ \n",
        "\\small \\nu_{21}&\\small \\nu_{22}&\\cdots&\\small \\nu_{2R}\\\\  \n",
        "\\vdots&\\vdots&\\vdots&\\vdots\\\\ \n",
        "\\small \\nu_{N1}&\\small \\nu_{N2}&\\cdots&\\small \\nu_{NR}\\\\  \n",
        "\\end{bmatrix}$\n",
        "$\\begin{bmatrix}\n",
        "\\small s_{1}\\\\ \n",
        "\\small s_{2}\\\\  \n",
        "\\vdots\\\\ \n",
        "\\small s_{R}\\\\  \n",
        "\\end{bmatrix}$=\n",
        "$\\begin{bmatrix}\n",
        "\\small \\nu_{net1}\\\\ \n",
        "\\small \\nu_{net2}\\\\  \n",
        "\\vdots\\\\ \n",
        "\\small \\nu_{netN}\\\\  \n",
        "\\end{bmatrix}$\n",
        "$\\small \\kern 2pc  (11)$\n",
        " \n",
        "$\\small \\kern 4pc A \\kern 3.5pc x \\kern 2pc b$\n",
        " \n",
        "Where A represents the matrix with the stoichiometric coefficients of the known reactions (7 and 8). In our example, the matrix (shown in equation 9) corresponds to $\\small A$ component. The array $\\small (x)$ represents the unknown array (it must be calculated), this array shows the number of times the reaction would occur to give the net reaction. The array $\\small (x)$ have as many elements as known reactions with enthalpy values we have, in our example, we have 2 reactions with known enthalpy values, therefore, this vector will have two elements. Finally, $\\small (b)$ represents the result array (array with the stoichiometric coefficients of the net reaction $\\small \\Delta_{r} H^{o}$).\n",
        "\n",
        "PFirst, we represent our reaction system in the form $\\small Ax=b$:\n",
        " \n",
        "$\\begin{bmatrix}\n",
        "-1&&&0\\\\ \n",
        "-1&&&-1\\\\ \n",
        "+1&&&-2\\\\ \n",
        "0&&&+2\\\\ \n",
        "\\end{bmatrix}$\n",
        "$\\begin{bmatrix}\n",
        "\\small s_{1}\\\\ \n",
        "\\small s_{2}\\\\  \n",
        "\\end{bmatrix}$=\n",
        "$\\begin{bmatrix}\n",
        "\\small -2\\\\ \n",
        "\\small -3\\\\  \n",
        "\\small 0\\\\ \n",
        "\\small +2\\\\  \n",
        "\\end{bmatrix}$\n",
        "$\\small \\kern 2pc  (12)$\n",
        " \n",
        "$\\small \\qquad A \\kern 3.7pc x \\kern 1.8pc b$\n",
        " \n",
        "There are different methods to solve this system of equations : (i) substitution method, (ii) equalization method, (iii) reduction method, (iv) graphical method, (v) Gaussian method, and (vi) the method of Cramer. However, Python has some functions that allow us to solve this system of equations using the function `np.linalg.lstsq()`.\n",
        " \n",
        "Using the equation $\\small Ax=b$ (eq. 12), In the following code cell we proceed to create the matrix of coefficients A."
      ]
    },
    {
      "cell_type": "code",
      "metadata": {
        "id": "NLbIUBhRy8lW"
      },
      "source": [
        "import numpy as np        \n",
        "A=np.array([[-1,0], \n",
        "            [-1,-1], \n",
        "            [1,-2], \n",
        "            [0,2]])       # Matrix A\n",
        "A"
      ],
      "execution_count": null,
      "outputs": []
    },
    {
      "cell_type": "markdown",
      "metadata": {
        "id": "xiUOX6JMzw2r"
      },
      "source": [
        "Now, we proceed to create the result array $\\small (b)$."
      ]
    },
    {
      "cell_type": "code",
      "metadata": {
        "id": "fplzlUDn0VDv"
      },
      "source": [
        "b=np.array([-2,-3,0,2]) \n",
        "b   "
      ],
      "execution_count": null,
      "outputs": []
    },
    {
      "cell_type": "markdown",
      "metadata": {
        "id": "t2LKTbkA1HHl"
      },
      "source": [
        "We solve the system of equations using the function `np.linalg.lstsq()`."
      ]
    },
    {
      "cell_type": "code",
      "metadata": {
        "id": "eCJlAG4j1NUB",
        "colab": {
          "base_uri": "https://localhost:8080/"
        },
        "outputId": "d157d414-28f4-493c-910e-74d7fbce18b8"
      },
      "source": [
        "x=np.linalg.lstsq(A,b, rcond=1) \n",
        "x[0]"
      ],
      "execution_count": null,
      "outputs": [
        {
          "output_type": "execute_result",
          "data": {
            "text/plain": [
              "array([2., 1.])"
            ]
          },
          "metadata": {},
          "execution_count": 5
        }
      ]
    },
    {
      "cell_type": "markdown",
      "metadata": {
        "id": "g3Pm1mpv1lpx"
      },
      "source": [
        "The result shows us the vector $\\small (x)$ is:\n",
        "\n",
        "$\\begin{bmatrix}\n",
        "\\small s_{1}\\\\ \n",
        "\\small s_{2}\\\\  \n",
        "\\end{bmatrix}$=\n",
        "$\\begin{bmatrix}\n",
        "\\small 2\\\\ \n",
        "\\small 1\\\\  \n",
        "\\end{bmatrix}$ $\\kern 5pc (13)$\n",
        "\n",
        "Using $\\small (x)$ and the $\\small \\Delta H_{r}^{o}$ values for equation 7 y 8, we can calculate the value of $\\small \\Delta H_{r}^{o}$ to the reaction 10:\n",
        "\n",
        "$\\small \\Delta H_{r(11)}^{o}=\\begin{bmatrix}\n",
        "\\small s_{1}\\\\ \n",
        "\\small s_{2}\\\\  \n",
        "\\end{bmatrix}$\n",
        "$\\begin{bmatrix}\n",
        "\\small -297&\n",
        "\\small -198\n",
        "\\end{bmatrix}$ $\\kern 2pc (14)$\n",
        "\n",
        "In the following code cell, we calculate the enthalpy of the reaction:"
      ]
    },
    {
      "cell_type": "code",
      "metadata": {
        "colab": {
          "base_uri": "https://localhost:8080/"
        },
        "id": "xf0pdgIaH8yc",
        "outputId": "a6f4559b-bf7e-4bbc-f9e8-27e2830d3a7a"
      },
      "source": [
        "H=np.array([-297,-198])\n",
        "ENTHALPY=print(\"Enthalpy_r=\", round(x[0]@H, 1), \"kJ/mol\")"
      ],
      "execution_count": null,
      "outputs": [
        {
          "output_type": "stream",
          "name": "stdout",
          "text": [
            "Enthalpy_r= -792.0 kJ/mol\n"
          ]
        }
      ]
    },
    {
      "cell_type": "markdown",
      "metadata": {
        "id": "gnOWAOJ1Rsy5"
      },
      "source": [
        "#***Activity 2: Calculation of the enthalpy of a reaction***\n",
        "\n",
        "In this example, we will determine the value of the enthalpy change for the following chemical reaction:\n",
        "\n",
        " \n",
        "$\\small NH_{3(g)}+2O_{2(g)}\\rightarrow HNO_{3(l)}+H_{2}O_{(l)} \\kern 3pc (15)$\n",
        "\n",
        "From these chemical reactions:\n",
        "\n",
        "$\\small 4NH_{3(g)}+5O_{2(g)}\\rightarrow 4NO_{(g)}+6H_{2}O_{(l)} \\kern 2pc \\Delta H_{r}^{o}=-1170\\enspace kJmol^{-1}\\kern 1pc  (16)$\n",
        "\n",
        "$\\small 2NO_{(g)}+O_{2(g)}\\rightarrow 2NO_{2(g)} \\kern 6pc \\Delta H_{r}^{o}=-114\\enspace kJmol^{-1}\\kern 1pc  (17)$\n",
        "\n",
        "\n",
        "$\\small 3NO_{2(g)}+H_{2}O_{(l)}\\rightarrow 2HNO_{3(l)}+NO_{(g)} \\kern 2pc \\Delta H_{r}^{o}=-72\\enspace kJmol^{-1}\\kern 1pc  (18)$\n",
        "\n",
        "Following previous steps:\n",
        "\n",
        " 1.   We represent our system of reactions in the form $\\small Ax=b$ then, we use the routine to solve the system of equations:\n",
        "\n",
        "$\\small \\kern 2.8pc ec.(16) \\kern 1.4pc ec.(17)  \\kern 1.4pc ec.(18)$\n",
        "\n",
        "$\\begin{matrix}\\small NH_{3(g)}\\\\ \\small O_{2(g)}\\\\ \\small NO_{(g)}\\\\ \\small H_{2}O_{(g)}\\\\ \\small NO_{2(g)}\\\\ \\small HNO_{3(l)}\\\\ \n",
        "\\end{matrix}$ \n",
        "$\\begin{bmatrix}\n",
        "-4&&&0&&&0\\\\ \n",
        "-5&&&-1&&&0\\\\ \n",
        "+4&&&-2&&&+1\\\\ \n",
        "+6&&&0&&&-1\\\\ \n",
        "0&&&+2&&&-3\\\\ \n",
        "0&&&0&&&+2\\\\ \n",
        "\\end{bmatrix}$\n",
        "$\\begin{bmatrix}\n",
        "\\small s_{1}\\\\ \n",
        "\\small s_{2}\\\\  \n",
        "\\small s_{3}\\\\  \n",
        "\\end{bmatrix}$=\n",
        "$\\begin{bmatrix}\n",
        "\\small -1\\\\ \n",
        "\\small -2\\\\  \n",
        "\\small 0\\\\ \n",
        "\\small +1\\\\ \n",
        "\\small 0\\\\  \n",
        "\\small +1\\\\ \n",
        "\\end{bmatrix}$\n",
        "$\\small \\kern 2pc (19)$\n",
        "\n",
        "$\\small \\kern 7pc A \\kern 4.7pc x \\kern 1.8pc b$ "
      ]
    },
    {
      "cell_type": "code",
      "metadata": {
        "id": "13QoBi8NUlTE",
        "colab": {
          "base_uri": "https://localhost:8080/"
        },
        "outputId": "66c01245-a1a6-4587-f0b8-ac26f62a55a8"
      },
      "source": [
        "A=np.array([[-4,0,0], \n",
        "            [-5,-1,0], \n",
        "            [4,-2,1], \n",
        "            [6,0,-1],\n",
        "            [0,2,-3],\n",
        "            [0,0,2]])                    # Matrix (A)\n",
        "b=np.array([-1,-2,0,1,0,1])              # array (b)\n",
        "x=np.linalg.lstsq(A,b, rcond=1)          \n",
        "H=np.array([-1170,-114,-72])             # array of enthalpy values\n",
        "print(\"Enthalpy_r=\", round(x[0]@H, 1), \"kJ/mol\")  "
      ],
      "execution_count": null,
      "outputs": [
        {
          "output_type": "stream",
          "name": "stdout",
          "text": [
            "Enthalpy_r= -414.0 kJ/mol\n"
          ]
        }
      ]
    },
    {
      "cell_type": "markdown",
      "metadata": {
        "id": "b5X6lpa8UENO"
      },
      "source": [
        "#***Activity 3: Exercises for calculating the enthalpy of a reaction***\n",
        "\n",
        "**Exercise  1.**\n",
        "\n",
        "Now is your turn. Using the matrix method, in the following line of code, write the routine to determine the value of the enthalpy change for the following chemical reaction:\n",
        "\n",
        " \n",
        "$\\small C_{2}H_{2(g)}+2H_{2(g)}\\rightarrow C_{2}H_{6(g)}\\kern 6pc (20)$\n",
        "\n",
        "From these chemical reactions:\n",
        "\n",
        "$\\small 2C_{2}H_{2(g)}+5O_{2}{(g)}\\rightarrow 4CO_{2(g)}+2H_{2}O_{(l)}  \\kern 2pc \\Delta H_{r}^{o}=-2600\\enspace kJmol^{-1}\\kern 1pc  (21)$\n",
        "\n",
        "$\\small 2C_{2}H_{6(g)}+7O_{2}{(g)}\\rightarrow 4CO_{2(g)}+6H_{2}O_{(l)} \\kern 2pc \\Delta H_{r}^{o}=-3210\\enspace kJmol^{-1}\\kern 1pc  (22)$\n",
        "\n",
        "$\\small H_{2(g)}+\\frac{1}{2}O_{2(g)}\\rightarrow H_{2}O_{(l)} \\kern 6pc \\Delta H_{r}^{o}=-286\\enspace kJmol^{-1}\\kern 1pc  (23)$\n"
      ]
    },
    {
      "cell_type": "code",
      "metadata": {
        "id": "miY_DgKPwNs_"
      },
      "source": [
        ""
      ],
      "execution_count": null,
      "outputs": []
    },
    {
      "cell_type": "markdown",
      "metadata": {
        "id": "cE3NWHAIwSgu"
      },
      "source": [
        "**Exercise  2.**\n",
        "\n",
        "Using the matrix method, in the following line of code, write the routine to determine the value of the enthalpy change for the following chemical reaction:\n",
        "\n",
        " \n",
        "$\\small 2CO_{2(g)}+H_{2}O_{(g)}\\rightarrow C_{2}H_{2(g)}+\\frac{5}{2}O_{2(g)} \\kern 6pc (24)$\n",
        "\n",
        "From these chemical reactions:\n",
        "\n",
        "$\\small C_{2}H_{2(g)}+2H_{2}{(g)}\\rightarrow C_{2}H_{6(g)} \\kern 5pc \\Delta H_{f}^{o}=-94.5\\enspace kJmol^{-1}\\kern 1pc  (25)$\n",
        "\n",
        "$\\small H_{2}O_{(g)}\\rightarrow H_{2(g)}+\\frac{1}{2}O_{2(g)}  \\kern 6pc \\Delta H_{f}^{o}=71.2\\enspace kJmol^{-1}\\kern 2pc  (26)$\n",
        "\n",
        "$\\small C_{2}H_{6(g)}+\\frac{7}{2}O_{2(g)}\\rightarrow 2CO_{2(g)}+3H_{2}O_{(g)} \\kern 2pc \\Delta H_{f}^{o}=-283\\enspace kJmol^{-1}\\kern 1pc  (27)$"
      ]
    },
    {
      "cell_type": "code",
      "metadata": {
        "id": "ce2wG5Ljwiee"
      },
      "source": [
        ""
      ],
      "execution_count": null,
      "outputs": []
    },
    {
      "cell_type": "markdown",
      "metadata": {
        "id": "hoFkF0UpLwgI"
      },
      "source": [
        "#***Activity 4: Matrix Visualization in two dimensions***\n",
        "\n",
        "The two-dimensional matrix can be visualized using color scales with the function `plt.matshow`. To use this function; we will utilize the arrays defined in the previous code cells. Let's start with the matrix $(\\small A)$  of equation 19."
      ]
    },
    {
      "cell_type": "code",
      "metadata": {
        "id": "tXD-eQbOMwoJ",
        "colab": {
          "base_uri": "https://localhost:8080/",
          "height": 513
        },
        "outputId": "ac35b7f8-8419-49be-eebc-4236b995e399"
      },
      "source": [
        "import matplotlib.pyplot as plt\n",
        "plt.matshow(A)\n",
        "plt.colorbar(ticks=[-5,-3,-1,1,3,5,7], shrink=0.8)  #we define the color scale according to the values ​​of the matrix\n",
        "print(A)"
      ],
      "execution_count": null,
      "outputs": [
        {
          "output_type": "stream",
          "name": "stdout",
          "text": [
            "[[-4  0  0]\n",
            " [-5 -1  0]\n",
            " [ 4 -2  1]\n",
            " [ 6  0 -1]\n",
            " [ 0  2 -3]\n",
            " [ 0  0  2]]\n"
          ]
        },
        {
          "output_type": "display_data",
          "data": {
            "image/png": "[encoded data removed]",
            "text/plain": [
              "<Figure size 288x576 with 2 Axes>"
            ]
          },
          "metadata": {
            "needs_background": "light"
          }
        }
      ]
    },
    {
      "cell_type": "markdown",
      "metadata": {
        "id": "6tC52WPKOxa5"
      },
      "source": [
        "We define the range of values ​​(ticks) as: -5, -3, -1, 1, 3, 5, 7. We choose this range because it contains all the values ​​of the matrix of Eq. (19). The color map assigns the yellow color to the highest value of the range (ticks = 6) and the purple color to the lowest value (ticks = -5), in the right side of the color map, the color scale appears.The first arrow of matrix Eq. 19 (-4 0 0) is plotting at the top of the colormap. With this tool, we can visualize the information obtained from the chemical reactions differently.\n",
        "\n",
        "You can review the following link: <a href=\"https://matplotlib.org/2.0.2/users/colormaps.html\"> Colormaps</a> to obtain more information.\n",
        "\n",
        " **Exercise 3.**\n",
        "\n",
        "In the following line of code, write the routine to obtain the color map to the matrix of exercises 1 and 2.\n"
      ]
    },
    {
      "cell_type": "code",
      "metadata": {
        "id": "pNaf6ajNQsSU"
      },
      "source": [
        ""
      ],
      "execution_count": null,
      "outputs": []
    },
    {
      "cell_type": "markdown",
      "metadata": {
        "id": "xtzSFZqMErG3"
      },
      "source": [
        "#***Activity 5: Solution of activities***\n",
        "\n",
        "We present the solutions for the activities you developed in the previous sections.\n",
        "\n",
        "*Solution exercise 1:* "
      ]
    },
    {
      "cell_type": "code",
      "metadata": {
        "id": "yTCzpmTEE9rI",
        "colab": {
          "base_uri": "https://localhost:8080/"
        },
        "outputId": "c2a9d49f-0cce-446c-d70c-7c29eeb9a5b8"
      },
      "source": [
        " import numpy as np \n",
        "A1=np.array([[-2,0,0], \n",
        "            [-5,-7,-0.5], \n",
        "            [4,4,0], \n",
        "            [2,6,1],\n",
        "            [0,-2,0],\n",
        "            [0,0,-1]])                   \n",
        "b=np.array([-1,0,0,0,1,-2])             \n",
        "x=np.linalg.lstsq(A1,b, rcond=1)          \n",
        "H=np.array([-2600,-3210,-286])             \n",
        "print(\"H=\", round(x[0]@H, 1), \"kJ/mol\")  "
      ],
      "execution_count": null,
      "outputs": [
        {
          "output_type": "stream",
          "name": "stdout",
          "text": [
            "H= -267.0 kJ/mol\n"
          ]
        }
      ]
    },
    {
      "cell_type": "markdown",
      "metadata": {
        "id": "MTuZhcO6FDC1"
      },
      "source": [
        "*Solution exercise 2:* "
      ]
    },
    {
      "cell_type": "code",
      "metadata": {
        "id": "oI__hHsSFEFm",
        "colab": {
          "base_uri": "https://localhost:8080/"
        },
        "outputId": "3b091205-73f2-4f64-d3e9-f4aeb30deb9d"
      },
      "source": [
        "import numpy as np \n",
        "A2=np.array([[1,0,0], \n",
        "            [-2,1,0], \n",
        "            [1,0,-1], \n",
        "            [0,-1,3],\n",
        "            [0,0.5,-3.5],\n",
        "            [0,0,2]])                   \n",
        "b=np.array([1,0,0,-1,2.5,-2])             \n",
        "x=np.linalg.lstsq(A2,b, rcond=1)          \n",
        "H=np.array([-94.6,71.2,-283])             \n",
        "print(\"H=\", round(x[0]@H, 1), \"kJ/mol\")  "
      ],
      "execution_count": null,
      "outputs": [
        {
          "output_type": "stream",
          "name": "stdout",
          "text": [
            "H= 176.9 kJ/mol\n"
          ]
        }
      ]
    },
    {
      "cell_type": "markdown",
      "metadata": {
        "id": "1zAnDdMUFKPz"
      },
      "source": [
        "*Solution exercise 3:* Color map to exercise 1. "
      ]
    },
    {
      "cell_type": "code",
      "metadata": {
        "id": "Z3ib51LfFP2N",
        "colab": {
          "base_uri": "https://localhost:8080/",
          "height": 511
        },
        "outputId": "c3e46d5a-8270-4d18-d5c4-e5deac81df2f"
      },
      "source": [
        "import matplotlib.pyplot as plt\n",
        "plt.matshow(A1)\n",
        "plt.colorbar(shrink=0.8) \n",
        "print(A1)"
      ],
      "execution_count": null,
      "outputs": [
        {
          "output_type": "stream",
          "name": "stdout",
          "text": [
            "[[-2.   0.   0. ]\n",
            " [-5.  -7.  -0.5]\n",
            " [ 4.   4.   0. ]\n",
            " [ 2.   6.   1. ]\n",
            " [ 0.  -2.   0. ]\n",
            " [ 0.   0.  -1. ]]\n"
          ]
        },
        {
          "output_type": "display_data",
          "data": {
            "image/png": "[encoded data removed]",
            "text/plain": [
              "<Figure size 288x576 with 2 Axes>"
            ]
          },
          "metadata": {
            "needs_background": "light"
          }
        }
      ]
    },
    {
      "cell_type": "markdown",
      "metadata": {
        "id": "kuSuOTBYFYBJ"
      },
      "source": [
        "*Solution exercise 3:* Color map to exercise 2. "
      ]
    },
    {
      "cell_type": "code",
      "metadata": {
        "id": "M_9AtsRVFa2X",
        "colab": {
          "base_uri": "https://localhost:8080/",
          "height": 511
        },
        "outputId": "239957b4-f806-420d-f27e-81c1ddcb1f11"
      },
      "source": [
        "import matplotlib.pyplot as plt\n",
        "plt.matshow(A2)\n",
        "plt.colorbar(shrink=0.8)  \n",
        "print(A2)"
      ],
      "execution_count": null,
      "outputs": [
        {
          "output_type": "stream",
          "name": "stdout",
          "text": [
            "[[ 1.   0.   0. ]\n",
            " [-2.   1.   0. ]\n",
            " [ 1.   0.  -1. ]\n",
            " [ 0.  -1.   3. ]\n",
            " [ 0.   0.5 -3.5]\n",
            " [ 0.   0.   2. ]]\n"
          ]
        },
        {
          "output_type": "display_data",
          "data": {
            "image/png": "[encoded data removed]",
            "text/plain": [
              "<Figure size 288x576 with 2 Axes>"
            ]
          },
          "metadata": {
            "needs_background": "light"
          }
        }
      ]
    },
    {
      "cell_type": "markdown",
      "metadata": {
        "id": "15g4Ix29_-wK"
      },
      "source": [
        "---\n",
        "# ***Activity 6: Virtual Lab***\n",
        "###**6.2. Enthalpy of neutralization Route I** \n",
        "\n",
        "ChemColective is a project of Carnegie Mellon University; it offers digital resources for learning chemistry. You will find more information about its content on the official site  <a href=\"http://chemcollective.org/vlabs\"> ChemCollective homepage</a>. In this section, we presented a step-by-step guide to use the ChemColeective platform and develop virtual activities.\n",
        "\n",
        "To develop this activity:\n",
        "\n",
        "1.   Open the following link in a new window: <a href=\"http://chemcollective.org/vlabs\"> ChemCollective homepage</a>\n",
        "2.   Choose the Thermochemistry option.\n",
        "3. Click on option “Heats of Reaction - Hess' Law”, click on “Go” option.\n",
        "4. Click on “Stockroom”. The reagent list will appear again.\n",
        "5. Click on “Strong-acids” option. CLick on \"1M HCl\" option.\n",
        "6. Click on “Stockroom”. Choose “Glassware” option.\n",
        "7. Click on “Others\" option. Choose “Foam Cup” option. \n",
        "8. Right-click on the Foam Cup and change its name; type (Calorimeter).\n",
        "9. Click on the HCl solution and place it on the calorimeter.\n",
        "10. Add the 100 mL of HCl solution.\n",
        "11. Note down the temperature of the solution.\n",
        "12. Click on “Stockroom” option.\n",
        "13. Click on “Solids” option, choose \"NaOH\" option.\n",
        "14. Click and hold on the NaOH image and place it on the calorimeter.\n",
        "15. Add 4.0 g of NaOH solid. \n",
        "16. Note down the final temperature after neutralization process.\n",
        "\n",
        "**Questions:**\n",
        "*  What is the heat transferred during the chemical reaction?\n",
        "*  What is the enthalpy value of reaction per mole of NaOH?, this enthalpy value will be ($\\small \\Delta H_{1}$). \n",
        "\n",
        "###**6.2. Enthalpy of neutralization Route II** \n",
        "\n",
        "Enthalpy of dissolution. To develop this activity:\n",
        "\n",
        "1.   Open the following link in a new window: <a href=\"http://chemcollective.org/vlabs\"> ChemCollective homepage</a>\n",
        "2.   Choose the Thermochemistry option.\n",
        "3. Click on option “Heats of Reaction - Hess' Law”, click on “Go” option.\n",
        "4. Click on the “Destilled $\\small H_{2}O$” option. The simulator screen will show the container of $\\small H_{2}O$.\n",
        "5. Click on “Stockroom” option. The reagent list will appear again.\n",
        "6. Click on “Glassware”, choose \"Beakers\" option.\n",
        "7. Click on “250 mL Beaker”.\n",
        "7. Click on “Solids” option, choose \"NaOH\" option. \n",
        "8. Click on “Stockroom”, choose “Glassware” option.\n",
        "9. Click on “Others” option, choose “Foam Cup” option. \n",
        "10. Right-click on the Foam Cup and change its name; type (Calorimeter).\n",
        "11. Click on the “Destilled $\\small H_{2}O$” container and place it on the calorimeter.\n",
        "12. Add 100 mL destilled $\\small H_{2}O$ to the calorimeter. \n",
        "13. Note down the temperature of the calorimeter.\n",
        "14. Click and hold on the NaOH image and place it on the calorimeter. \n",
        "15. Add 4.0 g of NaOH solid. \n",
        "16. Note down the final temperature after the dissolution process.\n",
        "\n",
        "**Questions:**\n",
        "*  What is the heat transferred during dissolution process?\n",
        "*  What is the enthalpy value of dissolution per mole of NaOH?, this enthalpy value will be ($\\small \\Delta H_{2}$). \n",
        "\n",
        "###**6.3. Enthalpy of neutralization Route III** \n",
        "\n",
        "Entalpía de Neutralzación. Para desarrollar esta actividad:\n",
        "\n",
        "Enthalpy of dissolution. To develop this activity:\n",
        "\n",
        "1.   Open the following link in a new window: <a href=\"http://chemcollective.org/vlabs\"> ChemCollective homepage</a>\n",
        "2.   Choose the Thermochemistry option.\n",
        "3. Click on option “Heats of Reaction - Hess' Law”, click on “Go” option.\n",
        "4. Click on “Strong-acids” option. CLick on \"1M HCl\" option.\n",
        "7. Click on “Stockroom” option, choose “Glassware” option.\n",
        "8. Click on “Others” option, choose “Foam Cup” option. \n",
        "9. Right-click on the Foam Cup and change its name; type (Calorimeter).\n",
        "9. Click on the HCl solution and place it on the calorimeter.\n",
        "10. Add the 100 mL of 1M HCl solution.\n",
        "11. Note down the temperature of the solution.\n",
        "12. Click on “Stockroom” option.\n",
        "13. click on “Strong-bases” option. Click on \"1M NaOH\" option.\n",
        "14. Click and hold on the NaOH image and place it on the calorimeter.\n",
        "15. Add 100 mL of the NaOH 1M soluion to the calorimeter.\n",
        "16. Note down the final temperature after neutralization process.\n",
        "\n",
        "\n",
        "**Questions:**\n",
        "*  What is the heat transferred during reaction process?\n",
        "*  What is the enthalpy value of reaction per mole of NaOH?, this enthalpy value will be ($\\small \\Delta H_{3}$). \n",
        "\n",
        "*  Compare heat transfer during direct neutralization (route I) and, two steps neutralization (Route II and III). Do you verify the law of energy conservation?\n",
        "\n",
        "*  Verify the  Hess's law: $\\small \\Delta H_{1}= \\Delta H_{2}+\\Delta H_{3}$ \n"
      ]
    },
    {
      "cell_type": "markdown",
      "metadata": {
        "id": "_6MNDvRBiwx-"
      },
      "source": [
        "---\n",
        "#***Recommended Links***\n",
        "\n",
        "*  NumPy Manual : <a href=\"https://numpy.org/doc/stable/index.html\">NumPy v1.21</a>\n",
        "* `numpy` Tutorial : <a href=\"https://cs231n.github.io/python-numpy-tutorial/\">numpy</a>\n",
        "*  Mathematics in phyton tutorial : (i) <a href=\"https://github.com/drvinceknight/Python-Mathematics-Handbook\">Mathematics in phyton</a> (ii) <a href=\"https://personal.math.ubc.ca/~pwalls/math-python/jupyter/notebook/\">Mathematical Phyton</a>\n",
        "*  Colormaps:<a href=\"https://matplotlib.org/2.0.2/users/colormaps.html\">Colormaps homepage</a>\n",
        "\n",
        "---\n",
        "#***References***\n",
        " \n",
        "*  M. I. Khalil. Calculating Enthalpy of Reaction by Matrix Method. $\\small J. Chem. Ed. 2000, 77, 2, 185.$ <a href=\"https://pubs.acs.org/doi/10.1021/ed077p185\">doi.org/10.1021/ed077p185</a>\n",
        "*  University of Colorado. PhET: Interactive Simulations for Sciences and Math. <a href=\"https://phet.colorado.edu/\"> Homepage</a> Date access: August 2021.\n",
        "\n",
        "*  University of Carnegie Mellon. ChemCollective<a href=\"http://chemcollective.org/vlabs\"> Homepage</a>. Date access: August 2021.\n",
        " \n",
        "---"
      ]
    }
  ]
}