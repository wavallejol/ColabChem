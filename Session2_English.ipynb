{
  "nbformat": 4,
  "nbformat_minor": 0,
  "metadata": {
    "colab": {
      "name": "Session2_English.ipynb",
      "provenance": [],
      "collapsed_sections": [],
      "toc_visible": true,
      "authorship_tag": "ABX9TyMHNyfg5tG2BRX2b0RkX2uH",
      "include_colab_link": true
    },
    "kernelspec": {
      "name": "python3",
      "display_name": "Python 3"
    },
    "language_info": {
      "name": "python"
    }
  },
  "cells": [
    {
      "cell_type": "markdown",
      "metadata": {
        "id": "view-in-github",
        "colab_type": "text"
      },
      "source": [
        "<a href=\"https://colab.research.google.com/github/wavallejol/ColabChem/blob/main/Session2_English.ipynb\" target=\"_parent\"><img src=\"https://colab.research.google.com/assets/colab-badge.svg\" alt=\"Open In Colab\"/></a>"
      ]
    },
    {
      "cell_type": "markdown",
      "metadata": {
        "id": "rCBQDEFIIDE5"
      },
      "source": [
        "# **Session 2. Mathematical treatment of experimental data**\n",
        "# **Objectives**\n",
        " \n",
        " \n",
        "1.   To learn data management using Google Colabs.\n",
        "2.   To apply the concepts learned in the treatment of experimental data.\n",
        "2.   To perform a graphical representation of experimental results.\n",
        "---"
      ]
    },
    {
      "cell_type": "markdown",
      "metadata": {
        "id": "mWmYRBj5JGQ3"
      },
      "source": [
        "# **Introduction**\n",
        "The correct manipulation of the experimental data obtained in the different activities carried out within the laboratories is an important skill within the academic exercise. 📝. The experimental data are obtained after applying the <a href=\"https://en.wikipedia.org/wiki/Scientific_method#:~:text=The%20process%20in%20the%20scientific,seeking%20answers%20to%20the%20question.\">scientific method </a>  Each step of the scientific method is fundamental within any quantitative research process and, the treatment and analysis of the results obtained are of special interest for laboratory practices 📈 . Using mathematical formalisms and graphic applications 📊  support the transmition of findings obtained after labs experiences.\n",
        "\n",
        " \n",
        "---"
      ]
    },
    {
      "cell_type": "markdown",
      "metadata": {
        "id": "D_-AHEGZPyk4"
      },
      "source": [
        "# ***Activity 1***\n",
        " \n",
        "A spectrophotometric method was used to quantify zinc levels in a water test sample. Each workgroup carried out the quantification in triplicate. The results of each group are listed in Table 1. Using the information, respond: (i) What is the average value obtained by each group? (ii) what is the standard deviation of each group. (iii) If the real zinc level in the test sample was $\\small23.604\\mu .g^{-1}$, indicates which was the least dispersed and the most exact group.\n",
        " \n",
        "<div align = \"center\"> Table 1. Zinc quantification results reported by each group in micrograms of Zn $(\\small \\mu g)$ per gram of sample.</div>\n",
        " \n",
        "Test| group 1 ($\\mu g.g^{-1}$)|group 2 ($\\mu g.g^{-1}$))|group 3 ($\\mu g.g^{-1}$)\n",
        "-------------------|------------------|------------------|----------------\n",
        "   1   | 22.503 | 22.467 | 24.001\n",
        " 2 | 21.906 | 21.876 | 23.908\n",
        " 3 | 22.403 | 22.345 | 23.945\n",
        " \n",
        " \n",
        "To solve these questions, first, we will import the <a href=\"https://en.wikipedia.org/wiki/Python_(programming_language)#Libraries\">library</a> that we will use to process the data: <a href=\"https://en.wikipedia.org/wiki/NumPy\">numpy</a>."
      ]
    },
    {
      "cell_type": "code",
      "metadata": {
        "id": "uI7Kyu2TMirn"
      },
      "source": [
        "import numpy as np"
      ],
      "execution_count": null,
      "outputs": []
    },
    {
      "cell_type": "markdown",
      "metadata": {
        "id": "otkbk2rPM8q0"
      },
      "source": [
        "Now we will create an (<a href=\"hhttps://en.wikipedia.org/wiki/Array\">array</a>) with each group data. Click on the icon▶️  in the next code cell. "
      ]
    },
    {
      "cell_type": "code",
      "metadata": {
        "id": "oqveKPMZNIT3"
      },
      "source": [
        "group1= np.array([22.503, 21.906, 22.403 ]) # we create a list with the data of group 1\n",
        "group1                                      # we shows the list"
      ],
      "execution_count": null,
      "outputs": []
    },
    {
      "cell_type": "markdown",
      "metadata": {
        "id": "wCR0phSBPI1N"
      },
      "source": [
        "*Exercise 1:* In the next code cell, write the routine to create the two lists for group 2 and group 3."
      ]
    },
    {
      "cell_type": "code",
      "metadata": {
        "id": "kS9d6nPYPijj"
      },
      "source": [
        ""
      ],
      "execution_count": null,
      "outputs": []
    },
    {
      "cell_type": "markdown",
      "metadata": {
        "id": "zZbvKW3yPmY8"
      },
      "source": [
        "Now, we will do the calculate the <a href=\"https://en.wikipedia.org/wiki/Mean\">mean</a> for each group. The mean ($\\mu$) of a data series is defined as:\n",
        "$\\mu=\\frac{1}{n}\\sum_{i=1}^{n}x_{i}$\n",
        " \n",
        "To determine the mean, we will use the function `np.mean()`. Click on the icon ▶️  in the next code cell."
      ]
    },
    {
      "cell_type": "code",
      "metadata": {
        "id": "Abt6XgD3Q6zO"
      },
      "source": [
        "mean=np.mean(group1) # calculates the mean of data to group 1\n",
        "rm=round(mean,2)     # rounds mean to two decimal places\n",
        "print(\"mean group1 =\", rm)"
      ],
      "execution_count": null,
      "outputs": []
    },
    {
      "cell_type": "markdown",
      "metadata": {
        "id": "icRiYgQsRXww"
      },
      "source": [
        "*Exercise 2:* On the next code cell,  write a routine to determine the mean of group 2 and group 3."
      ]
    },
    {
      "cell_type": "code",
      "metadata": {
        "id": "UyDZzW4VRqhp"
      },
      "source": [
        ""
      ],
      "execution_count": null,
      "outputs": []
    },
    {
      "cell_type": "markdown",
      "metadata": {
        "id": "GB7mB2elSMAf"
      },
      "source": [
        "Now we will calculate <a href=\"https://en.wikipedia.org/wiki/Standard_deviation#:~:text=The%20standard%20deviation%20of%20a,than%20the%20average%20absolute%20deviation.\">standard deviation</a> for each group. The standard deviation is represented by the Greek letter ($\\sigma$) \n",
        "and is defined as:\n",
        "\n",
        "$\\sigma=\\sqrt{\\frac{1}{n}\\sum_{i=1}(x_{i}-\\mu)^{2}}$ \n",
        "\n",
        "We will utilize command `np.std()`. Click on the icon ▶️  in the next code cell."
      ]
    },
    {
      "cell_type": "code",
      "metadata": {
        "id": "H696egQvTSis"
      },
      "source": [
        "sd=np.std(group1)   # calculates the standard deviation for group1\n",
        "sdr=round(sd,2)    # rounds result to two decimal places\n",
        "print(\"SD group1 =\", sdr) "
      ],
      "execution_count": null,
      "outputs": []
    },
    {
      "cell_type": "markdown",
      "metadata": {
        "id": "Wi9aX59_Tc5e"
      },
      "source": [
        "*Exercise 3:* In the next code cell,  write a routine to determine the value of $\\sigma$ to group 2 and group 3."
      ]
    },
    {
      "cell_type": "code",
      "metadata": {
        "id": "eRcNXgKvTuQO"
      },
      "source": [
        ""
      ],
      "execution_count": null,
      "outputs": []
    },
    {
      "cell_type": "markdown",
      "metadata": {
        "id": "E8C1A3zbCAz-"
      },
      "source": [
        "Now,  we will calculate the relative error of each group. The <a href=\"https://en.wikipedia.org/wiki/Approximation_error#:~:text=The%20relative%20error%20is%20the,size%20of%20an%20approximation%20error.\">relative error</a> is defined as: $e=\\left | \\frac{X_{real}-X_{experimental}}{X_{real}} \\right |\\small100$\n",
        " \n",
        "Click on icon ▶️  in the next cell code."
      ]
    },
    {
      "cell_type": "code",
      "metadata": {
        "id": "K9sjDy2NDlgs"
      },
      "source": [
        "vreal=23.604                          # real value\n",
        "error=(vreal - mean)/vreal*100        # realtive error formule\n",
        "er=round(error, 2)                    # round to two decimal places\n",
        "print(\"relative error =\", er,\"%\")               "
      ],
      "execution_count": null,
      "outputs": []
    },
    {
      "cell_type": "code",
      "metadata": {
        "id": "-bxLSS04ZJiX"
      },
      "source": [
        ""
      ],
      "execution_count": null,
      "outputs": []
    },
    {
      "cell_type": "markdown",
      "metadata": {
        "id": "SmB4XuEHFavX"
      },
      "source": [
        "*Exercise 4:* In the next code cell, write the code and determine the value of the relative error for group 2 and group 3. With this information, you can answer the last question of this activity."
      ]
    },
    {
      "cell_type": "code",
      "metadata": {
        "id": "QtZbx_cE1ugW"
      },
      "source": [
        ""
      ],
      "execution_count": null,
      "outputs": []
    },
    {
      "cell_type": "markdown",
      "metadata": {
        "id": "bFFvaKvUYpiN"
      },
      "source": [
        " \n",
        "---\n",
        "# ***Activity 2***\n",
        "In this activity, we will practice plotting graphs 📊 using the google colabs environment.\n",
        " \n",
        "For two neutral atoms or molecules, under the  <a href=\"https://en.wikipedia.org/wiki/Van_der_Waals_equation#:~:text=The%20Van%20der%20Waals%20equation%20is%20a%20thermodynamic%20equation%20of,)%20inter%2Dparticle%20attractive%20force.\">van der Waals </a> interaction of attractive forces and under repulsive forces (resulting from overlapping of the atomic or molecular orbitals); a interaction potential is generated btween them. This potential is expresed by a simple mathematical model known as  <a href=\"https://en.wikipedia.org/wiki/Lennard-Jones_potential#:~:text=The%20Lennard%2DJones%20potential%20is%20a%20simplified%20model%20that%20yet,infinite%20distance%2C%20see%20figure%201.\">Lennard-Jones</a>potential:\n",
        " \n",
        "$\\small V(r)=4\\varepsilon( \\left[\\frac{\\sigma }{r} \\right] ^{12} - \\left[\\frac{\\sigma }{r} \\right] ^{6})$ \n",
        " \n",
        "Where $\\small V(r)$ represents the interaction potential as a function of the distance between the center of the two chemical species, $\\varepsilon$ represents the depth of the interaction potential between the two chemical species and $\\sigma$ is the finite distance which the $\\small V(r)$ is zero. The term $\\small r ^{-12}$ describes the repulsive term between the two species and the term $\\small r ^{-6}$ describes the attractive term. Table 2 lists the values ​​of $\\varepsilon$ and $\\sigma$ for three chemical species. \n",
        " \n",
        "<div align = \"center\">Table 2. Parameters $\\varepsilon$ and $\\sigma$ for calculating Lennard-Jones potential.</div>\n",
        " \n",
        "Molecule/atom| $\\varepsilon$  $\\small kCal/mol$ | $\\sigma$ (Angstrom)\n",
        "-------------------|------------------|------------------\n",
        " Ar | $\\small0.222$ | $\\small3.62$ \n",
        " Kr | $\\small0.308$ | $\\small3.90$ \n",
        " Xe | $\\small0.425$ | $\\small4.26$ \n",
        " CCl4 | $\\small0.753$ | $\\small6.24$ \n",
        " \n",
        "Plotting the Lennard Jones potential as a function of distance (3-10 Angstroms) for one chemical specie listed in the table 2."
      ]
    },
    {
      "cell_type": "markdown",
      "metadata": {
        "id": "bvHpLNLrIYEQ"
      },
      "source": [
        "\n",
        "First, we will import the three libraries. Click the icon ▶️ in the next code cell."
      ]
    },
    {
      "cell_type": "code",
      "metadata": {
        "id": "z6Rq3Tc5I2E4"
      },
      "source": [
        "import numpy as np\n",
        "import math\n",
        "import matplotlib.pyplot as plt"
      ],
      "execution_count": 1,
      "outputs": []
    },
    {
      "cell_type": "markdown",
      "metadata": {
        "id": "V4mlauBoM_rY"
      },
      "source": [
        "We will work with the $\\small CCl_{4}$ data. Furthermore, We will plot each component of the L-J equation.\n",
        " \n",
        "We will define: the variable `r`, the constants, and the L-J equation. Click the icon ▶️ in the next code cell."
      ]
    },
    {
      "cell_type": "code",
      "metadata": {
        "id": "Xi4QDo-kNKJA"
      },
      "source": [
        "r=np.arange(3,10,0.1)     # We define \"r\", we establish the limits of change and the step.\n",
        "E=0.753\n",
        "O=6.24\n",
        "V=4*E*pow(O/r, 12)        # equation for repulsive term\n",
        "V2=4*E*pow(O/r, 6)        # equation for attractive term\n",
        "Vr=V-V2                   # equation for L-J potential"
      ],
      "execution_count": 2,
      "outputs": []
    },
    {
      "cell_type": "markdown",
      "metadata": {
        "id": "Of69XvdKOYHp"
      },
      "source": [
        "Now, we will plot the repulsion and attraction components together with the L-J potential, all together on the same chart. Click the icon ▶️ in the next code cell."
      ]
    },
    {
      "cell_type": "code",
      "metadata": {
        "id": "SKHsPu9riZYJ",
        "colab": {
          "base_uri": "https://localhost:8080/",
          "height": 283
        },
        "outputId": "e5c1030a-02d7-4459-d8c5-4d8bff3c1eab"
      },
      "source": [
        "plt.plot(r,V, \"r\", label=\"repulsive\")         # plotting repulsive term of L-J potential\n",
        "plt.plot(r,V2, \"m\", label=\"attractive\")        # plotting attractive term of L-J potential\n",
        "plt.plot(r,Vr, \"b\", label=\"L-J potential\")    # plotting L-J potential\n",
        "plt.xlabel('r(A)')                            # x-axis title\n",
        "plt.ylabel('V(r)')                            # y-axis title\n",
        "plt.ylim(-1,10)                               # y-axis limit\n",
        "plt.xlim(4,10)                                # x-axis limit\n",
        "plt.legend()\n",
        "plt.show()"
      ],
      "execution_count": 3,
      "outputs": [
        {
          "output_type": "display_data",
          "data": {
            "image/png": "[encoded data removed]",
            "text/plain": [
              "<Figure size 432x288 with 1 Axes>"
            ]
          },
          "metadata": {
            "needs_background": "light"
          }
        }
      ]
    },
    {
      "cell_type": "markdown",
      "metadata": {
        "id": "fCdwD-cgOq95"
      },
      "source": [
        "Click the icon ▶️ in the next code cell to see another way for plotting the data."
      ]
    },
    {
      "cell_type": "code",
      "metadata": {
        "id": "cVxE9MD1QfNT",
        "colab": {
          "base_uri": "https://localhost:8080/",
          "height": 283
        },
        "outputId": "041a57e9-2ec7-40ea-eb50-40045caae6e9"
      },
      "source": [
        "import numpy as np\n",
        "import matplotlib.pyplot as plt\n",
        "\n",
        "r, E, O=np.arange(3,10,0.1), 0.753, 6.24  \n",
        "V=4*E*pow(O/r, 12)       \n",
        "V2=4*E*pow(O/r, 6)       \n",
        "Vr=V-V2  \n",
        "\n",
        "plt.subplot(1,3,1)           # plotting three charts, these are parameters first chart         \n",
        "plt.plot(r,V, \"r\", label=\"repulsive\")\n",
        "plt.ylabel('V(r)')\n",
        "plt.ylim(-1,10)\n",
        "plt.xlim(4,10)\n",
        "plt.legend()\n",
        " \n",
        "plt.subplot(1,3,2)           # parameters second chart   \n",
        "plt.plot(r,V2, \"m\", label=\"attractive\")\n",
        "plt.xlabel('r(A)')\n",
        "plt.ylim(-1,10)\n",
        "plt.xlim(4,10)\n",
        "plt.legend()\n",
        " \n",
        "plt.subplot(1,3,3)           # parameters third chart     \n",
        "plt.plot(r,Vr, \"b\", label=\"L-J potential\")\n",
        "plt.ylim(-1,10)\n",
        "plt.xlim(4,10)\n",
        "plt.legend()\n",
        "plt.show()"
      ],
      "execution_count": null,
      "outputs": [
        {
          "output_type": "display_data",
          "data": {
            "image/png": "[encoded data removed]",
            "text/plain": [
              "<Figure size 432x288 with 3 Axes>"
            ]
          },
          "metadata": {
            "needs_background": "light"
          }
        }
      ]
    },
    {
      "cell_type": "markdown",
      "metadata": {
        "id": "QS5PUwaqRfwE"
      },
      "source": [
        "*Exercise 5:* Now it is your turn 👊.. In the next code cell, write the routine to plot in the same chart, the L-J potential V(r) for two molecules from the list of table 2."
      ]
    },
    {
      "cell_type": "code",
      "metadata": {
        "id": "0XeP6qF1SLuU"
      },
      "source": [
        ""
      ],
      "execution_count": null,
      "outputs": []
    },
    {
      "cell_type": "markdown",
      "metadata": {
        "id": "JMc8QqK9FyF3"
      },
      "source": [
        " \n",
        "---\n",
        "# ***Activity 3***\n",
        "In this activity, we will perform a typical linear regression using the google colabs environment. Table 3 lists the concentration and absorbance data for a  hypothetical substance.\n",
        " \n",
        "<div align = \"center\">Table 3. Concentration (ppm) and absorbance values to activity 3.</div>\n",
        " \n",
        "Concentration (ppm)| Absorbance\n",
        "-------------------|------------------\n",
        " 0,0 | 0.000 \n",
        " 1,0 | 0.034  \n",
        " 2,0 | 0.064  \n",
        " 5,00 | 0.165 \n",
        " 10,0 | 0.320 \n",
        " 20,0 | 0.681 \n",
        " 40,0 | 1.34 \n",
        " 50,0 | 1.71 \n",
        "  \n",
        "From information, plotting the   <a href=\"https://en.wikipedia.org/wiki/Calibration_curve\">calibration curve.</a>\n",
        "\n",
        "First,  we will import the libraries: (i)\n",
        "<a href=\"https://en.wikipedia.org/wiki/NumPy\">numpy,</a> (ii) <a href=\"https://en.wikipedia.org/wiki/Matplotlib\">matplotlib.pyplot</a> y (iii) <a href=\"https://en.wikipedia.org/wiki/SciPy\">scipy.stats</a>. Click the icon ▶️ in the next code cell."
      ]
    },
    {
      "cell_type": "code",
      "metadata": {
        "id": "FNm2OYzMIwH7"
      },
      "source": [
        "import numpy as np                    # operation with array\n",
        "import matplotlib.pyplot as plt       # plotting\n",
        "from scipy.stats import linregress    # linear regression"
      ],
      "execution_count": null,
      "outputs": []
    },
    {
      "cell_type": "markdown",
      "metadata": {
        "id": "3Rk67gJjI65B"
      },
      "source": [
        "\n",
        "Now, we will create two data arrays. First array for the concentration values (Conc) ​​and, second array for the absorbance data (Abs). Click the icon ▶️ in the next code cell."
      ]
    },
    {
      "cell_type": "code",
      "metadata": {
        "id": "hX3Un7sWJEn_"
      },
      "source": [
        "Conc = np.array([0,1,2,5,10,20,40,50])\n",
        "Abs = np.array([0,0.034,0.064,0.165,0.320,0.681,1.34,1.71])"
      ],
      "execution_count": null,
      "outputs": []
    },
    {
      "cell_type": "markdown",
      "metadata": {
        "id": "HGbdD2MgLrv-"
      },
      "source": [
        "We utilize `matplotlib.pyplot` library for plotting data. Remember, we imported this library as `plt`. Click the icon ▶️ in the next code cell."
      ]
    },
    {
      "cell_type": "code",
      "metadata": {
        "colab": {
          "base_uri": "https://localhost:8080/",
          "height": 295
        },
        "id": "_g92BnEXL_bQ",
        "outputId": "9b586128-a805-409b-8fe7-6b04278cc35a"
      },
      "source": [
        "plt.plot(Conc,Abs,'b*')             # plotting Conc vs Abs, in chart data appear as (*) in blue color (b)\n",
        "plt.title(\"Calibration Curve\")      \n",
        "plt.xlabel(\"Concentration (ppm)\")    \n",
        "plt.show()                          "
      ],
      "execution_count": null,
      "outputs": [
        {
          "output_type": "display_data",
          "data": {
            "image/png": "[encoded data removed]",
            "text/plain": [
              "<Figure size 432x288 with 1 Axes>"
            ]
          },
          "metadata": {
            "needs_background": "light"
          }
        }
      ]
    },
    {
      "cell_type": "markdown",
      "metadata": {
        "id": "gcMnki48OHI4"
      },
      "source": [
        "After we plotted data, we perform the <a href=\"https://en.wikipedia.org/wiki/Linear_regression#:~:text=In%20statistics%2C%20linear%20regression%20is,as%20dependent%20and%20independent%20variables).\">lineal regression</a>, for using the command `linregress()`. "
      ]
    },
    {
      "cell_type": "code",
      "metadata": {
        "colab": {
          "base_uri": "https://localhost:8080/"
        },
        "id": "S4wwb72oOQHG",
        "outputId": "1ce0524d-20f1-4c79-e89b-01c1b778ad3f"
      },
      "source": [
        "linregress(Conc, Abs) # Linear least-squares regression calculation."
      ],
      "execution_count": null,
      "outputs": [
        {
          "output_type": "execute_result",
          "data": {
            "text/plain": [
              "LinregressResult(slope=0.03403679318357862, intercept=-0.005338690937257917, rvalue=0.9998733206480568, pvalue=5.0817845037101574e-12, stderr=0.00022119850635242343)"
            ]
          },
          "metadata": {},
          "execution_count": 7
        }
      ]
    },
    {
      "cell_type": "markdown",
      "metadata": {
        "id": "Ltp8oqSpOxr6"
      },
      "source": [
        "We can show data fitting in a better way using the following code"
      ]
    },
    {
      "cell_type": "code",
      "metadata": {
        "colab": {
          "base_uri": "https://localhost:8080/"
        },
        "id": "5kUh30axO4Rn",
        "outputId": "3bb7668c-dcf8-4722-ea74-d8ef687aa8fa"
      },
      "source": [
        "slope, intercept, rvalue, pvalue, stderr = linregress(Conc, Abs) # we define linear regression variables\n",
        "sr=round(slope, 5)                       # round each variable\n",
        "inr=round(intercept, 5)\n",
        "Rr=round(rvalue, 4)\n",
        "print( \"Abs =\", sr,\"(Conc)\",inr, \", R =\", Rr) # show linear equation fitting"
      ],
      "execution_count": null,
      "outputs": [
        {
          "output_type": "stream",
          "name": "stdout",
          "text": [
            "Abs = 0.03404 (Conc) -0.00534 , R = 0.9999\n"
          ]
        }
      ]
    },
    {
      "cell_type": "markdown",
      "metadata": {
        "id": "2idMd7DHQLtp"
      },
      "source": [
        "Now, we will plot both the experimental and fitting data. Click the icon ▶️ in the next code cell."
      ]
    },
    {
      "cell_type": "code",
      "metadata": {
        "colab": {
          "base_uri": "https://localhost:8080/",
          "height": 295
        },
        "id": "INMars7xQWU8",
        "outputId": "0f1aab25-d453-4f63-cbf6-2e1e15e571ea"
      },
      "source": [
        "y2=slope*Conc+intercept                              # linear fitting equation\n",
        "plt.plot(Conc,Abs, \"bo\", label=\"experimental data\")  # plotting the experimental data\n",
        "plt.plot(Conc,y2, \"r-\", label=\"Linear fitting\")      # ploting the fitting equation\n",
        "plt.title(\"Calibration Curve\")  \n",
        "plt.xlabel('Concentration (ppm)')     \n",
        "plt.ylabel('Abs')   \n",
        "plt.legend(loc=\"upper left\")\n",
        "plt.show()"
      ],
      "execution_count": null,
      "outputs": [
        {
          "output_type": "display_data",
          "data": {
            "image/png": "[encoded data removed]",
            "text/plain": [
              "<Figure size 432x288 with 1 Axes>"
            ]
          },
          "metadata": {
            "needs_background": "light"
          }
        }
      ]
    },
    {
      "cell_type": "markdown",
      "metadata": {
        "id": "vrMhg5NiXJ9r"
      },
      "source": [
        "Now it's your turn 👊 . Table 4 lists the Absorbance values at 665 nm ($\\lambda_{abs}$) as a function of the concentration (ppm)  for Methylene Blue solutions.\n",
        " \n",
        "<div align = \"center\"> Table 4. Absorbance data (665nm) as a function of Methylene blue concentration.</div>\n",
        " \n",
        "Concentration (ppm)| Absorbance \n",
        "-------------------|------------------\n",
        " 4,0 | 0.500  \n",
        " 5,0 | 0.696  \n",
        " 6,0 | 0.903 \n",
        " 7,0 | 1.10 \n",
        " 8,0 | 1.34\n",
        " 9,0 | 1.49 \n",
        " 10,0 | 1.70 \n",
        " \n",
        " \n",
        "*Exercise 6:* In the next code cell, write the routine to determine the unknown concentration (ppm) for a methylene blue solution (sample absorbance = 0.865)."
      ]
    },
    {
      "cell_type": "code",
      "metadata": {
        "id": "Sp3RNN__qeBr"
      },
      "source": [
        ""
      ],
      "execution_count": null,
      "outputs": []
    },
    {
      "cell_type": "markdown",
      "metadata": {
        "id": "tLCe8uBdhPDz"
      },
      "source": [
        "---\n",
        "#***Solution of activities***\n",
        "\n",
        "We present the solutions for the activities you developed in the previous sections.\n",
        "\n",
        "*Solution exercise 1:* "
      ]
    },
    {
      "cell_type": "code",
      "metadata": {
        "id": "EPAQd57hhf1z",
        "colab": {
          "base_uri": "https://localhost:8080/"
        },
        "outputId": "a779cefd-bd5c-4a9b-9652-423b1abb9ce9"
      },
      "source": [
        "import numpy as np\n",
        "group2= np.array([22.567, 22.776, 22.545])\n",
        "group3= np.array([24.001, 23.908, 23.945])\n",
        "print(\"Group 2:\", group2)\n",
        "print(\"Group 3:\", group3)"
      ],
      "execution_count": null,
      "outputs": [
        {
          "output_type": "stream",
          "name": "stdout",
          "text": [
            "Group 2: [22.567 22.776 22.545]\n",
            "Group 3: [24.001 23.908 23.945]\n"
          ]
        }
      ]
    },
    {
      "cell_type": "markdown",
      "metadata": {
        "id": "bNKaJrj2h0NF"
      },
      "source": [
        "*Solution exercise 2:* "
      ]
    },
    {
      "cell_type": "code",
      "metadata": {
        "id": "t5_hHVP3h1Xm",
        "colab": {
          "base_uri": "https://localhost:8080/"
        },
        "outputId": "577e082c-e22d-4bb5-c791-0a4174ce1063"
      },
      "source": [
        "import numpy as np\n",
        "meanG2=np.mean(group2) \n",
        "meanG3=np.mean(group3) \n",
        "rm2=round(meanG2,2)  \n",
        "rm3=round(meanG3,2)    \n",
        "print(\"mean Group 2=\", rm2)\n",
        "print(\"mean Group 3=\", rm3)"
      ],
      "execution_count": null,
      "outputs": [
        {
          "output_type": "stream",
          "name": "stdout",
          "text": [
            "mean Group 2= 22.63\n",
            "mean Group 3= 23.95\n"
          ]
        }
      ]
    },
    {
      "cell_type": "markdown",
      "metadata": {
        "id": "qbadoWnGibb5"
      },
      "source": [
        "*Solution exercise 3:* "
      ]
    },
    {
      "cell_type": "code",
      "metadata": {
        "id": "GzHJpOQuigCB",
        "colab": {
          "base_uri": "https://localhost:8080/"
        },
        "outputId": "fae1ae11-e2f8-4ac8-dbef-9a8b930ab510"
      },
      "source": [
        "import numpy as np\n",
        "sd2=np.std(group2)   \n",
        "sdr2=round(sd2,2)  \n",
        "sd3=np.std(group3)   \n",
        "sdr3=round(sd3,2)     \n",
        "print(\"SD group2 =\", sdr2)\n",
        "print(\"SD group3 =\", sdr3)"
      ],
      "execution_count": null,
      "outputs": [
        {
          "output_type": "stream",
          "name": "stdout",
          "text": [
            "SD group2 = 0.1\n",
            "SD group3 = 0.04\n"
          ]
        }
      ]
    },
    {
      "cell_type": "markdown",
      "metadata": {
        "id": "OOkTDfV9i4yX"
      },
      "source": [
        "*Solution exercise 4:* "
      ]
    },
    {
      "cell_type": "code",
      "metadata": {
        "id": "6bUDA98Xi78y",
        "colab": {
          "base_uri": "https://localhost:8080/"
        },
        "outputId": "5ad11f04-86d4-4bcf-e065-2a70538c7e8d"
      },
      "source": [
        "import numpy as np\n",
        "vreal=23.604 \n",
        "errorGroup2=abs((vreal - rm2)/vreal)*100     \n",
        "er2=round(errorGroup2, 2)  \n",
        "errorGroup3=abs((vreal - rm3)/vreal)*100     \n",
        "er3=round(errorGroup3, 2)                   \n",
        "print(\"error group 2=\", er2,\"%\")\n",
        "print(\"error group 3=\", er3,\"%\")  "
      ],
      "execution_count": null,
      "outputs": [
        {
          "output_type": "stream",
          "name": "stdout",
          "text": [
            "error group 2= 4.13 %\n",
            "error group 3= 1.47 %\n"
          ]
        }
      ]
    },
    {
      "cell_type": "markdown",
      "metadata": {
        "id": "bijb6ksXn-UP"
      },
      "source": [
        "*Solution exercise 5:* We will obtain the L-J potential curve for Ar and Kr. (I) We will define the parameters of the equations. (ii) We will define the parameters of the plots."
      ]
    },
    {
      "cell_type": "code",
      "metadata": {
        "colab": {
          "base_uri": "https://localhost:8080/",
          "height": 283
        },
        "id": "d9eEnlGRr-N4",
        "outputId": "cdae6ccd-53e7-4c63-9f6c-b65dca1d5eec"
      },
      "source": [
        "import numpy as np\n",
        "import matplotlib.pyplot as plt\n",
        "\n",
        "r=np.arange(3,10,0.1)     \n",
        "E=0.222\n",
        "O=3.62\n",
        "V=4*E*pow(O/r, 12)        \n",
        "V2=4*E*pow(O/r, 6)        \n",
        "Vr=V-V2 \n",
        "\n",
        "rKr=np.arange(3,10,0.1)     \n",
        "E=0.308\n",
        "O=3.90\n",
        "V=4*E*pow(O/rKr, 12)        \n",
        "V2=4*E*pow(O/rKr, 6)        \n",
        "VrKr=V-V2\n",
        "\n",
        "plt.plot(r,Vr, \"b\", label=\"Ar\") \n",
        "plt.plot(r,VrKr, \"r\", label=\"Kr\") \n",
        "plt.xlabel('r(A)')                          \n",
        "plt.ylabel('V(r)') \n",
        "plt.ylim(-1,5)                                                        \n",
        "plt.legend()\n",
        "plt.show()"
      ],
      "execution_count": null,
      "outputs": [
        {
          "output_type": "display_data",
          "data": {
            "image/png": "[encoded data removed]",
            "text/plain": [
              "<Figure size 432x288 with 1 Axes>"
            ]
          },
          "metadata": {
            "needs_background": "light"
          }
        }
      ]
    },
    {
      "cell_type": "markdown",
      "metadata": {
        "id": "zhbpJATIs_V5"
      },
      "source": [
        "*Solution Exercise 6:* (i) We will obtain the calibration curve equation. (ii) We will obtain the concentration of the methylene blue solution."
      ]
    },
    {
      "cell_type": "code",
      "metadata": {
        "colab": {
          "base_uri": "https://localhost:8080/"
        },
        "id": "2QBA0-tYtCI1",
        "outputId": "0be30945-66b1-441d-ac07-906f31e5a348"
      },
      "source": [
        "import numpy as np\n",
        "from scipy.stats import linregress \n",
        "\n",
        "Conc = np.array([4.0, 5.0, 6.0, 7.0, 8.0, 9.0, 10.0])\n",
        "Abs = np.array([0.500, 0.696, 0.903, 1.10, 1.34, 1.49, 1.70])\n",
        "linregress(Conc, Abs)\n",
        "\n",
        "slope, intercept, rvalue, pvalue, stderr = linregress(Conc, Abs)\n",
        "sr=round(slope, 5)                       \n",
        "inr=round(intercept, 5)\n",
        "Rr=round(rvalue, 4)\n",
        "print( \"Abs =\", sr,\"[AM]\",inr, \", R =\", Rr)"
      ],
      "execution_count": null,
      "outputs": [
        {
          "output_type": "stream",
          "name": "stdout",
          "text": [
            "Abs = 0.20089 [AM] -0.30211 , R = 0.9993\n"
          ]
        }
      ]
    },
    {
      "cell_type": "code",
      "metadata": {
        "colab": {
          "base_uri": "https://localhost:8080/"
        },
        "id": "hJ6etbSotIx8",
        "outputId": "65dd68e6-5b14-4d78-ce34-1535ab8b9881"
      },
      "source": [
        "Abs_AM=0.865\n",
        "Conc_AM= (Abs_AM + inr)/sr\n",
        "C_AM=round(Conc_AM, 1)\n",
        "print( \"[AM] =\", C_AM,\"ppm\")"
      ],
      "execution_count": null,
      "outputs": [
        {
          "output_type": "stream",
          "name": "stdout",
          "text": [
            "[AM] = 2.8 ppm\n"
          ]
        }
      ]
    },
    {
      "cell_type": "markdown",
      "metadata": {
        "id": "OTYEZqwJqYvH"
      },
      "source": [
        "---\n",
        "#***Today we learned***\n",
        "\n",
        "\n",
        "\n",
        "*  Mathematical calculations using the function `math`\n",
        "*  Plotting data for using library `matplotlib.pyplot`\n",
        "*  Linear fitting for using library `scipy`\n",
        "\n",
        "---\n",
        "#***Recommended Links***\n",
        "\n",
        "*  `matplotlib` tutorial: <a href=\"https://nbviewer.jupyter.org/github/jrjohansson/scientific-python-lectures/blob/master/Lecture-4-Matplotlib.ipynb\"> 2D and 3D plotting</a>\n",
        "*  Tutorial `scipy`: <a href=\"https://github.com/jdwittenauer/ipython-notebooks/blob/master/notebooks/libraries/SciPy.ipynb\"> SciPy</a>\n",
        "*  Scipy ecosystem `scypy`: <a href=\"https://www.scipy.org\">SciPy.org</a>\n",
        "*  Homepage `matplotlib`: <a href=\"https://matplotlib.org/\">Matplotlib</a>\n",
        "---\n",
        "#***References***\n",
        "*  C. Weiss. Scientific Computing for Chemist. 2020. CC-BY-NC-SA 4.0. <a href=\"https://github.com/weisscharlesj/SciCompforChemists/tree/master/Book_PDF\"> Scientific Computing for Chemist</a>\n",
        "*  C.J. Weiss. Scientific Computing for Chemists: An Undergraduate Course in Simulations, Data Processing, and Visualization. $\\small J. Chem. Educ. 2017, 94 (5), 592 - 597$ <a href=\"https://pubs.acs.org/doi/abs/10.1021/acs.jchemed.7b00078\">doi:10.1021/acs.jchemed.7b00078</a>"
      ]
    }
  ]
}