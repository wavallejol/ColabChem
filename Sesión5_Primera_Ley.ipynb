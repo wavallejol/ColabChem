{
  "nbformat": 4,
  "nbformat_minor": 0,
  "metadata": {
    "colab": {
      "name": "Sesión4_Primera_Ley.ipynb",
      "provenance": [],
      "collapsed_sections": [],
      "toc_visible": true,
      "authorship_tag": "ABX9TyNbICotukkfo2y+P0Fk7Ydg",
      "include_colab_link": true
    },
    "kernelspec": {
      "name": "python3",
      "display_name": "Python 3"
    },
    "language_info": {
      "name": "python"
    }
  },
  "cells": [
    {
      "cell_type": "markdown",
      "metadata": {
        "id": "view-in-github",
        "colab_type": "text"
      },
      "source": [
        "<a href=\"https://colab.research.google.com/github/wavallejol/ColabChem/blob/main/Sesi%C3%B3n5_Primera_Ley.ipynb\" target=\"_parent\"><img src=\"https://colab.research.google.com/assets/colab-badge.svg\" alt=\"Open In Colab\"/></a>"
      ]
    },
    {
      "cell_type": "markdown",
      "metadata": {
        "id": "_KFNBX1kPBvV"
      },
      "source": [
        "# **Sesión 5. Primera Ley**\n",
        "# **Objetivos**\n",
        " \n",
        "1.   Realizar cálculos de $W$ en procesos termodinámicos de gases ideales utilizando Google Colabs.\n",
        "2.   Realizar cálculos de $\\small \\Delta U$ y $\\small \\Delta H$ utilizando ecuaciones polinómicas.\n",
        "3.   Utilizar la plataforma PhET de la Universida del Colorado para conocer diferentes formas de trasnformación de la energía.\n",
        "4.   Utilizar la plataforma ChemCollecntive de la Universidad de Carnegie Mellon para determinar la entalpia de un proceso termoquímico.\n",
        "---"
      ]
    },
    {
      "cell_type": "markdown",
      "metadata": {
        "id": "4f2sRuCkQsof"
      },
      "source": [
        " \n",
        "# ***Introducción***\n",
        "---\n",
        " \n",
        "<div align=\"justify\">La  <a href=\"https://en.wikipedia.org/wiki/First_law_of_thermodynamics\"> primera ley de la termodinámica</a> es una versión de la ley de conservación de la energía adaptada a procesos termodinámicos. A nivel macroscópico se ha comprobado experimentalmente que la única forma en que un sistema intercambia energía con los alrededores es por medio de transferencia de energía en forma de calor y trabajo. El trabajo porducido en una transformación cíclica corresponde a la sumatoria de todas las pequeñas cantidades de trabajo $\\small (dw)$ transferido en cada etapa del ciclo. De igual forma ocurre para el calor total transferido en el ciclo. Matematicamente, la integral cíclica del $\\small W_{ciclo}$ y el $\\small Q_{ciclo}$ se puede escribir como:\n",
        " \n",
        "$\\small W_{ciclo}= \\oint_{}^{}\\delta W \\kern 2pc (1)$ \n",
        " \n",
        "$\\small Q_{ciclo}=\\oint_{}^{}\\delta Q \\kern 2pc (2)$ \n",
        " \n",
        "La primera ley de la termodinámica puede enunciarse de la siguiente manera:\n",
        " \n",
        "Si un sistema macroscópico sufre una transformación cíclica y produce trabajo (W) sobre los alrededores, este trabajo será igual al calor (Q) recibido por el sistema desde los alrededores;  matemáticamente lo podemos expresar:\n",
        " \n",
        "$\\small \\oint_{}^{}\\delta W $  $\\small=\\oint_{}^{}\\delta Q \\kern 2pc (3)$ \n",
        " \n",
        "$\\oint_{}^{}\\delta Q-\\oint_{}^{}\\delta W $  $\\small=0\\kern 2pc (4)$ \n",
        " \n",
        "Teniendo en cuenta que la energía interna ($\\small \\Delta U$) es una función de estado, cuya integral cíclica es igual a cero podemos establecer:\n",
        " \n",
        "$\\small \\oint_{}^{}d U=0\\kern 2pc (5)$ \n",
        " \n",
        "$\\small \\oint_{}^{}d U=$ $\\oint_{}^{}\\delta Q-\\oint_{}^{}\\delta W $  $\\small=0\\kern 2pc (6)$ \n",
        " \n",
        "Finalmente:\n",
        " \n",
        "$\\small \\Delta U=Q-W\\kern 2pc (7)$ \n",
        " \n",
        "En un proceso no cíclico, el cambio en la energía interna es igual a la cantidad neta de energía en forma de calor menos el trabajo termodinámico realizado por el sistema. A continuación resolverémos algunos ejercicios relacionados con diferentes procesos termodinámicos de sistemas macroscópicos.</div>"
      ]
    },
    {
      "cell_type": "markdown",
      "metadata": {
        "id": "acwd2MrajO2m"
      },
      "source": [
        "#***Actividad 1: Trabajo de Expansión***\n",
        "Un mol de un gas ideal realiza una expansión isotérmica a 298 K desde 5 L hasta 40 L. Grafíca el diagrama PV del proceso y muestra dentro del diagrama el trabajo realizado sí el proceso se realiza: (i) de manera reversible, (ii) en una sola etapa contra una presión externa de 65 atm. \n",
        " \n",
        "Para resolver este ejercicio:  \n",
        " \n",
        "1.   Primero importaremos las bibliotecas que utilizaremos: (i) `numpy`, (ii) `math` y (iii) `matplotlib.pyplot`. \n",
        "2.   Crearemos los datos de Volúmen para la curva PV con la función `np.arange`.\n",
        "3.   Crearemos los datos de la curva P como función del volúmen utilizando la ecuación de los gases idelaes.\n",
        "4.   Utilizamos la función `plt` para graficar los datos."
      ]
    },
    {
      "cell_type": "code",
      "metadata": {
        "colab": {
          "base_uri": "https://localhost:8080/",
          "height": 279
        },
        "id": "WGSYcCXJaMJB",
        "outputId": "e38ffc7e-dff0-41c2-c110-699b82fefc60"
      },
      "source": [
        "import numpy as np \n",
        "import math\n",
        "import matplotlib.pyplot as plt # importación de bibliotecas\n",
        " \n",
        "V= np.arange(5,40,0.5)   # definimos el rango de dstos del Volumen\n",
        "P1=8.314*298/V           # determinamos la presión para cada valor de volumen \n",
        " \n",
        "plt.plot(V,P1, \"r\", label=\"298K\")    # definimos los parametros para graficar la cruva PV\n",
        "plt.fill_between(V, P1, 0, where=(P1 > 0), facecolor='c', alpha=0.6) # rellenará el área bajo la curva\n",
        "plt.ylabel('P(atm)')\n",
        "plt.xlabel('V(L)')\n",
        "plt.legend()\n",
        "plt.show()"
      ],
      "execution_count": null,
      "outputs": [
        {
          "output_type": "display_data",
          "data": {
            "image/png": "[encoded data removed]",
            "text/plain": [
              "<Figure size 432x288 with 1 Axes>"
            ]
          },
          "metadata": {
            "needs_background": "light"
          }
        }
      ]
    },
    {
      "cell_type": "markdown",
      "metadata": {
        "id": "b5X6lpa8UENO"
      },
      "source": [
        "*Ejercicio 1*: En la siguiente linea de código escribe la rutina para graficar en la misma gráfica las curvas de expansión isotérmica del mismo gas del punto anterior a 298 K, 798 K y 1298 K. ¿Cúal de los tres procesos genera mayor tranferencia de trabajo?. ¿Cómo se explica este resultado?"
      ]
    },
    {
      "cell_type": "code",
      "metadata": {
        "id": "13QoBi8NUlTE"
      },
      "source": [
        ""
      ],
      "execution_count": null,
      "outputs": []
    },
    {
      "cell_type": "markdown",
      "metadata": {
        "id": "unVaS7zvUzOQ"
      },
      "source": [
        "El trabajo en una sola etapa se puede cacular con la expresión: \n",
        " \n",
        "$\\small W=P_{ext}(\\Delta V)\\kern 2pc (8)$ \n",
        " \n",
        "Gráficamente corresponde al rectángulo generado dentro del diagrama PV por la ecuación 8. En la siguiente celda de código graficarémos el trabajo de expansión en una sola etapa."
      ]
    },
    {
      "cell_type": "code",
      "metadata": {
        "colab": {
          "base_uri": "https://localhost:8080/",
          "height": 279
        },
        "id": "xU8AQmt2Wa_U",
        "outputId": "3554c90d-b1bf-46c5-a087-b3639cbc60ca"
      },
      "source": [
        "V= np.arange(5,40,0.5)               # definimos el rango de dstos del Volumen\n",
        "P1=8.314*298/V                       # determinamos la presión para cada valor de volumen \n",
        "P2=65\n",
        "plt.plot(V,P1, \"r\", label=\"298K\")    # definimos los parametros para graficar la cruva PV\n",
        "plt.fill_between(V, P2, 0, facecolor='c', alpha=0.6) # rellenará el área bajo la curva para valores de presión < 65 atm.\n",
        "plt.ylabel('P(atm)')\n",
        "plt.xlabel('V(L)')\n",
        "plt.legend()\n",
        "plt.show()"
      ],
      "execution_count": null,
      "outputs": [
        {
          "output_type": "display_data",
          "data": {
            "image/png": "[encoded data removed]",
            "text/plain": [
              "<Figure size 432x288 with 1 Axes>"
            ]
          },
          "metadata": {
            "needs_background": "light"
          }
        }
      ]
    },
    {
      "cell_type": "markdown",
      "metadata": {
        "id": "g3qVSM51EoNa"
      },
      "source": [
        "#***Actividad 2: Expansión Adiabática***\n",
        "Un mol de un gas ideal monoatómico realiza una expansión adiabática desde una temperatura inicial de 1298 K y 5.0 L de volúmen, hasta una temperatura de 298 K y 40 L de volumen. Con la información suministrada obtenga en una sola gráfica en la curva PV de expansión isotérmica a:  (i) 1298 K, (ii) 298 K y (iii) la curva adiabática que conecta las dos curvas.\n",
        "\n",
        "Para un proceso adiabático se cumple que $\\small PV^{\\gamma}=K$, además  $\\small \\gamma=1.67$. Para determinar el valor de la constante ($K$) se utilizan las condiciones iniciales del gas a 1298 K. "
      ]
    },
    {
      "cell_type": "code",
      "metadata": {
        "colab": {
          "base_uri": "https://localhost:8080/"
        },
        "id": "yH7b11zccHrX",
        "outputId": "5d0304a1-dcc9-4eff-da8f-1fb00739a4e8"
      },
      "source": [
        "Pinicial=0.08206*1298/5     # se determina la presión incial\n",
        "K=Pinicial*5**1.67          # se determina el valor de la constante\n",
        "print(\"K = \", round(K, 2))"
      ],
      "execution_count": null,
      "outputs": [
        {
          "output_type": "stream",
          "text": [
            "K =  313.12\n"
          ],
          "name": "stdout"
        }
      ]
    },
    {
      "cell_type": "markdown",
      "metadata": {
        "id": "HY5dK4FJLIXK"
      },
      "source": [
        "Ahora con esta información, procedemos graficar todas las curvas en el mismo gráfico."
      ]
    },
    {
      "cell_type": "code",
      "metadata": {
        "colab": {
          "base_uri": "https://localhost:8080/",
          "height": 279
        },
        "id": "yhYea2ylHmMy",
        "outputId": "1b0ab22f-ef36-4040-811f-04014e082413"
      },
      "source": [
        "import numpy as np \n",
        "import math\n",
        "import matplotlib.pyplot as plt # importación de bibliotecas\n",
        " \n",
        "V= np.arange(5,40,0.5)     # definimos el rango de dstos del Volumen\n",
        "P1=0.08206*298/V           # determinamos la presión para cada valor de volumen \n",
        "P2=0.08206*1298/V\n",
        "P3=308.12/V**1.67          # curva adiabática \n",
        "\n",
        "plt.plot(V,P1, \"r\", label=\"298 K\")    # definimos los parametros para graficar la cruva PV\n",
        "plt.plot(V,P2, \"b\", label=\"1298 K\")\n",
        "plt.plot(V,P3, \"c\", label=\"adiabatica\")\n",
        "plt.ylabel('P(atm)')\n",
        "plt.xlabel('V(L)')\n",
        "plt.legend()\n",
        "plt.show()"
      ],
      "execution_count": null,
      "outputs": [
        {
          "output_type": "display_data",
          "data": {
            "image/png": "[encoded data removed]",
            "text/plain": [
              "<Figure size 432x288 with 1 Axes>"
            ]
          },
          "metadata": {
            "needs_background": "light"
          }
        }
      ]
    },
    {
      "cell_type": "markdown",
      "metadata": {
        "id": "G8l9Rb1gktaf"
      },
      "source": [
        "# ***Actividad 3: Capacidad Calorífica a presión constante***\n",
        " \n",
        "<div align=\"justify\">El cambio de la entalpía ($\\small \\Delta H$) para un proceso está determinado por el calor transferido a presión constante y se expresa como función de la temperatura según:\n",
        " \n",
        "$\\small \\Delta H=\\int_{T_{1}}^{T_{2}}C_{p}dT\\kern 2pc (9)$ \n",
        " \n",
        "Donde $\\small C_{p}$ representa la capacidad calorífica a presión constante. Si la capacidad calorífica del sistema es una constante en el intervalo de temperaturas que vamos a trabajar, la ecuación 9 se reduce a:\n",
        " \n",
        "$\\small \\Delta H=C_{p} \\Delta T=n\\bar{c}_{p}\\Delta T\\kern 2pc (10)$ \n",
        " \n",
        "Donde $n$ representa las moles de sustancia y $\\bar{c}_{p}$ representa el calor específico molar a presión constante.</div> \n",
        " \n",
        "La ecuación 10 es la versión reducida de la ecuación 9 asumiendo que la capacidad calorífica no depende de la temperatura. Sin embargo, el calor específico molar es una propiedad que depende de la temperatura. Una forma rápida y confiable de estimar esta dependencia se logra por medio de la regresión polinómica de los datos termodinámicos. Las dos formas más comunes reportadas en la literatura corresponden a los polinomos NASA y los polinomios de Shomate. Las dos ecuaciones se muestran a continuación: (Fuente: <a href=\"https://www.sciencedirect.com/science/article/abs/pii/S0010465519302516\"> J. Lim, G. Wittreich, D. Vlachos, 2020 </a>)\n",
        " \n",
        "$\\small \\frac{\\bar{c}_{p}}{R}=a_{1}+a_{2}T+a_{3}T^{2}+a_{4}T^{3}+a_{5}T^{4}\\kern 2pc (11)$ \n",
        " \n",
        "$\\small C_{p}=A+Bt+Ct^{2}+Dt^{3}+E/t^{2};$  con $t=T/1000K\\kern 2pc (12)$ \n",
        " \n",
        "Donde la ec. 11 representa la ecuación del polinomio NASA y la ec. 12 representa la ecuación del polinomio de Shomate. Los coeficientes se determinan mediante ajuste de los datos experimentales de $\\small C_{p}$. Las ecuaciones polinomiales sólo serán válidas en el intervalo de temperaturas de los datos utilizados para determinar el valor de los coeficientes. En los siguientes enlaces podrás encontrar bases de datos de las tablas termodinámicas de (i) <a href=\"https://janaf.nist.gov/\"> NIST-JANA  </a> , (ii) <a href=\"https://webbook.nist.gov/chemistry/\"> NIST Chemistry WebBook  </a>. Finalmente en la página web de  <a href=\"https://shepherd.caltech.edu/EDL/PublicResources/sdt/thermo.html\"> EDL </a> encontrarás más fuentes de información."
      ]
    },
    {
      "cell_type": "markdown",
      "metadata": {
        "id": "bweXQ10GZogf"
      },
      "source": [
        "Ahora vamos a desarrollar un ejercicio. En la tabla 1 se listan los valores los coeficientes de la ecuación 13 (NASA) pra algunas sustancias.\n",
        " \n",
        " \n",
        "<div align = \"center\"> Tabla 1. Valores de capacidad calorifica en funcion de la temperatura para algunos gases en el intervalo de 300 K - 1500 K. Fuente: (Castellan, 1983) $\\small \\frac{\\bar{c}_{p}}{R}=a_{1}+a_{2}T+a_{3}T^{2}+a_{4}T^{3}$</div>\n",
        " \n",
        "*sustancia*| $\\small (a_{1})$| $\\small (a_{2})10^{-3}K^{-1}$| $\\small (a_{3})10^{-7}K^{-2}$| $\\small (a_{4})10^{-9}K^{-3}$\n",
        "-------------------|------------------|------------------|------------------|------------------\n",
        "$\\small H_{2(g)}$ | $\\small 3,4958$ | $\\small -0,1006$ | $\\small 2.419$ | -- \n",
        "$\\small O_{2(g)}$ | $\\small 3,0673$ | $\\small 1,6371$ | $\\small -5,118$ | --\n",
        "$\\small Cl_{2(g)}$ | $\\small 3,8122$ | $\\small 1,2200$ | $\\small -4,856$ | -- \n",
        "$\\small Br_{2(g)}$ | $\\small 4,2385$ | $\\small 0,4901$ | $\\small -1,789$ | -- \n",
        "$\\small NO_{(g)}$ | $\\small 3,5326$ | $\\small 0,186$ | $\\small 12,81$ | $\\small -0,547$ \n",
        "$\\small CH_{4(g)}$ | $\\small 1,701$ | $\\small 9,080$ | $\\small -21,64$ | $\\small -0,547$ \n",
        " \n",
        " \n",
        "<div align=\"justify\">A partir de la información termodinámica  suministrada para el $\\small CH_{4(g)}$: (i) Grafica el valor de  ${c}_{p}$ en función de (T) para el rango de temperaturas establecido en la tabla 1. (ii) Determina cúal es el valor del $\\small \\Delta H$  para el calentamiento de 1 mol de metano desde 300 K hasta 1500 K. \n",
        " \n",
        "Para resolver esta actividad primero definirémos: (i) la matriz de datos de la temperatura con la función `np.arage()`, (ii) la ecuación de serie de potencias para el $CH_{4(g)}$ y (iii) algunos parámetros para la presentación de la gráfica utilizando la función `plt.plot()`.</div>"
      ]
    },
    {
      "cell_type": "code",
      "metadata": {
        "colab": {
          "base_uri": "https://localhost:8080/",
          "height": 279
        },
        "id": "G436lg0mRCtM",
        "outputId": "d53aec4d-2dec-48d8-afdc-5a1dedf6829f"
      },
      "source": [
        "a1=1.701\n",
        "a2=9.080e-3\n",
        "a3=-21.64e-7\n",
        "a4=-0.547e-9\n",
        "T= np.arange(300, 1500, 1)\n",
        "Cp=+a1+a2*T+a3*T**2+a4*T**3\n",
        "plt.plot(T, Cp, label=\"cp(T)\")\n",
        "plt.legend()\n",
        "plt.ylabel(\"Cp (J/mol.K)\")\n",
        "plt.xlabel(\"Temperatura (K)\")\n",
        "plt.show ()"
      ],
      "execution_count": null,
      "outputs": [
        {
          "output_type": "display_data",
          "data": {
            "image/png": "[encoded data removed]",
            "text/plain": [
              "<Figure size 432x288 with 1 Axes>"
            ]
          },
          "metadata": {
            "needs_background": "light"
          }
        }
      ]
    },
    {
      "cell_type": "markdown",
      "metadata": {
        "id": "X4qmuMu_fzrE"
      },
      "source": [
        "Para determinar el valor del calor transferido es necesario resolver la integral de la ecuación 12 teniendo en cuenta la ecuación polinómica que describe el comportamiento del $C_{p}$ en función de la temperatura. Para realizar este procedimiento utilzarémos la biblioteca `sympy`. Ésta  <a href=\"https://www.sympy.org/es/\"> biblioteca </a> de phyton es utilizada para matemáticas simbólicas. \n",
        "\n"
      ]
    },
    {
      "cell_type": "code",
      "metadata": {
        "colab": {
          "base_uri": "https://localhost:8080/"
        },
        "id": "1OHAu5oDRkIN",
        "outputId": "e084f618-c462-4bb2-995a-5676c0a9cdbc"
      },
      "source": [
        "from sympy import * # importamos las funciones de la biblioteca sympy\n",
        "a1=1.701\n",
        "a2=9.080e-3\n",
        "a3=-21.64e-7\n",
        "a4=-0.547e-9\n",
        "T=symbols(\"T\")   # Definimos T como una variabke simbólica\n",
        "Cp=8.31451*(+a1+a2*T+a3*T**2+a4*T**3)\n",
        "print(\"CpCH4(T)=\",Cp)"
      ],
      "execution_count": null,
      "outputs": [
        {
          "output_type": "stream",
          "name": "stdout",
          "text": [
            "CpCH4(T)= -4.54803697e-9*T**3 - 1.799259964e-5*T**2 + 0.0754957508*T + 14.14298151\n"
          ]
        }
      ]
    },
    {
      "cell_type": "markdown",
      "metadata": {
        "id": "xi_F8sg3VZo0"
      },
      "source": [
        " \n",
        "Ahora procedemos a calcular la integral:\n",
        " \n",
        "$\\small \\Delta H_{1500} - \\Delta H_{300} =\\int_{300}^{1500}\\bar{c}_{p}dT=R[a_{1}+a_{2}T+a_{3}T^{2}+a_{4}T^{3}] \\kern 2pc (13)$ "
      ]
    },
    {
      "cell_type": "code",
      "metadata": {
        "colab": {
          "base_uri": "https://localhost:8080/"
        },
        "id": "BsB0G_vKVd6Z",
        "outputId": "350c2ea7-c3fb-4e80-9741-a223eb71dbcb"
      },
      "source": [
        "dH=integrate(Cp, (T, 300, 1500)) # defimimos parametros función de integración\n",
        "print(\"Qp = \", round(dH/1000, 1), \"kJ/mol\")"
      ],
      "execution_count": null,
      "outputs": [
        {
          "output_type": "stream",
          "name": "stdout",
          "text": [
            "Qp =  72.7 kJ/mol\n"
          ]
        }
      ]
    },
    {
      "cell_type": "markdown",
      "metadata": {
        "id": "C7801xWnRrey"
      },
      "source": [
        "*Ejercicio 2*: Ahora es tu turno. Determina el valor de $\\small \\Delta H$  para el calentamiento de 1 mol de $\\small Br_{2(g)}$ desde 300 K hasta 1400 K."
      ]
    },
    {
      "cell_type": "code",
      "metadata": {
        "id": "g4T6ts6hRs8F"
      },
      "source": [
        ""
      ],
      "execution_count": null,
      "outputs": []
    },
    {
      "cell_type": "markdown",
      "metadata": {
        "id": "AGXm_K-BRxEm"
      },
      "source": [
        "---\n",
        "# ***Actividad 4: Aplicación biblioteca Pandas*** \n",
        " \n",
        "<div align=\"justify\">En esta actividad utilizaremos la biblioteca `pandas` para importar un dataframe con los valores de los coeficientes de la ecuación polinómica de $\\small \\bar c_{p}(T)$ para diferentes sustancias químicas.  Los dataframes son tablas con diferente tipo de información y `pandas` permite manipular y analizar los datos contenidos en este tipo de documentos. La biblioteca `pandas` (Panel Data Analysis) es una de las bibliotecas más utilzadas para análisis de datos (puedes consultar el manual de usuario en el siguiente link (<a href=\"hhttps://pandas.pydata.org/docs/user_guide/index.html#user-guide\"> Manual `pandas`</a> ). También uedes revisar un tutorial sobre el análisis de datos con `pandas` en el siguiente link: (<a href=\"https://github.com/institutohumai/cursos-python/blob/master/AnalisisDeDatos/1_Indexing/Indexing-solucion.ipynb\">AnalisisDedatos</a>). En este ejercicio utilizarémos un archivo (cp_data.csv) para extraer las constantes de la ecuación polinómica de $\\small \\bar c_{p}(T)$ para diferentes sustancias químicas. \n",
        "\n",
        "Lo primero que haremos será importar la tabla de datos con los valores de los coeficientes de nuestro repositorio. Luego crearemos el dataframe para poder operarlos con la biblioteca `pandas`.</div>\n"
      ]
    },
    {
      "cell_type": "code",
      "metadata": {
        "id": "znMsp5nrunP7"
      },
      "source": [
        "import pandas as pd\n",
        "import numpy as np\n",
        "cp=pd.read_csv(\"https://raw.githubusercontent.com/wavallejol/ColabChem/main/cp_data.csv\")\n",
        "dcp=pd.DataFrame(cp)"
      ],
      "execution_count": 58,
      "outputs": []
    },
    {
      "cell_type": "markdown",
      "metadata": {
        "id": "4RgXnQB2L4GB"
      },
      "source": [
        "Después de crear el dataframe podemos verificar que tipo de información tenemos: (i)  `dcp.shape` nos mostrará como sálida las dimensiones del dataframe. (ii) `dcp.size` nos mostrará como sálida el número total de elementos (datos) que contiene el dataframe. (iii) `dcp.columns` nos mostrará como sálida el titulo de las columnas el dataframe. (iv) `dcp.columns` nos mostrada como sálida el titulo de las filas el dataframe."
      ]
    },
    {
      "cell_type": "code",
      "metadata": {
        "id": "pZpezoaEL9Rd"
      },
      "source": [
        "print(\"Numero total de elementos=\", dcp.size)\n",
        "print(\"(No. Filas, No. Columnas)=\", dcp.shape)\n",
        "print(\"Nombre columnas:\", dcp.columns)\n",
        "print(\"Numero filas:\", dcp.index)"
      ],
      "execution_count": null,
      "outputs": []
    },
    {
      "cell_type": "markdown",
      "metadata": {
        "id": "QS3eH9ZlMM4g"
      },
      "source": [
        "<div align=\"justify\">Finalmente, podemos ver todos los datos del dataframe. Ejecuta la rutina que se encuentra en la siguiente celda de código. Como sálida se mostrará una tabla (dataframe) con los valores de los coeficientes de la ecuación polinómica de la capacidad calorífica en el intervalo de 300 K - 1500 K. Fuente, (Castellan, 1983). Los coeficientes corresponden a la  ecuación:\n",
        "\n",
        "$\\small \\frac{\\bar{c}_{p}(T)}{R}=a_{1}+a_{2}T+a_{3}T^{2}+a_{4}T^{3} \\kern 2pc (14)$ \n",
        "\n",
        "Ejecuda la siguiente celda de código para verificar la información contenida en el DataFrame.</div>"
      ]
    },
    {
      "cell_type": "code",
      "metadata": {
        "id": "VxC10_MHupuX"
      },
      "source": [
        "dcp"
      ],
      "execution_count": null,
      "outputs": []
    },
    {
      "cell_type": "markdown",
      "metadata": {
        "id": "a7F1xGUrMWey"
      },
      "source": [
        "El DataFrame nos muestra un total de 23 sustancias (23 filas) y si se tiene en cuenta la fila de los nombres de cada columna, tendriamos un total de 24 filas. El DataFrame también muestra un total de 5 columas (una por cada coeificientes para la ecuación polinómica y otra para los nombres de las sustancias). Estos valores se corresponden con los valores obtenidos con la función `dcp.shape`. Ahora veremos algunos comandos utiles, ejecuta las siguientes líneas de códigos pare ver más ejemplos."
      ]
    },
    {
      "cell_type": "code",
      "metadata": {
        "id": "k3b2sQ5bMbfQ"
      },
      "source": [
        "\"H2\" in dcp.values   # Nos indica si la sustancia H2 se encuentra en el dataframa "
      ],
      "execution_count": null,
      "outputs": []
    },
    {
      "cell_type": "code",
      "metadata": {
        "id": "FmKmam48MckI"
      },
      "source": [
        "dcp.loc[0,\"a1\"] # Nos mostrará el dato ubicado en la primera fila bajo la columna titulada (a1)"
      ],
      "execution_count": null,
      "outputs": []
    },
    {
      "cell_type": "code",
      "metadata": {
        "id": "MSaSc0DJMmaX"
      },
      "source": [
        "dcp.iloc[0]   # Nos mostrará los datos de la primera fila"
      ],
      "execution_count": null,
      "outputs": []
    },
    {
      "cell_type": "code",
      "metadata": {
        "id": "CtDGzo7oNybn"
      },
      "source": [
        "dcp.iloc[0:3]  # Nos mostrará los datos de las tres primeras filas"
      ],
      "execution_count": null,
      "outputs": []
    },
    {
      "cell_type": "code",
      "metadata": {
        "id": "mv2geCP6N0hf"
      },
      "source": [
        "dcp[\"a1\"]   # Nos mostrará todos los datos de la columna titulada (a1)"
      ],
      "execution_count": null,
      "outputs": []
    },
    {
      "cell_type": "code",
      "metadata": {
        "id": "jlAkLejegfJo"
      },
      "source": [
        "dcp.T      # Reorganiza el dataframe intercambiando filas y columnas (transposición)"
      ],
      "execution_count": null,
      "outputs": []
    },
    {
      "cell_type": "markdown",
      "metadata": {
        "id": "VfslGe6jN8nR"
      },
      "source": [
        "Uno de los aspectos más importantes de la biblioteca `pandas` es que permite realizar diferentes operaciones con los datos almacenados en el DataFrame. Vamos a utilizar la información contenida en nuestro DataFrame  para obtener la ecuación polinómica del $\\bar{c}_{p}(T)$ de las sustancias contenidas en el DataFrame. Utilizaremos la rutina que se encuentra en la siguiente línea de código,para obtenr la ecuación de $\\bar{c}_{p}(T)$, basta con indicar el nombre de la sustancia que necesitas (Debes escribirla tal cual como aparece en en el DataFrame). La ecuaicón que se generará tendrá la forma:\n",
        "\n",
        "$\\small \\bar{c}_{p}(T)=R[a_{1}+a_{2}T+a_{3}T^{2}+a_{4}T^{3}] \\kern 2pc (15)$ \n",
        "\n",
        "Ejecuta la siguiente celda de código y escribe C6H6. La rutina entregará como salida la ecuación polinomica del $\\small C_{6}H_{6}$."
      ]
    },
    {
      "cell_type": "code",
      "metadata": {
        "id": "5RDHzigYOB6o",
        "colab": {
          "base_uri": "https://localhost:8080/"
        },
        "outputId": "68d7a5d6-cc60-422c-e7ea-89c916ab4407"
      },
      "source": [
        "from sympy import *           # importamos la biblioteca de función simbolica\n",
        "sustancia=input(\"Introduce la sustancia que necesitas: \")   # Solicitamos la sustancia\n",
        "if sustancia in dcp.values:                                 # Si la sustancia esta en el DataFrame\n",
        "    A1=float(dcp[dcp[\"Substance\"]==sustancia][\"a1\"])        # Extraemos el valor de cada constante \n",
        "    A2=float(dcp[dcp[\"Substance\"]==sustancia][\"a2\"])\n",
        "    A3=float(dcp[dcp[\"Substance\"]==sustancia][\"a3\"])\n",
        "    A4=float(dcp[dcp[\"Substance\"]==sustancia][\"a4\"])\n",
        "    T=symbols(\"T\")                                          # Definimos T como varible simbolica\n",
        "    Cp=8.314*(+A1+A2*T+A3*T**2+A4*T**3)                     # Definimos la ec. polinómica\n",
        "    print(\"Cp_sustancia=\",Cp)\n",
        "else:\n",
        "    print(\"La sustancia no se encuentra en la lista de opciones\")   # Si la susntacia no esta en el DataFrame"
      ],
      "execution_count": 62,
      "outputs": [
        {
          "output_type": "stream",
          "name": "stdout",
          "text": [
            "Introduce la sustancia que necesitas: C6H6\n",
            "Cp_sustancia= -0.0001105762*T**2 + 0.324753154*T - 1.712684\n"
          ]
        }
      ]
    },
    {
      "cell_type": "markdown",
      "metadata": {
        "id": "xzr0zPjXOKjC"
      },
      "source": [
        "*Ejercicio 3:* Ahora es tu turno. Utilizando la biblioteca pandas, determina el valor de $\\small \\Delta H$  para el calentamiento de 1 mol de $\\small Br_{2}$ desde 300 K hasta 1400 K. Compara el resultado con el obtenido en el ejercicio 2."
      ]
    },
    {
      "cell_type": "code",
      "metadata": {
        "id": "M5fPWg-7FYhi"
      },
      "source": [
        ""
      ],
      "execution_count": null,
      "outputs": []
    },
    {
      "cell_type": "markdown",
      "metadata": {
        "id": "3vhchlhPsLYB"
      },
      "source": [
        "# ***Actividad 5: Solución de las actividades***\n",
        "---\n",
        "En esta sección se presentan las soluciones de las actividades que desarrollaste en las secciones anteriores. \n",
        "\n",
        "*Solución ejercicio 1:* "
      ]
    },
    {
      "cell_type": "code",
      "metadata": {
        "colab": {
          "base_uri": "https://localhost:8080/",
          "height": 300
        },
        "id": "4L-qSHs4sOZ_",
        "outputId": "bb8d7d79-a426-4f29-8251-fc273469876d"
      },
      "source": [
        "import numpy as np\n",
        "import matplotlib.pyplot as plt\n",
        "import math\n",
        " \n",
        "def P(T,Vm):               #Ec. gases ideales\n",
        "    P=8.314*T/Vm\n",
        "    return P\n",
        "fig = plt.figure(1)\n",
        "\n",
        "for T in np.array([298, 798, 1298]): \n",
        "    Vm=np.arange(4,40,0.1)           \n",
        "    plt.plot(Vm, P(T,Vm), label=str(T)+\"K\")              \n",
        "    plt.title(\"Expansión isotermica gas ideal\")            \n",
        "    plt.ylabel(r\"$ {P (\\mathrm{atm})} $\")                    \n",
        "    plt.xlabel(r\"$ \\bar{V}(\\mathrm{L.mol^{-1}}) $\")                                        \n",
        "plt.legend()\n",
        "plt.show()"
      ],
      "execution_count": null,
      "outputs": [
        {
          "output_type": "display_data",
          "data": {
            "image/png": "[encoded data removed]",
            "text/plain": [
              "<Figure size 432x288 with 1 Axes>"
            ]
          },
          "metadata": {
            "needs_background": "light"
          }
        }
      ]
    },
    {
      "cell_type": "markdown",
      "metadata": {
        "id": "vHUN33zQsXKR"
      },
      "source": [
        "*Solución ejercicio 2:* "
      ]
    },
    {
      "cell_type": "code",
      "metadata": {
        "colab": {
          "base_uri": "https://localhost:8080/"
        },
        "id": "xOwKmtJ2sYIe",
        "outputId": "399c00e9-b727-4a44-aee8-0636cdfb72e3"
      },
      "source": [
        "from sympy import * # importamos las funciones de la biblioteca sympy\n",
        "a1=4.2385\n",
        "a2=0.4901e-3\n",
        "a3=-1.789e-7\n",
        "T=symbols(\"T\")   # Definimos T como una variabke simbólica\n",
        "CpBr=8.31451*(+a1+a2*T+a3*T**2)\n",
        "print(\"cpBr(T)=\", CpBr)"
      ],
      "execution_count": null,
      "outputs": [
        {
          "output_type": "stream",
          "name": "stdout",
          "text": [
            "cpBr(T)= -1.487465839e-6*T**2 + 0.004074941351*T + 35.241050635\n"
          ]
        }
      ]
    },
    {
      "cell_type": "markdown",
      "metadata": {
        "id": "c42ujWFwseVp"
      },
      "source": [
        " \n",
        "Ahora procedemos a calcular la integral:\n",
        " \n",
        "$\\small \\Delta H_{1500} - \\Delta H_{300} =\\int_{300}^{1500}\\bar{c}_{p}dT=R[a_{1}+a_{2}T+a_{3}T^{2}] \\kern 2pc (13)$ "
      ]
    },
    {
      "cell_type": "code",
      "metadata": {
        "colab": {
          "base_uri": "https://localhost:8080/"
        },
        "id": "iTzaN2uXsjDt",
        "outputId": "0ed7a5ac-2e7c-45dd-d8b1-8f0cb3296b1b"
      },
      "source": [
        "dH=integrate(CpBr, (T, 300, 1400))\n",
        "print(\"Qp = \", round(dH/1000, 1), \"kJ/mol\")"
      ],
      "execution_count": null,
      "outputs": [
        {
          "output_type": "stream",
          "name": "stdout",
          "text": [
            "Qp =  41.2 kJ/mol\n"
          ]
        }
      ]
    },
    {
      "cell_type": "markdown",
      "metadata": {
        "id": "JmWgQibwtNOC"
      },
      "source": [
        "*Soución ejercicio 3:* Ejecuta rutina de la siguiente celda de código y escribe Br2. Como salida se presentara la ecuación polinómica del $\\small Br_{2}$."
      ]
    },
    {
      "cell_type": "code",
      "metadata": {
        "colab": {
          "base_uri": "https://localhost:8080/"
        },
        "id": "2Ej3gja8tQfx",
        "outputId": "836993ee-1e15-4eea-dfb2-fa64293cc315"
      },
      "source": [
        "from sympy import *           # importamos la biblioteca de función simbolica\n",
        "sustancia=input(\"Introduce la sustancia que necesitas: \")   # Solicitamos la sustancia\n",
        "if sustancia in dcp.values:                                 # Si la sustancia esta en el DataFrame\n",
        "    A1=float(dcp[dcp[\"Substance\"]==sustancia][\"a1\"])        # Extraemos el valor de cada constante \n",
        "    A2=float(dcp[dcp[\"Substance\"]==sustancia][\"a2\"])\n",
        "    A3=float(dcp[dcp[\"Substance\"]==sustancia][\"a3\"])\n",
        "    A4=float(dcp[dcp[\"Substance\"]==sustancia][\"a4\"])\n",
        "    T=symbols(\"T\")                                          # Definimos T como varible simbolica\n",
        "    Cp=8.314*(+A1+A2*T+A3*T**2+A4*T**3)                     # Definimos la ec. polinómica\n",
        "    print(\"Cp_sustancia=\",Cp)\n",
        "else:\n",
        "    print(\"La sustancia no se encuentra en la lista de opciones\")   # Si la susntacia no esta en el DataFrame"
      ],
      "execution_count": 61,
      "outputs": [
        {
          "output_type": "stream",
          "name": "stdout",
          "text": [
            "Introduce la sustancia que necesitas: C6H6\n",
            "Cp_sustancia= -0.0001105762*T**2 + 0.324753154*T - 1.712684\n"
          ]
        }
      ]
    },
    {
      "cell_type": "markdown",
      "metadata": {
        "id": "ZMeoyof7tnv9"
      },
      "source": [
        "Ahora resolveremos la integral para obtener el valor del calor transferido en el proceso de calentamiento."
      ]
    },
    {
      "cell_type": "code",
      "metadata": {
        "colab": {
          "base_uri": "https://localhost:8080/"
        },
        "id": "iZ6CrbogvLZh",
        "outputId": "61aaa4d7-2107-41bd-8c3a-ded2da554910"
      },
      "source": [
        "dH=integrate(Cp, (T, 300, 1400))\n",
        "print(\"Qp = \", round(dH/1000, 1), \"kJ/mol\")"
      ],
      "execution_count": null,
      "outputs": [
        {
          "output_type": "stream",
          "name": "stdout",
          "text": [
            "Qp =  41.2 kJ/mol\n"
          ]
        }
      ]
    },
    {
      "cell_type": "markdown",
      "metadata": {
        "id": "VcV4fuW-vTjJ"
      },
      "source": [
        "Como puedes ver, el uso de la biblioteca `pandas` ahorra mucho tiempo para la generación de las ecuaciones polinómicas. "
      ]
    },
    {
      "cell_type": "markdown",
      "metadata": {
        "id": "CMVq_J9COpOa"
      },
      "source": [
        "---\n",
        "# ***Actividad 6: Laboratorio Virtual***\n",
        "<div align=\"justify\">En la plataforma PHET de la Universidad de Colorado se crean simulaciones interactivas gratuitas de matemáticas y ciencias. Se utilizará esta herramienta para realizar las actividades de los Laboratorios Virtuales. Puedes Obtner mas información en la pagina oficial  <a href=\"https://phet.colorado.edu/es/\"> PhET homepage</a>. A continuación te presentamos una guía paso a paso para utilizar la plataforma PhET y desarrollar las actividades virtuales.</div>\n",
        "\n",
        "###**6.1. Transformación de energía** \n",
        "\n",
        "Para desarrollar esta actividad:\n",
        "\n",
        "1.   Abre en una nueva ventana el siguiente Link: <a href=\"https://phet.colorado.edu/sims/html/energy-forms-and-changes/latest/energy-forms-and-changes_es.html\"> PhET: Formas y cambios de energía</a> \n",
        "2.   Dar clic en la opción “Sistemas”.\n",
        "3. En esta simulación encontraras una fuente de energía, un <a href=\"https://es.wikipedia.org/wiki/Generador_el%C3%A9ctrico\"> generador eléctrico</a>  conectado a un reservorio con agua.\n",
        "4. Dar clic a “símbolos de energía”.\n",
        "5. Dar clic sostenido al indicador de velocidad del cicilista y llevarlo al máximo.\n",
        "6. Observa que ocurre durante la simulación. \n",
        "7. Explique el fenómeno de transferencia de energía que permite el calentamiento del agua. \n",
        "¿Porque es neceario alimentar al ciclista para que siga haciendo ejercicio?\n",
        "8. Oprime el botón de reinicio (botón de color naranja, localizado en la parte inferior derecha). Dar clic en “símbolos de energía”\n",
        "9. Dar clic en la imagen de llave de agua. Observe que ocurre durante la simulación. Explique el fenómeno de transferencia de energía que permite el calentamiento del agua.\n",
        "10. Oprime el botón de reinicio (botón de color naranja, localizado en la parte inferior derecha). Dar clic en “símbolos de energía”.\n",
        "11. Dar clic en la imagen del sol, y dar clic en la imagen del panel solar.\n",
        "12. Dar clic en la imagen de la bombilla. Observa que ocurre durante la simulación. Explica el fenómeno de transferencia de energía que permite el encendido de la bobilla.\n",
        "13. Finalmente, dar clic sostenido en el indicador “muchas nubes”\n",
        "\n",
        "Explica que ocurre con el proceso de transferenfcia de energía cuando aparecen las nubes sobre el panel solar.\n",
        "\n",
        "###**6.2. Calor de Neutralización** \n",
        "\n",
        "ChemColective es un proyecto de la Universidad de Carnegie Mellon que ofrece recursos digitales para el aprendizaje de la química. Encontrarás mayor información de su contenido en el sitio oficial  <a href=\"http://chemcollective.org/vlabs\"> ChemCollective homepage</a>. A continuación te presentamos una guía paso a paso para utilizar la plataforma ChemColective y desarrollar las actividades virtuales.\n",
        "\n",
        "Para desarrollar esta actividad:\n",
        "\n",
        "1.   Realiza los cálculos para determinar que cantidad de volumen se requiere para preparar 100 mL de solución de NaOH con una concentración 1.0 M a partir de una solución stock 19 M.\n",
        "\n",
        "2.   Realiza los cálculos para determinar que cantidad de volumen se requiere para preparar 100 mL de solución de HCl con una concentración 1.0 M a partir de una solución stock 11.6 M.\n",
        "3.   Abre en una nueva ventana el siguiente Link:  <a href=\"http://chemcollective.org/vlabs\"> ChemCollective homepage</a>\n",
        "4.   Elige la opción de Thermochemistry (Termoquímica).\n",
        "5. Elige la opción “Camping Problem II”, luego dar clic en el ícono de GO.\n",
        "6. Dar clic en la opciónn (EN) y luego elige idioma español.\n",
        "7. Dar clic en la primera solución “$\\small H_{2}O$ desionizada”. En la pantalla del simulador aparecerá el contenedor de $\\small H_{2}O$.\n",
        "8. Dar clic en la opción “Almacén”. La lista de reactivos aparecerá nuevamente.\n",
        "9. Dar clic soluciones a granel. Luego dar clic y adicionar la solución de NaOH 19 M.\n",
        "10. Dar clic en “Material de Vidrio” y adicione un matraz aforado de 100 mL.\n",
        "11. Dar clic sostenido a la imagen del NaOH y colócala sobre el matraz.\n",
        "12. Adicione la cantidad (en mL) de NaOH calculada en el paso #1.\n",
        "13. Dar clic sostenido a la imagen del agua y colócala sobre el matraz.\n",
        "14. Adiciona el agua restante para completar el volumen del matraz (100 mL).\n",
        "15. Dar clic derecho a la imagen del matraz y cambia el nombre del matraz por (NaOH 1.0 M).\n",
        "16. Dar clic derecho a la imagen del NaOH y elige “Eliminar”.\n",
        "17. Dar clic en la opción “Almacén”. La lista de reactivos aparecerá nuevamente.\n",
        "18. Dar clic soluciones a granel. Luego dar clic y adicionar la solución de HCl 11.6 M.\n",
        "19. Dar clic en “Material de Vidrio” y luego adiciona un matraz aforado de 100 mL.\n",
        "20. Dar clic sostenido a la imagen del HCl y colócala sobre el matraz.\n",
        "21. Adicione la cantidad (en mL) de HCl calculada en el paso #2.\n",
        "22. Dar clic sostenido a la imagen del agua y colócala sobre el matraz.\n",
        "23. Adicionar el agua restante para completar el volumen del matraz (100 mL).\n",
        "24. Dar clic derecho a la imagen del matraz y cambia el nombre del matraz por (HCl 1.0 M).\n",
        "25. Dar clic derecho a la imagen del HCl y elige “Eliminar”.\n",
        "26. Dar clic en la opción “Almacén”. Elige \"Material de Vidrio\", ahora la opción \"Otros\".\n",
        "27. Dar clic en “Frasco Aislado”.\n",
        "28. Dar click derecho sobre el Frasco Aislado y cambia el nombre del Frasco aislado, coloca (calorímetro).\n",
        "29. Dar clic sostenido sobre la solución de NaOH 1.0 M y colócala sobe el calorímetro.\n",
        "30. Adiciona los 100 mL de solución de NaOH.\n",
        "31. Fíjete en el indicador de temperatura, anota la temperatura de la solución.\n",
        "32. Dar clic sostenido sobre la solución de HCl 1.0 M y colócala sobe el calorímetro.\n",
        "33. Adiciona los 100 mL de solución de HCl.\n",
        "34. Fíjese en el indicador de temperatura y anota la temperatura final del proceso de neutralización.\n",
        "\n",
        "###**6.3. Calor de Neutralización II** \n",
        "\n",
        "1. Realiza los cálculos para determinar que cantidad de volumen se requiere para preparar 100 mL de solución de NaOH con una concentración 10 M a partir de una solución stock 19 M.\n",
        "2. Realiza los cálculos para determinar que cantidad de volumen se requiere para preparar 100 mL de solución de HCl con una concentración 10 M a partir de una solución stock 11.6 M.\n",
        "3. Repite los pasos (#3 hasta el #34) de la sección anterior (Sección 5.2) utilizando las dos nuevas soluciones preparadas en los pasos 1 y 2 de esta sección.\n",
        "\n",
        "**Responde:**\n",
        "*  ¿Que ocurrió con la temperatura del sistema de reacción después de proceso de mezcla?\n",
        "*  Calcula el valor del calor transferido para la reacción en los dos ensayos realizados.\n",
        "*  Existe diferencia entre los dos valores obtenidos Justifique el resultado obtenido.\n",
        "*  Calcula el valor de la entalpia de neutralización para los dos ensayos realizados.\n",
        "*  Compara el resultado obtenido con la entalpia de neutralización reportada en literatura.\n",
        "\n",
        "\n",
        "\n",
        "\n"
      ]
    },
    {
      "cell_type": "markdown",
      "metadata": {
        "id": "nWn2COSXUCaI"
      },
      "source": [
        "---\n",
        "#***Enlaces Recomendados***\n",
        "\n",
        "*  Cursos-Python: <a href=\"https://github.com/institutohumai/cursos-python/blob/master/AnalisisDeDatos/1_Indexing/Indexing-solucion.ipynb\">Analisis de datos con Pandas</a>\n",
        "\n",
        "*  Aprende con ALF. Librería Pandas: <a href=\"https://aprendeconalf.es/docencia/python/manual/pandas/\">Librería Pandas</a>\n",
        "---"
      ]
    },
    {
      "cell_type": "markdown",
      "metadata": {
        "id": "oLAF0l4d_Ysf"
      },
      "source": [
        "\n",
        "#***Referencias***\n",
        "\n",
        "*  J. Lim, G. Wittreich, D. Vlachos. A phyton Multiscale Termochemistry Toolbox (pMuTT) for thermochemical and kinetic parameters stimations. $\\small Comp. Phy. Comm. 2020, 247, 106864.$ <a href=\"https://www.sciencedirect.com/science/article/abs/pii/S0010465519302516\">doi.org/10.1016/j.cpc.2019.106864</a>\n",
        "\n",
        "*  G. W. Castellan. Physical Chemsitry. Ed. 3rd. Addison-Wesley. 1983. p. 190.\n",
        "\n",
        "*  I. N. Levine. Fisicoquímica. Ed. 5. McGRaw Hill. 2002. p. 184.\n",
        "\n",
        "*  Universidad de Colorado. PhET:Simulaciones Interactivas. <a href=\"https://phet.colorado.edu/\"> Homepage</a>. Fecha de Consulta. Agosto 2021.\n",
        "\n",
        "*  Universidad de Carnegie Mellon. ChemCollective<a href=\"http://chemcollective.org/vlabs\"> Homepage</a>. Fecha de Consulta. Agosto 2021.\n",
        "\n",
        "---"
      ]
    }
  ]
}