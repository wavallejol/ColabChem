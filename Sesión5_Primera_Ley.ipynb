{
  "nbformat": 4,
  "nbformat_minor": 0,
  "metadata": {
    "colab": {
      "name": "Sesión4_Primera_Ley.ipynb",
      "provenance": [],
      "collapsed_sections": [],
      "toc_visible": true,
      "authorship_tag": "ABX9TyNBGRLn3aHnupApnApuw9iK",
      "include_colab_link": true
    },
    "kernelspec": {
      "name": "python3",
      "display_name": "Python 3"
    },
    "language_info": {
      "name": "python"
    }
  },
  "cells": [
    {
      "cell_type": "markdown",
      "metadata": {
        "id": "view-in-github",
        "colab_type": "text"
      },
      "source": [
        "<a href=\"https://colab.research.google.com/github/wavallejol/ColabChem/blob/main/Sesi%C3%B3n5_Primera_Ley.ipynb\" target=\"_parent\"><img src=\"https://colab.research.google.com/assets/colab-badge.svg\" alt=\"Open In Colab\"/></a>"
      ]
    },
    {
      "cell_type": "markdown",
      "metadata": {
        "id": "_KFNBX1kPBvV"
      },
      "source": [
        "# **Sesión 5. Primera Ley**\n",
        "# **Objetivos**\n",
        " \n",
        "1.   Realizar cálculos de $W$ en procesos termodinámicos de gases ideales utilizando Google Colabs.\n",
        "2.   Realizar cálculos de $\\small \\Delta U$ y $\\small \\Delta H$ utilizando ecuaciones polinómicas.\n",
        "3.   Utilizar la plataforma PhET de la Universida del Colorado para conocer diferentes formas de trasnformación de la energía.\n",
        "4.   Utilizar la plataforma ChemCollecntive de la Universidad de Carnegie Mellon para determinar la entalpia de un proceso termoquímico.\n",
        "---"
      ]
    },
    {
      "cell_type": "markdown",
      "metadata": {
        "id": "4f2sRuCkQsof"
      },
      "source": [
        " \n",
        "# ***Introducción***\n",
        "---\n",
        " \n",
        "<div align=\"justify\">La  <a href=\"https://en.wikipedia.org/wiki/First_law_of_thermodynamics\"> primera ley de la termodinámica</a> es una versión de la ley de conservación de la energía adaptada a procesos termodinámicos. A nivel macroscópico se ha comprobado experimentalmente que la única forma en que un sistema intercambia energía con los alrededores es por medio de transferencia de energía en forma de calor y trabajo. El trabajo porducido en una transformación cíclica corresponde a la sumatoria de todas las pequeñas cantidades de trabajo $\\small (dw)$ transferido en cada etapa del ciclo. De igual forma ocurre para el calor total transferido en el ciclo. Matematicamente, la integral cíclica del $\\small W_{ciclo}$ y el $\\small Q_{ciclo}$ se puede escribir como:\n",
        " \n",
        "$\\small W_{ciclo}= \\oint_{}^{}\\delta W \\kern 2pc (1)$ \n",
        " \n",
        "$\\small Q_{ciclo}=\\oint_{}^{}\\delta Q \\kern 2pc (2)$ \n",
        " \n",
        "La primera ley de la termodinámica puede enunciarse de la siguiente manera:\n",
        " \n",
        "Si un sistema macroscópico sufre una transformación cíclica y produce trabajo (W) sobre los alrededores, este trabajo será igual al calor (Q) recibido por el sistema desde los alrededores;  matemáticamente lo podemos expresar:\n",
        " \n",
        "$\\small \\oint_{}^{}\\delta W $  $\\small=\\oint_{}^{}\\delta Q \\kern 2pc (3)$ \n",
        " \n",
        "$\\oint_{}^{}\\delta Q-\\oint_{}^{}\\delta W $  $\\small=0\\kern 2pc (4)$ \n",
        " \n",
        "Teniendo en cuenta que la energía interna ($\\small \\Delta U$) es una función de estado, cuya integral cíclica es igual a cero podemos establecer:\n",
        " \n",
        "$\\small \\oint_{}^{}d U=0\\kern 2pc (5)$ \n",
        " \n",
        "$\\small \\oint_{}^{}d U=$ $\\oint_{}^{}\\delta Q-\\oint_{}^{}\\delta W $  $\\small=0\\kern 2pc (6)$ \n",
        " \n",
        "Finalmente:\n",
        " \n",
        "$\\small \\Delta U=Q-W\\kern 2pc (7)$ \n",
        " \n",
        "En un proceso no cíclico, el cambio en la energía interna es igual a la cantidad neta de energía en forma de calor menos el trabajo termodinámico realizado por el sistema. A continuación resolverémos algunos ejercicios relacionados con diferentes procesos termodinámicos de sistemas macroscópicos.</div>"
      ]
    },
    {
      "cell_type": "markdown",
      "metadata": {
        "id": "acwd2MrajO2m"
      },
      "source": [
        "#***Actividad 1: Trabajo de Expansión***\n",
        "Un mol de un gas ideal realiza una expansión isotérmica a 298 K desde 5 L hasta 40 L. Grafíca el diagrama PV del proceso y muestra dentro del diagrama el trabajo realizado sí el proceso se realiza: (i) de manera reversible, (ii) en una sola etapa contra una presión externa de 65 atm. \n",
        " \n",
        "Para resolver este ejercicio:  \n",
        " \n",
        "1.   Primero importaremos las bibliotecas que utilizaremos: (i) `numpy`, (ii) `math` y (iii) `matplotlib.pyplot`. \n",
        "2.   Crearemos los datos de Volúmen para la curva PV con la función `np.arange`.\n",
        "3.   Crearemos los datos de la curva P como función del volúmen utilizando la ecuación de los gases idelaes.\n",
        "4.   Utilizamos la función `plt` para graficar los datos."
      ]
    },
    {
      "cell_type": "code",
      "metadata": {
        "colab": {
          "base_uri": "https://localhost:8080/",
          "height": 279
        },
        "id": "WGSYcCXJaMJB",
        "outputId": "ce40a995-b45f-47d1-dcc4-cacf2b8b9198"
      },
      "source": [
        "import numpy as np \n",
        "import matplotlib.pyplot as plt # importación de bibliotecas\n",
        " \n",
        "V= np.arange(5,40,0.5)   # definimos el rango de dstos del Volumen\n",
        "P1=8.314*298/V           # determinamos la presión para cada valor de volumen \n",
        " \n",
        "plt.plot(V,P1, \"r\", label=\"298K\")    # definimos los parametros para graficar la cruva PV\n",
        "plt.fill_between(V, P1, 0, where=(P1 > 0), facecolor='c', alpha=0.6) # rellenará el área bajo la curva\n",
        "plt.ylabel('P(atm)')\n",
        "plt.xlabel('V(L)')\n",
        "plt.legend()\n",
        "plt.show()"
      ],
      "execution_count": null,
      "outputs": [
        {
          "output_type": "display_data",
          "data": {
            "image/png": "[encoded data removed]",
            "text/plain": [
              "<Figure size 432x288 with 1 Axes>"
            ]
          },
          "metadata": {
            "needs_background": "light"
          }
        }
      ]
    },
    {
      "cell_type": "markdown",
      "metadata": {
        "id": "b5X6lpa8UENO"
      },
      "source": [
        "*Ejercicio 1*: En la siguiente linea de código escribe la rutina para graficar en la misma gráfica las curvas de expansión isotérmica del mismo gas del punto anterior a 298 K, 798 K y 1298 K. ¿Cúal de los tres procesos genera mayor tranferencia de trabajo?. ¿Cómo se explica este resultado?"
      ]
    },
    {
      "cell_type": "code",
      "metadata": {
        "id": "13QoBi8NUlTE"
      },
      "source": [
        ""
      ],
      "execution_count": null,
      "outputs": []
    },
    {
      "cell_type": "markdown",
      "metadata": {
        "id": "unVaS7zvUzOQ"
      },
      "source": [
        "El trabajo en una sola etapa se puede cacular con la expresión: \n",
        " \n",
        "$\\small W=P_{ext}(\\Delta V)\\kern 2pc (8)$ \n",
        " \n",
        "Gráficamente corresponde al rectángulo generado dentro del diagrama PV por la ecuación 8. En la siguiente celda de código graficarémos el trabajo de expansión en una sola etapa."
      ]
    },
    {
      "cell_type": "code",
      "metadata": {
        "colab": {
          "base_uri": "https://localhost:8080/",
          "height": 279
        },
        "id": "xU8AQmt2Wa_U",
        "outputId": "10a9515b-90a3-448b-887b-3d486f915953"
      },
      "source": [
        "import numpy as np \n",
        "import matplotlib.pyplot as plt\n",
        "V= np.arange(5,40,0.5)               # definimos el rango de dstos del Volumen\n",
        "P1=8.314*298/V                       # determinamos la presión para cada valor de volumen \n",
        "P2=65\n",
        "plt.plot(V,P1, \"r\", label=\"298K\")    # definimos los parametros para graficar la cruva PV\n",
        "plt.fill_between(V, P2, 0, facecolor='c', alpha=0.6) # rellenará el área bajo la curva para valores de presión < 65 atm.\n",
        "plt.ylabel('P(atm)')\n",
        "plt.xlabel('V(L)')\n",
        "plt.legend()\n",
        "plt.show()"
      ],
      "execution_count": null,
      "outputs": [
        {
          "output_type": "display_data",
          "data": {
            "image/png": "[encoded data removed]",
            "text/plain": [
              "<Figure size 432x288 with 1 Axes>"
            ]
          },
          "metadata": {
            "needs_background": "light"
          }
        }
      ]
    },
    {
      "cell_type": "markdown",
      "metadata": {
        "id": "g3qVSM51EoNa"
      },
      "source": [
        "#***Actividad 2: Expansión Adiabática***\n",
        "Un mol de un gas ideal monoatómico realiza una expansión adiabática desde una temperatura inicial de 1298 K y 5.0 L de volúmen, hasta una temperatura de 298 K y 40 L de volumen. Con la información suministrada obtenga en una sola gráfica en la curva PV de expansión isotérmica a:  (i) 1298 K, (ii) 298 K y (iii) la curva adiabática que conecta las dos curvas.\n",
        "\n",
        "Para un proceso adiabático se cumple que $\\small PV^{\\gamma}=K$, además  $\\small \\gamma=1.67$. Para determinar el valor de la constante ($K$) se utilizan las condiciones iniciales del gas a 1298 K. "
      ]
    },
    {
      "cell_type": "code",
      "metadata": {
        "colab": {
          "base_uri": "https://localhost:8080/"
        },
        "id": "yH7b11zccHrX",
        "outputId": "2868fe0d-2e2e-45db-d91a-f1c0228200b4"
      },
      "source": [
        "import math\n",
        "Pinicial=0.08206*1298/5     # se determina la presión incial\n",
        "K=Pinicial*5**1.67          # se determina el valor de la constante\n",
        "print(\"K = \", round(K, 2))"
      ],
      "execution_count": null,
      "outputs": [
        {
          "output_type": "stream",
          "name": "stdout",
          "text": [
            "K =  313.12\n"
          ]
        }
      ]
    },
    {
      "cell_type": "markdown",
      "metadata": {
        "id": "HY5dK4FJLIXK"
      },
      "source": [
        "Ahora con esta información, procedemos graficar todas las curvas en el mismo gráfico."
      ]
    },
    {
      "cell_type": "code",
      "metadata": {
        "colab": {
          "base_uri": "https://localhost:8080/",
          "height": 279
        },
        "id": "yhYea2ylHmMy",
        "outputId": "ab396e10-82a2-4417-ff1e-288536f0aaa6"
      },
      "source": [
        "import numpy as np \n",
        "import matplotlib.pyplot as plt # importación de bibliotecas\n",
        " \n",
        "V= np.arange(5,40,0.5)     # definimos el rango de dstos del Volumen\n",
        "P1=0.08206*298/V           # determinamos la presión para cada valor de volumen \n",
        "P2=0.08206*1298/V\n",
        "P3=308.12/V**1.67          # curva adiabática \n",
        "\n",
        "plt.plot(V,P1, \"r\", label=\"298 K\")    # definimos los parametros para graficar la cruva PV\n",
        "plt.plot(V,P2, \"b\", label=\"1298 K\")\n",
        "plt.plot(V,P3, \"c\", label=\"adiabática\")\n",
        "plt.ylabel('P(atm)')\n",
        "plt.xlabel('V(L)')\n",
        "plt.legend()\n",
        "plt.show()"
      ],
      "execution_count": null,
      "outputs": [
        {
          "output_type": "display_data",
          "data": {
            "image/png": "[encoded data removed]",
            "text/plain": [
              "<Figure size 432x288 with 1 Axes>"
            ]
          },
          "metadata": {
            "needs_background": "light"
          }
        }
      ]
    },
    {
      "cell_type": "markdown",
      "metadata": {
        "id": "2fPveoHdzmqt"
      },
      "source": [
        "También podemos generar una gráfica interactiva con la utilizando la biblioteca `plotly`."
      ]
    },
    {
      "cell_type": "code",
      "metadata": {
        "id": "7E-LP9mgznK1",
        "colab": {
          "base_uri": "https://localhost:8080/",
          "height": 517
        },
        "outputId": "1c6c7c18-8c9d-476c-f42d-6d842cca62bb"
      },
      "source": [
        "import numpy as np\n",
        "import plotly.graph_objects as go \n",
        "\n",
        "V= np.arange(5,40,0.5)     \n",
        "P1=0.08206*298/V           \n",
        "P2=0.08206*1298/V\n",
        "P3=308.12/V**1.67  \n",
        "\n",
        "fig = go.Figure()\n",
        "fig.add_trace(go.Scatter(x=V, y=P1,\n",
        "                    mode='lines',\n",
        "                    name='Isoterma (298 K)'))\n",
        "fig.add_trace(go.Scatter(x=V, y=P2,\n",
        "                    mode='lines',\n",
        "                    name='Isoterma (1298 K)'))\n",
        "fig.add_trace(go.Scatter(x=V, y=P3,\n",
        "                    mode='lines',\n",
        "                    name='Adiabática'))\n",
        "fig.update_layout(\n",
        "    title=\"Curva PV\",\n",
        "    xaxis_title=r\"$ {V (\\mathrm{L^{-1}})} $\",\n",
        "    yaxis_title=r\"$ {P (\\mathrm{atm})} $\",\n",
        "    width=700, height=500\n",
        ")\n",
        "fig.show()"
      ],
      "execution_count": null,
      "outputs": [
        {
          "output_type": "display_data",
          "data": {
            "text/html": [
              "<html>\n",
              "<head><meta charset=\"utf-8\" /></head>\n",
              "<body>\n",
              "    <div>\n",
              "            <script src=\"https://cdnjs.cloudflare.com/ajax/libs/mathjax/2.7.5/MathJax.js?config=TeX-AMS-MML_SVG\"></script><script type=\"text/javascript\">if (window.MathJax) {MathJax.Hub.Config({SVG: {font: \"STIX-Web\"}});}</script>\n",
              "                <script type=\"text/javascript\">window.PlotlyConfig = {MathJaxConfig: 'local'};</script>\n",
              "        <script src=\"https://cdn.plot.ly/plotly-latest.min.js\"></script>    \n",
              "            <div id=\"7bc089c9-e660-4eef-b839-3f161a778688\" class=\"plotly-graph-div\" style=\"height:500px; width:700px;\"></div>\n",
              "            <script type=\"text/javascript\">\n",
              "                \n",
              "                    window.PLOTLYENV=window.PLOTLYENV || {};\n",
              "                    \n",
              "                if (document.getElementById(\"7bc089c9-e660-4eef-b839-3f161a778688\")) {\n",
              "                    Plotly.newPlot(\n",
              "                        '7bc089c9-e660-4eef-b839-3f161a778688',\n",
              "                        [{\"mode\": \"lines\", \"name\": \"Isoterma (298 K)\", \"type\": \"scatter\", \"x\": [5.0, 5.5, 6.0, 6.5, 7.0, 7.5, 8.0, 8.5, 9.0, 9.5, 10.0, 10.5, 11.0, 11.5, 12.0, 12.5, 13.0, 13.5, 14.0, 14.5, 15.0, 15.5, 16.0, 16.5, 17.0, 17.5, 18.0, 18.5, 19.0, 19.5, 20.0, 20.5, 21.0, 21.5, 22.0, 22.5, 23.0, 23.5, 24.0, 24.5, 25.0, 25.5, 26.0, 26.5, 27.0, 27.5, 28.0, 28.5, 29.0, 29.5, 30.0, 30.5, 31.0, 31.5, 32.0, 32.5, 33.0, 33.5, 34.0, 34.5, 35.0, 35.5, 36.0, 36.5, 37.0, 37.5, 38.0, 38.5, 39.0, 39.5], \"y\": [4.890776, 4.44616, 4.075646666666667, 3.762135384615384, 3.493411428571428, 3.260517333333333, 3.0567349999999998, 2.8769270588235294, 2.7170977777777776, 2.574092631578947, 2.445388, 2.328940952380952, 2.22308, 2.1264243478260867, 2.0378233333333333, 1.9563103999999998, 1.881067692307692, 1.8113985185185184, 1.746705714285714, 1.6864744827586207, 1.6302586666666665, 1.5776696774193548, 1.5283674999999999, 1.4820533333333332, 1.4384635294117647, 1.3973645714285714, 1.3585488888888888, 1.3218313513513513, 1.2870463157894736, 1.2540451282051281, 1.222694, 1.1928721951219512, 1.164470476190476, 1.1373897674418603, 1.11154, 1.086839111111111, 1.0632121739130433, 1.0405906382978722, 1.0189116666666667, 0.9981175510204081, 0.9781551999999999, 0.9589756862745097, 0.940533846153846, 0.9227879245283018, 0.9056992592592592, 0.8892319999999999, 0.873352857142857, 0.8580308771929824, 0.8432372413793103, 0.8289450847457627, 0.8151293333333333, 0.8017665573770492, 0.7888348387096774, 0.7763136507936508, 0.7641837499999999, 0.7524270769230769, 0.7410266666666666, 0.7299665671641791, 0.7192317647058823, 0.708808115942029, 0.6986822857142857, 0.6888416901408451, 0.6792744444444444, 0.6699693150684931, 0.6609156756756757, 0.6521034666666666, 0.6435231578947368, 0.6351657142857142, 0.6270225641025641, 0.6190855696202531]}, {\"mode\": \"lines\", \"name\": \"Isoterma (1298 K)\", \"type\": \"scatter\", \"x\": [5.0, 5.5, 6.0, 6.5, 7.0, 7.5, 8.0, 8.5, 9.0, 9.5, 10.0, 10.5, 11.0, 11.5, 12.0, 12.5, 13.0, 13.5, 14.0, 14.5, 15.0, 15.5, 16.0, 16.5, 17.0, 17.5, 18.0, 18.5, 19.0, 19.5, 20.0, 20.5, 21.0, 21.5, 22.0, 22.5, 23.0, 23.5, 24.0, 24.5, 25.0, 25.5, 26.0, 26.5, 27.0, 27.5, 28.0, 28.5, 29.0, 29.5, 30.0, 30.5, 31.0, 31.5, 32.0, 32.5, 33.0, 33.5, 34.0, 34.5, 35.0, 35.5, 36.0, 36.5, 37.0, 37.5, 38.0, 38.5, 39.0, 39.5], \"y\": [21.302775999999998, 19.366159999999997, 17.75231333333333, 16.386750769230765, 15.21626857142857, 14.201850666666665, 13.314234999999998, 12.531044705882351, 11.834875555555554, 11.21198736842105, 10.651387999999999, 10.144179047619046, 9.683079999999999, 9.262076521739129, 8.876156666666665, 8.5211104, 8.193375384615383, 7.889917037037036, 7.608134285714285, 7.345784827586206, 7.100925333333333, 6.871863225806451, 6.657117499999999, 6.455386666666666, 6.265522352941176, 6.086507428571427, 5.917437777777777, 5.757507027027026, 5.605993684210525, 5.462250256410256, 5.3256939999999995, 5.195799024390244, 5.072089523809523, 4.9541339534883715, 4.841539999999999, 4.733950222222221, 4.631038260869564, 4.532505531914893, 4.4380783333333325, 4.347505306122448, 4.2605552, 4.177014901960784, 4.096687692307691, 4.019391698113207, 3.944958518518518, 3.8732319999999993, 3.8040671428571424, 3.737329122807017, 3.672892413793103, 3.6106399999999996, 3.5504626666666663, 3.4922583606557374, 3.4359316129032256, 3.3813930158730154, 3.3285587499999996, 3.2773501538461534, 3.227693333333333, 3.1795188059701487, 3.132761176470588, 3.08735884057971, 3.0432537142857137, 3.0003909859154927, 2.9587188888888885, 2.9181884931506845, 2.878753513513513, 2.840370133333333, 2.8029968421052627, 2.7665942857142856, 2.731125128205128, 2.6965539240506327]}, {\"mode\": \"lines\", \"name\": \"Adiab\\u00e1tica\", \"type\": \"scatter\", \"x\": [5.0, 5.5, 6.0, 6.5, 7.0, 7.5, 8.0, 8.5, 9.0, 9.5, 10.0, 10.5, 11.0, 11.5, 12.0, 12.5, 13.0, 13.5, 14.0, 14.5, 15.0, 15.5, 16.0, 16.5, 17.0, 17.5, 18.0, 18.5, 19.0, 19.5, 20.0, 20.5, 21.0, 21.5, 22.0, 22.5, 23.0, 23.5, 24.0, 24.5, 25.0, 25.5, 26.0, 26.5, 27.0, 27.5, 28.0, 28.5, 29.0, 29.5, 30.0, 30.5, 31.0, 31.5, 32.0, 32.5, 33.0, 33.5, 34.0, 34.5, 35.0, 35.5, 36.0, 36.5, 37.0, 37.5, 38.0, 38.5, 39.0, 39.5], \"y\": [20.962350675640756, 17.877805073312206, 15.459922092844593, 13.52553908108485, 11.951052724075872, 10.650440717021525, 9.56223936543936, 8.641522861875336, 7.854795785424464, 7.176645072853778, 6.5874887901742785, 6.072027918685603, 5.618160021061911, 5.216203134784074, 4.8583322099427875, 4.5381638026667295, 4.2504458806353345, 3.99082326936679, 3.7556582784447254, 3.5418920895906387, 3.346936606461977, 3.168589314139091, 3.0049656931841, 2.8544451511629565, 2.715627453403361, 2.587297374964123, 2.4683958391040606, 2.35799621019913, 2.255284710193345, 2.159544154807974, 2.070140378440422, 1.986510849003711, 1.908155076064436, 1.8346264949675377, 1.7655255716696645, 1.7004939218088377, 1.6392092761615673, 1.581381155374025, 1.5267471414420688, 1.47506965318498, 1.4261331489307296, 1.3797416925954824, 1.3357168299099567, 1.2938957301992304, 1.2541295562367463, 1.216282030564455, 1.1802281715346612, 1.1458531763726005, 1.1130514319321247, 1.08172563664054, 1.0517860194998516, 1.0231496440090808, 0.9957397865599461, 0.9694853802881901, 0.9443205165779176, 0.9201839974515916, 0.8970189329627046, 0.8747723784655408, 0.8533950072866696, 0.8328408148823647, 0.8130668510487802, 0.7940329771689283, 0.7757016458419588, 0.7580377005540271, 0.7410081933230228, 0.7245822184873684, 0.7087307610169052, 0.6934265579057033, 0.6786439713660153, 0.6643588726825455]}],\n",
              "                        {\"height\": 500, \"template\": {\"data\": {\"bar\": [{\"error_x\": {\"color\": \"#2a3f5f\"}, \"error_y\": {\"color\": \"#2a3f5f\"}, \"marker\": {\"line\": {\"color\": \"#E5ECF6\", \"width\": 0.5}}, \"type\": \"bar\"}], \"barpolar\": [{\"marker\": {\"line\": {\"color\": \"#E5ECF6\", \"width\": 0.5}}, \"type\": \"barpolar\"}], \"carpet\": [{\"aaxis\": {\"endlinecolor\": \"#2a3f5f\", \"gridcolor\": \"white\", \"linecolor\": \"white\", \"minorgridcolor\": \"white\", \"startlinecolor\": \"#2a3f5f\"}, \"baxis\": {\"endlinecolor\": \"#2a3f5f\", \"gridcolor\": \"white\", \"linecolor\": \"white\", \"minorgridcolor\": \"white\", \"startlinecolor\": \"#2a3f5f\"}, \"type\": \"carpet\"}], \"choropleth\": [{\"colorbar\": {\"outlinewidth\": 0, \"ticks\": \"\"}, \"type\": \"choropleth\"}], \"contour\": [{\"colorbar\": {\"outlinewidth\": 0, \"ticks\": \"\"}, \"colorscale\": [[0.0, \"#0d0887\"], [0.1111111111111111, \"#46039f\"], [0.2222222222222222, \"#7201a8\"], [0.3333333333333333, \"#9c179e\"], [0.4444444444444444, \"#bd3786\"], [0.5555555555555556, \"#d8576b\"], [0.6666666666666666, \"#ed7953\"], [0.7777777777777778, \"#fb9f3a\"], [0.8888888888888888, \"#fdca26\"], [1.0, \"#f0f921\"]], \"type\": \"contour\"}], \"contourcarpet\": [{\"colorbar\": {\"outlinewidth\": 0, \"ticks\": \"\"}, \"type\": \"contourcarpet\"}], \"heatmap\": [{\"colorbar\": {\"outlinewidth\": 0, \"ticks\": \"\"}, \"colorscale\": [[0.0, \"#0d0887\"], [0.1111111111111111, \"#46039f\"], [0.2222222222222222, \"#7201a8\"], [0.3333333333333333, \"#9c179e\"], [0.4444444444444444, \"#bd3786\"], [0.5555555555555556, \"#d8576b\"], [0.6666666666666666, \"#ed7953\"], [0.7777777777777778, \"#fb9f3a\"], [0.8888888888888888, \"#fdca26\"], [1.0, \"#f0f921\"]], \"type\": \"heatmap\"}], \"heatmapgl\": [{\"colorbar\": {\"outlinewidth\": 0, \"ticks\": \"\"}, \"colorscale\": [[0.0, \"#0d0887\"], [0.1111111111111111, \"#46039f\"], [0.2222222222222222, \"#7201a8\"], [0.3333333333333333, \"#9c179e\"], [0.4444444444444444, \"#bd3786\"], [0.5555555555555556, \"#d8576b\"], [0.6666666666666666, \"#ed7953\"], [0.7777777777777778, \"#fb9f3a\"], [0.8888888888888888, \"#fdca26\"], [1.0, \"#f0f921\"]], \"type\": \"heatmapgl\"}], \"histogram\": [{\"marker\": {\"colorbar\": {\"outlinewidth\": 0, \"ticks\": \"\"}}, \"type\": \"histogram\"}], \"histogram2d\": [{\"colorbar\": {\"outlinewidth\": 0, \"ticks\": \"\"}, \"colorscale\": [[0.0, \"#0d0887\"], [0.1111111111111111, \"#46039f\"], [0.2222222222222222, \"#7201a8\"], [0.3333333333333333, \"#9c179e\"], [0.4444444444444444, \"#bd3786\"], [0.5555555555555556, \"#d8576b\"], [0.6666666666666666, \"#ed7953\"], [0.7777777777777778, \"#fb9f3a\"], [0.8888888888888888, \"#fdca26\"], [1.0, \"#f0f921\"]], \"type\": \"histogram2d\"}], \"histogram2dcontour\": [{\"colorbar\": {\"outlinewidth\": 0, \"ticks\": \"\"}, \"colorscale\": [[0.0, \"#0d0887\"], [0.1111111111111111, \"#46039f\"], [0.2222222222222222, \"#7201a8\"], [0.3333333333333333, \"#9c179e\"], [0.4444444444444444, \"#bd3786\"], [0.5555555555555556, \"#d8576b\"], [0.6666666666666666, \"#ed7953\"], [0.7777777777777778, \"#fb9f3a\"], [0.8888888888888888, \"#fdca26\"], [1.0, \"#f0f921\"]], \"type\": \"histogram2dcontour\"}], \"mesh3d\": [{\"colorbar\": {\"outlinewidth\": 0, \"ticks\": \"\"}, \"type\": \"mesh3d\"}], \"parcoords\": [{\"line\": {\"colorbar\": {\"outlinewidth\": 0, \"ticks\": \"\"}}, \"type\": \"parcoords\"}], \"pie\": [{\"automargin\": true, \"type\": \"pie\"}], \"scatter\": [{\"marker\": {\"colorbar\": {\"outlinewidth\": 0, \"ticks\": \"\"}}, \"type\": \"scatter\"}], \"scatter3d\": [{\"line\": {\"colorbar\": {\"outlinewidth\": 0, \"ticks\": \"\"}}, \"marker\": {\"colorbar\": {\"outlinewidth\": 0, \"ticks\": \"\"}}, \"type\": \"scatter3d\"}], \"scattercarpet\": [{\"marker\": {\"colorbar\": {\"outlinewidth\": 0, \"ticks\": \"\"}}, \"type\": \"scattercarpet\"}], \"scattergeo\": [{\"marker\": {\"colorbar\": {\"outlinewidth\": 0, \"ticks\": \"\"}}, \"type\": \"scattergeo\"}], \"scattergl\": [{\"marker\": {\"colorbar\": {\"outlinewidth\": 0, \"ticks\": \"\"}}, \"type\": \"scattergl\"}], \"scattermapbox\": [{\"marker\": {\"colorbar\": {\"outlinewidth\": 0, \"ticks\": \"\"}}, \"type\": \"scattermapbox\"}], \"scatterpolar\": [{\"marker\": {\"colorbar\": {\"outlinewidth\": 0, \"ticks\": \"\"}}, \"type\": \"scatterpolar\"}], \"scatterpolargl\": [{\"marker\": {\"colorbar\": {\"outlinewidth\": 0, \"ticks\": \"\"}}, \"type\": \"scatterpolargl\"}], \"scatterternary\": [{\"marker\": {\"colorbar\": {\"outlinewidth\": 0, \"ticks\": \"\"}}, \"type\": \"scatterternary\"}], \"surface\": [{\"colorbar\": {\"outlinewidth\": 0, \"ticks\": \"\"}, \"colorscale\": [[0.0, \"#0d0887\"], [0.1111111111111111, \"#46039f\"], [0.2222222222222222, \"#7201a8\"], [0.3333333333333333, \"#9c179e\"], [0.4444444444444444, \"#bd3786\"], [0.5555555555555556, \"#d8576b\"], [0.6666666666666666, \"#ed7953\"], [0.7777777777777778, \"#fb9f3a\"], [0.8888888888888888, \"#fdca26\"], [1.0, \"#f0f921\"]], \"type\": \"surface\"}], \"table\": [{\"cells\": {\"fill\": {\"color\": \"#EBF0F8\"}, \"line\": {\"color\": \"white\"}}, \"header\": {\"fill\": {\"color\": \"#C8D4E3\"}, \"line\": {\"color\": \"white\"}}, \"type\": \"table\"}]}, \"layout\": {\"annotationdefaults\": {\"arrowcolor\": \"#2a3f5f\", \"arrowhead\": 0, \"arrowwidth\": 1}, \"coloraxis\": {\"colorbar\": {\"outlinewidth\": 0, \"ticks\": \"\"}}, \"colorscale\": {\"diverging\": [[0, \"#8e0152\"], [0.1, \"#c51b7d\"], [0.2, \"#de77ae\"], [0.3, \"#f1b6da\"], [0.4, \"#fde0ef\"], [0.5, \"#f7f7f7\"], [0.6, \"#e6f5d0\"], [0.7, \"#b8e186\"], [0.8, \"#7fbc41\"], [0.9, \"#4d9221\"], [1, \"#276419\"]], \"sequential\": [[0.0, \"#0d0887\"], [0.1111111111111111, \"#46039f\"], [0.2222222222222222, \"#7201a8\"], [0.3333333333333333, \"#9c179e\"], [0.4444444444444444, \"#bd3786\"], [0.5555555555555556, \"#d8576b\"], [0.6666666666666666, \"#ed7953\"], [0.7777777777777778, \"#fb9f3a\"], [0.8888888888888888, \"#fdca26\"], [1.0, \"#f0f921\"]], \"sequentialminus\": [[0.0, \"#0d0887\"], [0.1111111111111111, \"#46039f\"], [0.2222222222222222, \"#7201a8\"], [0.3333333333333333, \"#9c179e\"], [0.4444444444444444, \"#bd3786\"], [0.5555555555555556, \"#d8576b\"], [0.6666666666666666, \"#ed7953\"], [0.7777777777777778, \"#fb9f3a\"], [0.8888888888888888, \"#fdca26\"], [1.0, \"#f0f921\"]]}, \"colorway\": [\"#636efa\", \"#EF553B\", \"#00cc96\", \"#ab63fa\", \"#FFA15A\", \"#19d3f3\", \"#FF6692\", \"#B6E880\", \"#FF97FF\", \"#FECB52\"], \"font\": {\"color\": \"#2a3f5f\"}, \"geo\": {\"bgcolor\": \"white\", \"lakecolor\": \"white\", \"landcolor\": \"#E5ECF6\", \"showlakes\": true, \"showland\": true, \"subunitcolor\": \"white\"}, \"hoverlabel\": {\"align\": \"left\"}, \"hovermode\": \"closest\", \"mapbox\": {\"style\": \"light\"}, \"paper_bgcolor\": \"white\", \"plot_bgcolor\": \"#E5ECF6\", \"polar\": {\"angularaxis\": {\"gridcolor\": \"white\", \"linecolor\": \"white\", \"ticks\": \"\"}, \"bgcolor\": \"#E5ECF6\", \"radialaxis\": {\"gridcolor\": \"white\", \"linecolor\": \"white\", \"ticks\": \"\"}}, \"scene\": {\"xaxis\": {\"backgroundcolor\": \"#E5ECF6\", \"gridcolor\": \"white\", \"gridwidth\": 2, \"linecolor\": \"white\", \"showbackground\": true, \"ticks\": \"\", \"zerolinecolor\": \"white\"}, \"yaxis\": {\"backgroundcolor\": \"#E5ECF6\", \"gridcolor\": \"white\", \"gridwidth\": 2, \"linecolor\": \"white\", \"showbackground\": true, \"ticks\": \"\", \"zerolinecolor\": \"white\"}, \"zaxis\": {\"backgroundcolor\": \"#E5ECF6\", \"gridcolor\": \"white\", \"gridwidth\": 2, \"linecolor\": \"white\", \"showbackground\": true, \"ticks\": \"\", \"zerolinecolor\": \"white\"}}, \"shapedefaults\": {\"line\": {\"color\": \"#2a3f5f\"}}, \"ternary\": {\"aaxis\": {\"gridcolor\": \"white\", \"linecolor\": \"white\", \"ticks\": \"\"}, \"baxis\": {\"gridcolor\": \"white\", \"linecolor\": \"white\", \"ticks\": \"\"}, \"bgcolor\": \"#E5ECF6\", \"caxis\": {\"gridcolor\": \"white\", \"linecolor\": \"white\", \"ticks\": \"\"}}, \"title\": {\"x\": 0.05}, \"xaxis\": {\"automargin\": true, \"gridcolor\": \"white\", \"linecolor\": \"white\", \"ticks\": \"\", \"title\": {\"standoff\": 15}, \"zerolinecolor\": \"white\", \"zerolinewidth\": 2}, \"yaxis\": {\"automargin\": true, \"gridcolor\": \"white\", \"linecolor\": \"white\", \"ticks\": \"\", \"title\": {\"standoff\": 15}, \"zerolinecolor\": \"white\", \"zerolinewidth\": 2}}}, \"title\": {\"text\": \"Curva PV\"}, \"width\": 700, \"xaxis\": {\"title\": {\"text\": \"$ {V (\\\\mathrm{L^{-1}})} $\"}}, \"yaxis\": {\"title\": {\"text\": \"$ {P (\\\\mathrm{atm})} $\"}}},\n",
              "                        {\"responsive\": true}\n",
              "                    ).then(function(){\n",
              "                            \n",
              "var gd = document.getElementById('7bc089c9-e660-4eef-b839-3f161a778688');\n",
              "var x = new MutationObserver(function (mutations, observer) {{\n",
              "        var display = window.getComputedStyle(gd).display;\n",
              "        if (!display || display === 'none') {{\n",
              "            console.log([gd, 'removed!']);\n",
              "            Plotly.purge(gd);\n",
              "            observer.disconnect();\n",
              "        }}\n",
              "}});\n",
              "\n",
              "// Listen for the removal of the full notebook cells\n",
              "var notebookContainer = gd.closest('#notebook-container');\n",
              "if (notebookContainer) {{\n",
              "    x.observe(notebookContainer, {childList: true});\n",
              "}}\n",
              "\n",
              "// Listen for the clearing of the current output cell\n",
              "var outputEl = gd.closest('.output');\n",
              "if (outputEl) {{\n",
              "    x.observe(outputEl, {childList: true});\n",
              "}}\n",
              "\n",
              "                        })\n",
              "                };\n",
              "                \n",
              "            </script>\n",
              "        </div>\n",
              "</body>\n",
              "</html>"
            ]
          },
          "metadata": {}
        }
      ]
    },
    {
      "cell_type": "markdown",
      "metadata": {
        "id": "G8l9Rb1gktaf"
      },
      "source": [
        "# ***Actividad 3: Capacidad Calorífica a presión constante***\n",
        " \n",
        "<div align=\"justify\">El cambio de la entalpía ($\\small \\Delta H$) para un proceso está determinado por el calor transferido a presión constante y se expresa como función de la temperatura según:\n",
        " \n",
        "$\\small \\Delta H=\\int_{T_{1}}^{T_{2}}C_{p}dT\\kern 2pc (9)$ \n",
        " \n",
        "Donde $\\small C_{p}$ representa la capacidad calorífica a presión constante. Si la capacidad calorífica del sistema es una constante en el intervalo de temperaturas que vamos a trabajar, la ecuación 9 se reduce a:\n",
        " \n",
        "$\\small \\Delta H=C_{p} \\Delta T=n\\bar{c}_{p}\\Delta T\\kern 2pc (10)$ \n",
        " \n",
        "Donde $n$ representa las moles de sustancia y $\\bar{c}_{p}$ representa el calor específico molar a presión constante.</div> \n",
        " \n",
        "La ecuación 10 es la versión reducida de la ecuación 9 asumiendo que la capacidad calorífica no depende de la temperatura. Sin embargo, el calor específico molar es una propiedad que depende de la temperatura. Una forma rápida y confiable de estimar esta dependencia se logra por medio de la regresión polinómica de los datos termodinámicos. Las dos formas más comunes reportadas en la literatura corresponden a los polinomos NASA y los polinomios de Shomate. Las dos ecuaciones se muestran a continuación: (Fuente: <a href=\"https://www.sciencedirect.com/science/article/abs/pii/S0010465519302516\"> J. Lim, G. Wittreich, D. Vlachos, 2020 </a>)\n",
        " \n",
        "$\\small \\frac{\\bar{c}_{p}}{R}=a_{1}+a_{2}T+a_{3}T^{2}+a_{4}T^{3}+a_{5}T^{4}\\kern 2pc (11)$ \n",
        " \n",
        "$\\small C_{p}=A+Bt+Ct^{2}+Dt^{3}+E/t^{2};$  con $t=T/1000K\\kern 2pc (12)$ \n",
        " \n",
        "Donde la ec. 11 representa la ecuación del polinomio NASA y la ec. 12 representa la ecuación del polinomio de Shomate. Los coeficientes se determinan mediante ajuste de los datos experimentales de $\\small C_{p}$. Las ecuaciones polinomiales sólo serán válidas en el intervalo de temperaturas de los datos utilizados para determinar el valor de los coeficientes. En los siguientes enlaces podrás encontrar bases de datos de las tablas termodinámicas de (i) <a href=\"https://janaf.nist.gov/\"> NIST-JANA  </a> , (ii) <a href=\"https://webbook.nist.gov/chemistry/\"> NIST Chemistry WebBook  </a>. Finalmente en la página web de  <a href=\"https://shepherd.caltech.edu/EDL/PublicResources/sdt/thermo.html\"> EDL </a> encontrarás más fuentes de información."
      ]
    },
    {
      "cell_type": "markdown",
      "metadata": {
        "id": "bweXQ10GZogf"
      },
      "source": [
        "Ahora vamos a desarrollar un ejercicio. En la tabla 1 se listan los valores los coeficientes de la ecuación 13 (NASA) pra algunas sustancias.\n",
        " \n",
        " \n",
        "<div align = \"center\"> Tabla 1. Valores de capacidad calorifica en funcion de la temperatura para algunos gases en el intervalo de 300 K - 1500 K. Fuente: (Castellan, 1983) $\\small \\frac{\\bar{c}_{p}}{R}=a_{1}+a_{2}T+a_{3}T^{2}+a_{4}T^{3}$</div>\n",
        " \n",
        "*sustancia*| $\\small (a_{1})$| $\\small (a_{2})10^{-3}K^{-1}$| $\\small (a_{3})10^{-7}K^{-2}$| $\\small (a_{4})10^{-9}K^{-3}$\n",
        "-------------------|------------------|------------------|------------------|------------------\n",
        "$\\small H_{2(g)}$ | $\\small 3,4958$ | $\\small -0,1006$ | $\\small 2.419$ | -- \n",
        "$\\small O_{2(g)}$ | $\\small 3,0673$ | $\\small 1,6371$ | $\\small -5,118$ | --\n",
        "$\\small Cl_{2(g)}$ | $\\small 3,8122$ | $\\small 1,2200$ | $\\small -4,856$ | -- \n",
        "$\\small Br_{2(g)}$ | $\\small 4,2385$ | $\\small 0,4901$ | $\\small -1,789$ | -- \n",
        "$\\small NO_{(g)}$ | $\\small 3,5326$ | $\\small 0,186$ | $\\small 12,81$ | $\\small -0,547$ \n",
        "$\\small CH_{4(g)}$ | $\\small 1,701$ | $\\small 9,080$ | $\\small -21,64$ | $\\small -0,547$ \n",
        " \n",
        " \n",
        "<div align=\"justify\">A partir de la información termodinámica  suministrada para el $\\small CH_{4(g)}$: (i) Grafica el valor de  ${c}_{p}$ en función de (T) para el rango de temperaturas establecido en la tabla 1. (ii) Determina cúal es el valor del $\\small \\Delta H$  para el calentamiento de 1 mol de metano desde 300 K hasta 1500 K. \n",
        " \n",
        "Para resolver esta actividad primero definirémos: (i) la matriz de datos de la temperatura con la función `np.arage()`, (ii) la ecuación de serie de potencias para el $CH_{4(g)}$ y (iii) algunos parámetros para la presentación de la gráfica utilizando la función `plt.plot()`.</div>"
      ]
    },
    {
      "cell_type": "code",
      "metadata": {
        "colab": {
          "base_uri": "https://localhost:8080/",
          "height": 279
        },
        "id": "G436lg0mRCtM",
        "outputId": "f4c5746e-2b3d-4f8b-ecf5-46c2636bba41"
      },
      "source": [
        "import numpy as np\n",
        "a1=1.701\n",
        "a2=9.080e-3\n",
        "a3=-21.64e-7\n",
        "a4=-0.547e-9\n",
        "T= np.arange(300, 1500, 1)\n",
        "Cp=+a1+a2*T+a3*T**2+a4*T**3\n",
        "plt.plot(T, Cp, label=\"cp(T)\")\n",
        "plt.legend()\n",
        "plt.ylabel(\"Cp (J/mol.K)\")\n",
        "plt.xlabel(\"Temperatura (K)\")\n",
        "plt.show ()"
      ],
      "execution_count": null,
      "outputs": [
        {
          "output_type": "display_data",
          "data": {
            "image/png": "[encoded data removed]",
            "text/plain": [
              "<Figure size 432x288 with 1 Axes>"
            ]
          },
          "metadata": {
            "needs_background": "light"
          }
        }
      ]
    },
    {
      "cell_type": "markdown",
      "metadata": {
        "id": "X4qmuMu_fzrE"
      },
      "source": [
        "Para determinar el valor del calor transferido es necesario resolver la integral de la ecuación 12 teniendo en cuenta la ecuación polinómica que describe el comportamiento del $C_{p}$ en función de la temperatura. Para realizar este procedimiento utilzarémos la biblioteca `sympy`. Ésta  <a href=\"https://www.sympy.org/es/\"> biblioteca </a> de phyton es utilizada para matemáticas simbólicas. \n",
        "\n"
      ]
    },
    {
      "cell_type": "code",
      "metadata": {
        "colab": {
          "base_uri": "https://localhost:8080/"
        },
        "id": "1OHAu5oDRkIN",
        "outputId": "5bc5dc28-82c6-4abf-d6e5-661ef080b3ea"
      },
      "source": [
        "from sympy import * # importamos las funciones de la biblioteca sympy\n",
        "a1=1.701\n",
        "a2=9.080e-3\n",
        "a3=-21.64e-7\n",
        "a4=-0.547e-9\n",
        "T=symbols(\"T\")   # Definimos T como una variabke simbólica\n",
        "Cp=8.31451*(+a1+a2*T+a3*T**2+a4*T**3)\n",
        "print(\"CpCH4(T)=\",Cp)"
      ],
      "execution_count": null,
      "outputs": [
        {
          "output_type": "stream",
          "name": "stdout",
          "text": [
            "CpCH4(T)= -4.54803697e-9*T**3 - 1.799259964e-5*T**2 + 0.0754957508*T + 14.14298151\n"
          ]
        }
      ]
    },
    {
      "cell_type": "markdown",
      "metadata": {
        "id": "xi_F8sg3VZo0"
      },
      "source": [
        " \n",
        "Ahora procedemos a calcular la integral:\n",
        " \n",
        "$\\small \\Delta H_{1500} - \\Delta H_{300} =\\int_{300}^{1500}\\bar{c}_{p}dT=R[a_{1}+a_{2}T+a_{3}T^{2}+a_{4}T^{3}] \\kern 2pc (13)$ "
      ]
    },
    {
      "cell_type": "code",
      "metadata": {
        "colab": {
          "base_uri": "https://localhost:8080/"
        },
        "id": "BsB0G_vKVd6Z",
        "outputId": "350c2ea7-c3fb-4e80-9741-a223eb71dbcb"
      },
      "source": [
        "dH=integrate(Cp, (T, 300, 1500)) # defimimos parametros función de integración\n",
        "print(\"Qp = \", round(dH/1000, 1), \"kJ/mol\")"
      ],
      "execution_count": null,
      "outputs": [
        {
          "output_type": "stream",
          "name": "stdout",
          "text": [
            "Qp =  72.7 kJ/mol\n"
          ]
        }
      ]
    },
    {
      "cell_type": "markdown",
      "metadata": {
        "id": "C7801xWnRrey"
      },
      "source": [
        "*Ejercicio 2*: Ahora es tu turno. Determina el valor de $\\small \\Delta H$  para el calentamiento de 1 mol de $\\small Br_{2(g)}$ desde 300 K hasta 1400 K."
      ]
    },
    {
      "cell_type": "code",
      "metadata": {
        "id": "g4T6ts6hRs8F"
      },
      "source": [
        ""
      ],
      "execution_count": null,
      "outputs": []
    },
    {
      "cell_type": "markdown",
      "metadata": {
        "id": "AGXm_K-BRxEm"
      },
      "source": [
        "---\n",
        "# ***Actividad 4: Aplicación biblioteca Pandas*** \n",
        " \n",
        "<div align=\"justify\">En esta actividad utilizaremos la biblioteca `pandas` para importar un dataframe con los valores de los coeficientes de la ecuación polinómica de $\\small \\bar c_{p}(T)$ para diferentes sustancias químicas.  Los dataframes son tablas con diferente tipo de información y `pandas` permite manipular y analizar los datos contenidos en este tipo de documentos. La biblioteca `pandas` (Panel Data Analysis) es una de las bibliotecas más utilzadas para análisis de datos (puedes consultar el manual de usuario en el siguiente link (<a href=\"hhttps://pandas.pydata.org/docs/user_guide/index.html#user-guide\"> Manual `pandas`</a> ). También uedes revisar un tutorial sobre el análisis de datos con `pandas` en el siguiente link: (<a href=\"https://github.com/institutohumai/cursos-python/blob/master/AnalisisDeDatos/1_Indexing/Indexing-solucion.ipynb\">AnalisisDedatos</a>). En este ejercicio utilizarémos un archivo (cp_data.csv) para extraer las constantes de la ecuación polinómica de $\\small \\bar c_{p}(T)$ para diferentes sustancias químicas. \n",
        "\n",
        "Lo primero que haremos será importar la tabla de datos con los valores de los coeficientes de nuestro repositorio. Luego crearemos el dataframe para poder operarlos con la biblioteca `pandas`.</div>\n"
      ]
    },
    {
      "cell_type": "code",
      "metadata": {
        "id": "znMsp5nrunP7"
      },
      "source": [
        "import pandas as pd\n",
        "import numpy as np\n",
        "cp=pd.read_csv(\"https://raw.githubusercontent.com/wavallejol/ColabChem/main/cp_data.csv\")\n",
        "dcp=pd.DataFrame(cp)"
      ],
      "execution_count": 1,
      "outputs": []
    },
    {
      "cell_type": "markdown",
      "metadata": {
        "id": "4RgXnQB2L4GB"
      },
      "source": [
        "Después de crear el dataframe podemos verificar que tipo de información tenemos: (i)  `dcp.shape` nos mostrará como sálida las dimensiones del dataframe. (ii) `dcp.size` nos mostrará como sálida el número total de elementos (datos) que contiene el dataframe. (iii) `dcp.columns` nos mostrará como sálida el titulo de las columnas el dataframe. (iv) `dcp.columns` nos mostrada como sálida el titulo de las filas el dataframe."
      ]
    },
    {
      "cell_type": "code",
      "metadata": {
        "id": "pZpezoaEL9Rd"
      },
      "source": [
        "print(\"Numero total de elementos=\", dcp.size)\n",
        "print(\"(No. Filas, No. Columnas)=\", dcp.shape)\n",
        "print(\"Nombre columnas:\", dcp.columns)\n",
        "print(\"Numero filas:\", dcp.index)"
      ],
      "execution_count": null,
      "outputs": []
    },
    {
      "cell_type": "markdown",
      "metadata": {
        "id": "QS3eH9ZlMM4g"
      },
      "source": [
        "<div align=\"justify\">Finalmente, podemos ver todos los datos del dataframe. Ejecuta la rutina que se encuentra en la siguiente celda de código. Como sálida se mostrará una tabla (dataframe) con los valores de los coeficientes de la ecuación polinómica de la capacidad calorífica en el intervalo de 300 K - 1500 K. Fuente, (Castellan, 1983). Los coeficientes corresponden a la  ecuación:\n",
        "\n",
        "$\\small \\frac{\\bar{c}_{p}(T)}{R}=a_{1}+a_{2}T+a_{3}T^{2}+a_{4}T^{3} \\kern 2pc (14)$ \n",
        "\n",
        "Ejecuda la siguiente celda de código para verificar la información contenida en el DataFrame.</div>"
      ]
    },
    {
      "cell_type": "code",
      "metadata": {
        "id": "VxC10_MHupuX",
        "outputId": "b2951611-50cf-45e6-938f-da110b8872cc",
        "colab": {
          "base_uri": "https://localhost:8080/",
          "height": 802
        }
      },
      "source": [
        "dcp"
      ],
      "execution_count": 2,
      "outputs": [
        {
          "output_type": "execute_result",
          "data": {
            "text/html": [
              "\n",
              "  <div id=\"df-e199cf39-4111-40b0-bdd8-8d994d8aceba\">\n",
              "    <div class=\"colab-df-container\">\n",
              "      <div>\n",
              "<style scoped>\n",
              "    .dataframe tbody tr th:only-of-type {\n",
              "        vertical-align: middle;\n",
              "    }\n",
              "\n",
              "    .dataframe tbody tr th {\n",
              "        vertical-align: top;\n",
              "    }\n",
              "\n",
              "    .dataframe thead th {\n",
              "        text-align: right;\n",
              "    }\n",
              "</style>\n",
              "<table border=\"1\" class=\"dataframe\">\n",
              "  <thead>\n",
              "    <tr style=\"text-align: right;\">\n",
              "      <th></th>\n",
              "      <th>Substance</th>\n",
              "      <th>a1</th>\n",
              "      <th>a2</th>\n",
              "      <th>a3</th>\n",
              "      <th>a4</th>\n",
              "    </tr>\n",
              "  </thead>\n",
              "  <tbody>\n",
              "    <tr>\n",
              "      <th>0</th>\n",
              "      <td>H2</td>\n",
              "      <td>3.4958</td>\n",
              "      <td>-0.000101</td>\n",
              "      <td>2.419000e-07</td>\n",
              "      <td>0.000000e+00</td>\n",
              "    </tr>\n",
              "    <tr>\n",
              "      <th>1</th>\n",
              "      <td>O2</td>\n",
              "      <td>3.0673</td>\n",
              "      <td>0.001637</td>\n",
              "      <td>-5.118000e-07</td>\n",
              "      <td>0.000000e+00</td>\n",
              "    </tr>\n",
              "    <tr>\n",
              "      <th>2</th>\n",
              "      <td>Cl2</td>\n",
              "      <td>3.8122</td>\n",
              "      <td>0.001220</td>\n",
              "      <td>-4.856000e-07</td>\n",
              "      <td>0.000000e+00</td>\n",
              "    </tr>\n",
              "    <tr>\n",
              "      <th>3</th>\n",
              "      <td>Br2</td>\n",
              "      <td>4.2385</td>\n",
              "      <td>0.000490</td>\n",
              "      <td>-1.780000e-07</td>\n",
              "      <td>0.000000e+00</td>\n",
              "    </tr>\n",
              "    <tr>\n",
              "      <th>4</th>\n",
              "      <td>N2</td>\n",
              "      <td>3.24.54</td>\n",
              "      <td>0.000711</td>\n",
              "      <td>-4.060000e-08</td>\n",
              "      <td>0.000000e+00</td>\n",
              "    </tr>\n",
              "    <tr>\n",
              "      <th>5</th>\n",
              "      <td>CO</td>\n",
              "      <td>3.1916</td>\n",
              "      <td>0.000924</td>\n",
              "      <td>-1.410000e-07</td>\n",
              "      <td>0.000000e+00</td>\n",
              "    </tr>\n",
              "    <tr>\n",
              "      <th>6</th>\n",
              "      <td>HCl</td>\n",
              "      <td>3.3876</td>\n",
              "      <td>0.000218</td>\n",
              "      <td>1.860000e-07</td>\n",
              "      <td>0.000000e+00</td>\n",
              "    </tr>\n",
              "    <tr>\n",
              "      <th>7</th>\n",
              "      <td>HBr</td>\n",
              "      <td>3.3100</td>\n",
              "      <td>0.000481</td>\n",
              "      <td>7.960000e-08</td>\n",
              "      <td>0.000000e+00</td>\n",
              "    </tr>\n",
              "    <tr>\n",
              "      <th>8</th>\n",
              "      <td>NO</td>\n",
              "      <td>3.5326</td>\n",
              "      <td>-0.000186</td>\n",
              "      <td>1.281000e-06</td>\n",
              "      <td>-5.470000e-10</td>\n",
              "    </tr>\n",
              "    <tr>\n",
              "      <th>9</th>\n",
              "      <td>CO2</td>\n",
              "      <td>3.205</td>\n",
              "      <td>0.005083</td>\n",
              "      <td>-1.713000e-06</td>\n",
              "      <td>0.000000e+00</td>\n",
              "    </tr>\n",
              "    <tr>\n",
              "      <th>10</th>\n",
              "      <td>H2O</td>\n",
              "      <td>3.633</td>\n",
              "      <td>0.001195</td>\n",
              "      <td>1.340000e-07</td>\n",
              "      <td>0.000000e+00</td>\n",
              "    </tr>\n",
              "    <tr>\n",
              "      <th>11</th>\n",
              "      <td>NH3</td>\n",
              "      <td>3.114</td>\n",
              "      <td>0.003969</td>\n",
              "      <td>-3.660000e-07</td>\n",
              "      <td>0.000000e+00</td>\n",
              "    </tr>\n",
              "    <tr>\n",
              "      <th>12</th>\n",
              "      <td>H2S</td>\n",
              "      <td>3.213</td>\n",
              "      <td>0.002870</td>\n",
              "      <td>-6.090000e-07</td>\n",
              "      <td>0.000000e+00</td>\n",
              "    </tr>\n",
              "    <tr>\n",
              "      <th>13</th>\n",
              "      <td>SO2</td>\n",
              "      <td>3.093</td>\n",
              "      <td>0.006967</td>\n",
              "      <td>-4.581000e-06</td>\n",
              "      <td>1.035000e-09</td>\n",
              "    </tr>\n",
              "    <tr>\n",
              "      <th>14</th>\n",
              "      <td>CH4</td>\n",
              "      <td>1.701</td>\n",
              "      <td>0.009080</td>\n",
              "      <td>-2.164000e-06</td>\n",
              "      <td>0.000000e+00</td>\n",
              "    </tr>\n",
              "    <tr>\n",
              "      <th>15</th>\n",
              "      <td>C2H6</td>\n",
              "      <td>1.131</td>\n",
              "      <td>0.019224</td>\n",
              "      <td>-5.560000e-06</td>\n",
              "      <td>0.000000e+00</td>\n",
              "    </tr>\n",
              "    <tr>\n",
              "      <th>16</th>\n",
              "      <td>C2H4</td>\n",
              "      <td>1.424</td>\n",
              "      <td>0.014393</td>\n",
              "      <td>-4.391000e-06</td>\n",
              "      <td>0.000000e+00</td>\n",
              "    </tr>\n",
              "    <tr>\n",
              "      <th>17</th>\n",
              "      <td>C2H2</td>\n",
              "      <td>3.689</td>\n",
              "      <td>0.006352</td>\n",
              "      <td>-1.957000e-06</td>\n",
              "      <td>0.000000e+00</td>\n",
              "    </tr>\n",
              "    <tr>\n",
              "      <th>18</th>\n",
              "      <td>C3H8</td>\n",
              "      <td>1.213</td>\n",
              "      <td>0.028782</td>\n",
              "      <td>-8.823000e-06</td>\n",
              "      <td>0.000000e+00</td>\n",
              "    </tr>\n",
              "    <tr>\n",
              "      <th>19</th>\n",
              "      <td>C3H6</td>\n",
              "      <td>1.637</td>\n",
              "      <td>0.022703</td>\n",
              "      <td>-6.914000e-06</td>\n",
              "      <td>0.000000e+00</td>\n",
              "    </tr>\n",
              "    <tr>\n",
              "      <th>20</th>\n",
              "      <td>C3H4</td>\n",
              "      <td>3.187</td>\n",
              "      <td>0.015595</td>\n",
              "      <td>-4.759000e-06</td>\n",
              "      <td>0.000000e+00</td>\n",
              "    </tr>\n",
              "    <tr>\n",
              "      <th>21</th>\n",
              "      <td>C6H6</td>\n",
              "      <td>-0.206</td>\n",
              "      <td>0.039061</td>\n",
              "      <td>-1.330000e-05</td>\n",
              "      <td>0.000000e+00</td>\n",
              "    </tr>\n",
              "    <tr>\n",
              "      <th>22</th>\n",
              "      <td>C6H5CH3</td>\n",
              "      <td>0.290</td>\n",
              "      <td>0.047048</td>\n",
              "      <td>-1.571400e-05</td>\n",
              "      <td>0.000000e+00</td>\n",
              "    </tr>\n",
              "    <tr>\n",
              "      <th>23</th>\n",
              "      <td>C(graphite)</td>\n",
              "      <td>0.637</td>\n",
              "      <td>0.007049</td>\n",
              "      <td>-5.199000e-06</td>\n",
              "      <td>1.384000e-09</td>\n",
              "    </tr>\n",
              "  </tbody>\n",
              "</table>\n",
              "</div>\n",
              "      <button class=\"colab-df-convert\" onclick=\"convertToInteractive('df-e199cf39-4111-40b0-bdd8-8d994d8aceba')\"\n",
              "              title=\"Convert this dataframe to an interactive table.\"\n",
              "              style=\"display:none;\">\n",
              "        \n",
              "  <svg xmlns=\"http://www.w3.org/2000/svg\" height=\"24px\"viewBox=\"0 0 24 24\"\n",
              "       width=\"24px\">\n",
              "    <path d=\"M0 0h24v24H0V0z\" fill=\"none\"/>\n",
              "    <path d=\"M18.56 5.44l.94 2.06.94-2.06 2.06-.94-2.06-.94-.94-2.06-.94 2.06-2.06.94zm-11 1L8.5 8.5l.94-2.06 2.06-.94-2.06-.94L8.5 2.5l-.94 2.06-2.06.94zm10 10l.94 2.06.94-2.06 2.06-.94-2.06-.94-.94-2.06-.94 2.06-2.06.94z\"/><path d=\"M17.41 7.96l-1.37-1.37c-.4-.4-.92-.59-1.43-.59-.52 0-1.04.2-1.43.59L10.3 9.45l-7.72 7.72c-.78.78-.78 2.05 0 2.83L4 21.41c.39.39.9.59 1.41.59.51 0 1.02-.2 1.41-.59l7.78-7.78 2.81-2.81c.8-.78.8-2.07 0-2.86zM5.41 20L4 18.59l7.72-7.72 1.47 1.35L5.41 20z\"/>\n",
              "  </svg>\n",
              "      </button>\n",
              "      \n",
              "  <style>\n",
              "    .colab-df-container {\n",
              "      display:flex;\n",
              "      flex-wrap:wrap;\n",
              "      gap: 12px;\n",
              "    }\n",
              "\n",
              "    .colab-df-convert {\n",
              "      background-color: #E8F0FE;\n",
              "      border: none;\n",
              "      border-radius: 50%;\n",
              "      cursor: pointer;\n",
              "      display: none;\n",
              "      fill: #1967D2;\n",
              "      height: 32px;\n",
              "      padding: 0 0 0 0;\n",
              "      width: 32px;\n",
              "    }\n",
              "\n",
              "    .colab-df-convert:hover {\n",
              "      background-color: #E2EBFA;\n",
              "      box-shadow: 0px 1px 2px rgba(60, 64, 67, 0.3), 0px 1px 3px 1px rgba(60, 64, 67, 0.15);\n",
              "      fill: #174EA6;\n",
              "    }\n",
              "\n",
              "    [theme=dark] .colab-df-convert {\n",
              "      background-color: #3B4455;\n",
              "      fill: #D2E3FC;\n",
              "    }\n",
              "\n",
              "    [theme=dark] .colab-df-convert:hover {\n",
              "      background-color: #434B5C;\n",
              "      box-shadow: 0px 1px 3px 1px rgba(0, 0, 0, 0.15);\n",
              "      filter: drop-shadow(0px 1px 2px rgba(0, 0, 0, 0.3));\n",
              "      fill: #FFFFFF;\n",
              "    }\n",
              "  </style>\n",
              "\n",
              "      <script>\n",
              "        const buttonEl =\n",
              "          document.querySelector('#df-e199cf39-4111-40b0-bdd8-8d994d8aceba button.colab-df-convert');\n",
              "        buttonEl.style.display =\n",
              "          google.colab.kernel.accessAllowed ? 'block' : 'none';\n",
              "\n",
              "        async function convertToInteractive(key) {\n",
              "          const element = document.querySelector('#df-e199cf39-4111-40b0-bdd8-8d994d8aceba');\n",
              "          const dataTable =\n",
              "            await google.colab.kernel.invokeFunction('convertToInteractive',\n",
              "                                                     [key], {});\n",
              "          if (!dataTable) return;\n",
              "\n",
              "          const docLinkHtml = 'Like what you see? Visit the ' +\n",
              "            '<a target=\"_blank\" href=https://colab.research.google.com/notebooks/data_table.ipynb>data table notebook</a>'\n",
              "            + ' to learn more about interactive tables.';\n",
              "          element.innerHTML = '';\n",
              "          dataTable['output_type'] = 'display_data';\n",
              "          await google.colab.output.renderOutput(dataTable, element);\n",
              "          const docLink = document.createElement('div');\n",
              "          docLink.innerHTML = docLinkHtml;\n",
              "          element.appendChild(docLink);\n",
              "        }\n",
              "      </script>\n",
              "    </div>\n",
              "  </div>\n",
              "  "
            ],
            "text/plain": [
              "      Substance       a1        a2            a3            a4\n",
              "0            H2   3.4958 -0.000101  2.419000e-07  0.000000e+00\n",
              "1            O2   3.0673  0.001637 -5.118000e-07  0.000000e+00\n",
              "2           Cl2   3.8122  0.001220 -4.856000e-07  0.000000e+00\n",
              "3           Br2   4.2385  0.000490 -1.780000e-07  0.000000e+00\n",
              "4            N2  3.24.54  0.000711 -4.060000e-08  0.000000e+00\n",
              "5            CO   3.1916  0.000924 -1.410000e-07  0.000000e+00\n",
              "6           HCl   3.3876  0.000218  1.860000e-07  0.000000e+00\n",
              "7           HBr   3.3100  0.000481  7.960000e-08  0.000000e+00\n",
              "8            NO   3.5326 -0.000186  1.281000e-06 -5.470000e-10\n",
              "9           CO2    3.205  0.005083 -1.713000e-06  0.000000e+00\n",
              "10          H2O    3.633  0.001195  1.340000e-07  0.000000e+00\n",
              "11          NH3    3.114  0.003969 -3.660000e-07  0.000000e+00\n",
              "12          H2S    3.213  0.002870 -6.090000e-07  0.000000e+00\n",
              "13          SO2    3.093  0.006967 -4.581000e-06  1.035000e-09\n",
              "14          CH4    1.701  0.009080 -2.164000e-06  0.000000e+00\n",
              "15         C2H6    1.131  0.019224 -5.560000e-06  0.000000e+00\n",
              "16         C2H4    1.424  0.014393 -4.391000e-06  0.000000e+00\n",
              "17         C2H2    3.689  0.006352 -1.957000e-06  0.000000e+00\n",
              "18         C3H8    1.213  0.028782 -8.823000e-06  0.000000e+00\n",
              "19         C3H6    1.637  0.022703 -6.914000e-06  0.000000e+00\n",
              "20         C3H4    3.187  0.015595 -4.759000e-06  0.000000e+00\n",
              "21         C6H6   -0.206  0.039061 -1.330000e-05  0.000000e+00\n",
              "22      C6H5CH3    0.290  0.047048 -1.571400e-05  0.000000e+00\n",
              "23  C(graphite)    0.637  0.007049 -5.199000e-06  1.384000e-09"
            ]
          },
          "metadata": {},
          "execution_count": 2
        }
      ]
    },
    {
      "cell_type": "markdown",
      "metadata": {
        "id": "a7F1xGUrMWey"
      },
      "source": [
        "El DataFrame nos muestra un total de 23 sustancias (23 filas) y si se tiene en cuenta la fila de los nombres de cada columna, tendriamos un total de 24 filas. El DataFrame también muestra un total de 5 columas (una por cada coeificientes para la ecuación polinómica y otra para los nombres de las sustancias). Estos valores se corresponden con los valores obtenidos con la función `dcp.shape`. Ahora veremos algunos comandos utiles, ejecuta las siguientes líneas de códigos pare ver más ejemplos."
      ]
    },
    {
      "cell_type": "code",
      "metadata": {
        "id": "k3b2sQ5bMbfQ"
      },
      "source": [
        "\"H2\" in dcp.values   # Nos indica si la sustancia H2 se encuentra en el dataframa "
      ],
      "execution_count": null,
      "outputs": []
    },
    {
      "cell_type": "code",
      "metadata": {
        "id": "FmKmam48MckI"
      },
      "source": [
        "dcp.loc[0,\"a1\"] # Nos mostrará el dato ubicado en la primera fila bajo la columna titulada (a1)"
      ],
      "execution_count": null,
      "outputs": []
    },
    {
      "cell_type": "code",
      "metadata": {
        "id": "MSaSc0DJMmaX"
      },
      "source": [
        "dcp.iloc[0]   # Nos mostrará los datos de la primera fila"
      ],
      "execution_count": null,
      "outputs": []
    },
    {
      "cell_type": "code",
      "metadata": {
        "id": "CtDGzo7oNybn"
      },
      "source": [
        "dcp.iloc[0:3]  # Nos mostrará los datos de las tres primeras filas"
      ],
      "execution_count": null,
      "outputs": []
    },
    {
      "cell_type": "code",
      "metadata": {
        "id": "mv2geCP6N0hf"
      },
      "source": [
        "dcp[\"a1\"]   # Nos mostrará todos los datos de la columna titulada (a1)"
      ],
      "execution_count": null,
      "outputs": []
    },
    {
      "cell_type": "code",
      "metadata": {
        "id": "jlAkLejegfJo"
      },
      "source": [
        "dcp.T      # Reorganiza el dataframe intercambiando filas y columnas (transposición)"
      ],
      "execution_count": null,
      "outputs": []
    },
    {
      "cell_type": "markdown",
      "metadata": {
        "id": "VfslGe6jN8nR"
      },
      "source": [
        "Uno de los aspectos más importantes de la biblioteca `pandas` es que permite realizar diferentes operaciones con los datos almacenados en el DataFrame. Vamos a utilizar la información contenida en nuestro DataFrame  para obtener la ecuación polinómica del $\\bar{c}_{p}(T)$ de las sustancias contenidas en el DataFrame. Utilizaremos la rutina que se encuentra en la siguiente línea de código,para obtenr la ecuación de $\\bar{c}_{p}(T)$, basta con indicar el nombre de la sustancia que necesitas (Debes escribirla tal cual como aparece en en el DataFrame). La ecuaicón que se generará tendrá la forma:\n",
        "\n",
        "$\\small \\bar{c}_{p}(T)=R[a_{1}+a_{2}T+a_{3}T^{2}+a_{4}T^{3}] \\kern 2pc (15)$ \n",
        "\n",
        "Ejecuta la siguiente celda de código y escribe C6H6. La rutina entregará como salida la ecuación polinomica del $\\small C_{6}H_{6}$."
      ]
    },
    {
      "cell_type": "code",
      "metadata": {
        "id": "5RDHzigYOB6o",
        "colab": {
          "base_uri": "https://localhost:8080/"
        },
        "outputId": "68d7a5d6-cc60-422c-e7ea-89c916ab4407"
      },
      "source": [
        "from sympy import *           # importamos la biblioteca de función simbolica\n",
        "sustancia=input(\"Introduce la sustancia que necesitas: \")   # Solicitamos la sustancia\n",
        "if sustancia in dcp.values:                                 # Si la sustancia esta en el DataFrame\n",
        "    A1=float(dcp[dcp[\"Substance\"]==sustancia][\"a1\"])        # Extraemos el valor de cada constante \n",
        "    A2=float(dcp[dcp[\"Substance\"]==sustancia][\"a2\"])\n",
        "    A3=float(dcp[dcp[\"Substance\"]==sustancia][\"a3\"])\n",
        "    A4=float(dcp[dcp[\"Substance\"]==sustancia][\"a4\"])\n",
        "    T=symbols(\"T\")                                          # Definimos T como varible simbolica\n",
        "    Cp=8.314*(+A1+A2*T+A3*T**2+A4*T**3)                     # Definimos la ec. polinómica\n",
        "    print(\"Cp_sustancia=\",Cp)\n",
        "else:\n",
        "    print(\"La sustancia no se encuentra en la lista de opciones\")   # Si la susntacia no esta en el DataFrame"
      ],
      "execution_count": null,
      "outputs": [
        {
          "output_type": "stream",
          "name": "stdout",
          "text": [
            "Introduce la sustancia que necesitas: C6H6\n",
            "Cp_sustancia= -0.0001105762*T**2 + 0.324753154*T - 1.712684\n"
          ]
        }
      ]
    },
    {
      "cell_type": "markdown",
      "metadata": {
        "id": "xzr0zPjXOKjC"
      },
      "source": [
        "*Ejercicio 3:* Ahora es tu turno. Utilizando la biblioteca pandas, determina el valor de $\\small \\Delta H$  para el calentamiento de 1 mol de $\\small Br_{2}$ desde 300 K hasta 1400 K. Compara el resultado con el obtenido en el ejercicio 2."
      ]
    },
    {
      "cell_type": "code",
      "metadata": {
        "id": "M5fPWg-7FYhi"
      },
      "source": [
        ""
      ],
      "execution_count": null,
      "outputs": []
    },
    {
      "cell_type": "markdown",
      "metadata": {
        "id": "3vhchlhPsLYB"
      },
      "source": [
        "# ***Actividad 5: Solución de las actividades***\n",
        "---\n",
        "En esta sección se presentan las soluciones de las actividades que desarrollaste en las secciones anteriores. \n",
        "\n",
        "*Solución ejercicio 1:* Opción 1.\n",
        "\n",
        "Utilizando la biblioteca `matplotlib`."
      ]
    },
    {
      "cell_type": "code",
      "metadata": {
        "colab": {
          "base_uri": "https://localhost:8080/",
          "height": 300
        },
        "id": "4L-qSHs4sOZ_",
        "outputId": "bb8d7d79-a426-4f29-8251-fc273469876d"
      },
      "source": [
        "import numpy as np\n",
        "import matplotlib.pyplot as plt\n",
        "import math\n",
        " \n",
        "def P(T,Vm):               #Ec. gases ideales\n",
        "    P=8.314*T/Vm\n",
        "    return P\n",
        "fig = plt.figure(1)\n",
        "\n",
        "for T in np.array([298, 798, 1298]): \n",
        "    Vm=np.arange(4,40,0.1)           \n",
        "    plt.plot(Vm, P(T,Vm), label=str(T)+\"K\")              \n",
        "    plt.title(\"Expansión isotermica gas ideal\")            \n",
        "    plt.ylabel(r\"$ {P (\\mathrm{atm})} $\")                    \n",
        "    plt.xlabel(r\"$ \\bar{V}(\\mathrm{L.mol^{-1}}) $\")                                        \n",
        "plt.legend()\n",
        "plt.show()"
      ],
      "execution_count": null,
      "outputs": [
        {
          "output_type": "display_data",
          "data": {
            "image/png": "[encoded data removed]",
            "text/plain": [
              "<Figure size 432x288 with 1 Axes>"
            ]
          },
          "metadata": {
            "needs_background": "light"
          }
        }
      ]
    },
    {
      "cell_type": "markdown",
      "metadata": {
        "id": "8noxpWsy0uR3"
      },
      "source": [
        "*Solución ejercicio 1:* Opción 2.\n",
        "\n",
        "Utilizando la biblioteca `plotly`."
      ]
    },
    {
      "cell_type": "code",
      "metadata": {
        "id": "ffA74gaV0yRl",
        "colab": {
          "base_uri": "https://localhost:8080/",
          "height": 517
        },
        "outputId": "38290034-727b-4b79-86ea-1c135782d8dd"
      },
      "source": [
        "import numpy as np\n",
        "import plotly.graph_objects as go \n",
        "v= np.arange(5, 40, 0.05)\n",
        "p1=(0.5*0.08206*298)/v\n",
        "p2=(0.5*0.08206*798)/v\n",
        "p3=(0.5*0.08206*1298)/v\n",
        "\n",
        "fig = go.Figure()\n",
        "fig.add_trace(go.Scatter(x=v, y=p1,\n",
        "                    mode='lines',\n",
        "                    name='298 K'))\n",
        "fig.add_trace(go.Scatter(x=v, y=p2,\n",
        "                    mode='lines',\n",
        "                    name='798 K'))\n",
        "fig.add_trace(go.Scatter(x=v, y=p3,\n",
        "                    mode='lines',\n",
        "                    name='1298 K'))\n",
        "fig.update_layout(\n",
        "    title=\"Curva PV\",\n",
        "    xaxis_title=r\"$ {V (\\mathrm{L})} $\",\n",
        "    yaxis_title=r\"$ {P (\\mathrm{atm})} $\",\n",
        "    width=700, height=500\n",
        ")\n",
        "fig.show()"
      ],
      "execution_count": null,
      "outputs": [
        {
          "output_type": "display_data",
          "data": {
            "text/html": [
              "<html>\n",
              "<head><meta charset=\"utf-8\" /></head>\n",
              "<body>\n",
              "    <div>\n",
              "            <script src=\"https://cdnjs.cloudflare.com/ajax/libs/mathjax/2.7.5/MathJax.js?config=TeX-AMS-MML_SVG\"></script><script type=\"text/javascript\">if (window.MathJax) {MathJax.Hub.Config({SVG: {font: \"STIX-Web\"}});}</script>\n",
              "                <script type=\"text/javascript\">window.PlotlyConfig = {MathJaxConfig: 'local'};</script>\n",
              "        <script src=\"https://cdn.plot.ly/plotly-latest.min.js\"></script>    \n",
              "            <div id=\"759ca30e-18b1-480e-8400-f2327489d496\" class=\"plotly-graph-div\" style=\"height:500px; width:700px;\"></div>\n",
              "            <script type=\"text/javascript\">\n",
              "                \n",
              "                    window.PLOTLYENV=window.PLOTLYENV || {};\n",
              "                    \n",
              "                if (document.getElementById(\"759ca30e-18b1-480e-8400-f2327489d496\")) {\n",
              "                    Plotly.newPlot(\n",
              "                        '759ca30e-18b1-480e-8400-f2327489d496',\n",
              "                        [{\"mode\": \"lines\", \"name\": \"298 K\", \"type\": \"scatter\", \"x\": [5.0, 5.05, 5.1, 5.1499999999999995, 5.199999999999999, 5.249999999999999, 5.299999999999999, 5.349999999999999, 5.399999999999999, 5.449999999999998, 5.499999999999998, 5.549999999999998, 5.599999999999998, 5.649999999999998, 5.6999999999999975, 5.749999999999997, 5.799999999999997, 5.849999999999997, 5.899999999999997, 5.949999999999997, 5.9999999999999964, 6.049999999999996, 6.099999999999996, 6.149999999999996, 6.199999999999996, 6.249999999999996, 6.299999999999995, 6.349999999999995, 6.399999999999995, 6.449999999999995, 6.499999999999995, 6.5499999999999945, 6.599999999999994, 6.649999999999994, 6.699999999999994, 6.749999999999994, 6.799999999999994, 6.849999999999993, 6.899999999999993, 6.949999999999993, 6.999999999999993, 7.049999999999993, 7.0999999999999925, 7.149999999999992, 7.199999999999992, 7.249999999999992, 7.299999999999992, 7.349999999999992, 7.3999999999999915, 7.449999999999991, 7.499999999999991, 7.549999999999991, 7.599999999999991, 7.649999999999991, 7.69999999999999, 7.74999999999999, 7.79999999999999, 7.84999999999999, 7.89999999999999, 7.9499999999999895, 7.999999999999989, 8.04999999999999, 8.099999999999989, 8.149999999999988, 8.199999999999989, 8.24999999999999, 8.299999999999988, 8.349999999999987, 8.399999999999988, 8.449999999999989, 8.499999999999988, 8.549999999999986, 8.599999999999987, 8.649999999999988, 8.699999999999987, 8.749999999999986, 8.799999999999986, 8.849999999999987, 8.899999999999986, 8.949999999999985, 8.999999999999986, 9.049999999999986, 9.099999999999985, 9.149999999999984, 9.199999999999985, 9.249999999999986, 9.299999999999985, 9.349999999999984, 9.399999999999984, 9.449999999999985, 9.499999999999984, 9.549999999999983, 9.599999999999984, 9.649999999999984, 9.699999999999983, 9.749999999999982, 9.799999999999983, 9.849999999999984, 9.899999999999983, 9.949999999999982, 9.999999999999982, 10.049999999999983, 10.099999999999982, 10.14999999999998, 10.199999999999982, 10.249999999999982, 10.299999999999981, 10.34999999999998, 10.39999999999998, 10.449999999999982, 10.49999999999998, 10.54999999999998, 10.59999999999998, 10.64999999999998, 10.69999999999998, 10.749999999999979, 10.79999999999998, 10.84999999999998, 10.899999999999979, 10.949999999999978, 10.999999999999979, 11.04999999999998, 11.099999999999978, 11.149999999999977, 11.199999999999978, 11.249999999999979, 11.299999999999978, 11.349999999999977, 11.399999999999977, 11.449999999999978, 11.499999999999977, 11.549999999999976, 11.599999999999977, 11.649999999999977, 11.699999999999976, 11.749999999999975, 11.799999999999976, 11.849999999999977, 11.899999999999975, 11.949999999999974, 11.999999999999975, 12.049999999999976, 12.099999999999975, 12.149999999999974, 12.199999999999974, 12.249999999999975, 12.299999999999974, 12.349999999999973, 12.399999999999974, 12.449999999999974, 12.499999999999973, 12.549999999999972, 12.599999999999973, 12.649999999999974, 12.699999999999973, 12.749999999999972, 12.799999999999972, 12.849999999999973, 12.899999999999972, 12.94999999999997, 12.999999999999972, 13.049999999999972, 13.099999999999971, 13.14999999999997, 13.19999999999997, 13.249999999999972, 13.29999999999997, 13.34999999999997, 13.39999999999997, 13.44999999999997, 13.49999999999997, 13.549999999999969, 13.59999999999997, 13.64999999999997, 13.699999999999969, 13.749999999999968, 13.799999999999969, 13.84999999999997, 13.899999999999968, 13.949999999999967, 13.999999999999968, 14.049999999999969, 14.099999999999968, 14.149999999999967, 14.199999999999967, 14.249999999999968, 14.299999999999967, 14.349999999999966, 14.399999999999967, 14.449999999999967, 14.499999999999966, 14.549999999999965, 14.599999999999966, 14.649999999999967, 14.699999999999966, 14.749999999999964, 14.799999999999965, 14.849999999999966, 14.899999999999965, 14.949999999999964, 14.999999999999964, 15.049999999999965, 15.099999999999964, 15.149999999999963, 15.199999999999964, 15.249999999999964, 15.299999999999963, 15.349999999999962, 15.399999999999963, 15.449999999999964, 15.499999999999963, 15.549999999999962, 15.599999999999962, 15.649999999999963, 15.699999999999962, 15.749999999999961, 15.799999999999962, 15.849999999999962, 15.899999999999961, 15.94999999999996, 15.999999999999961, 16.04999999999996, 16.09999999999996, 16.14999999999996, 16.19999999999996, 16.24999999999996, 16.29999999999996, 16.34999999999996, 16.39999999999996, 16.44999999999996, 16.499999999999957, 16.549999999999958, 16.59999999999996, 16.64999999999996, 16.69999999999996, 16.749999999999957, 16.799999999999958, 16.84999999999996, 16.899999999999956, 16.949999999999957, 16.999999999999957, 17.049999999999958, 17.09999999999996, 17.149999999999956, 17.199999999999957, 17.249999999999957, 17.299999999999955, 17.349999999999955, 17.399999999999956, 17.449999999999957, 17.499999999999957, 17.549999999999955, 17.599999999999955, 17.649999999999956, 17.699999999999953, 17.749999999999954, 17.799999999999955, 17.849999999999955, 17.899999999999956, 17.949999999999953, 17.999999999999954, 18.049999999999955, 18.09999999999995, 18.149999999999952, 18.199999999999953, 18.249999999999954, 18.299999999999955, 18.34999999999995, 18.399999999999952, 18.449999999999953, 18.49999999999995, 18.54999999999995, 18.59999999999995, 18.649999999999952, 18.699999999999953, 18.74999999999995, 18.79999999999995, 18.84999999999995, 18.89999999999995, 18.94999999999995, 18.99999999999995, 19.04999999999995, 19.09999999999995, 19.14999999999995, 19.19999999999995, 19.24999999999995, 19.299999999999947, 19.349999999999948, 19.39999999999995, 19.44999999999995, 19.49999999999995, 19.549999999999947, 19.599999999999948, 19.64999999999995, 19.699999999999946, 19.749999999999947, 19.799999999999947, 19.849999999999948, 19.89999999999995, 19.949999999999946, 19.999999999999947, 20.049999999999947, 20.099999999999945, 20.149999999999945, 20.199999999999946, 20.249999999999947, 20.299999999999947, 20.349999999999945, 20.399999999999945, 20.449999999999946, 20.499999999999943, 20.549999999999944, 20.599999999999945, 20.649999999999945, 20.699999999999946, 20.749999999999943, 20.799999999999944, 20.849999999999945, 20.89999999999994, 20.949999999999942, 20.999999999999943, 21.049999999999944, 21.099999999999945, 21.14999999999994, 21.199999999999942, 21.249999999999943, 21.29999999999994, 21.34999999999994, 21.39999999999994, 21.449999999999942, 21.499999999999943, 21.54999999999994, 21.59999999999994, 21.64999999999994, 21.69999999999994, 21.74999999999994, 21.79999999999994, 21.84999999999994, 21.89999999999994, 21.94999999999994, 21.99999999999994, 22.04999999999994, 22.099999999999937, 22.149999999999938, 22.19999999999994, 22.24999999999994, 22.29999999999994, 22.349999999999937, 22.399999999999938, 22.44999999999994, 22.499999999999936, 22.549999999999937, 22.599999999999937, 22.649999999999938, 22.69999999999994, 22.749999999999936, 22.799999999999937, 22.849999999999937, 22.899999999999935, 22.949999999999935, 22.999999999999936, 23.049999999999937, 23.099999999999937, 23.149999999999935, 23.199999999999935, 23.249999999999936, 23.299999999999933, 23.349999999999934, 23.399999999999935, 23.449999999999935, 23.499999999999936, 23.549999999999933, 23.599999999999934, 23.649999999999935, 23.699999999999932, 23.749999999999932, 23.799999999999933, 23.849999999999934, 23.899999999999935, 23.949999999999932, 23.999999999999932, 24.049999999999933, 24.09999999999993, 24.14999999999993, 24.199999999999932, 24.249999999999932, 24.299999999999933, 24.34999999999993, 24.39999999999993, 24.449999999999932, 24.49999999999993, 24.54999999999993, 24.59999999999993, 24.64999999999993, 24.699999999999932, 24.74999999999993, 24.79999999999993, 24.84999999999993, 24.899999999999928, 24.94999999999993, 24.99999999999993, 25.04999999999993, 25.09999999999993, 25.149999999999928, 25.19999999999993, 25.24999999999993, 25.299999999999926, 25.349999999999927, 25.399999999999928, 25.44999999999993, 25.49999999999993, 25.549999999999926, 25.599999999999927, 25.649999999999928, 25.699999999999925, 25.749999999999925, 25.799999999999926, 25.849999999999927, 25.899999999999928, 25.949999999999925, 25.999999999999925, 26.049999999999926, 26.099999999999923, 26.149999999999924, 26.199999999999925, 26.249999999999925, 26.299999999999926, 26.349999999999923, 26.399999999999924, 26.449999999999925, 26.499999999999922, 26.549999999999923, 26.599999999999923, 26.649999999999924, 26.699999999999925, 26.749999999999922, 26.799999999999923, 26.849999999999923, 26.89999999999992, 26.94999999999992, 26.999999999999922, 27.049999999999923, 27.099999999999923, 27.14999999999992, 27.19999999999992, 27.249999999999922, 27.29999999999992, 27.34999999999992, 27.39999999999992, 27.44999999999992, 27.499999999999922, 27.54999999999992, 27.59999999999992, 27.64999999999992, 27.699999999999918, 27.74999999999992, 27.79999999999992, 27.84999999999992, 27.89999999999992, 27.949999999999918, 27.99999999999992, 28.04999999999992, 28.099999999999916, 28.149999999999917, 28.199999999999918, 28.24999999999992, 28.29999999999992, 28.349999999999916, 28.399999999999917, 28.449999999999918, 28.499999999999915, 28.549999999999915, 28.599999999999916, 28.649999999999917, 28.699999999999918, 28.749999999999915, 28.799999999999915, 28.849999999999916, 28.899999999999913, 28.949999999999914, 28.999999999999915, 29.049999999999915, 29.099999999999916, 29.149999999999913, 29.199999999999914, 29.249999999999915, 29.299999999999912, 29.349999999999913, 29.399999999999913, 29.449999999999914, 29.499999999999915, 29.549999999999912, 29.599999999999913, 29.649999999999913, 29.69999999999991, 29.74999999999991, 29.799999999999912, 29.849999999999913, 29.899999999999913, 29.94999999999991, 29.99999999999991, 30.049999999999912, 30.09999999999991, 30.14999999999991, 30.19999999999991, 30.24999999999991, 30.299999999999912, 30.34999999999991, 30.39999999999991, 30.44999999999991, 30.499999999999908, 30.54999999999991, 30.59999999999991, 30.64999999999991, 30.69999999999991, 30.749999999999908, 30.79999999999991, 30.84999999999991, 30.899999999999906, 30.949999999999907, 30.999999999999908, 31.04999999999991, 31.09999999999991, 31.149999999999906, 31.199999999999907, 31.249999999999908, 31.299999999999905, 31.349999999999905, 31.399999999999906, 31.449999999999907, 31.499999999999908, 31.549999999999905, 31.599999999999905, 31.649999999999906, 31.699999999999903, 31.749999999999904, 31.799999999999905, 31.849999999999905, 31.899999999999906, 31.949999999999903, 31.999999999999904, 32.049999999999905, 32.0999999999999, 32.149999999999906, 32.1999999999999, 32.2499999999999, 32.299999999999905, 32.3499999999999, 32.399999999999906, 32.4499999999999, 32.4999999999999, 32.5499999999999, 32.5999999999999, 32.649999999999906, 32.6999999999999, 32.7499999999999, 32.7999999999999, 32.8499999999999, 32.8999999999999, 32.9499999999999, 32.9999999999999, 33.0499999999999, 33.0999999999999, 33.1499999999999, 33.1999999999999, 33.2499999999999, 33.2999999999999, 33.349999999999895, 33.3999999999999, 33.4499999999999, 33.4999999999999, 33.5499999999999, 33.599999999999895, 33.6499999999999, 33.699999999999896, 33.7499999999999, 33.7999999999999, 33.849999999999895, 33.8999999999999, 33.949999999999896, 33.9999999999999, 34.0499999999999, 34.099999999999895, 34.14999999999989, 34.199999999999896, 34.2499999999999, 34.2999999999999, 34.349999999999895, 34.39999999999989, 34.449999999999896, 34.49999999999989, 34.5499999999999, 34.599999999999895, 34.64999999999989, 34.699999999999896, 34.74999999999989, 34.7999999999999, 34.849999999999895, 34.89999999999989, 34.94999999999989, 34.99999999999989, 35.0499999999999, 35.099999999999895, 35.14999999999989, 35.19999999999989, 35.24999999999989, 35.29999999999989, 35.349999999999895, 35.39999999999989, 35.44999999999989, 35.49999999999989, 35.54999999999989, 35.599999999999895, 35.64999999999989, 35.69999999999989, 35.749999999999886, 35.79999999999989, 35.849999999999895, 35.89999999999989, 35.94999999999989, 35.999999999999886, 36.04999999999989, 36.09999999999989, 36.14999999999989, 36.19999999999989, 36.249999999999886, 36.29999999999989, 36.34999999999989, 36.39999999999989, 36.44999999999989, 36.499999999999886, 36.54999999999988, 36.59999999999989, 36.64999999999989, 36.69999999999989, 36.749999999999886, 36.79999999999988, 36.84999999999989, 36.899999999999885, 36.94999999999989, 36.999999999999886, 37.04999999999988, 37.09999999999989, 37.149999999999885, 37.19999999999989, 37.249999999999886, 37.29999999999988, 37.34999999999989, 37.399999999999885, 37.44999999999988, 37.499999999999886, 37.54999999999988, 37.59999999999988, 37.649999999999885, 37.69999999999988, 37.749999999999886, 37.79999999999988, 37.84999999999988, 37.899999999999885, 37.94999999999988, 37.999999999999886, 38.04999999999988, 38.09999999999988, 38.149999999999885, 38.19999999999988, 38.24999999999988, 38.29999999999988, 38.34999999999988, 38.39999999999988, 38.44999999999988, 38.49999999999988, 38.54999999999988, 38.59999999999988, 38.64999999999988, 38.69999999999988, 38.74999999999988, 38.79999999999988, 38.84999999999988, 38.89999999999988, 38.94999999999988, 38.99999999999988, 39.049999999999876, 39.09999999999988, 39.14999999999988, 39.199999999999875, 39.24999999999988, 39.299999999999876, 39.34999999999988, 39.39999999999988, 39.449999999999875, 39.49999999999988, 39.549999999999876, 39.59999999999988, 39.64999999999988, 39.699999999999875, 39.74999999999988, 39.799999999999876, 39.84999999999987, 39.89999999999988, 39.949999999999875], \"y\": [2.445388, 2.4211762376237624, 2.3974392156862745, 2.3741631067961166, 2.3513346153846153, 2.3289409523809526, 2.306969811320755, 2.2854093457943927, 2.2642481481481487, 2.2434752293577986, 2.2230800000000004, 2.203052252252253, 2.1833821428571434, 2.164060176991151, 2.145077192982457, 2.1264243478260876, 2.108093103448277, 2.0900752136752145, 2.072362711864408, 2.054947899159665, 2.037823333333334, 2.020981818181819, 2.0044163934426242, 1.988120325203253, 1.9720870967741948, 1.9563104000000013, 1.9407841269841282, 1.9255023622047258, 1.9104593750000014, 1.8956496124031021, 1.8810676923076937, 1.8667083969465663, 1.852566666666668, 1.838637593984964, 1.8249164179104493, 1.81139851851852, 1.7980794117647074, 1.784954744525549, 1.772020289855074, 1.7592719424460448, 1.7467057142857159, 1.7343177304964557, 1.7221042253521144, 1.71006153846154, 1.6981861111111127, 1.6864744827586224, 1.6749232876712346, 1.663529251700682, 1.6522891891891909, 1.6412000000000018, 1.6302586666666685, 1.619462251655631, 1.6088078947368438, 1.5982928104575183, 1.5879142857142876, 1.5776696774193566, 1.5675564102564121, 1.557571974522295, 1.5477139240506348, 1.5379798742138384, 1.5283675000000019, 1.5188745341614924, 1.5094987654321006, 1.500238036809818, 1.491090243902441, 1.4820533333333352, 1.4731253012048213, 1.4643041916167685, 1.4555880952380973, 1.4469751479289958, 1.4384635294117667, 1.4300514619883062, 1.4217372093023275, 1.4135190751445106, 1.4053954022988526, 1.3973645714285736, 1.3894250000000021, 1.3815751412429398, 1.3738134831460695, 1.3661385474860357, 1.358548888888891, 1.3510430939226539, 1.3436197802197822, 1.3362775956284174, 1.3290152173913063, 1.3218313513513533, 1.3147247311827976, 1.3076941176470611, 1.3007382978723425, 1.2938560846560867, 1.2870463157894758, 1.2803078534031436, 1.2736395833333354, 1.267040414507774, 1.2605092783505176, 1.2540451282051304, 1.2476469387755122, 1.2413137055837582, 1.2350444444444466, 1.228838190954776, 1.2226940000000022, 1.2166109452736338, 1.2105881188118832, 1.2046246305418742, 1.1987196078431392, 1.1928721951219532, 1.1870815533980603, 1.1813468599033838, 1.1756673076923099, 1.1700421052631598, 1.1644704761904783, 1.1589516587677746, 1.1534849056603795, 1.1480694835680771, 1.1427046728971983, 1.1373897674418627, 1.1321240740740761, 1.1269069124423983, 1.121737614678901, 1.1166155251141574, 1.111540000000002, 1.106510407239821, 1.1015261261261282, 1.0965865470852039, 1.0916910714285735, 1.086839111111113, 1.0820300884955774, 1.0772634361233502, 1.0725385964912302, 1.067855021834063, 1.0632121739130456, 1.0586095238095259, 1.05404655172414, 1.049522746781118, 1.0450376068376088, 1.0405906382978745, 1.0361813559322055, 1.031809282700424, 1.027473949579834, 1.0231748953974917, 1.0189116666666687, 1.0146838174273878, 1.010490909090911, 1.006332510288068, 1.0022081967213134, 0.9981175510204101, 0.994060162601628, 0.9900356275303664, 0.9860435483870987, 0.9820835341365481, 0.978155200000002, 0.9742581673306794, 0.9703920634920655, 0.9665565217391323, 0.9627511811023642, 0.9589756862745119, 0.955229687500002, 0.951512840466928, 0.9478248062015524, 0.9441652509652531, 0.9405338461538482, 0.9369302681992356, 0.9333541984732844, 0.9298053231939184, 0.9262833333333353, 0.9227879245283038, 0.9193187969924832, 0.9158756554307136, 0.9124582089552259, 0.9090661710037193, 0.9056992592592612, 0.9023571955719577, 0.8990397058823549, 0.895746520146522, 0.8924773722627757, 0.889232000000002, 0.8860101449275382, 0.8828115523465723, 0.8796359712230235, 0.8764831541218658, 0.873352857142859, 0.8702448398576531, 0.8671588652482288, 0.8640946996466451, 0.8610521126760583, 0.8580308771929843, 0.8550307692307711, 0.8520515679442529, 0.8490930555555575, 0.8461550173010399, 0.8432372413793122, 0.8403395189003456, 0.8374616438356183, 0.8346034129692851, 0.831764625850342, 0.8289450847457647, 0.8261445945945964, 0.8233629629629647, 0.8206000000000019, 0.8178555183946508, 0.8151293333333351, 0.8124212624584736, 0.8097311258278165, 0.8070587458745894, 0.8044039473684229, 0.8017665573770509, 0.79914640522876, 0.7965433224755719, 0.7939571428571447, 0.7913877022653739, 0.7888348387096793, 0.7862983922829601, 0.783778205128207, 0.7812741214057526, 0.7787859872611483, 0.7763136507936527, 0.7738569620253183, 0.7714157728706642, 0.7689899371069201, 0.7665793103448294, 0.7641837500000018, 0.7618031152647993, 0.7594372670807472, 0.757086068111457, 0.7547493827160512, 0.7524270769230786, 0.7501190184049097, 0.7478250764526012, 0.7455451219512212, 0.7432790273556248, 0.7410266666666685, 0.7387879154078568, 0.7365626506024114, 0.7343507507507525, 0.7321520958083849, 0.729966567164181, 0.7277940476190494, 0.7256344213649869, 0.7234875739644989, 0.7213533923303853, 0.7192317647058841, 0.717122580645163, 0.7150257309941537, 0.7129411078717219, 0.7108686046511645, 0.7088081159420306, 0.7067595375722562, 0.704722766570607, 0.702697701149427, 0.7006842406876808, 0.6986822857142874, 0.6966917378917397, 0.6947125000000017, 0.6927444759206816, 0.6907875706214707, 0.6888416901408468, 0.6869067415730354, 0.6849826330532229, 0.6830692737430184, 0.6811665738161577, 0.6792744444444462, 0.6773927977839351, 0.6755215469613277, 0.6736606060606077, 0.6718098901098918, 0.6699693150684948, 0.6681387978142093, 0.6663182561307919, 0.6645076086956538, 0.6627067750677523, 0.6609156756756774, 0.6591342318059316, 0.6573623655913995, 0.6556000000000016, 0.653847058823531, 0.6521034666666683, 0.6503691489361718, 0.6486440318302403, 0.646928042328044, 0.6452211081794212, 0.6435231578947385, 0.6418341207349098, 0.6401539267015722, 0.6384825065274168, 0.6368197916666682, 0.6351657142857159, 0.6335202072538877, 0.6318832041343686, 0.6302546391752594, 0.6286344473007728, 0.6270225641025656, 0.6254189258312037, 0.6238234693877567, 0.6222361323155232, 0.6206568527918799, 0.6190855696202547, 0.6175222222222239, 0.6159667506297245, 0.6144190954773885, 0.6128791979949891, 0.6113470000000015, 0.6098224438902758, 0.6083054726368176, 0.6067960297766766, 0.6052940594059422, 0.6037995061728411, 0.6023123152709374, 0.600832432432434, 0.5993598039215702, 0.5978943765281189, 0.5964360975609773, 0.5949849148418507, 0.5935407766990307, 0.5921036319612606, 0.5906734299516924, 0.5892501204819293, 0.5878336538461554, 0.5864239808153492, 0.5850210526315806, 0.5836248210023882, 0.5822352380952396, 0.580852256532068, 0.5794758293838878, 0.5781059101654862, 0.5767424528301902, 0.5753854117647074, 0.5740347417840391, 0.5726903981264653, 0.5713523364485996, 0.5700205128205144, 0.5686948837209317, 0.5673754060324842, 0.5660620370370385, 0.5647547344110869, 0.5634534562211997, 0.5621581609195417, 0.560868807339451, 0.559585354691077, 0.558307762557079, 0.5570359908883842, 0.5557700000000014, 0.5545097505668949, 0.553255203619911, 0.5520063205417622, 0.5507630630630646, 0.5495253932584284, 0.5482932735426023, 0.5470666666666681, 0.5458455357142872, 0.544629844097997, 0.5434195555555571, 0.542214634146343, 0.541015044247789, 0.5398207505518778, 0.5386317180616754, 0.5374479120879135, 0.5362692982456155, 0.5350958424507672, 0.533927510917032, 0.5327642701525069, 0.5316060869565232, 0.5304529284164873, 0.5293047619047633, 0.5281615550755954, 0.5270232758620704, 0.5258898924731197, 0.5247613733905594, 0.5236376873661684, 0.5225188034188049, 0.5214046908315579, 0.5202953191489376, 0.5191906581740992, 0.5180906779661031, 0.5169953488372107, 0.5159046413502124, 0.514818526315791, 0.5137369747899174, 0.5126599580712802, 0.5115874476987461, 0.5105194154488532, 0.5094558333333348, 0.508396673596675, 0.5073419087136943, 0.506291511387165, 0.5052454545454559, 0.5042037113402076, 0.5031662551440342, 0.502133059548256, 0.5011040983606572, 0.5000793456032734, 0.4990587755102055, 0.49804236252545964, 0.4970300813008144, 0.4960219066937133, 0.4950178137651835, 0.49401777777777917, 0.49302177419354976, 0.4920297786720335, 0.49104176706827446, 0.4900577154308631, 0.48907760000000133, 0.48810139720559015, 0.48712908366533997, 0.48616063618290395, 0.4851960317460331, 0.4842352475247538, 0.4832782608695666, 0.4823250493096661, 0.48137559055118245, 0.48042986247544334, 0.4794878431372562, 0.47854951076321073, 0.47761484375000135, 0.4766838206627693, 0.47575642023346437, 0.47483262135922466, 0.47391240310077654, 0.47299574468085237, 0.47208262548262675, 0.4711730250481709, 0.4702669230769244, 0.46936429942418556, 0.4684651340996182, 0.4675694072657757, 0.4666770992366425, 0.46578819047619174, 0.4649026615969594, 0.4640204933586351, 0.46314166666666795, 0.46226616257088976, 0.46139396226415225, 0.4605250470809806, 0.4596593984962419, 0.4587969981238287, 0.45793782771535707, 0.4570818691588798, 0.4562291044776132, 0.4553795158286791, 0.45453308550186006, 0.45368979591836867, 0.4528496296296309, 0.4520125693160826, 0.4511785977859791, 0.4503476979742186, 0.44951985294117774, 0.4486950458715609, 0.4478732600732614, 0.4470544789762353, 0.4462386861313881, 0.445425865209473, 0.44461600000000123, 0.4438090744101646, 0.44300507246376936, 0.44220397830018204, 0.44140577617328647, 0.4406104504504517, 0.43981798561151203, 0.43902836624775704, 0.43824157706093314, 0.43745760286225527, 0.4366764285714298, 0.4358980392156875, 0.4351224199288269, 0.4343495559502677, 0.4335794326241147, 0.4328120353982313, 0.43204734982332277, 0.43128536155202946, 0.4305260563380294, 0.4297694200351506, 0.4290154385964925, 0.4282640980735564, 0.42751538461538585, 0.426769284467715, 0.42602578397212665, 0.4252848695652186, 0.424546527777779, 0.42381074523397, 0.42307750865052024, 0.42234680483592524, 0.4216186206896564, 0.42089294320137816, 0.420169759450173, 0.4194490566037748, 0.4187308219178094, 0.4180150427350439, 0.4173017064846429, 0.4165908006814322, 0.41588231292517125, 0.4151762308998314, 0.4144725423728825, 0.41377123519458664, 0.4130722972972985, 0.4123757166947735, 0.4116814814814827, 0.41098957983193396, 0.41030000000000116, 0.4096127303182591, 0.40892775919732555, 0.40824507512520986, 0.40756466666666785, 0.40688652246256357, 0.40621063122923706, 0.40553698175787845, 0.40486556291390846, 0.4041963636363648, 0.40352937293729485, 0.4028645799011544, 0.4022019736842117, 0.40154154351395843, 0.40088327868852575, 0.4002271685761059, 0.39957320261438023, 0.39892137030995223, 0.3982716612377861, 0.39762406504065156, 0.39697857142857257, 0.3963351701782831, 0.39569385113268724, 0.39505460420032423, 0.39441741935483987, 0.3937822866344617, 0.3931491961414802, 0.3925181380417347, 0.3918891025641037, 0.3912620800000011, 0.39063706070287657, 0.3900140350877204, 0.3893929936305744, 0.3887739268680456, 0.3881568253968265, 0.38754167987321825, 0.38692848101265936, 0.38631721958925863, 0.3857078864353324, 0.38510047244094603, 0.3844949685534602, 0.38389136577708116, 0.38328965517241487, 0.3826898278560262, 0.38209187500000114, 0.3814957878315144, 0.3809015576323999, 0.3803091757387258, 0.3797186335403738, 0.3791299224806213, 0.37854303405572864, 0.37795795981452973, 0.37737469135802576, 0.37679322033898416, 0.3762135384615396, 0.3756356374807999, 0.37505950920245507, 0.37448514548239004, 0.3739125382263008, 0.37334167938931406, 0.3727725609756109, 0.37220517503805284, 0.37163951367781267, 0.3710755690440071, 0.3705133333333344, 0.36995279878971365, 0.3693939577039286, 0.3688368024132741, 0.3682813253012059, 0.36772751879699356, 0.3671753753753765, 0.366624887556223, 0.3660760479041927, 0.3655288490284016, 0.3649832835820906, 0.3644393442622962, 0.36389702380952493, 0.3633563150074305, 0.3628172106824937, 0.36227970370370477, 0.36174378698224957, 0.36120945347119754, 0.36067669616519277, 0.36014550810014834, 0.3596158823529422, 0.35908781204111706, 0.3585612903225817, 0.3580363103953159, 0.35751286549707706, 0.3569909489051105, 0.3564705539358611, 0.35595167394468813, 0.3554343023255825, 0.3549184325108864, 0.35440405797101554, 0.35389117221418337, 0.3533797687861282, 0.35286984126984233, 0.35236138328530364, 0.3518543884892097, 0.35134885057471366, 0.35084476327116315, 0.3503421203438406, 0.3498409155937064, 0.3493411428571439, 0.3488427960057071, 0.34834586894586994, 0.3478503556187777, 0.3473562500000011, 0.3468635460992918, 0.346372237960341, 0.3458823196605385, 0.3453937853107355, 0.34490662905500813, 0.34442084507042353, 0.34393642756680837, 0.34345337078651783, 0.3429716690042086, 0.3424913165266117, 0.3420123076923087, 0.3415346368715094, 0.3410582984658308, 0.340583286908079, 0.3401095966620316, 0.33963722222222326, 0.3391661581137319, 0.3386963988919678, 0.33822793914246296, 0.33776077348066397, 0.3372948965517252, 0.33683030303030403, 0.33636698762035866, 0.335904945054946, 0.33544417009602295, 0.3349846575342476, 0.33452640218878354, 0.3340693989071048, 0.33361364256480314, 0.33315912806539605, 0.33270585034013705, 0.3322538043478271, 0.33180298507462785, 0.33135338753387633, 0.33090500676590084, 0.33045783783783883, 0.3300118758434558, 0.32956711590296595, 0.3291235531628543, 0.32868118279569986, 0.328240000000001, 0.327800000000001, 0.32736117804551634, 0.32692352941176567, 0.3264870493991999, 0.3260517333333343, 0.32561757656458157, 0.32518457446808613, 0.32475272244356007, 0.32432201591512033, 0.3238924503311268, 0.3234640211640221, 0.32303672391017274, 0.32261055408971073, 0.3221855072463778, 0.32176157894736934, 0.32133876478318096, 0.32091706036745504, 0.32049646133682924, 0.3200769633507863, 0.31965856209150423, 0.3192412532637085, 0.3188250325945251, 0.31840989583333434, 0.31799583875162646, 0.3175828571428581, 0.3171709468223096, 0.31676010362694396, 0.3163503234152662, 0.3159416020671844, 0.31553393548387193, 0.3151273195876298, 0.31472175032175126, 0.31431722365038656, 0.3139137355584091, 0.313511282051283, 0.31310985915493056, 0.312709462915602, 0.3123100893997455, 0.3119117346938785, 0.31151439490445954, 0.3111180661577618, 0.3107227445997468, 0.31032842639594005, 0.3099351077313064, 0.3095427848101275, 0.30915145385587955, 0.30876111111111204, 0.30837175283732754, 0.3079833753148624, 0.3075959748427682, 0.3072095477386944, 0.30682409033877134, 0.3064395989974946, 0.30605607008761043]}, {\"mode\": \"lines\", \"name\": \"798 K\", \"type\": \"scatter\", \"x\": [5.0, 5.05, 5.1, 5.1499999999999995, 5.199999999999999, 5.249999999999999, 5.299999999999999, 5.349999999999999, 5.399999999999999, 5.449999999999998, 5.499999999999998, 5.549999999999998, 5.599999999999998, 5.649999999999998, 5.6999999999999975, 5.749999999999997, 5.799999999999997, 5.849999999999997, 5.899999999999997, 5.949999999999997, 5.9999999999999964, 6.049999999999996, 6.099999999999996, 6.149999999999996, 6.199999999999996, 6.249999999999996, 6.299999999999995, 6.349999999999995, 6.399999999999995, 6.449999999999995, 6.499999999999995, 6.5499999999999945, 6.599999999999994, 6.649999999999994, 6.699999999999994, 6.749999999999994, 6.799999999999994, 6.849999999999993, 6.899999999999993, 6.949999999999993, 6.999999999999993, 7.049999999999993, 7.0999999999999925, 7.149999999999992, 7.199999999999992, 7.249999999999992, 7.299999999999992, 7.349999999999992, 7.3999999999999915, 7.449999999999991, 7.499999999999991, 7.549999999999991, 7.599999999999991, 7.649999999999991, 7.69999999999999, 7.74999999999999, 7.79999999999999, 7.84999999999999, 7.89999999999999, 7.9499999999999895, 7.999999999999989, 8.04999999999999, 8.099999999999989, 8.149999999999988, 8.199999999999989, 8.24999999999999, 8.299999999999988, 8.349999999999987, 8.399999999999988, 8.449999999999989, 8.499999999999988, 8.549999999999986, 8.599999999999987, 8.649999999999988, 8.699999999999987, 8.749999999999986, 8.799999999999986, 8.849999999999987, 8.899999999999986, 8.949999999999985, 8.999999999999986, 9.049999999999986, 9.099999999999985, 9.149999999999984, 9.199999999999985, 9.249999999999986, 9.299999999999985, 9.349999999999984, 9.399999999999984, 9.449999999999985, 9.499999999999984, 9.549999999999983, 9.599999999999984, 9.649999999999984, 9.699999999999983, 9.749999999999982, 9.799999999999983, 9.849999999999984, 9.899999999999983, 9.949999999999982, 9.999999999999982, 10.049999999999983, 10.099999999999982, 10.14999999999998, 10.199999999999982, 10.249999999999982, 10.299999999999981, 10.34999999999998, 10.39999999999998, 10.449999999999982, 10.49999999999998, 10.54999999999998, 10.59999999999998, 10.64999999999998, 10.69999999999998, 10.749999999999979, 10.79999999999998, 10.84999999999998, 10.899999999999979, 10.949999999999978, 10.999999999999979, 11.04999999999998, 11.099999999999978, 11.149999999999977, 11.199999999999978, 11.249999999999979, 11.299999999999978, 11.349999999999977, 11.399999999999977, 11.449999999999978, 11.499999999999977, 11.549999999999976, 11.599999999999977, 11.649999999999977, 11.699999999999976, 11.749999999999975, 11.799999999999976, 11.849999999999977, 11.899999999999975, 11.949999999999974, 11.999999999999975, 12.049999999999976, 12.099999999999975, 12.149999999999974, 12.199999999999974, 12.249999999999975, 12.299999999999974, 12.349999999999973, 12.399999999999974, 12.449999999999974, 12.499999999999973, 12.549999999999972, 12.599999999999973, 12.649999999999974, 12.699999999999973, 12.749999999999972, 12.799999999999972, 12.849999999999973, 12.899999999999972, 12.94999999999997, 12.999999999999972, 13.049999999999972, 13.099999999999971, 13.14999999999997, 13.19999999999997, 13.249999999999972, 13.29999999999997, 13.34999999999997, 13.39999999999997, 13.44999999999997, 13.49999999999997, 13.549999999999969, 13.59999999999997, 13.64999999999997, 13.699999999999969, 13.749999999999968, 13.799999999999969, 13.84999999999997, 13.899999999999968, 13.949999999999967, 13.999999999999968, 14.049999999999969, 14.099999999999968, 14.149999999999967, 14.199999999999967, 14.249999999999968, 14.299999999999967, 14.349999999999966, 14.399999999999967, 14.449999999999967, 14.499999999999966, 14.549999999999965, 14.599999999999966, 14.649999999999967, 14.699999999999966, 14.749999999999964, 14.799999999999965, 14.849999999999966, 14.899999999999965, 14.949999999999964, 14.999999999999964, 15.049999999999965, 15.099999999999964, 15.149999999999963, 15.199999999999964, 15.249999999999964, 15.299999999999963, 15.349999999999962, 15.399999999999963, 15.449999999999964, 15.499999999999963, 15.549999999999962, 15.599999999999962, 15.649999999999963, 15.699999999999962, 15.749999999999961, 15.799999999999962, 15.849999999999962, 15.899999999999961, 15.94999999999996, 15.999999999999961, 16.04999999999996, 16.09999999999996, 16.14999999999996, 16.19999999999996, 16.24999999999996, 16.29999999999996, 16.34999999999996, 16.39999999999996, 16.44999999999996, 16.499999999999957, 16.549999999999958, 16.59999999999996, 16.64999999999996, 16.69999999999996, 16.749999999999957, 16.799999999999958, 16.84999999999996, 16.899999999999956, 16.949999999999957, 16.999999999999957, 17.049999999999958, 17.09999999999996, 17.149999999999956, 17.199999999999957, 17.249999999999957, 17.299999999999955, 17.349999999999955, 17.399999999999956, 17.449999999999957, 17.499999999999957, 17.549999999999955, 17.599999999999955, 17.649999999999956, 17.699999999999953, 17.749999999999954, 17.799999999999955, 17.849999999999955, 17.899999999999956, 17.949999999999953, 17.999999999999954, 18.049999999999955, 18.09999999999995, 18.149999999999952, 18.199999999999953, 18.249999999999954, 18.299999999999955, 18.34999999999995, 18.399999999999952, 18.449999999999953, 18.49999999999995, 18.54999999999995, 18.59999999999995, 18.649999999999952, 18.699999999999953, 18.74999999999995, 18.79999999999995, 18.84999999999995, 18.89999999999995, 18.94999999999995, 18.99999999999995, 19.04999999999995, 19.09999999999995, 19.14999999999995, 19.19999999999995, 19.24999999999995, 19.299999999999947, 19.349999999999948, 19.39999999999995, 19.44999999999995, 19.49999999999995, 19.549999999999947, 19.599999999999948, 19.64999999999995, 19.699999999999946, 19.749999999999947, 19.799999999999947, 19.849999999999948, 19.89999999999995, 19.949999999999946, 19.999999999999947, 20.049999999999947, 20.099999999999945, 20.149999999999945, 20.199999999999946, 20.249999999999947, 20.299999999999947, 20.349999999999945, 20.399999999999945, 20.449999999999946, 20.499999999999943, 20.549999999999944, 20.599999999999945, 20.649999999999945, 20.699999999999946, 20.749999999999943, 20.799999999999944, 20.849999999999945, 20.89999999999994, 20.949999999999942, 20.999999999999943, 21.049999999999944, 21.099999999999945, 21.14999999999994, 21.199999999999942, 21.249999999999943, 21.29999999999994, 21.34999999999994, 21.39999999999994, 21.449999999999942, 21.499999999999943, 21.54999999999994, 21.59999999999994, 21.64999999999994, 21.69999999999994, 21.74999999999994, 21.79999999999994, 21.84999999999994, 21.89999999999994, 21.94999999999994, 21.99999999999994, 22.04999999999994, 22.099999999999937, 22.149999999999938, 22.19999999999994, 22.24999999999994, 22.29999999999994, 22.349999999999937, 22.399999999999938, 22.44999999999994, 22.499999999999936, 22.549999999999937, 22.599999999999937, 22.649999999999938, 22.69999999999994, 22.749999999999936, 22.799999999999937, 22.849999999999937, 22.899999999999935, 22.949999999999935, 22.999999999999936, 23.049999999999937, 23.099999999999937, 23.149999999999935, 23.199999999999935, 23.249999999999936, 23.299999999999933, 23.349999999999934, 23.399999999999935, 23.449999999999935, 23.499999999999936, 23.549999999999933, 23.599999999999934, 23.649999999999935, 23.699999999999932, 23.749999999999932, 23.799999999999933, 23.849999999999934, 23.899999999999935, 23.949999999999932, 23.999999999999932, 24.049999999999933, 24.09999999999993, 24.14999999999993, 24.199999999999932, 24.249999999999932, 24.299999999999933, 24.34999999999993, 24.39999999999993, 24.449999999999932, 24.49999999999993, 24.54999999999993, 24.59999999999993, 24.64999999999993, 24.699999999999932, 24.74999999999993, 24.79999999999993, 24.84999999999993, 24.899999999999928, 24.94999999999993, 24.99999999999993, 25.04999999999993, 25.09999999999993, 25.149999999999928, 25.19999999999993, 25.24999999999993, 25.299999999999926, 25.349999999999927, 25.399999999999928, 25.44999999999993, 25.49999999999993, 25.549999999999926, 25.599999999999927, 25.649999999999928, 25.699999999999925, 25.749999999999925, 25.799999999999926, 25.849999999999927, 25.899999999999928, 25.949999999999925, 25.999999999999925, 26.049999999999926, 26.099999999999923, 26.149999999999924, 26.199999999999925, 26.249999999999925, 26.299999999999926, 26.349999999999923, 26.399999999999924, 26.449999999999925, 26.499999999999922, 26.549999999999923, 26.599999999999923, 26.649999999999924, 26.699999999999925, 26.749999999999922, 26.799999999999923, 26.849999999999923, 26.89999999999992, 26.94999999999992, 26.999999999999922, 27.049999999999923, 27.099999999999923, 27.14999999999992, 27.19999999999992, 27.249999999999922, 27.29999999999992, 27.34999999999992, 27.39999999999992, 27.44999999999992, 27.499999999999922, 27.54999999999992, 27.59999999999992, 27.64999999999992, 27.699999999999918, 27.74999999999992, 27.79999999999992, 27.84999999999992, 27.89999999999992, 27.949999999999918, 27.99999999999992, 28.04999999999992, 28.099999999999916, 28.149999999999917, 28.199999999999918, 28.24999999999992, 28.29999999999992, 28.349999999999916, 28.399999999999917, 28.449999999999918, 28.499999999999915, 28.549999999999915, 28.599999999999916, 28.649999999999917, 28.699999999999918, 28.749999999999915, 28.799999999999915, 28.849999999999916, 28.899999999999913, 28.949999999999914, 28.999999999999915, 29.049999999999915, 29.099999999999916, 29.149999999999913, 29.199999999999914, 29.249999999999915, 29.299999999999912, 29.349999999999913, 29.399999999999913, 29.449999999999914, 29.499999999999915, 29.549999999999912, 29.599999999999913, 29.649999999999913, 29.69999999999991, 29.74999999999991, 29.799999999999912, 29.849999999999913, 29.899999999999913, 29.94999999999991, 29.99999999999991, 30.049999999999912, 30.09999999999991, 30.14999999999991, 30.19999999999991, 30.24999999999991, 30.299999999999912, 30.34999999999991, 30.39999999999991, 30.44999999999991, 30.499999999999908, 30.54999999999991, 30.59999999999991, 30.64999999999991, 30.69999999999991, 30.749999999999908, 30.79999999999991, 30.84999999999991, 30.899999999999906, 30.949999999999907, 30.999999999999908, 31.04999999999991, 31.09999999999991, 31.149999999999906, 31.199999999999907, 31.249999999999908, 31.299999999999905, 31.349999999999905, 31.399999999999906, 31.449999999999907, 31.499999999999908, 31.549999999999905, 31.599999999999905, 31.649999999999906, 31.699999999999903, 31.749999999999904, 31.799999999999905, 31.849999999999905, 31.899999999999906, 31.949999999999903, 31.999999999999904, 32.049999999999905, 32.0999999999999, 32.149999999999906, 32.1999999999999, 32.2499999999999, 32.299999999999905, 32.3499999999999, 32.399999999999906, 32.4499999999999, 32.4999999999999, 32.5499999999999, 32.5999999999999, 32.649999999999906, 32.6999999999999, 32.7499999999999, 32.7999999999999, 32.8499999999999, 32.8999999999999, 32.9499999999999, 32.9999999999999, 33.0499999999999, 33.0999999999999, 33.1499999999999, 33.1999999999999, 33.2499999999999, 33.2999999999999, 33.349999999999895, 33.3999999999999, 33.4499999999999, 33.4999999999999, 33.5499999999999, 33.599999999999895, 33.6499999999999, 33.699999999999896, 33.7499999999999, 33.7999999999999, 33.849999999999895, 33.8999999999999, 33.949999999999896, 33.9999999999999, 34.0499999999999, 34.099999999999895, 34.14999999999989, 34.199999999999896, 34.2499999999999, 34.2999999999999, 34.349999999999895, 34.39999999999989, 34.449999999999896, 34.49999999999989, 34.5499999999999, 34.599999999999895, 34.64999999999989, 34.699999999999896, 34.74999999999989, 34.7999999999999, 34.849999999999895, 34.89999999999989, 34.94999999999989, 34.99999999999989, 35.0499999999999, 35.099999999999895, 35.14999999999989, 35.19999999999989, 35.24999999999989, 35.29999999999989, 35.349999999999895, 35.39999999999989, 35.44999999999989, 35.49999999999989, 35.54999999999989, 35.599999999999895, 35.64999999999989, 35.69999999999989, 35.749999999999886, 35.79999999999989, 35.849999999999895, 35.89999999999989, 35.94999999999989, 35.999999999999886, 36.04999999999989, 36.09999999999989, 36.14999999999989, 36.19999999999989, 36.249999999999886, 36.29999999999989, 36.34999999999989, 36.39999999999989, 36.44999999999989, 36.499999999999886, 36.54999999999988, 36.59999999999989, 36.64999999999989, 36.69999999999989, 36.749999999999886, 36.79999999999988, 36.84999999999989, 36.899999999999885, 36.94999999999989, 36.999999999999886, 37.04999999999988, 37.09999999999989, 37.149999999999885, 37.19999999999989, 37.249999999999886, 37.29999999999988, 37.34999999999989, 37.399999999999885, 37.44999999999988, 37.499999999999886, 37.54999999999988, 37.59999999999988, 37.649999999999885, 37.69999999999988, 37.749999999999886, 37.79999999999988, 37.84999999999988, 37.899999999999885, 37.94999999999988, 37.999999999999886, 38.04999999999988, 38.09999999999988, 38.149999999999885, 38.19999999999988, 38.24999999999988, 38.29999999999988, 38.34999999999988, 38.39999999999988, 38.44999999999988, 38.49999999999988, 38.54999999999988, 38.59999999999988, 38.64999999999988, 38.69999999999988, 38.74999999999988, 38.79999999999988, 38.84999999999988, 38.89999999999988, 38.94999999999988, 38.99999999999988, 39.049999999999876, 39.09999999999988, 39.14999999999988, 39.199999999999875, 39.24999999999988, 39.299999999999876, 39.34999999999988, 39.39999999999988, 39.449999999999875, 39.49999999999988, 39.549999999999876, 39.59999999999988, 39.64999999999988, 39.699999999999875, 39.74999999999988, 39.799999999999876, 39.84999999999987, 39.89999999999988, 39.949999999999875], \"y\": [6.548388, 6.483552475247525, 6.419988235294118, 6.357658252427185, 6.296526923076924, 6.236560000000001, 6.177724528301888, 6.11998878504673, 6.063322222222224, 6.007695412844038, 5.953080000000002, 5.899448648648651, 5.846775000000002, 5.795033628318587, 5.744200000000003, 5.694250434782611, 5.6451620689655195, 5.596912820512824, 5.5494813559322065, 5.502847058823533, 5.456990000000003, 5.411890909090912, 5.367531147540987, 5.323892682926833, 5.280958064516133, 5.238710400000004, 5.197133333333337, 5.156211023622051, 5.1159281250000035, 5.076269767441865, 5.037221538461543, 4.998769465648859, 4.960900000000004, 4.923600000000004, 4.886856716417915, 4.850657777777783, 4.814991176470593, 4.7798452554744575, 4.745208695652178, 4.711070503597127, 4.677420000000005, 4.644246808510643, 4.611540845070428, 4.579292307692312, 4.547491666666671, 4.516129655172419, 4.485197260273978, 4.454685714285719, 4.424586486486492, 4.39489127516779, 4.365592000000005, 4.336680794701992, 4.308150000000005, 4.27999215686275, 4.2522000000000055, 4.224766451612909, 4.19768461538462, 4.170947770700642, 4.144549367088613, 4.11848301886793, 4.092742500000005, 4.06732173913044, 4.0422148148148205, 4.017415950920252, 3.9929195121951273, 3.968720000000005, 3.9448120481927766, 3.9211904191616824, 3.8978500000000054, 3.874785798816573, 3.8519929411764764, 3.8294666666666726, 3.807202325581401, 3.7851953757225485, 3.7634413793103505, 3.741936000000006, 3.7206750000000057, 3.699654237288141, 3.678869662921354, 3.6583173184357602, 3.637993333333339, 3.617893922651939, 3.5980153846153904, 3.578354098360662, 3.5589065217391362, 3.5396691891891945, 3.520638709677425, 3.5018117647058884, 3.4831851063829844, 3.464755555555561, 3.446520000000006, 3.428475392670163, 3.4106187500000056, 3.3929471502590727, 3.3754577319587686, 3.3581476923076985, 3.3410142857142913, 3.324054822335031, 3.3072666666666724, 3.2906472361809107, 3.274194000000006, 3.257904477611946, 3.241776237623768, 3.22580689655173, 3.2099941176470645, 3.194335609756103, 3.178829126213598, 3.163472463768122, 3.1482634615384675, 3.1332000000000053, 3.1182800000000057, 3.103501421800954, 3.0888622641509493, 3.0743605633802873, 3.0599943925233704, 3.0457618604651224, 3.031661111111117, 3.0176903225806506, 3.003847706422024, 2.990131506849321, 2.9765400000000057, 2.9630714932126754, 2.94972432432433, 2.936496860986553, 2.923387500000006, 2.9103946666666722, 2.8975168141592977, 2.884752422907495, 2.872100000000006, 2.8595580786026256, 2.84712521739131, 2.8348000000000058, 2.822581034482764, 2.810466952789705, 2.798456410256416, 2.786548085106389, 2.7747406779661072, 2.7630329113924104, 2.7514235294117704, 2.7399112970711355, 2.7284950000000054, 2.717173443983408, 2.70594545454546, 2.6948098765432156, 2.6837655737704975, 2.672811428571434, 2.66194634146342, 2.6511692307692365, 2.64047903225807, 2.629874698795186, 2.6193552000000055, 2.608919521912356, 2.598566666666672, 2.5882956521739184, 2.578105511811029, 2.5679952941176527, 2.5579640625000053, 2.5480108949416396, 2.538134883720936, 2.5283351351351406, 2.518610769230775, 2.508960919540235, 2.4993847328244327, 2.4898813688212984, 2.4804500000000056, 2.47108981132076, 2.4618000000000055, 2.4525797752809044, 2.4434283582089606, 2.4343449814126448, 2.4253288888888944, 2.4163793357933634, 2.4074955882352995, 2.3986769230769283, 2.389922627737232, 2.3812320000000056, 2.3726043478260923, 2.3640389891696802, 2.3555352517985666, 2.347092473118285, 2.338710000000005, 2.3303871886121046, 2.3221234042553243, 2.313918021201419, 2.3057704225352165, 2.297680000000005, 2.289646153846159, 2.2816682926829324, 2.2737458333333387, 2.265878200692047, 2.258064827586212, 2.2503051546391806, 2.2425986301369916, 2.234944709897616, 2.227342857142862, 2.2197925423728866, 2.2122932432432485, 2.2048444444444493, 2.1974456375838978, 2.1900963210702393, 2.182796000000005, 2.175544186046517, 2.1683403973509985, 2.1611841584158467, 2.154075000000005, 2.1470124590163984, 2.139996078431378, 2.133025407166129, 2.126100000000005, 2.1192194174757333, 2.1123832258064565, 2.105590996784571, 2.098842307692313, 2.0921367412140626, 2.0854738853503236, 2.0788533333333383, 2.072274683544309, 2.0657375394321815, 2.059241509433967, 2.052786206896557, 2.046371250000005, 2.039996261682248, 2.0336608695652227, 2.027364705882358, 2.0211074074074125, 2.01488861538462, 2.0087079754601276, 2.002565137614684, 1.9964597560975659, 1.990391489361707, 1.984360000000005, 1.9783649546827844, 1.9724060240963903, 1.9664828828828878, 1.960595209580843, 1.954742686567169, 1.948925000000005, 1.943141839762616, 1.937392899408289, 1.9316778761061997, 1.9259964705882402, 1.9203483870967788, 1.9147333333333378, 1.909151020408168, 1.9036011627907024, 1.8980834782608742, 1.8925976878612767, 1.8871435158501488, 1.8817206896551772, 1.876328939828085, 1.8709680000000046, 1.8656376068376117, 1.8603375000000046, 1.855067422096322, 1.8498271186440727, 1.8446163380281737, 1.8394348314606788, 1.8342823529411811, 1.8291586592178817, 1.8240635097493083, 1.8189966666666713, 1.8139578947368467, 1.8089469613259717, 1.803963636363641, 1.799007692307697, 1.7940789041095935, 1.7891770491803323, 1.7843019073569528, 1.77945326086957, 1.7746308943089475, 1.7698345945945992, 1.7650641509434009, 1.7603193548387142, 1.7556000000000045, 1.7509058823529455, 1.7462368000000046, 1.741592553191494, 1.7369729442970867, 1.7323777777777825, 1.7278068601583159, 1.7232600000000045, 1.71873700787402, 1.714237696335083, 1.7097618798955658, 1.7053093750000046, 1.7008800000000044, 1.6964735751295383, 1.6920899224806247, 1.6877288659793859, 1.6833902313624722, 1.6790738461538504, 1.6747795396419483, 1.6705071428571472, 1.6662564885496227, 1.6620274111675173, 1.6578197468354474, 1.6536333333333377, 1.649468010075571, 1.6453236180904565, 1.6412000000000044, 1.6370970000000042, 1.6330144638404032, 1.6289522388059747, 1.6249101736972749, 1.6208881188118855, 1.61688592592593, 1.6129034482758662, 1.6089405405405448, 1.6049970588235336, 1.601072860635701, 1.597167804878053, 1.593281751824822, 1.5894145631068004, 1.5855661016949194, 1.581736231884062, 1.5779248192771127, 1.574131730769235, 1.5703568345323782, 1.5666000000000044, 1.562861097852033, 1.5591400000000042, 1.5554365795724507, 1.551750710900478, 1.5480822695035503, 1.5444311320754758, 1.5407971764705923, 1.5371802816901452, 1.5335803278688567, 1.5299971962616863, 1.5264307692307733, 1.522880930232562, 1.5193475638051086, 1.5158305555555596, 1.51232979214781, 1.5088451612903269, 1.5053765517241422, 1.5019238532110133, 1.4984869565217431, 1.4950657534246614, 1.491660136674264, 1.488270000000004, 1.484895238095242, 1.481535746606339, 1.4781914221219004, 1.4748621621621663, 1.4715478651685434, 1.4682484304932775, 1.4649637583892658, 1.461693750000004, 1.4584383073496698, 1.4551973333333375, 1.4519707317073212, 1.44875840707965, 1.4455602649006662, 1.4423762114537484, 1.4392061538461578, 1.436050000000004, 1.43290765864333, 1.4297790393013141, 1.4266640522875857, 1.423562608695656, 1.4204746203904595, 1.4174000000000038, 1.4143386609071313, 1.4112905172413832, 1.4082554838709715, 1.4052334763948537, 1.4022244111349076, 1.399228205128209, 1.3962447761194068, 1.3932740425531953, 1.390315923566883, 1.3873703389830547, 1.3844372093023294, 1.3815164556962065, 1.3786080000000038, 1.3757117647058863, 1.3728276729559787, 1.3699556485355686, 1.3670956158663923, 1.3642475000000038, 1.3614112266112304, 1.3585867219917052, 1.355773913043482, 1.352972727272731, 1.3501830927835088, 1.3474049382716087, 1.3446381930184843, 1.3418827868852496, 1.3391386503067522, 1.3364057142857182, 1.333683910386969, 1.3309731707317112, 1.3282734279918902, 1.3255846153846191, 1.3229066666666704, 1.320239516129036, 1.3175830985915529, 1.3149373493975942, 1.3123022044088215, 1.3096776000000037, 1.307063473053896, 1.304459760956179, 1.301866401590461, 1.2992833333333371, 1.2967104950495085, 1.2941478260869603, 1.291595266272193, 1.2890527559055154, 1.2865202357563887, 1.283997647058827, 1.281484931506853, 1.2789820312500035, 1.2764888888888926, 1.274005447470821, 1.2715316504854406, 1.2690674418604688, 1.2666127659574504, 1.264167567567571, 1.2617317919075182, 1.2593053846153883, 1.2568882917466446, 1.2544804597701187, 1.252081835564057, 1.2496923664122173, 1.2473120000000035, 1.2449406844106499, 1.2425783681214457, 1.2402250000000035, 1.2378805293005706, 1.2355449056603809, 1.2332180790960487, 1.2309000000000034, 1.228590619136964, 1.2262898876404529, 1.2239977570093494, 1.2217141791044812, 1.219439106145255, 1.2171724907063233, 1.2149142857142892, 1.2126644444444479, 1.2104229205175636, 1.2081896678966824, 1.2059646408839815, 1.2037477941176504, 1.2015390825688108, 1.199338461538465, 1.1971458866544824, 1.1949613138686166, 1.1927846994535554, 1.1906160000000034, 1.1884551724137966, 1.1863021739130468, 1.1841569620253198, 1.182019494584841, 1.1798897297297333, 1.177767625899284, 1.1756531418312421, 1.1735462365591431, 1.1714468694096636, 1.1693550000000035, 1.1672705882352974, 1.1651935943060532, 1.1631239786856162, 1.161061702127663, 1.1590067256637202, 1.15695901060071, 1.154918518518522, 1.152885211267609, 1.1508590509666115, 1.1488400000000034, 1.1468280210157653, 1.1448230769230803, 1.1428251308900557, 1.1408341463414666, 1.138850086956525, 1.13687291666667, 1.1349025996533828, 1.132939100346024, 1.1309823834196924, 1.1290324137931067, 1.1270891566265093, 1.125152577319591, 1.1232226415094373, 1.1212993150684964, 1.1193825641025674, 1.1174723549488088, 1.1155686541737682, 1.1136714285714318, 1.1117806451612935, 1.109896271186444, 1.1080182741116784, 1.106146621621625, 1.1042812816188903, 1.1024222222222255, 1.1005694117647091, 1.0987228187919496, 1.0968824120603047, 1.09504816053512, 1.093220033388985, 1.0913980000000032, 1.0895820299500865, 1.087772093023259, 1.0859681592039834, 1.0841701986755, 1.082378181818185, 1.080592079207924, 1.0788118616145008, 1.0770375000000032, 1.0752689655172445, 1.0735062295081998, 1.0717492635024581, 1.0699980392156894, 1.068252528548127, 1.066512703583065, 1.064778536585369, 1.0630500000000032, 1.0613270664505703, 1.0596097087378673, 1.0578978998384523, 1.056191612903229, 1.0544908212560418, 1.052795498392286, 1.0511056179775313, 1.0494211538461569, 1.047742080000003, 1.046068370607032, 1.044400000000003, 1.0427369426751623, 1.041079173290941, 1.0394266666666696, 1.0377793977813026, 1.0361373417721549, 1.0345004739336523, 1.0328687697160914, 1.0312422047244125, 1.0296207547169842, 1.0280043956043987, 1.026393103448279, 1.0247868544600969, 1.023185625000003, 1.021589391575666, 1.0199981308411246, 1.0184118195956484, 1.0168304347826118, 1.015253953488375, 1.0136823529411794, 1.0121156105100495, 1.0105537037037067, 1.0089966101694945, 1.0074443076923107, 1.0058967741935516, 1.0043539877300645, 1.0028159264931116, 1.0012825688073423, 0.999753893129774, 0.9982298780487836, 0.996710502283108, 0.9951957446808541, 0.9936855842185158, 0.992180000000003, 0.9906789712556763, 0.9891824773413926, 0.9876904977375596, 0.9862030120481956, 0.9847200000000029, 0.9832414414414444, 0.9817673163418321, 0.9802976047904222, 0.9788322869955185, 0.977371343283585, 0.9759147540983636, 0.974462500000003, 0.9730145616641931, 0.9715709198813086, 0.9701315555555584, 0.9686964497041449, 0.9672655834564284, 0.9658389380531002, 0.9644164948453637, 0.9629982352941204, 0.9615841409691659, 0.9601741935483901, 0.958768374816987, 0.9573666666666696, 0.9559690510948933, 0.9545755102040845, 0.9531860262008762, 0.9518005813953518, 0.9504191582002931, 0.9490417391304377, 0.9476683068017394, 0.9462988439306387, 0.9449333333333363, 0.9435717579250749, 0.9422141007194273, 0.940860344827589, 0.9395104734576786, 0.938164469914043, 0.9368223175965695, 0.9354840000000029, 0.9341495007132695, 0.9328188034188062, 0.9314918918918947, 0.9301687500000029, 0.9288493617021305, 0.9275337110481615, 0.9262217821782206, 0.9249135593220367, 0.9236090267983104, 0.9223081690140873, 0.9210109704641378, 0.9197174157303398, 0.9184274894810687, 0.9171411764705911, 0.9158584615384644, 0.9145793296089413, 0.9133037656903792, 0.9120317548746545, 0.9107632823365813, 0.9094983333333362, 0.9082368932038862, 0.9069789473684239, 0.9057244813278035, 0.9044734806629862, 0.9032259310344856, 0.9019818181818209, 0.9007411279229739, 0.8995038461538488, 0.8982699588477393, 0.8970394520547973, 0.8958123119015077, 0.8945885245901667, 0.8933680763983655, 0.8921509536784767, 0.8909371428571456, 0.8897266304347854, 0.8885194029850774, 0.8873154471544743, 0.8861147496617077, 0.8849172972973, 0.8837230769230797, 0.8825320754717008, 0.8813442799461669, 0.8801596774193574, 0.8789782550335598, 0.8778000000000027, 0.8766248995983962, 0.8754529411764733, 0.8742841121495355, 0.8731184000000026, 0.8719557922769667, 0.8707962765957474, 0.8696398406374528, 0.8684864721485438, 0.8673361589404, 0.8661888888888916, 0.8650446499339525, 0.8639034300791583, 0.8627652173913071, 0.8616300000000026, 0.860497766097243, 0.8593685039370106, 0.858242201834865, 0.8571188481675419, 0.8559984313725517, 0.8548809399477832, 0.8537663624511108, 0.8526546875000027, 0.8515459037711339, 0.8504400000000026, 0.8493369649805473, 0.8482367875647695, 0.8471394566623571, 0.8460449612403127, 0.8449532903225833, 0.8438644329896933, 0.842778378378381, 0.8416951156812366, 0.840614634146344, 0.8395369230769256, 0.8384619718309886, 0.8373897698209745, 0.8363203065134126, 0.835253571428574, 0.83418955414013, 0.8331282442748118, 0.8320696315120737, 0.8310137055837589, 0.8299604562737669, 0.828909873417724, 0.8278619469026575, 0.8268166666666692, 0.8257740226986154, 0.8247340050377859, 0.8236966037735874, 0.8226618090452287, 0.8216296110414079, 0.8206000000000025, 0.8195729662077622]}, {\"mode\": \"lines\", \"name\": \"1298 K\", \"type\": \"scatter\", \"x\": [5.0, 5.05, 5.1, 5.1499999999999995, 5.199999999999999, 5.249999999999999, 5.299999999999999, 5.349999999999999, 5.399999999999999, 5.449999999999998, 5.499999999999998, 5.549999999999998, 5.599999999999998, 5.649999999999998, 5.6999999999999975, 5.749999999999997, 5.799999999999997, 5.849999999999997, 5.899999999999997, 5.949999999999997, 5.9999999999999964, 6.049999999999996, 6.099999999999996, 6.149999999999996, 6.199999999999996, 6.249999999999996, 6.299999999999995, 6.349999999999995, 6.399999999999995, 6.449999999999995, 6.499999999999995, 6.5499999999999945, 6.599999999999994, 6.649999999999994, 6.699999999999994, 6.749999999999994, 6.799999999999994, 6.849999999999993, 6.899999999999993, 6.949999999999993, 6.999999999999993, 7.049999999999993, 7.0999999999999925, 7.149999999999992, 7.199999999999992, 7.249999999999992, 7.299999999999992, 7.349999999999992, 7.3999999999999915, 7.449999999999991, 7.499999999999991, 7.549999999999991, 7.599999999999991, 7.649999999999991, 7.69999999999999, 7.74999999999999, 7.79999999999999, 7.84999999999999, 7.89999999999999, 7.9499999999999895, 7.999999999999989, 8.04999999999999, 8.099999999999989, 8.149999999999988, 8.199999999999989, 8.24999999999999, 8.299999999999988, 8.349999999999987, 8.399999999999988, 8.449999999999989, 8.499999999999988, 8.549999999999986, 8.599999999999987, 8.649999999999988, 8.699999999999987, 8.749999999999986, 8.799999999999986, 8.849999999999987, 8.899999999999986, 8.949999999999985, 8.999999999999986, 9.049999999999986, 9.099999999999985, 9.149999999999984, 9.199999999999985, 9.249999999999986, 9.299999999999985, 9.349999999999984, 9.399999999999984, 9.449999999999985, 9.499999999999984, 9.549999999999983, 9.599999999999984, 9.649999999999984, 9.699999999999983, 9.749999999999982, 9.799999999999983, 9.849999999999984, 9.899999999999983, 9.949999999999982, 9.999999999999982, 10.049999999999983, 10.099999999999982, 10.14999999999998, 10.199999999999982, 10.249999999999982, 10.299999999999981, 10.34999999999998, 10.39999999999998, 10.449999999999982, 10.49999999999998, 10.54999999999998, 10.59999999999998, 10.64999999999998, 10.69999999999998, 10.749999999999979, 10.79999999999998, 10.84999999999998, 10.899999999999979, 10.949999999999978, 10.999999999999979, 11.04999999999998, 11.099999999999978, 11.149999999999977, 11.199999999999978, 11.249999999999979, 11.299999999999978, 11.349999999999977, 11.399999999999977, 11.449999999999978, 11.499999999999977, 11.549999999999976, 11.599999999999977, 11.649999999999977, 11.699999999999976, 11.749999999999975, 11.799999999999976, 11.849999999999977, 11.899999999999975, 11.949999999999974, 11.999999999999975, 12.049999999999976, 12.099999999999975, 12.149999999999974, 12.199999999999974, 12.249999999999975, 12.299999999999974, 12.349999999999973, 12.399999999999974, 12.449999999999974, 12.499999999999973, 12.549999999999972, 12.599999999999973, 12.649999999999974, 12.699999999999973, 12.749999999999972, 12.799999999999972, 12.849999999999973, 12.899999999999972, 12.94999999999997, 12.999999999999972, 13.049999999999972, 13.099999999999971, 13.14999999999997, 13.19999999999997, 13.249999999999972, 13.29999999999997, 13.34999999999997, 13.39999999999997, 13.44999999999997, 13.49999999999997, 13.549999999999969, 13.59999999999997, 13.64999999999997, 13.699999999999969, 13.749999999999968, 13.799999999999969, 13.84999999999997, 13.899999999999968, 13.949999999999967, 13.999999999999968, 14.049999999999969, 14.099999999999968, 14.149999999999967, 14.199999999999967, 14.249999999999968, 14.299999999999967, 14.349999999999966, 14.399999999999967, 14.449999999999967, 14.499999999999966, 14.549999999999965, 14.599999999999966, 14.649999999999967, 14.699999999999966, 14.749999999999964, 14.799999999999965, 14.849999999999966, 14.899999999999965, 14.949999999999964, 14.999999999999964, 15.049999999999965, 15.099999999999964, 15.149999999999963, 15.199999999999964, 15.249999999999964, 15.299999999999963, 15.349999999999962, 15.399999999999963, 15.449999999999964, 15.499999999999963, 15.549999999999962, 15.599999999999962, 15.649999999999963, 15.699999999999962, 15.749999999999961, 15.799999999999962, 15.849999999999962, 15.899999999999961, 15.94999999999996, 15.999999999999961, 16.04999999999996, 16.09999999999996, 16.14999999999996, 16.19999999999996, 16.24999999999996, 16.29999999999996, 16.34999999999996, 16.39999999999996, 16.44999999999996, 16.499999999999957, 16.549999999999958, 16.59999999999996, 16.64999999999996, 16.69999999999996, 16.749999999999957, 16.799999999999958, 16.84999999999996, 16.899999999999956, 16.949999999999957, 16.999999999999957, 17.049999999999958, 17.09999999999996, 17.149999999999956, 17.199999999999957, 17.249999999999957, 17.299999999999955, 17.349999999999955, 17.399999999999956, 17.449999999999957, 17.499999999999957, 17.549999999999955, 17.599999999999955, 17.649999999999956, 17.699999999999953, 17.749999999999954, 17.799999999999955, 17.849999999999955, 17.899999999999956, 17.949999999999953, 17.999999999999954, 18.049999999999955, 18.09999999999995, 18.149999999999952, 18.199999999999953, 18.249999999999954, 18.299999999999955, 18.34999999999995, 18.399999999999952, 18.449999999999953, 18.49999999999995, 18.54999999999995, 18.59999999999995, 18.649999999999952, 18.699999999999953, 18.74999999999995, 18.79999999999995, 18.84999999999995, 18.89999999999995, 18.94999999999995, 18.99999999999995, 19.04999999999995, 19.09999999999995, 19.14999999999995, 19.19999999999995, 19.24999999999995, 19.299999999999947, 19.349999999999948, 19.39999999999995, 19.44999999999995, 19.49999999999995, 19.549999999999947, 19.599999999999948, 19.64999999999995, 19.699999999999946, 19.749999999999947, 19.799999999999947, 19.849999999999948, 19.89999999999995, 19.949999999999946, 19.999999999999947, 20.049999999999947, 20.099999999999945, 20.149999999999945, 20.199999999999946, 20.249999999999947, 20.299999999999947, 20.349999999999945, 20.399999999999945, 20.449999999999946, 20.499999999999943, 20.549999999999944, 20.599999999999945, 20.649999999999945, 20.699999999999946, 20.749999999999943, 20.799999999999944, 20.849999999999945, 20.89999999999994, 20.949999999999942, 20.999999999999943, 21.049999999999944, 21.099999999999945, 21.14999999999994, 21.199999999999942, 21.249999999999943, 21.29999999999994, 21.34999999999994, 21.39999999999994, 21.449999999999942, 21.499999999999943, 21.54999999999994, 21.59999999999994, 21.64999999999994, 21.69999999999994, 21.74999999999994, 21.79999999999994, 21.84999999999994, 21.89999999999994, 21.94999999999994, 21.99999999999994, 22.04999999999994, 22.099999999999937, 22.149999999999938, 22.19999999999994, 22.24999999999994, 22.29999999999994, 22.349999999999937, 22.399999999999938, 22.44999999999994, 22.499999999999936, 22.549999999999937, 22.599999999999937, 22.649999999999938, 22.69999999999994, 22.749999999999936, 22.799999999999937, 22.849999999999937, 22.899999999999935, 22.949999999999935, 22.999999999999936, 23.049999999999937, 23.099999999999937, 23.149999999999935, 23.199999999999935, 23.249999999999936, 23.299999999999933, 23.349999999999934, 23.399999999999935, 23.449999999999935, 23.499999999999936, 23.549999999999933, 23.599999999999934, 23.649999999999935, 23.699999999999932, 23.749999999999932, 23.799999999999933, 23.849999999999934, 23.899999999999935, 23.949999999999932, 23.999999999999932, 24.049999999999933, 24.09999999999993, 24.14999999999993, 24.199999999999932, 24.249999999999932, 24.299999999999933, 24.34999999999993, 24.39999999999993, 24.449999999999932, 24.49999999999993, 24.54999999999993, 24.59999999999993, 24.64999999999993, 24.699999999999932, 24.74999999999993, 24.79999999999993, 24.84999999999993, 24.899999999999928, 24.94999999999993, 24.99999999999993, 25.04999999999993, 25.09999999999993, 25.149999999999928, 25.19999999999993, 25.24999999999993, 25.299999999999926, 25.349999999999927, 25.399999999999928, 25.44999999999993, 25.49999999999993, 25.549999999999926, 25.599999999999927, 25.649999999999928, 25.699999999999925, 25.749999999999925, 25.799999999999926, 25.849999999999927, 25.899999999999928, 25.949999999999925, 25.999999999999925, 26.049999999999926, 26.099999999999923, 26.149999999999924, 26.199999999999925, 26.249999999999925, 26.299999999999926, 26.349999999999923, 26.399999999999924, 26.449999999999925, 26.499999999999922, 26.549999999999923, 26.599999999999923, 26.649999999999924, 26.699999999999925, 26.749999999999922, 26.799999999999923, 26.849999999999923, 26.89999999999992, 26.94999999999992, 26.999999999999922, 27.049999999999923, 27.099999999999923, 27.14999999999992, 27.19999999999992, 27.249999999999922, 27.29999999999992, 27.34999999999992, 27.39999999999992, 27.44999999999992, 27.499999999999922, 27.54999999999992, 27.59999999999992, 27.64999999999992, 27.699999999999918, 27.74999999999992, 27.79999999999992, 27.84999999999992, 27.89999999999992, 27.949999999999918, 27.99999999999992, 28.04999999999992, 28.099999999999916, 28.149999999999917, 28.199999999999918, 28.24999999999992, 28.29999999999992, 28.349999999999916, 28.399999999999917, 28.449999999999918, 28.499999999999915, 28.549999999999915, 28.599999999999916, 28.649999999999917, 28.699999999999918, 28.749999999999915, 28.799999999999915, 28.849999999999916, 28.899999999999913, 28.949999999999914, 28.999999999999915, 29.049999999999915, 29.099999999999916, 29.149999999999913, 29.199999999999914, 29.249999999999915, 29.299999999999912, 29.349999999999913, 29.399999999999913, 29.449999999999914, 29.499999999999915, 29.549999999999912, 29.599999999999913, 29.649999999999913, 29.69999999999991, 29.74999999999991, 29.799999999999912, 29.849999999999913, 29.899999999999913, 29.94999999999991, 29.99999999999991, 30.049999999999912, 30.09999999999991, 30.14999999999991, 30.19999999999991, 30.24999999999991, 30.299999999999912, 30.34999999999991, 30.39999999999991, 30.44999999999991, 30.499999999999908, 30.54999999999991, 30.59999999999991, 30.64999999999991, 30.69999999999991, 30.749999999999908, 30.79999999999991, 30.84999999999991, 30.899999999999906, 30.949999999999907, 30.999999999999908, 31.04999999999991, 31.09999999999991, 31.149999999999906, 31.199999999999907, 31.249999999999908, 31.299999999999905, 31.349999999999905, 31.399999999999906, 31.449999999999907, 31.499999999999908, 31.549999999999905, 31.599999999999905, 31.649999999999906, 31.699999999999903, 31.749999999999904, 31.799999999999905, 31.849999999999905, 31.899999999999906, 31.949999999999903, 31.999999999999904, 32.049999999999905, 32.0999999999999, 32.149999999999906, 32.1999999999999, 32.2499999999999, 32.299999999999905, 32.3499999999999, 32.399999999999906, 32.4499999999999, 32.4999999999999, 32.5499999999999, 32.5999999999999, 32.649999999999906, 32.6999999999999, 32.7499999999999, 32.7999999999999, 32.8499999999999, 32.8999999999999, 32.9499999999999, 32.9999999999999, 33.0499999999999, 33.0999999999999, 33.1499999999999, 33.1999999999999, 33.2499999999999, 33.2999999999999, 33.349999999999895, 33.3999999999999, 33.4499999999999, 33.4999999999999, 33.5499999999999, 33.599999999999895, 33.6499999999999, 33.699999999999896, 33.7499999999999, 33.7999999999999, 33.849999999999895, 33.8999999999999, 33.949999999999896, 33.9999999999999, 34.0499999999999, 34.099999999999895, 34.14999999999989, 34.199999999999896, 34.2499999999999, 34.2999999999999, 34.349999999999895, 34.39999999999989, 34.449999999999896, 34.49999999999989, 34.5499999999999, 34.599999999999895, 34.64999999999989, 34.699999999999896, 34.74999999999989, 34.7999999999999, 34.849999999999895, 34.89999999999989, 34.94999999999989, 34.99999999999989, 35.0499999999999, 35.099999999999895, 35.14999999999989, 35.19999999999989, 35.24999999999989, 35.29999999999989, 35.349999999999895, 35.39999999999989, 35.44999999999989, 35.49999999999989, 35.54999999999989, 35.599999999999895, 35.64999999999989, 35.69999999999989, 35.749999999999886, 35.79999999999989, 35.849999999999895, 35.89999999999989, 35.94999999999989, 35.999999999999886, 36.04999999999989, 36.09999999999989, 36.14999999999989, 36.19999999999989, 36.249999999999886, 36.29999999999989, 36.34999999999989, 36.39999999999989, 36.44999999999989, 36.499999999999886, 36.54999999999988, 36.59999999999989, 36.64999999999989, 36.69999999999989, 36.749999999999886, 36.79999999999988, 36.84999999999989, 36.899999999999885, 36.94999999999989, 36.999999999999886, 37.04999999999988, 37.09999999999989, 37.149999999999885, 37.19999999999989, 37.249999999999886, 37.29999999999988, 37.34999999999989, 37.399999999999885, 37.44999999999988, 37.499999999999886, 37.54999999999988, 37.59999999999988, 37.649999999999885, 37.69999999999988, 37.749999999999886, 37.79999999999988, 37.84999999999988, 37.899999999999885, 37.94999999999988, 37.999999999999886, 38.04999999999988, 38.09999999999988, 38.149999999999885, 38.19999999999988, 38.24999999999988, 38.29999999999988, 38.34999999999988, 38.39999999999988, 38.44999999999988, 38.49999999999988, 38.54999999999988, 38.59999999999988, 38.64999999999988, 38.69999999999988, 38.74999999999988, 38.79999999999988, 38.84999999999988, 38.89999999999988, 38.94999999999988, 38.99999999999988, 39.049999999999876, 39.09999999999988, 39.14999999999988, 39.199999999999875, 39.24999999999988, 39.299999999999876, 39.34999999999988, 39.39999999999988, 39.449999999999875, 39.49999999999988, 39.549999999999876, 39.59999999999988, 39.64999999999988, 39.699999999999875, 39.74999999999988, 39.799999999999876, 39.84999999999987, 39.89999999999988, 39.949999999999875], \"y\": [10.651387999999999, 10.545928712871286, 10.44253725490196, 10.341153398058252, 10.241719230769231, 10.144179047619048, 10.04847924528302, 9.954568224299067, 9.862396296296298, 9.771915596330278, 9.683080000000002, 9.595845045045047, 9.510167857142859, 9.42600707964602, 9.343322807017547, 9.262076521739134, 9.182231034482761, 9.10375042735043, 9.026600000000004, 8.9507462184874, 8.87615666666667, 8.802800000000005, 8.730645901639349, 8.659665040650411, 8.58982903225807, 8.521110400000005, 8.453482539682545, 8.386919685039375, 8.321396875000005, 8.256889922480626, 8.19337538461539, 8.130830534351151, 8.069233333333338, 8.008562406015043, 7.948797014925379, 7.889917037037043, 7.831902941176477, 7.7747357664233645, 7.718397101449282, 7.662869064748208, 7.608134285714293, 7.554175886524829, 7.50097746478874, 7.448523076923084, 7.396797222222229, 7.345784827586214, 7.29547123287672, 7.245842176870756, 7.196883783783791, 7.148582550335578, 7.100925333333341, 7.053899337748352, 7.007492105263165, 6.961691503267981, 6.916485714285722, 6.871863225806459, 6.827812820512828, 6.784323566878989, 6.74138481012659, 6.6989861635220205, 6.657117500000008, 6.615768944099386, 6.574930864197539, 6.534593865030684, 6.4947487804878135, 6.455386666666675, 6.416498795180731, 6.378076646706596, 6.340111904761913, 6.30259644970415, 6.2655223529411845, 6.228881871345038, 6.192667441860474, 6.156871676300586, 6.121487356321848, 6.086507428571438, 6.051925000000009, 6.017733333333341, 5.983925842696638, 5.950496089385484, 5.917437777777787, 5.884744751381223, 5.852410989010997, 5.820430601092905, 5.788797826086965, 5.757507027027035, 5.726552688172052, 5.695929411764715, 5.665631914893626, 5.6356550264550345, 5.605993684210535, 5.576642931937182, 5.547597916666676, 5.518853886010371, 5.490406185567019, 5.4622502564102655, 5.43438163265307, 5.406795939086303, 5.379488888888898, 5.352456281407044, 5.325694000000008, 5.299198009950257, 5.2729643564356525, 5.246989162561586, 5.221268627450989, 5.1957990243902525, 5.170576699029135, 5.14559806763286, 5.120859615384624, 5.09635789473685, 5.072089523809533, 5.048051184834132, 5.0242396226415185, 5.000651643192497, 4.977284112149541, 4.954133953488381, 4.931198148148157, 4.908473732718902, 4.885957798165147, 4.863647488584484, 4.841540000000009, 4.819632579185528, 4.797922522522532, 4.776407174887901, 4.7550839285714375, 4.733950222222231, 4.713003539823018, 4.692241409691639, 4.6716614035087805, 4.651261135371187, 4.631038260869574, 4.610990476190485, 4.591115517241388, 4.571411158798291, 4.551875213675222, 4.532505531914903, 4.513300000000009, 4.494256540084397, 4.475373109243706, 4.456647698744779, 4.438078333333342, 4.4196630705394275, 4.401400000000009, 4.383287242798363, 4.365322950819681, 4.347505306122457, 4.329832520325212, 4.312302834008106, 4.294914516129041, 4.277665863453824, 4.260555200000009, 4.243580876494033, 4.226741269841279, 4.2100347826087035, 4.193459842519694, 4.177014901960793, 4.160698437500009, 4.144508949416351, 4.1284449612403185, 4.112505019305028, 4.096687692307701, 4.080991570881234, 4.065415267175581, 4.049957414448678, 4.034616666666675, 4.019391698113216, 4.004281203007527, 3.989283895131095, 3.974398507462695, 3.9596237918215693, 3.944958518518527, 3.9304014760147687, 3.9159514705882437, 3.901607326007334, 3.887367883211687, 3.8732320000000087, 3.859198550724646, 3.845266425992788, 3.831434532374109, 3.8177017921147036, 3.804067142857151, 3.790529537366556, 3.7770879432624196, 3.7637413427561923, 3.7504887323943743, 3.7373291228070253, 3.7242615384615467, 3.711285017421611, 3.698398611111119, 3.685601384083053, 3.6728924137931114, 3.660270790378015, 3.6477356164383643, 3.6352860068259463, 3.622921088435382, 3.610640000000008, 3.5984418918918997, 3.5863259259259337, 3.574291275167793, 3.5623371237458277, 3.5504626666666748, 3.5386671096345594, 3.52694966887418, 3.5153095709571036, 3.5037460526315867, 3.4922583606557454, 3.480845751633995, 3.4695074918566857, 3.458242857142865, 3.447051132686092, 3.4359316129032336, 3.4248836012861816, 3.413906410256418, 3.402999361022372, 3.3921617834394984, 3.381393015873024, 3.370692405063299, 3.3600593059936985, 3.349493081761014, 3.3389931034482836, 3.3285587500000076, 3.318189408099696, 3.3078844720496976, 3.2976433436532586, 3.2874654320987733, 3.2773501538461614, 3.2672969325153445, 3.2573051987767663, 3.24737439024391, 3.2375039513677883, 3.2276933333333413, 3.217941993957712, 3.208249397590369, 3.1986150150150223, 3.1890383233533006, 3.179518805970157, 3.17005595238096, 3.1606492581602446, 3.151298224852079, 3.1420023598820137, 3.132761176470596, 3.1235741935483943, 3.114440935672522, 3.105360932944614, 3.09633372093024, 3.0873588405797174, 3.0784358381502965, 3.0695642651296904, 3.060743678160927, 3.0519736389684886, 3.0432537142857212, 3.0345834757834833, 3.0259625000000074, 3.0173903682719616, 3.008866666666674, 3.0003909859155002, 2.9919629213483216, 2.983582072829139, 2.9752480446927443, 2.9669604456824588, 2.958718888888896, 2.9505229916897577, 2.9423723756906153, 2.934266666666674, 2.926205494505502, 2.918188493150692, 2.910215300546455, 2.9022855585831135, 2.8943989130434855, 2.8865550135501423, 2.8787535135135207, 2.8709940700808696, 2.8632763440860285, 2.855600000000007, 2.84796470588236, 2.8403701333333404, 2.8328159574468157, 2.8253018567639328, 2.8178275132275203, 2.8103926121372105, 2.8029968421052702, 2.7956398950131303, 2.788321465968593, 2.7810412532637145, 2.7737989583333404, 2.7665942857142927, 2.7594269430051885, 2.7522966408268803, 2.745203092783512, 2.7381460154241712, 2.731125128205135, 2.7241401534526926, 2.7171908163265375, 2.7102768447837216, 2.7033979695431545, 2.6965539240506398, 2.689744444444451, 2.682969269521417, 2.676228140703524, 2.6695208020050196, 2.662847000000007, 2.6562064837905304, 2.6495990049751312, 2.643024317617873, 2.6364821782178285, 2.6299723456790187, 2.6234945812807946, 2.6170486486486553, 2.610634313725497, 2.604251344743283, 2.597899512195129, 2.5915785888077925, 2.5852883495145695, 2.579028571428578, 2.5727990338164317, 2.566599518072296, 2.5604298076923144, 2.554289688249407, 2.5481789473684278, 2.5420973747016773, 2.5360447619047686, 2.530020902612833, 2.524025592417068, 2.5180586288416142, 2.512119811320761, 2.5062089411764767, 2.5003258215962507, 2.4944702576112476, 2.488642056074773, 2.482841025641032, 2.4770669767441924, 2.471319721577733, 2.4655990740740803, 2.459904849884533, 2.454236866359454, 2.448594942528742, 2.442978899082575, 2.437388558352409, 2.4318237442922435, 2.426284282460143, 2.4207700000000063, 2.415280725623589, 2.409816289592767, 2.404376523702038, 2.3989612612612676, 2.393570337078658, 2.3882035874439524, 2.382860850111863, 2.3775419642857205, 2.3722467706013424, 2.3669751111111177, 2.361726829268299, 2.3565017699115107, 2.3512997792494543, 2.346120704845821, 2.3409643956044017, 2.335830701754392, 2.330719474835892, 2.3256305676855957, 2.3205638344226642, 2.315519130434789, 2.3104963123644313, 2.305495238095244, 2.300515766738667, 2.2955577586206957, 2.2906210752688234, 2.285705579399148, 2.2808111349036464, 2.275937606837613, 2.2710848614072554, 2.2662527659574527, 2.2614411889596666, 2.256650000000006, 2.251879069767448, 2.2471282700422, 2.2423974736842167, 2.2376865546218547, 2.2329953878406767, 2.2283238493723907, 2.223671816283931, 2.2190391666666724, 2.2144257796257856, 2.2098315352697155, 2.205256314699799, 2.200700000000006, 2.19616247422681, 2.191643621399183, 2.1871433264887123, 2.182661475409842, 2.178197955010231, 2.1737526530612303, 2.1693254582484784, 2.1649162601626073, 2.1605249492900667, 2.1561514170040543, 2.1517955555555615, 2.147457258064522, 2.143136418511072, 2.1388329317269137, 2.1345466933867794, 2.1302776000000057, 2.1260255489022013, 2.1217904382470176, 2.1175721669980176, 2.1133706349206407, 2.109185742574263, 2.1050173913043535, 2.10086548323472, 2.0967299212598483, 2.0926106090373335, 2.088507450980398, 2.084420352250495, 2.0803492187500057, 2.0762939571150154, 2.072254474708177, 2.068230679611656, 2.0642224806201606, 2.0602297872340483, 2.056252509652515, 2.052290558766865, 2.048343846153852, 2.0444122840691032, 2.0404957854406187, 2.036594263862338, 2.032707633587792, 2.028835809523815, 2.02497870722434, 2.021136242884256, 2.017308333333339, 2.013494896030251, 2.0096958490566093, 2.0059111111111165, 2.002140601503765, 1.9983842401500993, 1.9946419475655484, 1.9909136448598186, 1.9871992537313488, 1.9834986964618304, 1.9798118959107862, 1.9761387755102096, 1.9724792592592648, 1.9688332717190442, 1.9652007380073855, 1.961581583793744, 1.9579757352941232, 1.9543831192660603, 1.9508036630036685, 1.9472372943327294, 1.943683941605845, 1.9401435336976374, 1.9366160000000052, 1.9331012704174284, 1.9295992753623241, 1.9261099457504574, 1.9226332129963954, 1.9191690090090143, 1.9157172661870556, 1.912277917414727, 1.908850896057353, 1.9054361359570715, 1.9020335714285768, 1.8986431372549073, 1.8952647686832795, 1.8918984014209645, 1.888543971631211, 1.8852014159292088, 1.881870671378097, 1.8785516754850142, 1.8752443661971883, 1.871948681898072, 1.8686645614035142, 1.8653919439579738, 1.8621307692307745, 1.858880977312396, 1.8556425087108064, 1.8524153043478313, 1.8491993055555607, 1.8459944540727955, 1.8428006920415279, 1.8396179620034594, 1.8364462068965568, 1.8332853700516403, 1.8301353951890085, 1.8269962264150996, 1.8238678082191833, 1.8207500854700907, 1.8176430034129745, 1.814546507666104, 1.811460544217692, 1.8083850594227555, 1.805320000000005, 1.80226531302877, 1.799220945945951, 1.7961868465430066, 1.7931629629629682, 1.7901492436974842, 1.7871456375838977, 1.78415209380235, 1.7811685618729147, 1.7781949916527597, 1.7752313333333383, 1.772277537437609, 1.7693335548172808, 1.766399336650088, 1.7634748344370912, 1.760560000000005, 1.7576547854785527, 1.7547591433278469, 1.7518730263157944, 1.7489963875205303, 1.746129180327874, 1.7432713584288102, 1.7404228758169984, 1.7375836867863017, 1.7347537459283435, 1.7319330081300863, 1.7291214285714336, 1.7263189627228575, 1.723525566343047, 1.72074119547658, 1.717965806451618, 1.7151993558776215, 1.7124418006430917, 1.7096930979133276, 1.70695320512821, 1.7042220800000047, 1.701499680511187, 1.6987859649122856, 1.69608089171975, 1.6933844197138364, 1.6906965079365126, 1.6880171156893868, 1.6853462025316504, 1.6826837282780458, 1.6800296529968504, 1.677383937007879, 1.674746540880508, 1.672117425431716, 1.6694965517241427, 1.6668838810641675, 1.6642793750000047, 1.6616829953198176, 1.6590947040498492, 1.6565144634525708, 1.6539422360248495, 1.651377984496129, 1.64882167182663, 1.6462732612055688, 1.6437327160493873, 1.6412000000000047, 1.6386750769230818, 1.636157910906303, 1.6336484662576733, 1.631146707503833, 1.6286525993883838, 1.6261661068702338, 1.623687195121956, 1.621215829528163, 1.6187519756838953, 1.6162955993930244, 1.6138466666666713, 1.6114051437216386, 1.6089709969788566, 1.6065441930618447, 1.6041246987951852, 1.6017124812030121, 1.5993075075075123, 1.5969097451274412, 1.5945191616766514, 1.5921357249626351, 1.5897594029850792, 1.5873901639344308, 1.5850279761904809, 1.5826728083209556, 1.5803246290801234, 1.577983407407412, 1.57564911242604, 1.573321713441659, 1.5710011799410075, 1.568687481590579, 1.5663805882352986, 1.5640804698972144, 1.5617870967741982, 1.5595004392386578, 1.5572204678362618, 1.554947153284676, 1.5526804664723077, 1.5504203784570643, 1.5481668604651209, 1.5459198838896997, 1.5436794202898596, 1.5414454413892953, 1.539217919075149, 1.53699682539683, 1.5347821325648459, 1.532573812949645, 1.5303718390804641, 1.5281761836441938, 1.5259868194842452, 1.5238037195994323, 1.5216268571428615, 1.5194562054208316, 1.5172917378917423, 1.5151334281650115, 1.5129812500000046, 1.5108351773049689, 1.508695184135982, 1.5065612446959025, 1.5044333333333377, 1.5023114245416125, 1.5001954929577508, 1.4980855133614672, 1.4959814606741615, 1.4938833099579285, 1.4917910364145703, 1.4897046153846198, 1.487624022346373, 1.4855492329149274, 1.4834802228412298, 1.4814169680111309, 1.479359444444449, 1.4773076282940403, 1.4752614958448798, 1.473221023513144, 1.471186187845308, 1.4691569655172458, 1.4671333333333376, 1.465115268225589, 1.4631027472527514, 1.4610957475994555, 1.459094246575347, 1.4570982216142316, 1.4551076502732283, 1.4531225102319276, 1.4511427792915572, 1.4491684353741539, 1.4471994565217434, 1.4452358208955267, 1.443277506775072, 1.4413244925575144, 1.439376756756761, 1.4374342780027034, 1.4354970350404355, 1.4335650067294794, 1.431638172043015, 1.4297165100671183, 1.4278000000000042, 1.4258886211512758, 1.4239823529411806, 1.4220811748998707, 1.4201850666666709, 1.4182940079893518, 1.4164079787234085, 1.4145269588313454, 1.412650928381967, 1.410779867549673, 1.4089137566137608, 1.4070525759577321, 1.4051963060686057, 1.403344927536236, 1.4014984210526356, 1.399656767411305, 1.3978199475065658, 1.3959879423329005, 1.3941607329842973, 1.392338300653599, 1.390520626631858, 1.3887076923076964, 1.386899479166671, 1.3850959687906412, 1.383297142857147, 1.3815029831387848, 1.3797134715025947, 1.377928589909448, 1.3761483204134408, 1.3743726451612945, 1.3726015463917565, 1.3708350064350106, 1.3690730077120863, 1.3673155327342787, 1.3655625641025682, 1.3638140845070463, 1.3620700767263467, 1.3603305236270795, 1.3585954081632694, 1.3568647133758003, 1.3551384223918617, 1.3534165184244005, 1.3516989847715777, 1.3499858048162272, 1.3482769620253203, 1.3465724399494352, 1.344872222222226, 1.3431762925599031, 1.3414846347607094, 1.3397972327044063, 1.3381140703517629, 1.3364351317440442, 1.3347604010025103, 1.333089862327914]}],\n",
              "                        {\"height\": 500, \"template\": {\"data\": {\"bar\": [{\"error_x\": {\"color\": \"#2a3f5f\"}, \"error_y\": {\"color\": \"#2a3f5f\"}, \"marker\": {\"line\": {\"color\": \"#E5ECF6\", \"width\": 0.5}}, \"type\": \"bar\"}], \"barpolar\": [{\"marker\": {\"line\": {\"color\": \"#E5ECF6\", \"width\": 0.5}}, \"type\": \"barpolar\"}], \"carpet\": [{\"aaxis\": {\"endlinecolor\": \"#2a3f5f\", \"gridcolor\": \"white\", \"linecolor\": \"white\", \"minorgridcolor\": \"white\", \"startlinecolor\": \"#2a3f5f\"}, \"baxis\": {\"endlinecolor\": \"#2a3f5f\", \"gridcolor\": \"white\", \"linecolor\": \"white\", \"minorgridcolor\": \"white\", \"startlinecolor\": \"#2a3f5f\"}, \"type\": \"carpet\"}], \"choropleth\": [{\"colorbar\": {\"outlinewidth\": 0, \"ticks\": \"\"}, \"type\": \"choropleth\"}], \"contour\": [{\"colorbar\": {\"outlinewidth\": 0, \"ticks\": \"\"}, \"colorscale\": [[0.0, \"#0d0887\"], [0.1111111111111111, \"#46039f\"], [0.2222222222222222, \"#7201a8\"], [0.3333333333333333, \"#9c179e\"], [0.4444444444444444, \"#bd3786\"], [0.5555555555555556, \"#d8576b\"], [0.6666666666666666, \"#ed7953\"], [0.7777777777777778, \"#fb9f3a\"], [0.8888888888888888, \"#fdca26\"], [1.0, \"#f0f921\"]], \"type\": \"contour\"}], \"contourcarpet\": [{\"colorbar\": {\"outlinewidth\": 0, \"ticks\": \"\"}, \"type\": \"contourcarpet\"}], \"heatmap\": [{\"colorbar\": {\"outlinewidth\": 0, \"ticks\": \"\"}, \"colorscale\": [[0.0, \"#0d0887\"], [0.1111111111111111, \"#46039f\"], [0.2222222222222222, \"#7201a8\"], [0.3333333333333333, \"#9c179e\"], [0.4444444444444444, \"#bd3786\"], [0.5555555555555556, \"#d8576b\"], [0.6666666666666666, \"#ed7953\"], [0.7777777777777778, \"#fb9f3a\"], [0.8888888888888888, \"#fdca26\"], [1.0, \"#f0f921\"]], \"type\": \"heatmap\"}], \"heatmapgl\": [{\"colorbar\": {\"outlinewidth\": 0, \"ticks\": \"\"}, \"colorscale\": [[0.0, \"#0d0887\"], [0.1111111111111111, \"#46039f\"], [0.2222222222222222, \"#7201a8\"], [0.3333333333333333, \"#9c179e\"], [0.4444444444444444, \"#bd3786\"], [0.5555555555555556, \"#d8576b\"], [0.6666666666666666, \"#ed7953\"], [0.7777777777777778, \"#fb9f3a\"], [0.8888888888888888, \"#fdca26\"], [1.0, \"#f0f921\"]], \"type\": \"heatmapgl\"}], \"histogram\": [{\"marker\": {\"colorbar\": {\"outlinewidth\": 0, \"ticks\": \"\"}}, \"type\": \"histogram\"}], \"histogram2d\": [{\"colorbar\": {\"outlinewidth\": 0, \"ticks\": \"\"}, \"colorscale\": [[0.0, \"#0d0887\"], [0.1111111111111111, \"#46039f\"], [0.2222222222222222, \"#7201a8\"], [0.3333333333333333, \"#9c179e\"], [0.4444444444444444, \"#bd3786\"], [0.5555555555555556, \"#d8576b\"], [0.6666666666666666, \"#ed7953\"], [0.7777777777777778, \"#fb9f3a\"], [0.8888888888888888, \"#fdca26\"], [1.0, \"#f0f921\"]], \"type\": \"histogram2d\"}], \"histogram2dcontour\": [{\"colorbar\": {\"outlinewidth\": 0, \"ticks\": \"\"}, \"colorscale\": [[0.0, \"#0d0887\"], [0.1111111111111111, \"#46039f\"], [0.2222222222222222, \"#7201a8\"], [0.3333333333333333, \"#9c179e\"], [0.4444444444444444, \"#bd3786\"], [0.5555555555555556, \"#d8576b\"], [0.6666666666666666, \"#ed7953\"], [0.7777777777777778, \"#fb9f3a\"], [0.8888888888888888, \"#fdca26\"], [1.0, \"#f0f921\"]], \"type\": \"histogram2dcontour\"}], \"mesh3d\": [{\"colorbar\": {\"outlinewidth\": 0, \"ticks\": \"\"}, \"type\": \"mesh3d\"}], \"parcoords\": [{\"line\": {\"colorbar\": {\"outlinewidth\": 0, \"ticks\": \"\"}}, \"type\": \"parcoords\"}], \"pie\": [{\"automargin\": true, \"type\": \"pie\"}], \"scatter\": [{\"marker\": {\"colorbar\": {\"outlinewidth\": 0, \"ticks\": \"\"}}, \"type\": \"scatter\"}], \"scatter3d\": [{\"line\": {\"colorbar\": {\"outlinewidth\": 0, \"ticks\": \"\"}}, \"marker\": {\"colorbar\": {\"outlinewidth\": 0, \"ticks\": \"\"}}, \"type\": \"scatter3d\"}], \"scattercarpet\": [{\"marker\": {\"colorbar\": {\"outlinewidth\": 0, \"ticks\": \"\"}}, \"type\": \"scattercarpet\"}], \"scattergeo\": [{\"marker\": {\"colorbar\": {\"outlinewidth\": 0, \"ticks\": \"\"}}, \"type\": \"scattergeo\"}], \"scattergl\": [{\"marker\": {\"colorbar\": {\"outlinewidth\": 0, \"ticks\": \"\"}}, \"type\": \"scattergl\"}], \"scattermapbox\": [{\"marker\": {\"colorbar\": {\"outlinewidth\": 0, \"ticks\": \"\"}}, \"type\": \"scattermapbox\"}], \"scatterpolar\": [{\"marker\": {\"colorbar\": {\"outlinewidth\": 0, \"ticks\": \"\"}}, \"type\": \"scatterpolar\"}], \"scatterpolargl\": [{\"marker\": {\"colorbar\": {\"outlinewidth\": 0, \"ticks\": \"\"}}, \"type\": \"scatterpolargl\"}], \"scatterternary\": [{\"marker\": {\"colorbar\": {\"outlinewidth\": 0, \"ticks\": \"\"}}, \"type\": \"scatterternary\"}], \"surface\": [{\"colorbar\": {\"outlinewidth\": 0, \"ticks\": \"\"}, \"colorscale\": [[0.0, \"#0d0887\"], [0.1111111111111111, \"#46039f\"], [0.2222222222222222, \"#7201a8\"], [0.3333333333333333, \"#9c179e\"], [0.4444444444444444, \"#bd3786\"], [0.5555555555555556, \"#d8576b\"], [0.6666666666666666, \"#ed7953\"], [0.7777777777777778, \"#fb9f3a\"], [0.8888888888888888, \"#fdca26\"], [1.0, \"#f0f921\"]], \"type\": \"surface\"}], \"table\": [{\"cells\": {\"fill\": {\"color\": \"#EBF0F8\"}, \"line\": {\"color\": \"white\"}}, \"header\": {\"fill\": {\"color\": \"#C8D4E3\"}, \"line\": {\"color\": \"white\"}}, \"type\": \"table\"}]}, \"layout\": {\"annotationdefaults\": {\"arrowcolor\": \"#2a3f5f\", \"arrowhead\": 0, \"arrowwidth\": 1}, \"coloraxis\": {\"colorbar\": {\"outlinewidth\": 0, \"ticks\": \"\"}}, \"colorscale\": {\"diverging\": [[0, \"#8e0152\"], [0.1, \"#c51b7d\"], [0.2, \"#de77ae\"], [0.3, \"#f1b6da\"], [0.4, \"#fde0ef\"], [0.5, \"#f7f7f7\"], [0.6, \"#e6f5d0\"], [0.7, \"#b8e186\"], [0.8, \"#7fbc41\"], [0.9, \"#4d9221\"], [1, \"#276419\"]], \"sequential\": [[0.0, \"#0d0887\"], [0.1111111111111111, \"#46039f\"], [0.2222222222222222, \"#7201a8\"], [0.3333333333333333, \"#9c179e\"], [0.4444444444444444, \"#bd3786\"], [0.5555555555555556, \"#d8576b\"], [0.6666666666666666, \"#ed7953\"], [0.7777777777777778, \"#fb9f3a\"], [0.8888888888888888, \"#fdca26\"], [1.0, \"#f0f921\"]], \"sequentialminus\": [[0.0, \"#0d0887\"], [0.1111111111111111, \"#46039f\"], [0.2222222222222222, \"#7201a8\"], [0.3333333333333333, \"#9c179e\"], [0.4444444444444444, \"#bd3786\"], [0.5555555555555556, \"#d8576b\"], [0.6666666666666666, \"#ed7953\"], [0.7777777777777778, \"#fb9f3a\"], [0.8888888888888888, \"#fdca26\"], [1.0, \"#f0f921\"]]}, \"colorway\": [\"#636efa\", \"#EF553B\", \"#00cc96\", \"#ab63fa\", \"#FFA15A\", \"#19d3f3\", \"#FF6692\", \"#B6E880\", \"#FF97FF\", \"#FECB52\"], \"font\": {\"color\": \"#2a3f5f\"}, \"geo\": {\"bgcolor\": \"white\", \"lakecolor\": \"white\", \"landcolor\": \"#E5ECF6\", \"showlakes\": true, \"showland\": true, \"subunitcolor\": \"white\"}, \"hoverlabel\": {\"align\": \"left\"}, \"hovermode\": \"closest\", \"mapbox\": {\"style\": \"light\"}, \"paper_bgcolor\": \"white\", \"plot_bgcolor\": \"#E5ECF6\", \"polar\": {\"angularaxis\": {\"gridcolor\": \"white\", \"linecolor\": \"white\", \"ticks\": \"\"}, \"bgcolor\": \"#E5ECF6\", \"radialaxis\": {\"gridcolor\": \"white\", \"linecolor\": \"white\", \"ticks\": \"\"}}, \"scene\": {\"xaxis\": {\"backgroundcolor\": \"#E5ECF6\", \"gridcolor\": \"white\", \"gridwidth\": 2, \"linecolor\": \"white\", \"showbackground\": true, \"ticks\": \"\", \"zerolinecolor\": \"white\"}, \"yaxis\": {\"backgroundcolor\": \"#E5ECF6\", \"gridcolor\": \"white\", \"gridwidth\": 2, \"linecolor\": \"white\", \"showbackground\": true, \"ticks\": \"\", \"zerolinecolor\": \"white\"}, \"zaxis\": {\"backgroundcolor\": \"#E5ECF6\", \"gridcolor\": \"white\", \"gridwidth\": 2, \"linecolor\": \"white\", \"showbackground\": true, \"ticks\": \"\", \"zerolinecolor\": \"white\"}}, \"shapedefaults\": {\"line\": {\"color\": \"#2a3f5f\"}}, \"ternary\": {\"aaxis\": {\"gridcolor\": \"white\", \"linecolor\": \"white\", \"ticks\": \"\"}, \"baxis\": {\"gridcolor\": \"white\", \"linecolor\": \"white\", \"ticks\": \"\"}, \"bgcolor\": \"#E5ECF6\", \"caxis\": {\"gridcolor\": \"white\", \"linecolor\": \"white\", \"ticks\": \"\"}}, \"title\": {\"x\": 0.05}, \"xaxis\": {\"automargin\": true, \"gridcolor\": \"white\", \"linecolor\": \"white\", \"ticks\": \"\", \"title\": {\"standoff\": 15}, \"zerolinecolor\": \"white\", \"zerolinewidth\": 2}, \"yaxis\": {\"automargin\": true, \"gridcolor\": \"white\", \"linecolor\": \"white\", \"ticks\": \"\", \"title\": {\"standoff\": 15}, \"zerolinecolor\": \"white\", \"zerolinewidth\": 2}}}, \"title\": {\"text\": \"Curva PV\"}, \"width\": 700, \"xaxis\": {\"title\": {\"text\": \"$ {V (\\\\mathrm{L})} $\"}}, \"yaxis\": {\"title\": {\"text\": \"$ {P (\\\\mathrm{atm})} $\"}}},\n",
              "                        {\"responsive\": true}\n",
              "                    ).then(function(){\n",
              "                            \n",
              "var gd = document.getElementById('759ca30e-18b1-480e-8400-f2327489d496');\n",
              "var x = new MutationObserver(function (mutations, observer) {{\n",
              "        var display = window.getComputedStyle(gd).display;\n",
              "        if (!display || display === 'none') {{\n",
              "            console.log([gd, 'removed!']);\n",
              "            Plotly.purge(gd);\n",
              "            observer.disconnect();\n",
              "        }}\n",
              "}});\n",
              "\n",
              "// Listen for the removal of the full notebook cells\n",
              "var notebookContainer = gd.closest('#notebook-container');\n",
              "if (notebookContainer) {{\n",
              "    x.observe(notebookContainer, {childList: true});\n",
              "}}\n",
              "\n",
              "// Listen for the clearing of the current output cell\n",
              "var outputEl = gd.closest('.output');\n",
              "if (outputEl) {{\n",
              "    x.observe(outputEl, {childList: true});\n",
              "}}\n",
              "\n",
              "                        })\n",
              "                };\n",
              "                \n",
              "            </script>\n",
              "        </div>\n",
              "</body>\n",
              "</html>"
            ]
          },
          "metadata": {}
        }
      ]
    },
    {
      "cell_type": "markdown",
      "metadata": {
        "id": "vHUN33zQsXKR"
      },
      "source": [
        "*Solución ejercicio 2:* "
      ]
    },
    {
      "cell_type": "code",
      "metadata": {
        "colab": {
          "base_uri": "https://localhost:8080/"
        },
        "id": "xOwKmtJ2sYIe",
        "outputId": "399c00e9-b727-4a44-aee8-0636cdfb72e3"
      },
      "source": [
        "from sympy import * # importamos las funciones de la biblioteca sympy\n",
        "a1=4.2385\n",
        "a2=0.4901e-3\n",
        "a3=-1.789e-7\n",
        "T=symbols(\"T\")   # Definimos T como una variabke simbólica\n",
        "CpBr=8.31451*(+a1+a2*T+a3*T**2)\n",
        "print(\"cpBr(T)=\", CpBr)"
      ],
      "execution_count": null,
      "outputs": [
        {
          "output_type": "stream",
          "name": "stdout",
          "text": [
            "cpBr(T)= -1.487465839e-6*T**2 + 0.004074941351*T + 35.241050635\n"
          ]
        }
      ]
    },
    {
      "cell_type": "markdown",
      "metadata": {
        "id": "c42ujWFwseVp"
      },
      "source": [
        " \n",
        "Ahora procedemos a calcular la integral:\n",
        " \n",
        "$\\small \\Delta H_{1500} - \\Delta H_{300} =\\int_{300}^{1500}\\bar{c}_{p}dT=R[a_{1}+a_{2}T+a_{3}T^{2}] \\kern 2pc (13)$ "
      ]
    },
    {
      "cell_type": "code",
      "metadata": {
        "colab": {
          "base_uri": "https://localhost:8080/"
        },
        "id": "iTzaN2uXsjDt",
        "outputId": "0ed7a5ac-2e7c-45dd-d8b1-8f0cb3296b1b"
      },
      "source": [
        "dH=integrate(CpBr, (T, 300, 1400))\n",
        "print(\"Qp = \", round(dH/1000, 1), \"kJ/mol\")"
      ],
      "execution_count": null,
      "outputs": [
        {
          "output_type": "stream",
          "name": "stdout",
          "text": [
            "Qp =  41.2 kJ/mol\n"
          ]
        }
      ]
    },
    {
      "cell_type": "markdown",
      "metadata": {
        "id": "JmWgQibwtNOC"
      },
      "source": [
        "*Soución ejercicio 3:* Ejecuta rutina de la siguiente celda de código y escribe Br2. Como salida se presentara la ecuación polinómica del $\\small Br_{2}$."
      ]
    },
    {
      "cell_type": "code",
      "metadata": {
        "colab": {
          "base_uri": "https://localhost:8080/"
        },
        "id": "2Ej3gja8tQfx",
        "outputId": "836993ee-1e15-4eea-dfb2-fa64293cc315"
      },
      "source": [
        "from sympy import *           # importamos la biblioteca de función simbolica\n",
        "sustancia=input(\"Introduce la sustancia que necesitas: \")   # Solicitamos la sustancia\n",
        "if sustancia in dcp.values:                                 # Si la sustancia esta en el DataFrame\n",
        "    A1=float(dcp[dcp[\"Substance\"]==sustancia][\"a1\"])        # Extraemos el valor de cada constante \n",
        "    A2=float(dcp[dcp[\"Substance\"]==sustancia][\"a2\"])\n",
        "    A3=float(dcp[dcp[\"Substance\"]==sustancia][\"a3\"])\n",
        "    A4=float(dcp[dcp[\"Substance\"]==sustancia][\"a4\"])\n",
        "    T=symbols(\"T\")                                          # Definimos T como varible simbolica\n",
        "    Cp=8.314*(+A1+A2*T+A3*T**2+A4*T**3)                     # Definimos la ec. polinómica\n",
        "    print(\"Cp_sustancia=\",Cp)\n",
        "else:\n",
        "    print(\"La sustancia no se encuentra en la lista de opciones\")   # Si la susntacia no esta en el DataFrame"
      ],
      "execution_count": null,
      "outputs": [
        {
          "output_type": "stream",
          "name": "stdout",
          "text": [
            "Introduce la sustancia que necesitas: C6H6\n",
            "Cp_sustancia= -0.0001105762*T**2 + 0.324753154*T - 1.712684\n"
          ]
        }
      ]
    },
    {
      "cell_type": "markdown",
      "metadata": {
        "id": "ZMeoyof7tnv9"
      },
      "source": [
        "Ahora resolveremos la integral para obtener el valor del calor transferido en el proceso de calentamiento."
      ]
    },
    {
      "cell_type": "code",
      "metadata": {
        "colab": {
          "base_uri": "https://localhost:8080/"
        },
        "id": "iZ6CrbogvLZh",
        "outputId": "61aaa4d7-2107-41bd-8c3a-ded2da554910"
      },
      "source": [
        "dH=integrate(Cp, (T, 300, 1400))\n",
        "print(\"Qp = \", round(dH/1000, 1), \"kJ/mol\")"
      ],
      "execution_count": null,
      "outputs": [
        {
          "output_type": "stream",
          "name": "stdout",
          "text": [
            "Qp =  41.2 kJ/mol\n"
          ]
        }
      ]
    },
    {
      "cell_type": "markdown",
      "metadata": {
        "id": "VcV4fuW-vTjJ"
      },
      "source": [
        "Como puedes ver, el uso de la biblioteca `pandas` ahorra mucho tiempo para la generación de las ecuaciones polinómicas. "
      ]
    },
    {
      "cell_type": "markdown",
      "metadata": {
        "id": "CMVq_J9COpOa"
      },
      "source": [
        "---\n",
        "# ***Actividad 6: Laboratorio Virtual***\n",
        "<div align=\"justify\">En la plataforma PHET de la Universidad de Colorado se crean simulaciones interactivas gratuitas de matemáticas y ciencias. Se utilizará esta herramienta para realizar las actividades de los Laboratorios Virtuales. Puedes Obtner mas información en la pagina oficial  <a href=\"https://phet.colorado.edu/es/\"> PhET homepage</a>. A continuación te presentamos una guía paso a paso para utilizar la plataforma PhET y desarrollar las actividades virtuales.</div>\n",
        "\n",
        "###**6.1. Transformación de energía** \n",
        "\n",
        "Para desarrollar esta actividad:\n",
        "\n",
        "1.   Abre en una nueva ventana el siguiente Link: <a href=\"https://phet.colorado.edu/sims/html/energy-forms-and-changes/latest/energy-forms-and-changes_es.html\"> PhET: Formas y cambios de energía</a> \n",
        "2.   Dar clic en la opción “Sistemas”.\n",
        "3. En esta simulación encontraras una fuente de energía, un <a href=\"https://es.wikipedia.org/wiki/Generador_el%C3%A9ctrico\"> generador eléctrico</a>  conectado a un reservorio con agua.\n",
        "4. Dar clic a “símbolos de energía”.\n",
        "5. Dar clic sostenido al indicador de velocidad del cicilista y llevarlo al máximo.\n",
        "6. Observa que ocurre durante la simulación. \n",
        "7. Explique el fenómeno de transferencia de energía que permite el calentamiento del agua. \n",
        "¿Porque es neceario alimentar al ciclista para que siga haciendo ejercicio?\n",
        "8. Oprime el botón de reinicio (botón de color naranja, localizado en la parte inferior derecha). Dar clic en “símbolos de energía”\n",
        "9. Dar clic en la imagen de llave de agua. Observe que ocurre durante la simulación. Explique el fenómeno de transferencia de energía que permite el calentamiento del agua.\n",
        "10. Oprime el botón de reinicio (botón de color naranja, localizado en la parte inferior derecha). Dar clic en “símbolos de energía”.\n",
        "11. Dar clic en la imagen del sol, y dar clic en la imagen del panel solar.\n",
        "12. Dar clic en la imagen de la bombilla. Observa que ocurre durante la simulación. Explica el fenómeno de transferencia de energía que permite el encendido de la bobilla.\n",
        "13. Finalmente, dar clic sostenido en el indicador “muchas nubes”\n",
        "\n",
        "Explica que ocurre con el proceso de transferenfcia de energía cuando aparecen las nubes sobre el panel solar.\n",
        "\n",
        "###**6.2. Calor de Neutralización** \n",
        "\n",
        "ChemColective es un proyecto de la Universidad de Carnegie Mellon que ofrece recursos digitales para el aprendizaje de la química. Encontrarás mayor información de su contenido en el sitio oficial  <a href=\"http://chemcollective.org/vlabs\"> ChemCollective homepage</a>. A continuación te presentamos una guía paso a paso para utilizar la plataforma ChemColective y desarrollar las actividades virtuales.\n",
        "\n",
        "Para desarrollar esta actividad:\n",
        "\n",
        "1.   Realiza los cálculos para determinar que cantidad de volumen se requiere para preparar 100 mL de solución de NaOH con una concentración 1.0 M a partir de una solución stock 19 M.\n",
        "\n",
        "2.   Realiza los cálculos para determinar que cantidad de volumen se requiere para preparar 100 mL de solución de HCl con una concentración 1.0 M a partir de una solución stock 11.6 M.\n",
        "3.   Abre en una nueva ventana el siguiente Link:  <a href=\"http://chemcollective.org/vlabs\"> ChemCollective homepage</a>\n",
        "4.   Elige la opción de Thermochemistry (Termoquímica).\n",
        "5. Elige la opción “Camping Problem II”, luego dar clic en el ícono de GO.\n",
        "6. Dar clic en la opciónn (EN) y luego elige idioma español.\n",
        "7. Dar clic en la primera solución “$\\small H_{2}O$ desionizada”. En la pantalla del simulador aparecerá el contenedor de $\\small H_{2}O$.\n",
        "8. Dar clic en la opción “Almacén”. La lista de reactivos aparecerá nuevamente.\n",
        "9. Dar clic soluciones a granel. Luego dar clic y adicionar la solución de NaOH 19 M.\n",
        "10. Dar clic en “Material de Vidrio” y adicione un matraz aforado de 100 mL.\n",
        "11. Dar clic sostenido a la imagen del NaOH y colócala sobre el matraz.\n",
        "12. Adicione la cantidad (en mL) de NaOH calculada en el paso #1.\n",
        "13. Dar clic sostenido a la imagen del agua y colócala sobre el matraz.\n",
        "14. Adiciona el agua restante para completar el volumen del matraz (100 mL).\n",
        "15. Dar clic derecho a la imagen del matraz y cambia el nombre del matraz por (NaOH 1.0 M).\n",
        "16. Dar clic derecho a la imagen del NaOH y elige “Eliminar”.\n",
        "17. Dar clic en la opción “Almacén”. La lista de reactivos aparecerá nuevamente.\n",
        "18. Dar clic soluciones a granel. Luego dar clic y adicionar la solución de HCl 11.6 M.\n",
        "19. Dar clic en “Material de Vidrio” y luego adiciona un matraz aforado de 100 mL.\n",
        "20. Dar clic sostenido a la imagen del HCl y colócala sobre el matraz.\n",
        "21. Adicione la cantidad (en mL) de HCl calculada en el paso #2.\n",
        "22. Dar clic sostenido a la imagen del agua y colócala sobre el matraz.\n",
        "23. Adicionar el agua restante para completar el volumen del matraz (100 mL).\n",
        "24. Dar clic derecho a la imagen del matraz y cambia el nombre del matraz por (HCl 1.0 M).\n",
        "25. Dar clic derecho a la imagen del HCl y elige “Eliminar”.\n",
        "26. Dar clic en la opción “Almacén”. Elige \"Material de Vidrio\", ahora la opción \"Otros\".\n",
        "27. Dar clic en “Frasco Aislado”.\n",
        "28. Dar click derecho sobre el Frasco Aislado y cambia el nombre del Frasco aislado, coloca (calorímetro).\n",
        "29. Dar clic sostenido sobre la solución de NaOH 1.0 M y colócala sobe el calorímetro.\n",
        "30. Adiciona los 100 mL de solución de NaOH.\n",
        "31. Fíjete en el indicador de temperatura, anota la temperatura de la solución.\n",
        "32. Dar clic sostenido sobre la solución de HCl 1.0 M y colócala sobe el calorímetro.\n",
        "33. Adiciona los 100 mL de solución de HCl.\n",
        "34. Fíjese en el indicador de temperatura y anota la temperatura final del proceso de neutralización.\n",
        "\n",
        "###**6.3. Calor de Neutralización II** \n",
        "\n",
        "1. Realiza los cálculos para determinar que cantidad de volumen se requiere para preparar 100 mL de solución de NaOH con una concentración 10 M a partir de una solución stock 19 M.\n",
        "2. Realiza los cálculos para determinar que cantidad de volumen se requiere para preparar 100 mL de solución de HCl con una concentración 10 M a partir de una solución stock 11.6 M.\n",
        "3. Repite los pasos (#3 hasta el #34) de la sección anterior (Sección 5.2) utilizando las dos nuevas soluciones preparadas en los pasos 1 y 2 de esta sección.\n",
        "\n",
        "**Responde:**\n",
        "*  ¿Que ocurrió con la temperatura del sistema de reacción después de proceso de mezcla?\n",
        "*  Calcula el valor del calor transferido para la reacción en los dos ensayos realizados.\n",
        "*  Existe diferencia entre los dos valores obtenidos Justifique el resultado obtenido.\n",
        "*  Calcula el valor de la entalpia de neutralización para los dos ensayos realizados.\n",
        "*  Compara el resultado obtenido con la entalpia de neutralización reportada en literatura.\n",
        "\n",
        "\n",
        "\n",
        "\n"
      ]
    },
    {
      "cell_type": "markdown",
      "metadata": {
        "id": "nWn2COSXUCaI"
      },
      "source": [
        "---\n",
        "#***Enlaces Recomendados***\n",
        "\n",
        "*  Cursos-Python: <a href=\"https://github.com/institutohumai/cursos-python/blob/master/AnalisisDeDatos/1_Indexing/Indexing-solucion.ipynb\">Analisis de datos con Pandas</a>\n",
        "\n",
        "*  Aprende con ALF. Librería Pandas: <a href=\"https://aprendeconalf.es/docencia/python/manual/pandas/\">Librería Pandas</a>\n",
        "---"
      ]
    },
    {
      "cell_type": "markdown",
      "metadata": {
        "id": "oLAF0l4d_Ysf"
      },
      "source": [
        "\n",
        "#***Referencias***\n",
        "\n",
        "*  J. Lim, G. Wittreich, D. Vlachos. A phyton Multiscale Termochemistry Toolbox (pMuTT) for thermochemical and kinetic parameters stimations. $\\small Comp. Phy. Comm. 2020, 247, 106864.$ <a href=\"https://www.sciencedirect.com/science/article/abs/pii/S0010465519302516\">doi.org/10.1016/j.cpc.2019.106864</a>\n",
        "\n",
        "*  G. W. Castellan. Physical Chemsitry. Ed. 3rd. Addison-Wesley. 1983. p. 190.\n",
        "\n",
        "*  I. N. Levine. Fisicoquímica. Ed. 5. McGRaw Hill. 2002. p. 184.\n",
        "\n",
        "*  Universidad de Colorado. PhET:Simulaciones Interactivas. <a href=\"https://phet.colorado.edu/\"> Homepage</a>. Fecha de Consulta. Agosto 2021.\n",
        "\n",
        "*  Universidad de Carnegie Mellon. ChemCollective<a href=\"http://chemcollective.org/vlabs\"> Homepage</a>. Fecha de Consulta. Agosto 2021.\n",
        "\n",
        "---"
      ]
    }
  ]
}