{
  "nbformat": 4,
  "nbformat_minor": 0,
  "metadata": {
    "colab": {
      "name": "Sesión7_Segunda_Ley.ipynb",
      "provenance": [],
      "collapsed_sections": [],
      "authorship_tag": "ABX9TyNc5ftz2qhJvZgHIckchiTC",
      "include_colab_link": true
    },
    "kernelspec": {
      "name": "python3",
      "display_name": "Python 3"
    },
    "language_info": {
      "name": "python"
    }
  },
  "cells": [
    {
      "cell_type": "markdown",
      "metadata": {
        "id": "view-in-github",
        "colab_type": "text"
      },
      "source": [
        "<a href=\"https://colab.research.google.com/github/wavallejol/ColabChem/blob/main/Sesi%C3%B3n7_Segunda_Ley.ipynb\" target=\"_parent\"><img src=\"https://colab.research.google.com/assets/colab-badge.svg\" alt=\"Open In Colab\"/></a>"
      ]
    },
    {
      "cell_type": "markdown",
      "metadata": {
        "id": "_KFNBX1kPBvV"
      },
      "source": [
        "# **Sesión 7. Segunda Ley**\n",
        "***William Vallejo***\n",
        "# **Objetivo**\n",
        " \n",
        "1.   Realizar cálculos de $\\small \\Delta S$ en procesos termodinámicos de gases ideales utilizando Google Colabs.\n",
        "2.   Realizar cálculos de $\\small \\Delta S$ la biblioteca `pandas`.\n",
        "---"
      ]
    },
    {
      "cell_type": "markdown",
      "metadata": {
        "id": "4f2sRuCkQsof"
      },
      "source": [
        " \n",
        "# ***Introducción***\n",
        "---\n",
        " \n",
        "Para sistemas macroscópicos, la  <a href=\"https://es.wikipedia.org/wiki/Segundo_principio_de_la_termodin%C3%A1mica\"> segunda ley de la termodinámica</a> establece que la entropía es una función de estado extensiva que depende de la temperatura, la presión y el volúmen, cuyo cambio en un sistema cerrado sometido a un proceso termodinámico reversible es igual a la relación del calor transferido y la temperatura del proceso:\n",
        " \n",
        "$\\small  dS=dq_{rev}/T \\kern 2pc(1)$\n",
        " \n",
        "De acuerdo a la primera ley de la termodinámica, para el cambio de estado de un gas ideal se cumple:\n",
        " \n",
        "$\\small dU=dq-dW \\kern 2pc\\small (2)$\n",
        " \n",
        "Si el proceso ocurre de manera reversible podemos reordenar la ec. 2:\n",
        " \n",
        "$\\small d q_{rev}=dU+PdV \\kern 2pc (3)$\n",
        " \n",
        "Resolviendo la ec. 3 obtenemos:\n",
        " \n",
        "$\\small dq_{rev}=n\\bar c_{v}dT+nRTdV/V \\kern 2pc(4)$\n",
        " \n",
        "Si dividimos la ec. 4 por T:\n",
        " \n",
        "$\\small dq_{rev}/T=n\\bar c_{v}dT/T+nRdV/V \\kern 2pc(5)$\n",
        " \n",
        "Reemplazando ec.1 en ec. 5, obtenemos:\n",
        " \n",
        "$\\small dS=n\\bar c_{v}dT/T+nRdV/V \\kern 2pc(6)$ \n",
        " \n",
        "Resolviendo la ec. 6, obtenemos:\n",
        " \n",
        "$\\small \\Delta S=n\\bar c_{v}Ln(T_{2}/T_{1})+nRLn(V_{2}/V_{1}) \\kern 2pc(7)$\n",
        " \n",
        "De manera análoga podemos obtener una expresión para $\\small \\Delta S$ en función de la presión y la temperatura:\n",
        " \n",
        "$\\small \\Delta S=n\\bar c_{p}Ln(T_{2}/T_{1})-nRLn(P_{2}/P_{1}) \\kern 2pc(8)$\n",
        " \n",
        "Si el gas es sometido a una  transformación cíclica reversible, el valor de $\\Delta S$ para el ciclo será igual a:\n",
        " \n",
        "$\\small \\oint_{}^{}d S= dq_{rev}/T=0 \\kern 2pc (9)$\n",
        " \n",
        "Sin embargo, si el ciclo incluye al menos una etapa irreversible, la ec. 8 ya no es válida. En un proceso irreversible se cumple:\n",
        " \n",
        "$\\small \\oint_{}^{}dq_{rev}/T \\leq 0 \\kern 2pc (10)$\n",
        " \n",
        "La ec. 10 es conocida como la desigualdad de Clausius y deja en evidencia que en cualquier proceso irreversible, siempre se crea un exceso de entropía. La integral será negativa para procesos irreversibles, será igual a cero para procesos reversibles y será positiva para procesos imposibles desde el punto de vista termodinámico. Si un proceso irreversible ocurre en un sistema aislado la entropía del sistema siempre aumenta, nunca disminuye."
      ]
    },
    {
      "cell_type": "markdown",
      "metadata": {
        "id": "acwd2MrajO2m"
      },
      "source": [
        "#***Actividad 1: Cambio de estado de un gas***\n",
        "Un mol de un gas ideal realiza  un cambio de estado termodinámico: (i) una expansión isotérmica a 298 K desde 5 L hasta 40 L. Grafíca el diagrama SV del proceso.\n",
        " (ii) un calentamiento isocórico desde 298 K hasta 1298 K. Grafíca el diagrama ST del proceso.\n",
        " \n",
        "Para resolver el punto (1) de éste ejercicio utilizarémos la rutina mostrada en la siguiente linea de código."
      ]
    },
    {
      "cell_type": "code",
      "metadata": {
        "colab": {
          "base_uri": "https://localhost:8080/",
          "height": 233
        },
        "id": "WGSYcCXJaMJB",
        "outputId": "89b3c2f4-5125-4178-e276-477d663fcad6"
      },
      "source": [
        "import numpy as np \n",
        "import matplotlib.pyplot as plt # importación de bibliotecas\n",
        " \n",
        "V= np.arange(5,40,0.5)       # definimos el rango de dstos del Volumen\n",
        "S=8.314*np.log(V/5)          # determinamos la presión para cada valor de volumen \n",
        " \n",
        "plt.plot(V,S, \"r\", label=\"298K\")    # definimos los parametros para graficar la cruva PV\n",
        "plt.ylabel('S(J/K)')\n",
        "plt.xlabel('V(L)')\n",
        "plt.legend()\n",
        "plt.show()"
      ],
      "execution_count": null,
      "outputs": [
        {
          "output_type": "display_data",
          "data": {
            "image/png": "[encoded data removed]",
            "text/plain": [
              "<Figure size 432x288 with 1 Axes>"
            ]
          },
          "metadata": {
            "needs_background": "light"
          }
        }
      ]
    },
    {
      "cell_type": "markdown",
      "metadata": {
        "id": "b5X6lpa8UENO"
      },
      "source": [
        "Ahora es tu turno 👊 . En la siguiente linea de código escribe la rutina para responder la parte (ii) de la pregunta."
      ]
    },
    {
      "cell_type": "code",
      "metadata": {
        "id": "13QoBi8NUlTE"
      },
      "source": [
        ""
      ],
      "execution_count": null,
      "outputs": []
    },
    {
      "cell_type": "markdown",
      "metadata": {
        "id": "jQn4YDXqMzTg"
      },
      "source": [
        "# ***Actividad 2: Máquinas térmicas*** \n",
        " \n",
        "Las máquinas térmicas son dispositivos que pueden transformar parte de la energía molécular de las moléculas pertenecientes a un fluido en energía mecánica macroscópica (trabajo). Por lo general el proceso se realiza de manera contínua dentro de un ciclo termodinámico. El fluido absorbe energía en forma de calor desde una fuente de alta temperatura, parte de esta energía es transformada en trabajo por la máquina térmica y el resto de la energía en forma de calor es desechada a un reservorio de baja temperatura (sumidero). El <a href=\"https://es.wikipedia.org/wiki/Ciclo_de_Carnot\"> ciclo de Carnot</a> establece el límite de eficiencia para una máquina térmica que opere en un ciclo termodinámico reversible:\n",
        " \n",
        "$\\eta =1- \\frac{T_{frio}}{T_{caliente}} \\kern 2pc(11)$ \n",
        " \n",
        "Donde $\\small \\eta$ representa la eficiencia de la máquina térmica, $T_{caliente}$ la temperatura de la fuente de elevada temperatura, y $T_{frio}$ la temperatura del sumidero. \n",
        "\n",
        "El principio de Carnot establece: \n",
        "\"Ninguna maquina térmica puede ser más eficiente que una máquina térmica reversible, cuando ambas máquinas trabajan en el mismo par de temperaturas\" (Levine, 2002).\n",
        " \n",
        "Bajo condiciones de operación reales ninguna máquina será más eficiente que una máquina de carnot.\n",
        " \n",
        "En la siguiente linea de código escribe la rutina para obtener una gráfica que muestre la eficiencia de una máquina de carnot en función de la diferencia de temperatura del foco frío y el foco caliente. Manteniendo fijo el valor de la tempereratura del foco frío en 298 K y variando el valor del foco caliente hasta 1500 K.  ¿Que significado tiene la tendencia de la curva obtenida?"
      ]
    },
    {
      "cell_type": "code",
      "metadata": {
        "id": "_W3DVN2vxxIa"
      },
      "source": [
        ""
      ],
      "execution_count": null,
      "outputs": []
    },
    {
      "cell_type": "markdown",
      "metadata": {
        "id": "RLCM0_cpkFxG"
      },
      "source": [
        "# ***Actividad 3: Calor específico en función de la temperatura*** \n",
        " \n",
        "Para un proceso a volúmen constante la ec. 6 se transforma en:\n",
        " \n",
        "$\\small dS=\\bar c_{v}dT/T \\kern 2pc(12)$ \n",
        " \n",
        "Teniendo en cuenta que $\\small \\bar c_{v}/T$ siempre es positivo, la ec. 12 indíca que la entropía aumenta si la temperatura se incrementa. Para un cambio finito de temperatura a volúmen constante:\n",
        " \n",
        "$\\small \\Delta S=  \\int^{T2}_{T1} \\bar c_{v}dT/T \\kern 2pc(13)$ \n",
        " \n",
        "Donde $\\small \\bar c_{v}$ representa la capacidad calorífica a volúmen constante. Si la capacidad calorífica del sistema es una constante en el intervalo de temperaturas que vamos a trabajar, la ecuación 7 se reduce a:\n",
        " \n",
        "$\\small \\Delta S=n \\bar c_{v}Ln (T_{2}/T_{1}) \\kern 2pc (14)$\n",
        " \n",
        "De manera análoga para un proceso a presión constate, la ecuación 7 se de reduce a:\n",
        " \n",
        "$\\small \\Delta S=n \\bar c_{p}Ln (T_{2}/T_{1}) \\kern 2pc (15)$\n",
        " \n",
        "Las ecuaciones 14 y 15 son las ecuaciones de entropía en sus versiones reducidas, asumiendo que la capacidad calorífica no depende de la temperatura. Sin embargo, esta es una función de estado que depende de la temperatura. Para describir el comportamiento del $  \\bar c_{p}$ en función de la temperatura, se pueden utilizar series polinómicas: (Fuente: <a href=\"https://www.sciencedirect.com/science/article/abs/pii/S0010465519302516\"> sciencedirect.com  </a>)\n",
        " \n",
        "$\\small \\frac{\\bar{c}_{p}(T)}{R}=a_{1}+a_{2}T+a_{3}T^{2}+a_{4}T^{3}+a_{5}T^{4}  \\kern 2pc (16)$ \n",
        " \n",
        " \n",
        "Los coeficientes se determinan mediante ajuste de los datos experimentales de $\\bar c_{p}$ (puedes revisar un ejercicio en la <a href=\"https://github.com/wavallejol/ColabChem/blob/main/Sesi%C3%B3n5_Primera_Ley.ipynb\"> sesión 5</a>). Las ecuaciones polinomiales sólo serán válidas en el intervalo de temperaturas de los datos utilizados para determinar el valor de los coeficientes.\n",
        " \n",
        "Ahora, realicemos el siguiente ejercicio. En la tabla 1 se muestran los valores de $\\bar c_{p}^{o}$ en fución de la temperatura para el $\\small CO_{2(g)}$, con la información suministrada: (i) obtenga la gráfica de $\\small CO_{2(g)}$ vs $\\small T$. (ii) Realice la regresión polinómica de los datos y obtenga la ecuación respectiva. (iii) A partir de la ecuación polinómica obtenida, determine cúal es valor de $\\small \\Delta S$ para el proceso de calentamiento de 1 mol de $\\small CO_{2(g)}$ desde 300 K hasta 1400K.\n",
        " \n",
        " \n",
        "<div align = \"center\"> Tabla 1. Valores de capacidad calorifica en funcion de la temperatura para  $\\small CO_{2(g)}$, en el rango de temperaturas 300 K - 1500 K. Fuente: (Levine, 2002).</div>\n",
        " \n",
        "$\\small T(K)$|$\\small 298.15$|$\\small 400$|$\\small 500$|$\\small 600$ | $\\small 700$ | $\\small 800$ | $\\small 900$ |$\\small 1000$ |$\\small 1100$ |$\\small 1200$ |$\\small 1300$ | $\\small 1400$ | $\\small 1500$ \n",
        "-------------------|------------------|------------------|------------------|------------------|------------------|------------------|------------------|------------------|------------------|------------------|------------------|------------------|------------------\n",
        "$\\small \\bar c_{p}$ | $\\small 29.143$ | $\\small 29.342$ | $\\small 29.794$ | $\\small 30.443$ | $\\small 31.171$ | $\\small 31.899$ | $\\small 32.577$ | $\\small 33.183$| $\\small 33.71$| $\\small 34.175$| $\\small 34.572$| $\\small 34.92$ |  $\\small 35.217$\n",
        " \n",
        "Para resolver este ejercicio, realizarémos la regresión polinómica  utilizando la función `polyfit` de la biblioteca `numpy`, podrás encontrar información sobre esta función en este link <a href=\"https://numpy.org/doc/stable/reference/generated/numpy.polyfit.html\"> polyfit</a>.  La ecuación polínomica tendrá la forma:\n",
        " \n",
        "$\\small y=a_{1}x^{n}+a_{2}x^{n-1}+a_{3}x^{n-2}+... a_{n+1} \\kern 2pc (17)$ \n",
        " \n",
        "El valor de $\\small n$ dependerá del grado de ecuación polinómica que definamos para ajustar los datos experimentales. La función `polyfit` entrega como salida una lista con los coeficientes de la ecuación polinómica de grado  $\\small n$ que mejor se ajusta a los datos experimentales (regresión por mínimos cuadrados), presentando siempre los coeficientes de la función polinómica de manera descendente. En la siguiente celda de código utilizarémos la función `polyfit` para ajustar los datos de la tabla 1 a una ecuación polinómica cúbica y luego presentaremos como sálida los coficientes de la función."
      ]
    },
    {
      "cell_type": "code",
      "metadata": {
        "colab": {
          "base_uri": "https://localhost:8080/"
        },
        "id": "AeUG48F5zNFQ",
        "outputId": "b3124312-6b63-4340-9b0a-c67a2b1a09dd"
      },
      "source": [
        "import numpy as np\n",
        "import matplotlib.pyplot as plt\n",
        "T=np.array([298.15, 400, 500, 600, 700, 800, 900, 1000, 1100, 1200, 1300, 1400, 1500])   # K\n",
        "cp=np.array([29.143, 29.342, 29.794, 30.443, 31.171, 31.899, 32.577, 33.183, 33.71, 34.175, 34.572, 34.92, 35.217]) # J/molK\n",
        "z=np.polyfit(T,cp,3)        #Realizamos ajuste de los datos a una ecuación de grado 3\n",
        "z"
      ],
      "execution_count": null,
      "outputs": [
        {
          "output_type": "execute_result",
          "data": {
            "text/plain": [
              "array([-4.28831954e-09,  1.04621692e-05, -1.79168284e-03,  2.87400184e+01])"
            ]
          },
          "metadata": {},
          "execution_count": 2
        }
      ]
    },
    {
      "cell_type": "code",
      "metadata": {
        "colab": {
          "base_uri": "https://localhost:8080/"
        },
        "id": "XltIHdAt1qkW",
        "outputId": "0b111d4c-d3b5-40bd-8a33-1af7ddccf4c1"
      },
      "source": [
        "from sympy import *       # importamos las funciones de la biblioteca sympy\n",
        "T=symbols(\"T\")            # Definimos T como una variabke simbólica\n",
        "Cp=z[0]*T**3+z[1]*T**2+z[2]*T+z[3]\n",
        "print(\"Cp=\",Cp)"
      ],
      "execution_count": null,
      "outputs": [
        {
          "output_type": "stream",
          "name": "stdout",
          "text": [
            "Cp= -4.28831953676366e-9*T**3 + 1.04621692260791e-5*T**2 - 0.00179168283644935*T + 28.7400184193924\n"
          ]
        }
      ]
    },
    {
      "cell_type": "markdown",
      "metadata": {
        "id": "HXuNlth02ih0"
      },
      "source": [
        "Con la ecuación obtenida podémos realizar el cálculo de la entropía para el ejercicio: \n",
        " \n",
        "$\\small \\Delta S^{o} =\\int_{300}^{1400}\\bar{c}_{p}dT/T \\kern 2pc (18)$\n",
        "\n",
        "En las siguientes celdas de código, escribe la rutina para obtener la gráfica de los datos y la ecuación polinómica cúbica. Finalmente realiza el cálculo de la integral y obten el valor de la entropía a 1500 K. Si es requerido, puedes revisar la información de la  <a href=\"https://github.com/wavallejol/ColabChem/blob/main/Sesi%C3%B3n2_Intro_B.ipynb\"> sesión 2</a> y la  <a href=\"https://github.com/wavallejol/ColabChem/blob/main/Sesi%C3%B3n5_Primera_Ley.ipynb\"> sesión 5</a>. "
      ]
    },
    {
      "cell_type": "code",
      "metadata": {
        "colab": {
          "base_uri": "https://localhost:8080/"
        },
        "id": "ErY7wi6h3Gpv",
        "outputId": "618bbba5-6ed3-4a8a-c97d-48dedacc5900"
      },
      "source": [
        "dS=integrate(Cp/T, (T, 298.15, 1500)) # defimimos parametros función de integración\n",
        "print(\"dS = \", round(dS, 3), \"J/molK\")"
      ],
      "execution_count": null,
      "outputs": [
        {
          "output_type": "stream",
          "name": "stdout",
          "text": [
            "dS =  50.770 J/molK\n"
          ]
        }
      ]
    },
    {
      "cell_type": "code",
      "metadata": {
        "id": "jp_cnv2jjPH8"
      },
      "source": [
        ""
      ],
      "execution_count": null,
      "outputs": []
    },
    {
      "cell_type": "markdown",
      "metadata": {
        "id": "efFo-qcgu0cY"
      },
      "source": [
        "# ***Actividad 4: Aplicación biblioteca Pandas*** \n",
        " \n",
        "En esta actividad utilizaremos la biblioteca `pandas` para importar un dataframe con los valores de los coeficientes de la ecuación polinómica de $\\small \\bar c_{p}(T)$ para diferentes sustancias químicas.  Los dataframes son tablas con diferente tipo de información y `pandas` permite manipular y analizar los datos contenidos en este tipo de documentos.<a href=\"hhttps://pandas.pydata.org/docs/user_guide/index.html#user-guide\">`pandas`</a> (Panel Data Analysis) es una de las bibliotecas más utilzadas para análisis de datos. Puedes revisar un tutorial sobre  <a href=\"https://github.com/institutohumai/cursos-python/blob/master/AnalisisDeDatos/1_Indexing/Indexing-solucion.ipynb\">AnalisisDedatos</a>. En este ejercicio utilizarémos un archivo (cp_data.csv) para extraer las constantes de la ecuación polinómica de $\\small \\bar c_{p}(T)$ para diferentes sustancias químicas. \n",
        "\n",
        "Lo primero que haremos será importar la tabla de datos con los valores de los coeficientes de nuestro repositorio. Luego crearemos el dataframe para poder operarlos con la biblioteca `pandas`.\n"
      ]
    },
    {
      "cell_type": "code",
      "metadata": {
        "id": "Q09XRR0ryu9s"
      },
      "source": [
        "import pandas as pd\n",
        "import numpy as np\n",
        "cp=pd.read_csv(\"https://raw.githubusercontent.com/wavallejol/ColabChem/main/cp_data.csv\")\n",
        "dcp=pd.DataFrame(cp)"
      ],
      "execution_count": 1,
      "outputs": []
    },
    {
      "cell_type": "markdown",
      "metadata": {
        "id": "3amaEr3Awjxs"
      },
      "source": [
        "Despues de crear el dataframe podemos verificar que tipo de información tenemos: (i)  `dcp.shape` nos mostrada como sálida las dimensiones del dataframe. (ii) `dcp.size` nos mostrada como sálida el número total de elementos (datos) que contiene el dataframe. (iii) `dcp.columns` nos mostrada como sálida el titulo de las columnas el dataframe. (iv) `dcp.columns` nos mostrada como sálida el titulo de las filas el dataframe."
      ]
    },
    {
      "cell_type": "code",
      "metadata": {
        "id": "sNoWxuSYyZ94"
      },
      "source": [
        "print(\"Numero total de elementos=\", dcp.size)\n",
        "print(\"(#filas#,#Columnas)=\", dcp.shape)\n",
        "print(\"Nombre columnas:\", dcp.columns)\n",
        "print(\"Numero filas:\", dcp.index)"
      ],
      "execution_count": null,
      "outputs": []
    },
    {
      "cell_type": "markdown",
      "metadata": {
        "id": "nDZR0diU4nt2"
      },
      "source": [
        "Finalmente, podemos ver todos los datos del dataframe. Ejecuta la rutina que se encuentra en la siguiente celda de código. Como sálida se mostrará una tabla (dataframe) con los valores de los coeficientes de la ecuación polinómica de la capacidad calorífica en el intervalo de 300 K - 1500 K. Fuente, (Castellan, 1983). Los coeficientes corresponden a la  ecuación:\n",
        "\n",
        "$\\small \\frac{\\bar{c}_{p}(T)}{R}=a_{1}+a_{2}T+a_{3}T^{2}+a_{4}T^{3} \\kern 2pc (19)$ "
      ]
    },
    {
      "cell_type": "code",
      "metadata": {
        "id": "u3Ep1MXL5jIN"
      },
      "source": [
        "dcp"
      ],
      "execution_count": null,
      "outputs": []
    },
    {
      "cell_type": "markdown",
      "metadata": {
        "id": "PT7GdKcid-RF"
      },
      "source": [
        "Para obtener la ecuación polinómica del $\\bar{c}_{p}(T)$ de alguna de las  sustancias listada en  tabla anterior, basta con indicar el nombre de la sustancia que necesitas (Debes escribirla tal cual como aparece en la tabla anteior). La ecuaicón que se generará tendrá la forma:\n",
        "\n",
        "$\\small \\bar{c}_{p}(T)=R[a_{1}+a_{2}T+a_{3}T^{2}+a_{4}T^{3}] \\kern 2pc (20)$ \n",
        "\n",
        "Ejecuta la siguiente celda de código e introoduce la sustancia que deseas y luego presiona enter. "
      ]
    },
    {
      "cell_type": "code",
      "metadata": {
        "id": "m9AV4_kAz028"
      },
      "source": [
        "from sympy import *\n",
        "sustancia=input(\"Introduce la sustancia que necesitas: \")\n",
        "if sustancia in dcp.values:\n",
        "    A1=float(dcp[dcp[\"Sustancia\"]==sustancia][\"a1\"])\n",
        "    A2=float(dcp[dcp[\"Sustancia\"]==sustancia][\"a2\"])\n",
        "    A3=float(dcp[dcp[\"Sustancia\"]==sustancia][\"a3\"])\n",
        "    A4=float(dcp[dcp[\"Sustancia\"]==sustancia][\"a4\"])\n",
        "    T=symbols(\"T\")\n",
        "    Cp=8.314*(+A1+A2*T+A3*T**2+A4*T**3)\n",
        "    print(\"Cp=\",Cp)\n",
        "else:\n",
        "    print(\"La sustancia no se encuentra en la lista de opciones\")"
      ],
      "execution_count": null,
      "outputs": []
    },
    {
      "cell_type": "markdown",
      "metadata": {
        "id": "DVG_yygTyied"
      },
      "source": [
        "Ahora es tu turno. A partir de la información presentada en la tabla anterior: (i) En la siguiente celda de código, escribe la rutina para obtener en una misma gráfica el valor de $\\small \\bar c_{p}$ en función de la temperatura para el calentamiento desde 300 K hasta 1500 K de $\\small H_{2(g)}$, $\\small C_{3}H_{8}$ y el  $\\small C_{(grafito)}$. (ii) Determina el valor de $\\small \\Delta S$ para el calentamiento de cada gas. Puedes revisar  <a href=\"https://github.com/wavallejol/ColabChem/blob/main/Sesi%C3%B3n2_Intro_B.ipynb\">la sesión 2</a> para verificar la información sobre el trazado de graficas y la  <a href=\"https://github.com/wavallejol/ColabChem/blob/main/Sesi%C3%B3n5_Primera_Ley.ipynb\">sesión 5</a> para verificar la rutina para resolver la integral de la ecuación 18 utilizando `sympy`."
      ]
    },
    {
      "cell_type": "code",
      "metadata": {
        "id": "tc6li0I3fkuA"
      },
      "source": [
        ""
      ],
      "execution_count": null,
      "outputs": []
    },
    {
      "cell_type": "markdown",
      "metadata": {
        "id": "oLAF0l4d_Ysf"
      },
      "source": [
        "---\n",
        "#***Enlaces Recomendados***\n",
        "\n",
        "*  Cursos-Python: <a href=\"https://github.com/institutohumai/cursos-python/blob/master/AnalisisDeDatos/1_Indexing/Indexing-solucion.ipynb\">Analisis de datos con Pandas</a>\n",
        "\n",
        "*  Aprende con ALF. Librería Pandas: <a href=\"https://aprendeconalf.es/docencia/python/manual/pandas/\">Librería Pandas</a>\n",
        "\n",
        "---\n",
        "#***Referencias***\n",
        "\n",
        "*  J. Lim, G. Wittreich, D. Vlachos. A phyton Multiscale Termochemistry Toolbox (pMuTT) for thermochemical and kinetic parameters stimations. $\\small Comp. Phy. Comm. 2020, 247, 106864.$ <a href=\"https://www.sciencedirect.com/science/article/abs/pii/S0010465519302516\">doi.org/10.1016/j.cpc.2019.106864</a>\n",
        "\n",
        "*  G. W. Castellan. Physical Chemsitry. Ed. 3rd. Addison-Wesley. 1983. p. 190.  \n",
        "\n",
        "*  I. N. Levine. Fisicoquímica. Ed. 5. McGRaw Hill. 2002. p. 184.  \n",
        "\n",
        " \n",
        "---"
      ]
    }
  ]
}