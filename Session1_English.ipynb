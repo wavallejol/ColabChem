{
  "nbformat": 4,
  "nbformat_minor": 0,
  "metadata": {
    "colab": {
      "name": "Session1_English.ipynb",
      "provenance": [],
      "collapsed_sections": [],
      "toc_visible": true,
      "authorship_tag": "ABX9TyPfH/TLRXRgi8GWIovl++hK",
      "include_colab_link": true
    },
    "kernelspec": {
      "name": "python3",
      "display_name": "Python 3"
    },
    "language_info": {
      "name": "python"
    }
  },
  "cells": [
    {
      "cell_type": "markdown",
      "metadata": {
        "id": "view-in-github",
        "colab_type": "text"
      },
      "source": [
        "<a href=\"https://colab.research.google.com/github/wavallejol/ColabChem/blob/main/Session1_English.ipynb\" target=\"_parent\"><img src=\"https://colab.research.google.com/assets/colab-badge.svg\" alt=\"Open In Colab\"/></a>"
      ]
    },
    {
      "cell_type": "markdown",
      "metadata": {
        "id": "bX9NStAWBy59"
      },
      "source": [
        "#**Session 1: Introduction to Google Colaboratory**\n",
        "\n",
        "# **Objectives**\n",
        " \n",
        "1.   To know the Google Colaboratory environment.\n",
        "2.   To learn basic programming commands."
      ]
    },
    {
      "cell_type": "markdown",
      "metadata": {
        "id": "TL9Xvctze93R"
      },
      "source": [
        "#**Introduction**\n",
        "---\n",
        " \n",
        "<div align=\"justify\"> This document is an introductory guide to applying basic programming concepts with <a href=\"https://en.wikipedia.org/wiki/Python_(programming_language)\">phyton</a> to solve chemistry exercises ⚗🧪. The Phyton software is a programming language used in a wide variety of applications, with the advantage of applicability to different work platforms; besides, phyton is open access software, being accessible to anyone who wishes to use it 😆. You can find a book on scientific programming aimed at chemistry at the following link <a href=\"https://github.com/weisscharlesj/SciCompforChemists/tree/master/Book_PDF\">Scientific Computing for Chemists</a>.  You did not need prior programming knowledge for using this guide. The different links will connect it with internet pages to review the unknown concepts or those you should remember 📖..\n",
        " \n",
        " <a href=\"https://research.google.com/colaboratory/\">Google Colaboratory</a> (also known as Google Colabs) is a virtual machine in the cloud that allows you to run phyton programming without configuring anything on your computer (download or install new programs); all you need is internet access and a Gmail account, you can even work directly on your cell phone 📱.  Colabs notebooks are Jupyter notebooks hosted in Colab, for more information about the Jupyter project you can see this link: <a href=\"https://jupyter.org/\">Jupyter</a>. Colab gives you easiness to share content simply and effectively through Google Drive 🗂. You can see this link <a href=\"https://www.youtube.com/watch?v=inN8seMm7UI\">introductory video</a> about google Colabs (duration 3:09 minutes). One of the advantages of using programming codes for the treatment of experimental or theoretical data is that you can create  <a href=\"https://en.wikipedia.org/wiki/Subroutine#Python_example\">routines</a> of code (small codes) to solve unknown quantities, extract and visualize information. These routines can be used as many times as you want and can be adapted according to your needs. Typically, a routine is composed of 3 elements ✔: \n",
        " \n",
        "(i) The input: It can be a number, a function, an array.\n",
        " \n",
        "(ii) The process: It represents what we will do with our input (e.g., a mathematical, logical, or comparative operation).\n",
        " \n",
        "(iii) The output: After process execution on the input, we produced the result (e.g., a plotting, string).\n",
        "\n",
        "In a traditional protocol, we should create a file with the routine (e.g., inputs, process, and output) then, we should save the file, and finally, we should use the phyton software to run the routine. At Google Colabs we save the first two steps for using cloud computing. We only have to write the routine and execute it, without any additional step. In Google Colabs we have two types of cells through which we can work:\n",
        " \n",
        "(¡) The text cell 🔤: It allows you to add text, links, and figures to provide information (what are you reading is written in a text cell).\n",
        " \n",
        "(ii) The code cell: In this cell, the input, the program, and the output of our routine are written. The cell you find below is an example of a code cell.</div>"
      ]
    },
    {
      "cell_type": "code",
      "metadata": {
        "id": "h2RRuBMqJpqO"
      },
      "source": [
        "# here we are going to write our code"
      ],
      "execution_count": null,
      "outputs": []
    },
    {
      "cell_type": "markdown",
      "metadata": {
        "id": "bZvxjgLhJq8-"
      },
      "source": [
        "In the code cell, the text you put after the symbol `#` is not part of the routine you will execute. This text indicates additional information about the code. At this point, we can take our first steps to learn a little about this powerful tool."
      ]
    },
    {
      "cell_type": "markdown",
      "metadata": {
        "id": "Z8FjC0-LdSNV"
      },
      "source": [
        "#**First programs**\n",
        "---\n",
        "We will create our first program: we will use the command`print()`, this command outputs a string (e.g., quotes within the parentheses). In the next code cell, we will place our first program.\n",
        " \n",
        "Click on the next code cell and then, click on the \"play\" icon ▶️  placed at the left side of the code cell."
      ]
    },
    {
      "cell_type": "code",
      "metadata": {
        "id": "A1pXbycKdFL9"
      },
      "source": [
        " print(\"hello, world!\") # quote inside the parentheses will appear as outputing"
      ],
      "execution_count": null,
      "outputs": []
    },
    {
      "cell_type": "markdown",
      "metadata": {
        "id": "ZW4jRE5yfsJl"
      },
      "source": [
        "After the code was executed; the message written within the command `print()` was generated as \"output\".  Now, in the next cell, write the code to generate your name as the output."
      ]
    },
    {
      "cell_type": "code",
      "metadata": {
        "id": "_lvY76Wrf1HB"
      },
      "source": [
        ""
      ],
      "execution_count": null,
      "outputs": []
    },
    {
      "cell_type": "markdown",
      "metadata": {
        "id": "rdQQxQgaf54P"
      },
      "source": [
        "You have written your first routine, a first step for learning this powerful tool. Now we will try the command`input()`, this command allows us to read information entered by a user from the keyboard.  To see an example, press the play icon ▶️  ∫in the next code cell.  The routine will greet you and ask for your name. Type it and then, hit the \"enter\" key."
      ]
    },
    {
      "cell_type": "code",
      "metadata": {
        "id": "uc8_qOeADbpO"
      },
      "source": [
        "print(\"Hello, I will be your guide in this first session. Please type your name:\")\n",
        "Nombre=input()\n",
        "print(Nombre,\", it is marvelous you are interested in learning phyton.\")"
      ],
      "execution_count": null,
      "outputs": []
    },
    {
      "cell_type": "markdown",
      "metadata": {
        "id": "QDYGecxYF61O"
      },
      "source": [
        "The previous routine allowed you to read the information entered by the user (in this case you) in response to a question previously established through the code."
      ]
    },
    {
      "cell_type": "markdown",
      "metadata": {
        "id": "LqQW0HCVEuXu"
      },
      "source": [
        "Python recognizes different types of information we can generate and use during our experiments. Table 1 shows a summary of the type of information we can handle with python.\n",
        " \n",
        "<div align = \"center\"> Table 1. Description of different types of information we can utilize in phyton.(Source: A.Moreno, S. Corcoles, 2018.</a>)</div>\n",
        " \n",
        "Type of information| Description\n",
        "-------------------|------------------\n",
        " Integer | Number without decimals, positive and negative, zero is also included. \n",
        "Float | Number with decimals, positive and negative, zero is also included. \n",
        " Complex | Number with an imaginary component.\n",
        " String | Text.\n",
        " Bolean | Only two values ​​'true or false'.\n",
        " Sets | Selection of unordered and non-repeating elements.\n",
        " Lists |  Array of elements that can be different types of data.\n",
        " Tuples | Immutable list of items\n",
        "  Dictionaries |  List of elements that contain keys and values\n",
        " \n",
        " \n",
        "Now, We can do some operations with different types of information. First import the <a href=\"https://en.wikipedia.org/wiki/Python_(programming_language)#Libraries\">library</a> we will use to process the data. The library <a href=\"https://docs.python.org/3/library/math.html?highlight=math\">math</a> which provides us with access to different mathematical functions. Press the play icon ▶️  in the following code cell:"
      ]
    },
    {
      "cell_type": "code",
      "metadata": {
        "id": "X9jpj2TPsj94"
      },
      "source": [
        "import math"
      ],
      "execution_count": null,
      "outputs": []
    },
    {
      "cell_type": "markdown",
      "metadata": {
        "id": "j2aKn3eLubNv"
      },
      "source": [
        "Once we imported it, we can use this library in our routines by calling it by its name. Then let's get started with some operations.\n",
        " \n",
        "(i) $\\small(2x4)+5$:"
      ]
    },
    {
      "cell_type": "code",
      "metadata": {
        "id": "JcD0gXI4uzCb"
      },
      "source": [
        "2*4+5"
      ],
      "execution_count": null,
      "outputs": []
    },
    {
      "cell_type": "markdown",
      "metadata": {
        "id": "NHEc50hbMJal"
      },
      "source": [
        "(ii) $\\small34^{3/2}$:"
      ]
    },
    {
      "cell_type": "code",
      "metadata": {
        "id": "NMQKcEDR8y_8"
      },
      "source": [
        "34**3/2"
      ],
      "execution_count": null,
      "outputs": []
    },
    {
      "cell_type": "markdown",
      "metadata": {
        "id": "6Rva_nSNMPca"
      },
      "source": [
        "(iii) $\\small(254)^4$:"
      ]
    },
    {
      "cell_type": "code",
      "metadata": {
        "id": "dSJvNdXgZqtT"
      },
      "source": [
        "254**4"
      ],
      "execution_count": null,
      "outputs": []
    },
    {
      "cell_type": "markdown",
      "metadata": {
        "id": "EzJnOcWIlntv"
      },
      "source": [
        "ANow, in the following line of code, we write the routine to perform this operation: $\\small(23)^5/4.5x10^5$. (\n",
        "Inside the code cell, the factor $\\small x10^5$, is representing with the letter `e`)"
      ]
    },
    {
      "cell_type": "code",
      "metadata": {
        "id": "sct1BrF-mG86"
      },
      "source": [
        "23**5/4.5e5"
      ],
      "execution_count": null,
      "outputs": []
    },
    {
      "cell_type": "markdown",
      "metadata": {
        "id": "f2nyI1eIw50i"
      },
      "source": [
        "To perform operations using functions on any type of number, we must use the specific code of the library\n",
        " `math`. Let's carry out the following operation: $\\small\\sqrt{24}$"
      ]
    },
    {
      "cell_type": "code",
      "metadata": {
        "id": "awZlOhj-zb5a"
      },
      "source": [
        "math.sqrt(24)"
      ],
      "execution_count": null,
      "outputs": []
    },
    {
      "cell_type": "markdown",
      "metadata": {
        "id": "UdlS0Qpu0Pw8"
      },
      "source": [
        "In this link <a href=\"https://docs.python.org/3/library/math.html?highlight=math\">math</a> you will find more examples of the `math` library. To round the result to one decimal place, we could use the `round()` function. \n",
        "The first parameter of the `round()` function corresponds to the rounding variable and, the second parameter indicates the number of decimal places."
      ]
    },
    {
      "cell_type": "code",
      "metadata": {
        "id": "dd-OkKiFX8Q8"
      },
      "source": [
        "round(math.sqrt(24),3)"
      ],
      "execution_count": null,
      "outputs": []
    },
    {
      "cell_type": "markdown",
      "metadata": {
        "id": "POUfjQOyZEXW"
      },
      "source": [
        "We can also define a variable with our operation to invoke it again and use it as many times as we need."
      ]
    },
    {
      "cell_type": "code",
      "metadata": {
        "id": "oPGlkTzl0jGD"
      },
      "source": [
        "root=math.sqrt(24)   # root will be the name of the variable \n",
        "round(root, 3)       # we round to three decimal places our variable"
      ],
      "execution_count": null,
      "outputs": []
    },
    {
      "cell_type": "markdown",
      "metadata": {
        "id": "QV9_gxB03ygo"
      },
      "source": [
        "Now, let's try the following operation:\n",
        "$\\small\\sin(\\pi/3$)"
      ]
    },
    {
      "cell_type": "code",
      "metadata": {
        "id": "WgiS6GjC3-dp"
      },
      "source": [
        "x=math.sin(math.pi/3)\n",
        "round(x, 3)"
      ],
      "execution_count": null,
      "outputs": []
    },
    {
      "cell_type": "markdown",
      "metadata": {
        "id": "vhVudjeQ53Or"
      },
      "source": [
        "Google colabs uses radians and, we use the function `math.pi` to invoke $\\small\\pi$ in the code. Nnow it's your turn. Write the code to obtain the result of the following operations rounding the result to 3 decimal places:\n",
        " \n",
        "(i) $\\small\\log_{10}5$ \n",
        " \n",
        "(use function: `log10()`)"
      ]
    },
    {
      "cell_type": "code",
      "metadata": {
        "id": "4OqEdAP09SXL"
      },
      "source": [
        "y=math.log10(5)\n",
        "round(y,3)"
      ],
      "execution_count": null,
      "outputs": []
    },
    {
      "cell_type": "markdown",
      "metadata": {
        "id": "_yQ87CS5RE33"
      },
      "source": [
        "(ii)$\\small\\sqrt{cos(\\pi/3)}$ \n",
        " \n",
        "(use the function: `math.cos()`)"
      ]
    },
    {
      "cell_type": "code",
      "metadata": {
        "id": "MxFcxMDVRpZQ"
      },
      "source": [
        "z=math.sqrt(math.cos(math.pi/3))\n",
        "round(z,3)"
      ],
      "execution_count": null,
      "outputs": []
    },
    {
      "cell_type": "markdown",
      "metadata": {
        "id": "sQInUyOeabFZ"
      },
      "source": [
        "To reduce the code, we can import all properties from the library `math` for using `import *` in the code. with this command you can utilize all operation of `math` library 🎉. For the same operation in ht previous code cell. "
      ]
    },
    {
      "cell_type": "code",
      "metadata": {
        "id": "DEENS96ZZs4Y"
      },
      "source": [
        "from math import *\n",
        "z1=sqrt(cos(pi/3))\n",
        "round(z1,3)"
      ],
      "execution_count": null,
      "outputs": []
    },
    {
      "cell_type": "markdown",
      "metadata": {
        "id": "SpgcvpAk9WLG"
      },
      "source": [
        "The most important about using variables is once you have defined them, you can use them again to develop more operations 🎉 .\n",
        "\n",
        "Now, we will perform the following operation: $\\small\\sin(\\pi/3)+cos(\\pi/3)$. We could write all the code for this operation; However, in the previous code cells, we already defined these operations separately:\n",
        " \n",
        "$\\small\\ x=sin(\\pi/3)$\n",
        " \n",
        "$\\small\\ z=cos(\\pi/3)$\n",
        " \n",
        "This time, we will not write this part of the operation since we can invoke both variables."
      ]
    },
    {
      "cell_type": "code",
      "metadata": {
        "id": "ek47pEcV_flA"
      },
      "source": [
        "x+z"
      ],
      "execution_count": null,
      "outputs": []
    },
    {
      "cell_type": "markdown",
      "metadata": {
        "id": "WNUZ3zy1AW1X"
      },
      "source": [
        "Now it is your turn. In the following code cell, write the routine to obtain the result of the next operation: $\\small\\log_{10}5 +\\small\\sqrt{cos(\\pi/3)}$\n",
        " \n",
        "Remember, you carried out these two operations in previous code cells. You can use (invoke) these variables."
      ]
    },
    {
      "cell_type": "code",
      "metadata": {
        "id": "KF6n4023mYYb"
      },
      "source": [
        ""
      ],
      "execution_count": null,
      "outputs": []
    },
    {
      "cell_type": "markdown",
      "metadata": {
        "id": "9Y_f_XfJBe14"
      },
      "source": [
        " # ***List operation (array and matrix)***\n",
        "---\n",
        "\n",
        "  <div align=\"justify\">When you uses (<a href=\"https://en.wikipedia.org/wiki/List_(abstract_data_type)\">lists</a>) for manipulating your data, you can use the library <a href=\"https://en.wikipedia.org/wiki/NumPy\">numpy</a> (numerical phyton). This is Phyton's main library for carrying out calculations with scientific applications, providing tools to perform calculations with array and matrix.\n",
        " \n",
        "Suppose we have the following data series (1, 2, 3, 4 , 5 ) and we want to perform different operations with this data.\n",
        " \n",
        "\n",
        "First, we must import the library `numpy`, We will invoke this library as `np`. We used these letters to reduce the caracters in the code (but you can use whatever you want), we use `np` since it is the conversion utilized by the phyton community. Next, we create the a list with the function `np.array([])` using our data.</div>"
      ]
    },
    {
      "cell_type": "code",
      "metadata": {
        "colab": {
          "base_uri": "https://localhost:8080/"
        },
        "id": "7Fit1FYsoMuv",
        "outputId": "c494db4b-59e0-48b1-c5b2-9964297ba98e"
      },
      "source": [
        "import numpy as np\n",
        "datos= np.array([1,2,3,4,5])\n",
        "datos**2"
      ],
      "execution_count": null,
      "outputs": [
        {
          "output_type": "execute_result",
          "data": {
            "text/plain": [
              "array([ 1,  4,  9, 16, 25])"
            ]
          },
          "metadata": {
            "tags": []
          },
          "execution_count": 4
        }
      ]
    },
    {
      "cell_type": "markdown",
      "metadata": {
        "id": "5ybVGpej2Plb"
      },
      "source": [
        "We can perform operations with this data series, define new variables and operate these new variables also."
      ]
    },
    {
      "cell_type": "code",
      "metadata": {
        "colab": {
          "base_uri": "https://localhost:8080/"
        },
        "id": "4fCHUzEc2bm5",
        "outputId": "8566da66-c816-4773-d604-09f443667d03"
      },
      "source": [
        "serie2=([3.1, 3.3,5,44,6])\n",
        "serie3=serie2+datos\n",
        "np.sqrt(serie3)"
      ],
      "execution_count": null,
      "outputs": [
        {
          "output_type": "execute_result",
          "data": {
            "text/plain": [
              "array([2.02484567, 2.30217289, 2.82842712, 6.92820323, 3.31662479])"
            ]
          },
          "metadata": {
            "tags": []
          },
          "execution_count": 28
        }
      ]
    },
    {
      "cell_type": "markdown",
      "metadata": {
        "id": "7MpEVOQF5kY4"
      },
      "source": [
        "To generate a series of numbers, we can use the function `np.arange()`. In the next code cell, we will generate data of 50 numbers start in 1 and finish in 50. The last number is not included in the series."
      ]
    },
    {
      "cell_type": "code",
      "metadata": {
        "colab": {
          "base_uri": "https://localhost:8080/"
        },
        "id": "AgorzSxW51-T",
        "outputId": "6f7bb6f4-7bbe-4d03-b6bc-b3e94c484d4a"
      },
      "source": [
        "serie=np.arange(1,50) \n",
        "serie"
      ],
      "execution_count": null,
      "outputs": [
        {
          "output_type": "execute_result",
          "data": {
            "text/plain": [
              "array([ 1,  2,  3,  4,  5,  6,  7,  8,  9, 10, 11, 12, 13, 14, 15, 16, 17,\n",
              "       18, 19, 20, 21, 22, 23, 24, 25, 26, 27, 28, 29, 30, 31, 32, 33, 34,\n",
              "       35, 36, 37, 38, 39, 40, 41, 42, 43, 44, 45, 46, 47, 48, 49])"
            ]
          },
          "metadata": {
            "tags": []
          },
          "execution_count": 11
        }
      ]
    },
    {
      "cell_type": "markdown",
      "metadata": {
        "id": "N9fczFRC6SBY"
      },
      "source": [
        "We can change the step value using a third parameter of the same function"
      ]
    },
    {
      "cell_type": "code",
      "metadata": {
        "colab": {
          "base_uri": "https://localhost:8080/"
        },
        "id": "-GuJ_uEA6gcg",
        "outputId": "0782e338-2295-467c-dc9f-007f31066a40"
      },
      "source": [
        "serie2=np.arange(1,51,3)\n",
        "serie2"
      ],
      "execution_count": null,
      "outputs": [
        {
          "output_type": "execute_result",
          "data": {
            "text/plain": [
              "array([ 1,  4,  7, 10, 13, 16, 19, 22, 25, 28, 31, 34, 37, 40, 43, 46, 49])"
            ]
          },
          "metadata": {
            "tags": []
          },
          "execution_count": 14
        }
      ]
    },
    {
      "cell_type": "markdown",
      "metadata": {
        "id": "yT3bIUi1Sa1V"
      },
      "source": [
        "Now is your turn 👊, With the concepts learned, perform the following activity: Table 2 shows the titration volumes of different samples of HCl with a standard solution of 0.250 M NaOH.\n",
        " \n",
        "<div align = \"center\"> Table 2. Volumes of 0.250M NaOH utilized in the titration of samples of HCl of unknown concentration. </div>\n",
        " \n",
        "Sample| NaOH (mL)\n",
        "-------------------|------------------\n",
        "   1   | 22.503 \n",
        " 2 | 17.906 \n",
        " 3 | 19.403 \n",
        " 4 | 22.403 \n",
        " 5 | 11.403 \n",
        " 6 | 14.403\n",
        " \n",
        "If the volume of the HCl samples used in each titration was 10.00 mL. To create a routine to obtain the molar concentration values ​​for each titrated HCl sample.\n"
      ]
    },
    {
      "cell_type": "code",
      "metadata": {
        "id": "_OfjPjKcUZC0"
      },
      "source": [
        ""
      ],
      "execution_count": null,
      "outputs": []
    },
    {
      "cell_type": "markdown",
      "metadata": {
        "id": "u85qcxiyUaom"
      },
      "source": [
        "---\n",
        "#***Today we learned***\n",
        " \n",
        "*  Introduction to the google Colabs environment\n",
        "*  Components of a routine\n",
        "*  Basic programming functions in phyton\n",
        "*  Definition of variables, functions and array in phyton\n",
        " \n",
        "---\n",
        "#***Recommended Links***\n",
        " \n",
        "*  NumPy Manual : <a href=\"https://numpy.org/doc/stable/index.html\">NumPy v1.21</a>\n",
        "* `numpy` Tutorial : <a href=\"https://cs231n.github.io/python-numpy-tutorial/\">numpy</a>\n",
        "*  `math` Tutorial: <a href=\"https://realpython.com/python-math-module/\">math</a>\n",
        "*  Mathematics in phyton tutorial : (i) <a href=\"https://github.com/drvinceknight/Python-Mathematics-Handbook\">Mathematics in phyton</a> (ii) <a href=\"https://personal.math.ubc.ca/~pwalls/math-python/jupyter/notebook/\">Mathematical Phyton</a>\n",
        "\n",
        " \n",
        "---\n",
        "#***References***\n",
        " \n",
        "*  A. Moreno. S. Córcoles. Aprende Phyton en un Fin de Semada. Time of software. 2018. ISBN 978-1719884838.\n",
        "\n",
        "*  C. Weiss. Scientific Computing for Chemist. 2020. CC-BY-NC-SA 4.0. <a href=\"https://github.com/weisscharlesj/SciCompforChemists/tree/master/Book_PDF\"> Scientific Computing for Chemist</a>\n",
        "\n",
        " "
      ]
    }
  ]
}