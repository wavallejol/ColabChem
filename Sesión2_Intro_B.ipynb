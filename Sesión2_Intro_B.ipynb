{
  "nbformat": 4,
  "nbformat_minor": 0,
  "metadata": {
    "colab": {
      "name": "Sesion2.ipynb",
      "provenance": [],
      "collapsed_sections": [],
      "authorship_tag": "ABX9TyOnMTq1iUP7bbVUHd+Y46w0",
      "include_colab_link": true
    },
    "kernelspec": {
      "name": "python3",
      "display_name": "Python 3"
    },
    "language_info": {
      "name": "python"
    }
  },
  "cells": [
    {
      "cell_type": "markdown",
      "metadata": {
        "id": "view-in-github",
        "colab_type": "text"
      },
      "source": [
        "<a href=\"https://colab.research.google.com/github/wavallejol/ColabChem/blob/main/Sesi%C3%B3n2_Intro_B.ipynb\" target=\"_parent\"><img src=\"https://colab.research.google.com/assets/colab-badge.svg\" alt=\"Open In Colab\"/></a>"
      ]
    },
    {
      "cell_type": "markdown",
      "metadata": {
        "id": "rCBQDEFIIDE5"
      },
      "source": [
        "# **Sesión 2. Tratamiento matemático de datos experimentales**\n",
        "# **Objetivos**\n",
        " \n",
        " \n",
        "1.   Aprender el manejo de datos utilizando Google Colabs\n",
        "2.   Aplicar los conceptos aprendidos  en el tratamiento de datos experimentales\n",
        "2.   Realizar representación gráfica de resultados experimentales\n",
        "---"
      ]
    },
    {
      "cell_type": "markdown",
      "metadata": {
        "id": "mWmYRBj5JGQ3"
      },
      "source": [
        "# **Introducción**\n",
        "El correcto manejo de los datos experimentales obtenidos en las diferentes actividades realizadas dentro de los laboratorios, es una competencia muy importante dentro del ejercicio académico 📝. Los datos experimentales son generalmente obtenidos después de aplicar el  <a href=\"https://en.wikipedia.org/wiki/Scientific_method#:~:text=The%20scientific%20method%20is%20an,how%20one%20interprets%20the%20observation.\">método científico</a>  durante los procesos de aprendizaje y de investigación. Cada paso del método científico es importante dentro de cualquier proceso de investigación cuantitativa y es de especial interés para las prácticas de laboratorio el tratamiento y análisis de los resultados obtenidos📈 . El uso de formalismos matemáticos y aplicaciones graficas 📊 permite transmitir de la mejor manera los hallazgos obtenidos en nuestra experiencia.\n",
        " \n",
        "---"
      ]
    },
    {
      "cell_type": "markdown",
      "metadata": {
        "id": "D_-AHEGZPyk4"
      },
      "source": [
        "# ***Actividad 1***\n",
        " \n",
        "Se desarrollaron una serie de experimentos para cuantificar la concetración de zinc en una muestra problema de agua. Cada grupo de trabajo realizó la cuantificación por triplicado y los resultados de cada grupo se listan en la tabla 1. Con la información suministrada responde: (i) ¿Cúal es el valor promedio obtenido por cada grupo?. (ii) Determina la desviación estandar de cada grupo. (iii) Teniendo en cuenta que el valor real de la muestra problema era $\\small23.604\\mu .g^{-1}$, ordena los grupos desde el grupo que presentó mayor dispersión en sus datos al menos disperso, y desde el grupo que presentó mayor exactitud al de menor exactitud.\n",
        " \n",
        "<div align = \"center\"> Tabla 1. Resultados de cuantificación de zinc reportados por cada grupo en microgramos de Zn $(\\small \\mu g)$ por gramo de muestra.</div>\n",
        " \n",
        "Ensayo| grupo 1 ($\\mu g.g^{-1}$)|grupo 2 ($\\mu g.g^{-1}$))|grupo 3 ($\\mu g.g^{-1}$)\n",
        "-------------------|------------------|------------------|----------------\n",
        "   1   | 22.503 | 22.467 | 24.001\n",
        " 2 | 21.906 | 21.876 | 23.908\n",
        " 3 | 22.403 | 22.345 | 23.945\n",
        " \n",
        " \n",
        "Para resolver estas preguntas lo primero que  haremos será importar las <a href=\"https://es.m.wikipedia.org/wiki/Biblioteca_(inform%C3%A1tica)\">librerias</a> que utilizaremos para el tratamiento de los datos: <a href=\"https://es.m.wikipedia.org/wiki/NumPy#:~:text=NumPy%20(pronunciado%20%2F%CB%88n%CA%8C,nivel%20para%20operar%20con%20ellas.\">numpy</a>."
      ]
    },
    {
      "cell_type": "code",
      "metadata": {
        "id": "uI7Kyu2TMirn"
      },
      "source": [
        "import numpy as np"
      ],
      "execution_count": null,
      "outputs": []
    },
    {
      "cell_type": "markdown",
      "metadata": {
        "id": "otkbk2rPM8q0"
      },
      "source": [
        "Ahora creamos una matriz (<a href=\"https://es.m.wikipedia.org/wiki/Vector_(inform%C3%A1tica)\">array</a>) con los datos de cada grupo. Oprime clic en el ícono de ▶️ en la siguiente celda de código"
      ]
    },
    {
      "cell_type": "code",
      "metadata": {
        "colab": {
          "base_uri": "https://localhost:8080/"
        },
        "id": "oqveKPMZNIT3",
        "outputId": "3d98ad59-d131-4639-bc81-0d5cd51a5d6d"
      },
      "source": [
        "grupo1= np.array([22.503, 21.906, 22.403 ]) #se crea la lista con los datos del grupo 1\n",
        "grupo1                                      #muestra la lista creada"
      ],
      "execution_count": null,
      "outputs": [
        {
          "output_type": "execute_result",
          "data": {
            "text/plain": [
              "array([22.503, 21.906, 22.403])"
            ]
          },
          "metadata": {},
          "execution_count": 3
        }
      ]
    },
    {
      "cell_type": "markdown",
      "metadata": {
        "id": "wCR0phSBPI1N"
      },
      "source": [
        "En la siguiente línea escribe el código y crea las dos matrices para los grupos 2 y 3."
      ]
    },
    {
      "cell_type": "code",
      "metadata": {
        "id": "kS9d6nPYPijj"
      },
      "source": [
        ""
      ],
      "execution_count": null,
      "outputs": []
    },
    {
      "cell_type": "markdown",
      "metadata": {
        "id": "zZbvKW3yPmY8"
      },
      "source": [
        "Ahora realizaremos los cálculos. Primero calcularémos el <a href=\"https://es.m.wikipedia.org/wiki/Promedio\">promedio</a> para cada grupo. El promedio ($\\mu$) de una serie de datos se define como:\n",
        "$\\mu=\\frac{1}{n}\\sum_{i=1}^{n}x_{i}$\n",
        " \n",
        " \n",
        " \n",
        "Podriamos escribir la fórmula matemática o utilizar la libreria `numpy`. Recuerda que hemos importado esta libreria como `np`. Para determinar el promedio utilizaremos la función `np.mean()`. Oprime clic en el ícono de ▶️ en la siguiente celda de código"
      ]
    },
    {
      "cell_type": "code",
      "metadata": {
        "colab": {
          "base_uri": "https://localhost:8080/"
        },
        "id": "Abt6XgD3Q6zO",
        "outputId": "302215c8-9493-451b-cde0-c267c8a1f1e4"
      },
      "source": [
        "media=np.mean(grupo1) # calcula el promedio de todos los datos de la lista grupo1\n",
        "rm=round(media,2)     # esta función redondea el resultado del proceso a dos cifras decimales\n",
        "print(\"media grupo1 =\", rm)  # muestra el promedio"
      ],
      "execution_count": null,
      "outputs": [
        {
          "output_type": "stream",
          "text": [
            "media grupo1 = 22.27\n"
          ],
          "name": "stdout"
        }
      ]
    },
    {
      "cell_type": "markdown",
      "metadata": {
        "id": "icRiYgQsRXww"
      },
      "source": [
        "En la siguiente linea escribe el código y determina el promedio de los grupos 2 y 3."
      ]
    },
    {
      "cell_type": "code",
      "metadata": {
        "id": "UyDZzW4VRqhp"
      },
      "source": [
        ""
      ],
      "execution_count": null,
      "outputs": []
    },
    {
      "cell_type": "markdown",
      "metadata": {
        "id": "GB7mB2elSMAf"
      },
      "source": [
        "Ahora calcularémos la <a href=\"https://es.m.wikipedia.org/wiki/Desviaci%C3%B3n_t%C3%ADpica\">desviación estandar</a> para cada grupo. La desviación estandar se representa con la letra griega ($\\sigma$) y se define como: $\\sigma=\\sqrt{\\frac{1}{n}\\sum_{i=1}(x_{i}-\\mu)^{2}}$ \n",
        ". Utilizaremos el comando `np.std()`. Oprime clic en el icono de ▶️ en la siguiente celda de código"
      ]
    },
    {
      "cell_type": "code",
      "metadata": {
        "colab": {
          "base_uri": "https://localhost:8080/"
        },
        "id": "H696egQvTSis",
        "outputId": "451c5155-f4c9-442e-9754-d986b00aa0c2"
      },
      "source": [
        "sd=np.std(grupo1)   # calcula la desvuación estandar de los datos de la lista grupo1\n",
        "sdr=round(sd,2)    # redondea el resultado del proceso a dos cifras decimales\n",
        "print(\"Desviación grupo1 =\", sdr) # muestra la desviación"
      ],
      "execution_count": null,
      "outputs": [
        {
          "output_type": "stream",
          "text": [
            "Desviación = 0.26\n"
          ],
          "name": "stdout"
        }
      ]
    },
    {
      "cell_type": "markdown",
      "metadata": {
        "id": "Wi9aX59_Tc5e"
      },
      "source": [
        "En la siguiente linea escribe el código y determina el valor de $\\sigma$ para los grupos 2 y 3."
      ]
    },
    {
      "cell_type": "code",
      "metadata": {
        "id": "eRcNXgKvTuQO"
      },
      "source": [
        ""
      ],
      "execution_count": null,
      "outputs": []
    },
    {
      "cell_type": "markdown",
      "metadata": {
        "id": "E8C1A3zbCAz-"
      },
      "source": [
        "Ahora determinaremos el error relativo de cada grupo. El <a href=\"https://es.m.wikipedia.org/wiki/Error_experimental\">error relativo</a> se define como: $e=\\left | \\frac{X_{real}-X_{experimental}}{X_{real}} \\right |\\small100$\n",
        " \n",
        "Oprime clic en el ícono de ▶️  en la siguiente celda de código"
      ]
    },
    {
      "cell_type": "code",
      "metadata": {
        "colab": {
          "base_uri": "https://localhost:8080/"
        },
        "id": "K9sjDy2NDlgs",
        "outputId": "d51ff3d6-519d-4e3c-8a9a-b506e467e8a8"
      },
      "source": [
        "vreal=23.604                          # definimos el valor real\n",
        "error=(vreal - grupo1[0])/vreal*100   # calculamos el error relativo\n",
        "er=round(error, 2)                    # redondea el resultado del proceso a dos cifras decimales\n",
        "print(\"error=\", er,\"%\")               "
      ],
      "execution_count": null,
      "outputs": [
        {
          "output_type": "stream",
          "text": [
            "error= 4.66 %\n"
          ],
          "name": "stdout"
        }
      ]
    },
    {
      "cell_type": "code",
      "metadata": {
        "id": "-bxLSS04ZJiX"
      },
      "source": [
        ""
      ],
      "execution_count": null,
      "outputs": []
    },
    {
      "cell_type": "markdown",
      "metadata": {
        "id": "SmB4XuEHFavX"
      },
      "source": [
        "En la siguiente linea escribe el código y determina el valor del error relativo para los grupos 2 y 3. Una vez tengas los valores de error relativo podrás responder la última pregunta del ejercicio."
      ]
    },
    {
      "cell_type": "code",
      "metadata": {
        "id": "QtZbx_cE1ugW"
      },
      "source": [
        ""
      ],
      "execution_count": null,
      "outputs": []
    },
    {
      "cell_type": "markdown",
      "metadata": {
        "id": "bFFvaKvUYpiN"
      },
      "source": [
        " \n",
        "---\n",
        "# ***Actividad 2***\n",
        "En esta actividad vamos a aprender a realizar gráficas 📊 utilizando el entorno de google colabs.\n",
        " \n",
        "Para dos átomos o moléculas neutras, bajo interacción de fuerzas atractivas de tipo <a href=\"https://es.wikipedia.org/wiki/Fuerzas_de_Van_der_Waals\">van der Waals </a> y de repulsión (resultado del solapamiento de los orbitales atómicos o moleculares) se genera un potencial que puede ser reprsentado por un modelo matemático sencillo conocido como potencial de <a href=\"https://es.wikipedia.org/wiki/Potencial_de_Lennard-Jones\">Lennard-Jones</a>, se define como:\n",
        " \n",
        "$\\small V(r)=4\\varepsilon( \\left[\\frac{\\sigma }{r} \\right] ^{12} - \\left[\\frac{\\sigma }{r} \\right] ^{6})$ \n",
        " \n",
        "Donde $\\small V(r)$ representa el potencial de interacción como función de la distancia entre el centro de las moléculas, $\\varepsilon$ representa la profundidad del potencial de interacción entre las dos moléculas y $\\sigma$ es la distancia finita en la que el $\\small V(r)$ es cero. El término $\\small r ^{-12}$ describe la repulsión  entre la dos especies y el término $\\small r ^{-6}$ describe la atracción. En la tabla 2 se listan los valores de $\\varepsilon$ y $\\sigma$ para 3 átomos y una molécula. \n",
        " \n",
        "<div align = \"center\">Tabla 2. Parametros $\\varepsilon$ y $\\sigma$ para calculo de potencial de Lennard jones.</div>\n",
        " \n",
        "Molécula/átomo| $\\varepsilon$  $\\small kCal/mol$ | $\\sigma$ (Angstrom)\n",
        "-------------------|------------------|------------------\n",
        " Ar | $\\small0.222$ | $\\small3.62$ \n",
        " Kr | $\\small0.308$ | $\\small3.90$ \n",
        " Xe | $\\small0.425$ | $\\small4.26$ \n",
        " CCl4 | $\\small0.753$ | $\\small6.24$ \n",
        " \n",
        " Con la información sumistrada grafíca el potencial de Lennard Jones en función de la distancia (3-10 Angstroms) para las especies listadas en la tabla 2."
      ]
    },
    {
      "cell_type": "markdown",
      "metadata": {
        "id": "bvHpLNLrIYEQ"
      },
      "source": [
        "Lo primero  que haremos será importar las tres bibliotecas que utilizarémos. Oprime clic en el icono de ▶️ en la siguiente celda de código"
      ]
    },
    {
      "cell_type": "code",
      "metadata": {
        "id": "z6Rq3Tc5I2E4"
      },
      "source": [
        "import numpy as np\n",
        "import math\n",
        "import matplotlib.pyplot as plt"
      ],
      "execution_count": null,
      "outputs": []
    },
    {
      "cell_type": "markdown",
      "metadata": {
        "id": "V4mlauBoM_rY"
      },
      "source": [
        "Graficarémos cada componente de la ecuación de L-J para poder compararlos; trabajaremos con los datos del CCl4.\n",
        " \n",
        "Ahora definiremos la veriable `r`, las constantes y la ecuación de L-J. Oprime clic en el icono de ▶️ en la siguiente celda de código"
      ]
    },
    {
      "cell_type": "code",
      "metadata": {
        "id": "Xi4QDo-kNKJA"
      },
      "source": [
        "r=np.arange(3,10,0.1)     # definimos r, establecemos los limites de cambio y el valor de cambio entre cada dato de r\n",
        "E=0.753\n",
        "O=6.24\n",
        "V=4*E*pow(O/r, 12)        # definimos el potemcial de repulsión \n",
        "V2=4*E*pow(O/r, 6)        # definimos el potemcial de atracción\n",
        "Vr=V-V2                   # definimos el potencial L-J"
      ],
      "execution_count": null,
      "outputs": []
    },
    {
      "cell_type": "markdown",
      "metadata": {
        "id": "Of69XvdKOYHp"
      },
      "source": [
        "Ahora graficarémos los componentes de repulsión y atracción en conjunto con el potencial de L-J, todo en la misma gráfica. Oprime clic en el ícono de ▶️ en la siguiente celda de código"
      ]
    },
    {
      "cell_type": "code",
      "metadata": {
        "id": "SKHsPu9riZYJ",
        "colab": {
          "base_uri": "https://localhost:8080/",
          "height": 283
        },
        "outputId": "515c8117-abf7-44e6-f7ff-f8b90a784385"
      },
      "source": [
        "plt.plot(r,V, \"r\", label=\"repulsión\")         # graficaremos potencial de repulsión\n",
        "plt.plot(r,V2, \"m\", label=\"atracción\")        # graficaremos potencial de atracción\n",
        "plt.plot(r,Vr, \"b\", label=\"potencial L-J\")    # graficaremos potencial L-J\n",
        "plt.xlabel('r(A)')                            # titulo del eje x\n",
        "plt.ylabel('V(r)')                            # titulo del eje y\n",
        "plt.ylim(-1,10)                               # limites del eje x\n",
        "plt.xlim(4,10)                                # limites del eje x\n",
        "plt.legend()\n",
        "plt.show()"
      ],
      "execution_count": null,
      "outputs": [
        {
          "output_type": "display_data",
          "data": {
            "image/png": "[encoded data removed]",
            "text/plain": [
              "<Figure size 432x288 with 1 Axes>"
            ]
          },
          "metadata": {
            "needs_background": "light"
          }
        }
      ]
    },
    {
      "cell_type": "markdown",
      "metadata": {
        "id": "fCdwD-cgOq95"
      },
      "source": [
        "Otra forma de presentar los datos se muestra en la siguiente celda de código. Oprime clic en el ícono de ▶️"
      ]
    },
    {
      "cell_type": "code",
      "metadata": {
        "id": "cVxE9MD1QfNT",
        "colab": {
          "base_uri": "https://localhost:8080/",
          "height": 238
        },
        "outputId": "4b6fc6cf-0d2b-4a19-e740-71242b3e304f"
      },
      "source": [
        "plt.subplot(1,3,1)           # graficaremos tres graficas diferentes, esta es la primera grafica           \n",
        "plt.plot(r,V, \"r\", label=\"repulsión\")\n",
        "plt.ylabel('V(r)')\n",
        "plt.ylim(-1,10)\n",
        "plt.xlim(4,10)\n",
        "plt.legend()\n",
        " \n",
        "plt.subplot(1,3,2)           # graficaremos tres graficas diferentes, esta es la segunda grafica   \n",
        "plt.plot(r,V2, \"m\", label=\"atracción\")\n",
        "plt.xlabel('r(A)')\n",
        "plt.ylim(-1,10)\n",
        "plt.xlim(4,10)\n",
        "plt.legend()\n",
        " \n",
        "plt.subplot(1,3,3)           # graficaremos tres graficas diferentes, esta es la tercera grafica   \n",
        "plt.plot(r,Vr, \"b\", label=\"potencial L-J\")\n",
        "plt.ylim(-1,10)\n",
        "plt.xlim(4,10)\n",
        "plt.legend()\n",
        "plt.show()"
      ],
      "execution_count": null,
      "outputs": [
        {
          "output_type": "display_data",
          "data": {
            "image/png": "[encoded data removed]",
            "text/plain": [
              "<Figure size 432x288 with 3 Axes>"
            ]
          },
          "metadata": {
            "tags": [],
            "needs_background": "light"
          }
        }
      ]
    },
    {
      "cell_type": "markdown",
      "metadata": {
        "id": "QS5PUwaqRfwE"
      },
      "source": [
        "Ahora es tu turno 👊, con la información recibida, en la siguiente celda de código escribe la rutina que te  permita graficar, en el mismo gráfico, el potencial de L-J V(r) para dos moléculas, elige la que desees de las tabla 2."
      ]
    },
    {
      "cell_type": "code",
      "metadata": {
        "id": "0XeP6qF1SLuU"
      },
      "source": [
        ""
      ],
      "execution_count": null,
      "outputs": []
    },
    {
      "cell_type": "markdown",
      "metadata": {
        "id": "JMc8QqK9FyF3"
      },
      "source": [
        " \n",
        "---\n",
        "# ***Actividad 3***\n",
        "En esta actividad vamos a aprender a realizar regresiones lineales en el entorno de google colabs.\n",
        " \n",
        " \n",
        "En la siguiente tabla se listan los datos de concentración y absorbancia medidos para una sustancia que será cuantificada en el laboratorio.\n",
        " \n",
        "<div align = \"center\">Tabla 3. Valores de concentracion (ppm) y absorbancia ejercicio.</div>\n",
        " \n",
        "Concemtración (ppm)| Absorbancia\n",
        "-------------------|------------------\n",
        " 0,0 | 0.000 \n",
        " 1,0 | 0.034  \n",
        " 2,0 | 0.064  \n",
        " 5,00 | 0.165 \n",
        " 10,0 | 0.320 \n",
        " 20,0 | 0.681 \n",
        " 40,0 | 1.34 \n",
        " 50,0 | 1.71 \n",
        "  \n",
        "A partir de los datos listados debes obtener la <a href=\"https://es.m.wikipedia.org/wiki/Curva_de_calibraci%C3%B3n\">curva de calibración.</a>\n",
        "Para resolver esta pregunta lo primero que  haremos sera importar las bibliotecas que utilizaremos: (i)\n",
        "<a href=\"https://es.m.wikipedia.org/wiki/NumPy#:~:text=NumPy%20(pronunciado%20%2F%CB%88n%CA%8C,nivel%20para%20operar%20con%20ellas.\">numpy,</a> (ii) <a href=\"https://es.m.wikipedia.org/wiki/Matplotlib\">matplotlib.pyplot</a> y (iii) <a href=\"https://es.m.wikipedia.org/wiki/SciPy\">scipy.stats</a>. Oprime clic en el icono de ▶️ en la siguiente celda de código"
      ]
    },
    {
      "cell_type": "code",
      "metadata": {
        "id": "FNm2OYzMIwH7"
      },
      "source": [
        "import numpy as np                    #biblioteca que permite realizar operaciones matemáticas con listas\n",
        "import matplotlib.pyplot as plt        #biblioteca que permite realizar graficas\n",
        "from scipy.stats import linregress     #biblioteca que permite relizar la regresión lineal"
      ],
      "execution_count": null,
      "outputs": []
    },
    {
      "cell_type": "markdown",
      "metadata": {
        "id": "3Rk67gJjI65B"
      },
      "source": [
        "Ahora crearemos dos matrices de datos, una para los valores de concetración y otra para los datos de absorbancia. Oprime clic en el icono de ▶️ en la siguiente celda de código"
      ]
    },
    {
      "cell_type": "code",
      "metadata": {
        "id": "hX3Un7sWJEn_"
      },
      "source": [
        "x = np.array([0,1,2,5,10,20,40,50])\n",
        "y = np.array([0,0.034,0.064,0.165,0.320,0.681,1.34,1.71])"
      ],
      "execution_count": null,
      "outputs": []
    },
    {
      "cell_type": "markdown",
      "metadata": {
        "id": "HGbdD2MgLrv-"
      },
      "source": [
        "Ahora utilizaremos la biblioteca `matplotlib.pyplot` para obtener la gráfica de los datos. Recuerda que esta biblioteca la hemos importado como `plt` (sin embargo puedes importarla con el nombre que desees). Oprime clic en el icono de ▶️ en la siguiente celda de código"
      ]
    },
    {
      "cell_type": "code",
      "metadata": {
        "colab": {
          "base_uri": "https://localhost:8080/",
          "height": 247
        },
        "id": "_g92BnEXL_bQ",
        "outputId": "699fb4cc-af6c-4e99-82a1-a4d41510ab4e"
      },
      "source": [
        "plt.plot(x,y,'b*')                  #graficaremos x vs y, los puntos seran(*) de color azul (blue)\n",
        "plt.title(\"curva de calibración\")   #titulo de la grafica\n",
        "plt.xlabel('Concetración(ppm)')     #titulo del eje x\n",
        "plt.ylabel('Abs. (665nm)')          #titulo del eje y\n",
        "plt.show()                          #comando para mostrar gráfica"
      ],
      "execution_count": null,
      "outputs": [
        {
          "output_type": "display_data",
          "data": {
            "image/png": "[encoded data removed]",
            "text/plain": [
              "<Figure size 432x288 with 1 Axes>"
            ]
          },
          "metadata": {
            "tags": [],
            "needs_background": "light"
          }
        }
      ]
    },
    {
      "cell_type": "markdown",
      "metadata": {
        "id": "gcMnki48OHI4"
      },
      "source": [
        "Una vez que hemos graficado nuestros datos procedemos a realizar la <a href=\"https://es.m.wikipedia.org/wiki/Regresi%C3%B3n_lineal\">regresión lineal</a>."
      ]
    },
    {
      "cell_type": "code",
      "metadata": {
        "colab": {
          "base_uri": "https://localhost:8080/"
        },
        "id": "S4wwb72oOQHG",
        "outputId": "f148e487-b6fb-4cb1-8a6a-328f295eb71f"
      },
      "source": [
        "linregress( x, y )"
      ],
      "execution_count": null,
      "outputs": [
        {
          "output_type": "execute_result",
          "data": {
            "text/plain": [
              "LinregressResult(slope=0.03403679318357862, intercept=-0.005338690937257917, rvalue=0.9998733206480568, pvalue=5.0817845037101574e-12, stderr=0.00022119850635242343)"
            ]
          },
          "metadata": {
            "tags": []
          },
          "execution_count": 14
        }
      ]
    },
    {
      "cell_type": "markdown",
      "metadata": {
        "id": "Ltp8oqSpOxr6"
      },
      "source": [
        "Los datos podrían representarse de una mejor manera utilizando el siguiente código"
      ]
    },
    {
      "cell_type": "code",
      "metadata": {
        "colab": {
          "base_uri": "https://localhost:8080/"
        },
        "id": "5kUh30axO4Rn",
        "outputId": "0b1d7b1d-5c4a-4986-d219-8b5d80fa5251"
      },
      "source": [
        "slope, intercept, rvalue, pvalue, stderr = linregress( x, y ) # definimos las variables de la regresión lineal\n",
        "sr=round(slope, 5)                       # redondeamos cada variable a 5 cifras\n",
        "inr=round(intercept, 5)\n",
        "Rr=round(rvalue, 4)\n",
        "print( \"y =\", sr,\"(x)\",inr, \", R =\", Rr) #mostramos como salida la ecuación de la recta"
      ],
      "execution_count": null,
      "outputs": [
        {
          "output_type": "stream",
          "text": [
            "y = 0.03404 (x) -0.00534 , R = 0.9999\n"
          ],
          "name": "stdout"
        }
      ]
    },
    {
      "cell_type": "markdown",
      "metadata": {
        "id": "2idMd7DHQLtp"
      },
      "source": [
        "Ahora procedemos a realizar el gráfico de los datos experimentales junto con los valores obtenidos después de aplicar la regresión lineal. Oprime clic en el icono de ▶️ en la siguiente celda de código"
      ]
    },
    {
      "cell_type": "code",
      "metadata": {
        "colab": {
          "base_uri": "https://localhost:8080/",
          "height": 247
        },
        "id": "INMars7xQWU8",
        "outputId": "0bcf441e-5a47-4579-a326-0842bf1517f0"
      },
      "source": [
        "y2=slope*x+intercept                    # definimos la ecuación obtenida de laregresión\n",
        "plt.plot(x,y, \"bo\", label=\"datos\")      # graficaremos los datos experimentales\n",
        "plt.plot(x,y2, \"r-\", label=\"regresión\") # graficaremos la ecuacion de la regresión lineal\n",
        "plt.title(\"Curva de calibración\")  \n",
        "plt.xlabel('Concetración(ppm)')     \n",
        "plt.ylabel('Abs')   \n",
        "plt.legend(loc=\"upper left\")\n",
        "plt.show()"
      ],
      "execution_count": null,
      "outputs": [
        {
          "output_type": "display_data",
          "data": {
            "image/png": "[encoded data removed]",
            "text/plain": [
              "<Figure size 432x288 with 1 Axes>"
            ]
          },
          "metadata": {
            "tags": [],
            "needs_background": "light"
          }
        }
      ]
    },
    {
      "cell_type": "markdown",
      "metadata": {
        "id": "vrMhg5NiXJ9r"
      },
      "source": [
        "Ahora es tu turno 👊.. A continuación se lista la Absorbancia a 665 nm ($\\lambda_{abs}$) de soluciones de azul de metileno a diferentes concetraciones (en unidades de partes por millon, ppm). \n",
        " \n",
        "<div align = \"center\"> Tabla 4. Datos de Absorbancia función de concentración de azul de metileno (ppm).</div>\n",
        " \n",
        "Concentración (ppm)| Absorbancia\n",
        "-------------------|------------------\n",
        " 4,0 | 0.500  \n",
        " 5,0 | 0.696  \n",
        " 6,0 | 0.903 \n",
        " 7,0 | 1.10 \n",
        " 8,0 | 1.34\n",
        " 9,0 | 1.49 \n",
        " 10,0 | 1.70 \n",
        " \n",
        " \n",
        "Con los datos mostrados y los conceptos revisados, realiza la regresión líneal y determina cúal es la concentración (ppm) de una solución de azul de metileno si su absorbancia fue 0.865."
      ]
    },
    {
      "cell_type": "code",
      "metadata": {
        "id": "Sp3RNN__qeBr"
      },
      "source": [
        ""
      ],
      "execution_count": null,
      "outputs": []
    },
    {
      "cell_type": "markdown",
      "metadata": {
        "id": "OTYEZqwJqYvH"
      },
      "source": [
        "---\n",
        "#***Hoy aprendimos***\n",
        "\n",
        "\n",
        "\n",
        "*  calculo matematicos utilizando la función `math`\n",
        "*  Obtener graficas con la biblioteca `matplotlib.pyplot`\n",
        "*  Realizar regresiones lineales con la biblioteca `scipy`\n",
        "\n",
        "---\n",
        "#***Enlaces Recomendados***\n",
        "\n",
        "*  Tutorial `matplotlib`: <a href=\"https://nbviewer.jupyter.org/github/jrjohansson/scientific-python-lectures/blob/master/Lecture-4-Matplotlib.ipynb\"> 2D and 3D plotting</a>\n",
        "*  Tutorial `scipy`: <a href=\"https://github.com/jdwittenauer/ipython-notebooks/blob/master/notebooks/libraries/SciPy.ipynb\"> SciPy</a>\n",
        "*  Scipy ecosystem `scypy`: <a href=\"https://www.scipy.org\">SciPy.org</a>\n",
        "*  Homepage `matplotlib`: <a href=\"https://matplotlib.org/\">Matplotlib</a>\n",
        "---\n",
        "#***Referencias***\n",
        "\n",
        "*  C. Weiss. Scientific Computing for Chemist. 2020. CC-BY-NC-SA 4.0. <a href=\"https://github.com/weisscharlesj/SciCompforChemists/tree/master/Book_PDF\"> Scientific Computing for Chemist</a>\n",
        "*  C.J. Weiss. Scientific Computing for Chemists: An Undergraduate Course in Simulations, Data Processing, and Visualization. $\\small J. Chem. Educ. 2017, 94 (5), 592 - 597$ <a href=\"https://pubs.acs.org/doi/abs/10.1021/acs.jchemed.7b00078\">doi:10.1021/acs.jchemed.7b00078</a>"
      ]
    }
  ]
}