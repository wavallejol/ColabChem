{
  "nbformat": 4,
  "nbformat_minor": 0,
  "metadata": {
    "colab": {
      "name": "Sesion1.ipynb",
      "provenance": [],
      "collapsed_sections": [],
      "toc_visible": true,
      "authorship_tag": "ABX9TyN39MW2bbDHnzBHx7BOVO7O",
      "include_colab_link": true
    },
    "kernelspec": {
      "name": "python3",
      "display_name": "Python 3"
    },
    "language_info": {
      "name": "python"
    }
  },
  "cells": [
    {
      "cell_type": "markdown",
      "metadata": {
        "id": "view-in-github",
        "colab_type": "text"
      },
      "source": [
        "<a href=\"https://colab.research.google.com/github/wavallejol/ColabChem/blob/main/Sesi%C3%B3n1_Intro_A.ipynb\" target=\"_parent\"><img src=\"https://colab.research.google.com/assets/colab-badge.svg\" alt=\"Open In Colab\"/></a>"
      ]
    },
    {
      "cell_type": "markdown",
      "metadata": {
        "id": "bX9NStAWBy59"
      },
      "source": [
        "#**Sesión 1: Introducción a Google Colaboratory**\n",
        "***William Vallejo***\n",
        "# **Objetivos**\n",
        " \n",
        "1.   Conocer el entorno Google Colaboratory\n",
        "2.   Aprender comandos basicos de programación"
      ]
    },
    {
      "cell_type": "markdown",
      "metadata": {
        "id": "TL9Xvctze93R"
      },
      "source": [
        "#**Introducción**\n",
        "---\n",
        " \n",
        "Este documento es una guía introductoria para aplicar conceptos básicos de programación con <a href=\"https://es.wikipedia.org/wiki/Python\">phyton</a> a la resolución de ejercicios de química ⚗🧪. Phyton es un lenguaje de programación utilizado en una gran variedad de aplicaciones, con la ventaja de aplicabilidad a diferentes plataformas de trabajo, además, phyton es un software de acceso abierto (open source), siendo accesible a cualquier persona que desee utilizarlo 😆 .  Para dearrollar esta guía introductoria, no se requerie ningún concepto previo de programación. Los diferentes links te conectaran con páginas de internet para revisar los conceptos desconocidos o que debas recordar 📖..\n",
        " \n",
        " <a href=\"https://colab.research.google.com/notebooks/intro.ipynb?hl=es-419\">Google Colaboratory</a> (también conocido como Google Colabs) es una maquina virtual en la nube que permite ejecutar programación de phyton sin configurar nada en tu computador (descargar o instalar programas nuevos); lo único que necesitas es acceso a internet y una cuenta de gmail, incluso puedes trabajar directamente en tu celular 📱.  Además, te da la facilidad de compartir el contenido de una manera sencilla y eficaz a través del Drive 🗂. Puedes ver este <a href=\"https://www.youtube.com/watch?v=inN8seMm7UI\">video introductorio</a> sobre google Colabs (duración 3:09 minutos). Una de las ventajas de utilizar códigos de programación para tratamiento de datos experimentales y/o teóricos es que puedes crear  <a href=\"https://es.m.wikipedia.org/wiki/Subrutina\">rutinas</a> de trabajo (pequeños códigos) para resolver icongnitas, extraer y/o visualizar informacion. Estas rutinas pueden ser utilizadas todas la veces que quieras y pueden ser adaptadas según tus necesidades. Normalmente, la rutina esta compuesta de 3 elementos ✔: \n",
        " \n",
        "(i) La entrada: Puede ser un número, una función, una matriz.\n",
        " \n",
        "(ii) El proceso: Representa aquello que haremos con nuestra entrada (por ejemplo: una operación matemática, lógica, comparativa).\n",
        " \n",
        "(iii) La salida: Representa el resultado obtenido de aplicar el proceso sobre nuestra entrada (por ejemplo: el resultado de una operación, una gráfica... etc). \n",
        "\n",
        "Normalmente, deberíamos crear un archivo donde escribimos nuestra rutina (definimos entradas, proceso y salida), luego deberíamos guardar nuestro archivo y finalmente deberíamos utilizar el software de phyton para ejecutar la rutina. En Google Colabs nos ahorramos los dos primeros pasos. Por medio de la maquina virtual en la nube sólo debemos escribir la rutina y luego la podemos ejecutar sin ningún paso adicional. En Google Colabs tenemos dos tipos de celda a través de las cuales podremos trabajar: \n",
        " \n",
        "(¡) La celda de texto 🔤: permite adicionar texto, links y figuras para brindar información (esto que lees esta escrito en una celda de texto). \n",
        " \n",
        "(ii) El segundo tipo de celda que tenemos es la celda de código ⌨ donde se alimenta  la entrada, el programa y la salida de nuestra rutina. la celda que encuentras a continuación es un ejemplo de una celda de codigo:"
      ]
    },
    {
      "cell_type": "code",
      "metadata": {
        "id": "h2RRuBMqJpqO"
      },
      "source": [
        "# aqui vamos a escribir nuestro codigo"
      ],
      "execution_count": null,
      "outputs": []
    },
    {
      "cell_type": "markdown",
      "metadata": {
        "id": "bZvxjgLhJq8-"
      },
      "source": [
        "En la celda de código, el texto que coloques despues del simbolo `#` se entenderá como información de aclaración y no hace parte de la rutina que se ejecurará.\n",
        " \n",
        "En este punto podemos dar nuestros primeros pasos para conocer un poco de esta poderosa herramienta."
      ]
    },
    {
      "cell_type": "markdown",
      "metadata": {
        "id": "Z8FjC0-LdSNV"
      },
      "source": [
        "#**Mis primeros programas**\n",
        "---\n",
        "Iniciaremos con nuestro primer programa: utilizaremos el comando `print()`, este comando genera como salida lo que se coloque entre comillas dentro del paréntesis. En la siguiente celda de código colocaremos nuestro primer programa.\n",
        " \n",
        "Presiona clic en la siguiente celda de código y luego da clic en el ícono de \"play\" ▶️  que aparece en el costado izquierdo de la celda de código."
      ]
    },
    {
      "cell_type": "code",
      "metadata": {
        "id": "A1pXbycKdFL9"
      },
      "source": [
        " print(\"hola mundo\") # después de dar play al icono en la siguiente celda aparecera como salida lo que hayas escrito"
      ],
      "execution_count": null,
      "outputs": []
    },
    {
      "cell_type": "markdown",
      "metadata": {
        "id": "ZW4jRE5yfsJl"
      },
      "source": [
        "Como puedes observar luego de que se ha ejecutado la instrucción se generó  como \"salida\" el mensaje que se había escrito dentro del comando `print()`.  Ahora, en la siguiente celda escribe el código para que se genere como salida tu nombre."
      ]
    },
    {
      "cell_type": "code",
      "metadata": {
        "id": "_lvY76Wrf1HB"
      },
      "source": [
        ""
      ],
      "execution_count": null,
      "outputs": []
    },
    {
      "cell_type": "markdown",
      "metadata": {
        "id": "rdQQxQgaf54P"
      },
      "source": [
        "Ahora ya haz escrito tu primera rutina, un primer paso en el aprendizaje de esta poderosa herramienta. Ahora probaremos el comado `input()`, este comando nos permite leer información introducida por un usuario desde el teclado. Oprime el icono de play ▶️ de la siguiente celda de código para ver un ejemplo, la rutina te saludará y preguntará tu nombre. Escríbelo y luego oprime la tecla enter."
      ]
    },
    {
      "cell_type": "code",
      "metadata": {
        "id": "uc8_qOeADbpO"
      },
      "source": [
        "print(\"Hola, sere tu guia en esta primera sesión, ¿como te llamas?\")\n",
        "Nombre=input()\n",
        "print(\"Es maravilloso que te interese aprender phyton,\", Nombre)"
      ],
      "execution_count": null,
      "outputs": []
    },
    {
      "cell_type": "markdown",
      "metadata": {
        "id": "QDYGecxYF61O"
      },
      "source": [
        "La rutina anterior te permitió leer la infomación introducida por el usuario (en este caso tú) en respuesta a una pregunta previamente establecida mediante el código."
      ]
    },
    {
      "cell_type": "markdown",
      "metadata": {
        "id": "LqQW0HCVEuXu"
      },
      "source": [
        " \n",
        "Python reconoce diferente tipo de información que podemos generar y utilizar durante nuestros experimentos. La tabla 1 muestra un resumen del tipo de información que se puede manejar.\n",
        " \n",
        "<div align = \"center\"> Tabla 1. Descripción de diferente tipo de informacion que reconoce phyton. (Tomado de: A.Moreno, S. Corcoles, 2018.</a>)</div>\n",
        " \n",
        "Tipo de información| Descripción\n",
        "-------------------|------------------\n",
        " Entero | Número son decimales, positivo y negativo, también se incluye el cero. \n",
        "Flotante (real) | Número con decimales, positivo y negativo, también se incluye el cero.\n",
        " Complejo | Número con componente imaginario.\n",
        " Cadena de texto | Texto\n",
        " Boleanos | unicamente dos valores 'true o false'.\n",
        " Conjuntos | Colección de elementos no ordenados y no repetidos\n",
        " Listas |  Vector de elementos que pueden ser doferentes tipos de datos\n",
        " Tuplas | Lista inmutable de elementos\n",
        "  Diccionarios |  Lista de eleentos que contienen claves y valores\n",
        " \n",
        " \n",
        "Ahora realicemos ulgunas operaciones con diferentes tipos de información. Lo primero que  harémos será importar la <a href=\"https://es.m.wikipedia.org/wiki/Biblioteca_(inform%C3%A1tica)\">biblioteca</a> que utilizarémos para el tratamiento de los datos: la biblioteca <a href=\"https://docs.python.org/es/3.10/library/math.html\">math</a> que nos proporciona acceso a diferentes funciones matemáticas. Oprime el icono de play ▶️ en la siguiente celda de código:"
      ]
    },
    {
      "cell_type": "code",
      "metadata": {
        "id": "X9jpj2TPsj94"
      },
      "source": [
        "import math"
      ],
      "execution_count": null,
      "outputs": []
    },
    {
      "cell_type": "markdown",
      "metadata": {
        "id": "j2aKn3eLubNv"
      },
      "source": [
        "Una vez importada, podremos utiizar esta biblioteca en nuestras rutinas llamandola por su nombre. Empecemos con algunas operaciones.\n",
        " \n",
        "(i) $\\small(2x4)+5$:"
      ]
    },
    {
      "cell_type": "code",
      "metadata": {
        "id": "JcD0gXI4uzCb"
      },
      "source": [
        "2*4+5"
      ],
      "execution_count": null,
      "outputs": []
    },
    {
      "cell_type": "markdown",
      "metadata": {
        "id": "NHEc50hbMJal"
      },
      "source": [
        "(ii) $\\small34^{3/2}$:"
      ]
    },
    {
      "cell_type": "code",
      "metadata": {
        "id": "NMQKcEDR8y_8"
      },
      "source": [
        "34**3/2"
      ],
      "execution_count": null,
      "outputs": []
    },
    {
      "cell_type": "markdown",
      "metadata": {
        "id": "6Rva_nSNMPca"
      },
      "source": [
        "(iii) $\\small(254)^4$:"
      ]
    },
    {
      "cell_type": "code",
      "metadata": {
        "id": "dSJvNdXgZqtT"
      },
      "source": [
        "254**4"
      ],
      "execution_count": null,
      "outputs": []
    },
    {
      "cell_type": "markdown",
      "metadata": {
        "id": "EzJnOcWIlntv"
      },
      "source": [
        "Ahora, en la siguiente linea de código escribe la rutina para realizar esta operación: $\\small(23)^5/4.5x10^5$. (Dentro de la  celda de código, el factor $\\small x10^5$, se representa con la letra `e`)"
      ]
    },
    {
      "cell_type": "code",
      "metadata": {
        "id": "sct1BrF-mG86"
      },
      "source": [
        "23**5/4.5e5"
      ],
      "execution_count": null,
      "outputs": []
    },
    {
      "cell_type": "markdown",
      "metadata": {
        "id": "f2nyI1eIw50i"
      },
      "source": [
        "Para realizar operaciones utilizando funciones sobre cualquier tipo de número,  debemos emplear el código específico de la biblioteca `math`. Por ejemplo realicemos la siguiente operación:\n",
        "$\\small\\sqrt{24}$"
      ]
    },
    {
      "cell_type": "code",
      "metadata": {
        "id": "awZlOhj-zb5a"
      },
      "source": [
        "math.sqrt(24)"
      ],
      "execution_count": null,
      "outputs": []
    },
    {
      "cell_type": "markdown",
      "metadata": {
        "id": "UdlS0Qpu0Pw8"
      },
      "source": [
        "En este <a href=\"https://docs.python.org/es/3.10/library/math.html\">link</a> encontrarás  más ejemplos de funciones matemáticas de la biblioteca `math`. Si quisiéramos redondear el resultado a una cifra decimal podríamos utilizar la función `round()`."
      ]
    },
    {
      "cell_type": "code",
      "metadata": {
        "id": "dd-OkKiFX8Q8"
      },
      "source": [
        "import math\n",
        "round(math.sqrt(24),3)"
      ],
      "execution_count": null,
      "outputs": []
    },
    {
      "cell_type": "markdown",
      "metadata": {
        "id": "POUfjQOyZEXW"
      },
      "source": [
        "También podemos definir una variable con nuestra operación para invocarla nuevamente y utilizarla todas las veces que la necesitemos"
      ]
    },
    {
      "cell_type": "code",
      "metadata": {
        "id": "oPGlkTzl0jGD"
      },
      "source": [
        "raiz=math.sqrt(24)   # definimos nuestra variable con el nombre raiz\n",
        "round(raiz, 3)          # definimos la  variable con el nombre raizround(raiz, 1)    # aplicamos la función round sobre nuestra variable (variable, cifras decimales de redondeo)"
      ],
      "execution_count": null,
      "outputs": []
    },
    {
      "cell_type": "markdown",
      "metadata": {
        "id": "QV9_gxB03ygo"
      },
      "source": [
        "Ahora, probemos la siguiente operación:\n",
        "$\\small\\sin(\\pi/3$)"
      ]
    },
    {
      "cell_type": "code",
      "metadata": {
        "id": "WgiS6GjC3-dp"
      },
      "source": [
        "x=math.sin(math.pi/3)\n",
        "round(x, 3)"
      ],
      "execution_count": null,
      "outputs": []
    },
    {
      "cell_type": "markdown",
      "metadata": {
        "id": "vhVudjeQ53Or"
      },
      "source": [
        "Google colabs trabaja con radianes asi que debemos utilizar la funcion `math.pi` para invocar $\\small\\pi$ en el código. Ahora es tu turno, escribe el código para obtener el resultado  de las siguientes operaciones redondeando el resultado a 3 cifras decimales: \n",
        " \n",
        "(i) $\\small\\log_{10}5$ \n",
        " \n",
        "(utiliza la función: `log10()`)"
      ]
    },
    {
      "cell_type": "code",
      "metadata": {
        "id": "4OqEdAP09SXL"
      },
      "source": [
        "y=math.log10(5)\n",
        "round(y,3)"
      ],
      "execution_count": null,
      "outputs": []
    },
    {
      "cell_type": "markdown",
      "metadata": {
        "id": "_yQ87CS5RE33"
      },
      "source": [
        "(ii)$\\small\\sqrt{cos(\\pi/3)}$ \n",
        " \n",
        "(utiliza la función: `math.cos()`)"
      ]
    },
    {
      "cell_type": "code",
      "metadata": {
        "id": "MxFcxMDVRpZQ"
      },
      "source": [
        "z=math.sqrt(math.cos(math.pi/3))\n",
        "round(z,3)"
      ],
      "execution_count": null,
      "outputs": []
    },
    {
      "cell_type": "markdown",
      "metadata": {
        "id": "sQInUyOeabFZ"
      },
      "source": [
        "Para reducir el código, tambien podemos importar unicamente las operaciones que vamos a utilizar sin importar toda la biblioteca `math`, para el mismo ejemplo anterior, un código alternativo podría ser"
      ]
    },
    {
      "cell_type": "code",
      "metadata": {
        "colab": {
          "base_uri": "https://localhost:8080/"
        },
        "id": "DEENS96ZZs4Y",
        "outputId": "1fb3120b-f0b5-4b2c-c413-e820ec22a2ba"
      },
      "source": [
        "from math import sqrt, pi, cos\n",
        "z1=sqrt(cos(pi/3))\n",
        "round(z1,3)"
      ],
      "execution_count": null,
      "outputs": [
        {
          "output_type": "execute_result",
          "data": {
            "text/plain": [
              "0.707"
            ]
          },
          "metadata": {
            "tags": []
          },
          "execution_count": 1
        }
      ]
    },
    {
      "cell_type": "markdown",
      "metadata": {
        "id": "SpgcvpAk9WLG"
      },
      "source": [
        "Lo mas importante de utilizar las variables, es que una vez han sido definidas pueden volver a ser utilizadas para desarrollar más operaciones 🎉 .\n",
        "\n",
        "Ahora realizarémos la siguiente operación:  $\\small\\sin(\\pi/3)+cos(\\pi/3)$. Podríamos escribir todo el código de esta operación; sin embargo, en las celdas de código previas ya definimos por separado la operaciones de este ejercicio:\n",
        " \n",
        "$\\small\\ x=sin(\\pi/3)$\n",
        " \n",
        "$\\small\\ z=cos(\\pi/3)$\n",
        " \n",
        "En esta oportunidad no escribirémos esta parte de la operación ya que podremos invocar las dos variables."
      ]
    },
    {
      "cell_type": "code",
      "metadata": {
        "id": "ek47pEcV_flA"
      },
      "source": [
        "x+z"
      ],
      "execution_count": null,
      "outputs": []
    },
    {
      "cell_type": "markdown",
      "metadata": {
        "id": "WNUZ3zy1AW1X"
      },
      "source": [
        "Ahora es tu turno, en la siguiente linea de código escribe la rutina para obtener el resultado de la siguiente operación: $\\small\\log_{10}5 +\\small\\sqrt{cos(\\pi/3)}$\n",
        " \n",
        "Recuerda que estas dos operaciones las dedarrollaste hace unos minutos asi que puedes utilizar las mismas variables."
      ]
    },
    {
      "cell_type": "code",
      "metadata": {
        "id": "KF6n4023mYYb"
      },
      "source": [
        ""
      ],
      "execution_count": null,
      "outputs": []
    },
    {
      "cell_type": "markdown",
      "metadata": {
        "id": "9Y_f_XfJBe14"
      },
      "source": [
        " # ***Manejo de Listas (vectores y matrices)***\n",
        "---\n",
        "Cuando requieras utilizar (<a href=\"https://es.m.wikipedia.org/wiki/Vector_(inform%C3%A1tica)\">listas</a>) para realizar el tratamiento de tus datos, podras utilizar la <a href=\"https://es.m.wikipedia.org/wiki/Biblioteca_(inform%C3%A1tica)\">biblioteca</a> <a href=\"https://es.m.wikipedia.org/wiki/NumPy#:~:text=NumPy%20(pronunciado%20%2F%CB%88n%CA%8C,nivel%20para%20operar%20con%20ellas.\">numpy</a> (numerical phyton), es la bilioteca principal de phyton para el desarrollo de cálculos con aplicaciones científicas, brindando herramientas para realizar cálculos con vectores y matrices. \n",
        " \n",
        "Supongamos que tenemos la siguiente serie de datos (1, 2, 3, 4 , 5 ) y queremos realizar diferentes operaciones con estos datos. \n",
        " \n",
        "Primero debemos importar la biblioteca que utilizaremos:(¡)`numpy`,  ésta biblioteca la invocaremos como `np`, se utilizan estas letras para reducir el texto en el código (pero  puedes utilizar las que desees, se utiliza`np` ya que todos lo hacen de esta forma). Enseguida creamos la lista con la función `np.array([])`"
      ]
    },
    {
      "cell_type": "code",
      "metadata": {
        "colab": {
          "base_uri": "https://localhost:8080/"
        },
        "id": "7Fit1FYsoMuv",
        "outputId": "c494db4b-59e0-48b1-c5b2-9964297ba98e"
      },
      "source": [
        "import numpy as np\n",
        "datos= np.array([1,2,3,4,5])\n",
        "datos**2"
      ],
      "execution_count": null,
      "outputs": [
        {
          "output_type": "execute_result",
          "data": {
            "text/plain": [
              "array([ 1,  4,  9, 16, 25])"
            ]
          },
          "metadata": {
            "tags": []
          },
          "execution_count": 4
        }
      ]
    },
    {
      "cell_type": "markdown",
      "metadata": {
        "id": "5ybVGpej2Plb"
      },
      "source": [
        "También podemos realizar operaciones con esta serie de datos, definir nuevas variables y operar estas nuevas variables."
      ]
    },
    {
      "cell_type": "code",
      "metadata": {
        "colab": {
          "base_uri": "https://localhost:8080/"
        },
        "id": "4fCHUzEc2bm5",
        "outputId": "8566da66-c816-4773-d604-09f443667d03"
      },
      "source": [
        "serie2=([3.1, 3.3,5,44,6])\n",
        "serie3=serie2+datos\n",
        "np.sqrt(serie3)"
      ],
      "execution_count": null,
      "outputs": [
        {
          "output_type": "execute_result",
          "data": {
            "text/plain": [
              "array([2.02484567, 2.30217289, 2.82842712, 6.92820323, 3.31662479])"
            ]
          },
          "metadata": {
            "tags": []
          },
          "execution_count": 28
        }
      ]
    },
    {
      "cell_type": "markdown",
      "metadata": {
        "id": "7MpEVOQF5kY4"
      },
      "source": [
        "Si deseamos generar una serie de números podemos utilizar la función `np.arange()` nuevamente"
      ]
    },
    {
      "cell_type": "code",
      "metadata": {
        "colab": {
          "base_uri": "https://localhost:8080/"
        },
        "id": "AgorzSxW51-T",
        "outputId": "6f7bb6f4-7bbe-4d03-b6bc-b3e94c484d4a"
      },
      "source": [
        "serie=np.arange(1,50) \n",
        "serie"
      ],
      "execution_count": null,
      "outputs": [
        {
          "output_type": "execute_result",
          "data": {
            "text/plain": [
              "array([ 1,  2,  3,  4,  5,  6,  7,  8,  9, 10, 11, 12, 13, 14, 15, 16, 17,\n",
              "       18, 19, 20, 21, 22, 23, 24, 25, 26, 27, 28, 29, 30, 31, 32, 33, 34,\n",
              "       35, 36, 37, 38, 39, 40, 41, 42, 43, 44, 45, 46, 47, 48, 49])"
            ]
          },
          "metadata": {
            "tags": []
          },
          "execution_count": 11
        }
      ]
    },
    {
      "cell_type": "markdown",
      "metadata": {
        "id": "N9fczFRC6SBY"
      },
      "source": [
        "Podemos cambiar el valor de cambio utilizando una tercera variable en la misma función"
      ]
    },
    {
      "cell_type": "code",
      "metadata": {
        "colab": {
          "base_uri": "https://localhost:8080/"
        },
        "id": "-GuJ_uEA6gcg",
        "outputId": "0782e338-2295-467c-dc9f-007f31066a40"
      },
      "source": [
        "serie2=np.arange(1,51,3)\n",
        "serie2"
      ],
      "execution_count": null,
      "outputs": [
        {
          "output_type": "execute_result",
          "data": {
            "text/plain": [
              "array([ 1,  4,  7, 10, 13, 16, 19, 22, 25, 28, 31, 34, 37, 40, 43, 46, 49])"
            ]
          },
          "metadata": {
            "tags": []
          },
          "execution_count": 14
        }
      ]
    },
    {
      "cell_type": "markdown",
      "metadata": {
        "id": "yT3bIUi1Sa1V"
      },
      "source": [
        "Ahora es tu turno 👊, con los conceptos aprendidos realiza la siguiente actividad: En la lista se muestran los volúmenes de titulación de diferentes muestras de HCl con una solución estandar de NaOH 0.250 M. \n",
        " \n",
        "<div align = \"center\"> Tabla 2. Volúmenes de titulación de muestras de HCl con una solución NaOH 0.250M.</div>\n",
        " \n",
        "Ensayo| NaOH (mL)\n",
        "-------------------|------------------\n",
        "   1   | 22.503 \n",
        " 2 | 17.906 \n",
        " 3 | 19.403 \n",
        " 3 | 22.403 \n",
        " 3 | 11.403 \n",
        " 3 | 14.403\n",
        " \n",
        "Si el volúmen de las muestras HCl utilizados en cada titulación fue de 10.00 mL; crea una rutina que entregue como salida una matriz con los valores de concetración molar de cada muestra de HCL valorada."
      ]
    },
    {
      "cell_type": "code",
      "metadata": {
        "id": "_OfjPjKcUZC0"
      },
      "source": [
        ""
      ],
      "execution_count": null,
      "outputs": []
    },
    {
      "cell_type": "markdown",
      "metadata": {
        "id": "u85qcxiyUaom"
      },
      "source": [
        "---\n",
        "#***Hoy aprendimos***\n",
        " \n",
        "*  Introducción al entorno de google Colabs\n",
        "*  Componentes de una rutina\n",
        "*  Funciones de programación basicas en phyton\n",
        "*  Definicion de variables, funciones y matrices en phyton\n",
        "*  Operaciones básicas de funciones en phyton\n",
        " \n",
        "---\n",
        "#***Enlaces Recomendados***\n",
        " \n",
        "*  Manual de NumPy: <a href=\"https://numpy.org/doc/stable/index.html\">NumPy v1.21</a>\n",
        "*  Tutorial de `numpy`: <a href=\"http://facundoq.github.io/courses/images/res/03_numpy.html\">numpy</a>\n",
        "*  Tutorial de `math`: <a href=\"https://docs.python.org/es/3/library/math.html\">math</a>\n",
        "*  Tutorial de matemáticas en phyton: (i) <a href=\"https://interactivechaos.com/es/manual/tutorial-de-python/variables\">Matematicas en Phyton</a> (ii) <a href=\"https://personal.math.ubc.ca/~pwalls/math-python/jupyter/notebook/\">Mathematical Phyton</a>\n",
        "*  Tutorial de Álgebra lineal: <a href=\"https://relopezbriega.github.io/blog/2015/06/14/algebra-lineal-con-python/\"> Álgebra Lineal con Phyton</a> \n",
        " \n",
        "---\n",
        "#***Referencias***\n",
        " \n",
        "*  A. Moreno. S. Córcoles. Aprende Phyton en un Fin de Semada. Time of software. 2018. ISBN 978-1719884838.\n",
        "\n",
        " "
      ]
    }
  ]
}